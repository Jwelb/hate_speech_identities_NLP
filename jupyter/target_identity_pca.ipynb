{
 "cells": [
  {
   "cell_type": "markdown",
   "id": "7fa74a37-34da-4687-8a14-b95ee7f54043",
   "metadata": {},
   "source": [
    "Do a PCA and visualize prediction weights based on different target identity splits.  \n",
    "Rows are training set target identities.  \n",
    "Columns are test set target identities."
   ]
  },
  {
   "cell_type": "markdown",
   "id": "949ba165-e6b2-48ef-a08c-5deea63c6c8f",
   "metadata": {},
   "source": [
    "# Sort data by target identity"
   ]
  }
 ],
 "metadata": {
  "kernelspec": {
   "display_name": "Python 3 (ipykernel)",
   "language": "python",
   "name": "python3"
  },
  "language_info": {
   "codemirror_mode": {
    "name": "ipython",
    "version": 3
   },
   "file_extension": ".py",
   "mimetype": "text/x-python",
   "name": "python",
   "nbconvert_exporter": "python",
   "pygments_lexer": "ipython3",
   "version": "3.9.7"
  }
 },
 "nbformat": 4,
 "nbformat_minor": 5
}
