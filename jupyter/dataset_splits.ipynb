{
 "cells": [
  {
   "cell_type": "markdown",
   "id": "76a5e9fe-64ef-46ce-897a-8df421731c11",
   "metadata": {},
   "source": [
    "# Load processed datasets\n",
    "From datasets.ipynb"
   ]
  },
  {
   "cell_type": "code",
   "execution_count": 1,
   "id": "eebc3c51-57ed-406e-af69-4a3f7db47fbf",
   "metadata": {},
   "outputs": [
    {
     "data": {
      "text/plain": [
       "dict_keys(['cad', 'elsherief2021', 'sbic', 'kennedy2020', 'salminen2018'])"
      ]
     },
     "execution_count": 1,
     "metadata": {},
     "output_type": "execute_result"
    }
   ],
   "source": [
    "import pickle\n",
    "\n",
    "path = '/storage2/mamille3/hegemonic_hate/tmp/processed_datasets.pkl'\n",
    "with open(path, 'rb') as f:\n",
    "    hate_datasets = pickle.load(f)\n",
    "hate_datasets.keys()"
   ]
  },
  {
   "cell_type": "code",
   "execution_count": 11,
   "id": "79a6d128-81ca-4154-b537-69389a8b95a1",
   "metadata": {},
   "outputs": [
    {
     "name": "stdout",
     "output_type": "stream",
     "text": [
      "False    0.846257\n",
      "True     0.153743\n",
      "Name: hate, dtype: float64\n",
      "False    23267\n",
      "True      4227\n",
      "Name: hate, dtype: int64\n"
     ]
    }
   ],
   "source": [
    "# Sample to a specific ratio\n",
    "hate_ratio = 0.3\n",
    "print(hate_datasets['cad'].hate.value_counts(normalize=True))\n",
    "print(hate_datasets['cad'].hate.value_counts())"
   ]
  },
  {
   "cell_type": "code",
   "execution_count": 33,
   "id": "f9cbaee7-9f4b-4ff1-941e-35d420bfbc1e",
   "metadata": {},
   "outputs": [
    {
     "data": {
      "text/plain": [
       "9863"
      ]
     },
     "execution_count": 33,
     "metadata": {},
     "output_type": "execute_result"
    }
   ],
   "source": [
    "# Desired sampling of non-hate\n",
    "n_hate = hate_datasets['cad'].hate.sum()\n",
    "desired_n_nonhate = int((n_hate*(1-hate_ratio))/hate_ratio)\n",
    "desired_n_nonhate"
   ]
  },
  {
   "cell_type": "code",
   "execution_count": 34,
   "id": "382dfc8c-91e8-4ba3-b813-a157138bff0f",
   "metadata": {},
   "outputs": [
    {
     "name": "stdout",
     "output_type": "stream",
     "text": [
      "False    9863\n",
      "True     4227\n",
      "Name: hate, dtype: int64\n",
      "False    0.7\n",
      "True     0.3\n",
      "Name: hate, dtype: float64\n"
     ]
    }
   ],
   "source": [
    "# resampled = hate_datasets['cad'].groupby('hate').apply(lambda x: x if x.iloc[0]['hate'] else x.sample(desired_n_nonhate))\n",
    "# resampled = hate_datasets['cad'].groupby('hate').apply(lambda x: x.sample(4227))\n",
    "resampled = hate_datasets['cad'].groupby('hate').apply(lambda x: x if x.iloc[0]['hate']==True else x.sample(desired_n_nonhate))\n",
    "print(resampled.hate.value_counts())\n",
    "print(resampled.hate.value_counts(normalize=True))"
   ]
  },
  {
   "cell_type": "code",
   "execution_count": 26,
   "id": "eb8f8d05-0f33-4a10-84ae-67d6e16ec105",
   "metadata": {},
   "outputs": [
    {
     "data": {
      "text/plain": [
       "['info_id',\n",
       " 'info_subreddit',\n",
       " 'info_subreddit_id',\n",
       " 'info_id.parent',\n",
       " 'info_id.link',\n",
       " 'info_thread.id',\n",
       " 'info_order',\n",
       " 'info_image.saved',\n",
       " 'annotation_Primary',\n",
       " 'annotation_Secondary',\n",
       " 'annotation_Context',\n",
       " 'annotation_Target',\n",
       " 'annotation_Target_top.level.category',\n",
       " 'annotation_highlighted',\n",
       " 'meta_author',\n",
       " 'meta_created_utc',\n",
       " 'meta_date',\n",
       " 'meta_day',\n",
       " 'meta_permalink',\n",
       " 'split',\n",
       " 'subreddit_seen',\n",
       " 'meta_text',\n",
       " 'hate',\n",
       " 'has_target',\n",
       " 'group_label']"
      ]
     },
     "execution_count": 26,
     "metadata": {},
     "output_type": "execute_result"
    }
   ],
   "source": [
    "resampled.loc[False]"
   ]
  },
  {
   "cell_type": "code",
   "execution_count": null,
   "id": "e17e413c-f028-4646-a9f2-45e30215634d",
   "metadata": {},
   "outputs": [],
   "source": [
    "# Remove instances with hegemonic labels"
   ]
  }
 ],
 "metadata": {
  "kernelspec": {
   "display_name": "Python 3 (ipykernel)",
   "language": "python",
   "name": "python3"
  },
  "language_info": {
   "codemirror_mode": {
    "name": "ipython",
    "version": 3
   },
   "file_extension": ".py",
   "mimetype": "text/x-python",
   "name": "python",
   "nbconvert_exporter": "python",
   "pygments_lexer": "ipython3",
   "version": "3.9.7"
  }
 },
 "nbformat": 4,
 "nbformat_minor": 5
}
