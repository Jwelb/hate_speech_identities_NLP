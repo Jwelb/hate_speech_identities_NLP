{
 "cells": [
  {
   "cell_type": "markdown",
   "id": "76a5e9fe-64ef-46ce-897a-8df421731c11",
   "metadata": {},
   "source": [
    "# Load processed datasets\n",
    "From datasets.ipynb"
   ]
  },
  {
   "cell_type": "code",
   "execution_count": 1,
   "id": "eebc3c51-57ed-406e-af69-4a3f7db47fbf",
   "metadata": {},
   "outputs": [
    {
     "data": {
      "text/plain": [
       "dict_keys(['cad', 'elsherief2021', 'sbic', 'kennedy2020', 'salminen2018'])"
      ]
     },
     "execution_count": 1,
     "metadata": {},
     "output_type": "execute_result"
    }
   ],
   "source": [
    "import pickle\n",
    "\n",
    "path = '/storage2/mamille3/hegemonic_hate/tmp/processed_datasets.pkl'\n",
    "with open(path, 'rb') as f:\n",
    "    hate_datasets = pickle.load(f)\n",
    "hate_datasets.keys()"
   ]
  }
 ],
 "metadata": {
  "kernelspec": {
   "display_name": "Python 3 (ipykernel)",
   "language": "python",
   "name": "python3"
  },
  "language_info": {
   "codemirror_mode": {
    "name": "ipython",
    "version": 3
   },
   "file_extension": ".py",
   "mimetype": "text/x-python",
   "name": "python",
   "nbconvert_exporter": "python",
   "pygments_lexer": "ipython3",
   "version": "3.9.7"
  }
 },
 "nbformat": 4,
 "nbformat_minor": 5
}
