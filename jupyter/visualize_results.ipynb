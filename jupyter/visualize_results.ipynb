{
 "cells": [
  {
   "cell_type": "markdown",
   "id": "0ddfca6f-3c81-4329-856a-dcb2c231ee98",
   "metadata": {
    "tags": []
   },
   "source": [
    "# Visualize heg_comparison scores"
   ]
  },
  {
   "cell_type": "markdown",
   "id": "b971d32f-9a6a-410a-b54d-0d575887d763",
   "metadata": {
    "tags": []
   },
   "source": [
    "## Between splits\n",
    "no-heg/with-heg vs no-control/with-control"
   ]
  },
  {
   "cell_type": "code",
   "execution_count": 1,
   "id": "cb81528f-ff45-4d71-a3ba-37af5f18cc6c",
   "metadata": {
    "tags": []
   },
   "outputs": [
    {
     "ename": "FileNotFoundError",
     "evalue": "[Errno 2] No such file or directory: '/home/mamille3/hegemonic_hate/output/removal_comparison/gender_sexuality_bert_5x2cv_f1.csv'",
     "output_type": "error",
     "traceback": [
      "\u001b[0;31m---------------------------------------------------------------------------\u001b[0m",
      "\u001b[0;31mFileNotFoundError\u001b[0m                         Traceback (most recent call last)",
      "Input \u001b[0;32mIn [1]\u001b[0m, in \u001b[0;36m<cell line: 17>\u001b[0;34m()\u001b[0m\n\u001b[1;32m     15\u001b[0m \u001b[38;5;66;03m# Load scores\u001b[39;00m\n\u001b[1;32m     16\u001b[0m scores_path \u001b[38;5;241m=\u001b[39m \u001b[38;5;124mf\u001b[39m\u001b[38;5;124m'\u001b[39m\u001b[38;5;132;01m{\u001b[39;00mname\u001b[38;5;132;01m}\u001b[39;00m\u001b[38;5;124m_f1.csv\u001b[39m\u001b[38;5;124m'\u001b[39m\n\u001b[0;32m---> 17\u001b[0m all_f1s \u001b[38;5;241m=\u001b[39m \u001b[43mpd\u001b[49m\u001b[38;5;241;43m.\u001b[39;49m\u001b[43mread_csv\u001b[49m\u001b[43m(\u001b[49m\u001b[43mscores_path\u001b[49m\u001b[43m,\u001b[49m\u001b[43m \u001b[49m\u001b[43mindex_col\u001b[49m\u001b[38;5;241;43m=\u001b[39;49m\u001b[38;5;241;43m0\u001b[39;49m\u001b[43m)\u001b[49m\n\u001b[1;32m     18\u001b[0m \u001b[38;5;28;01mif\u001b[39;00m \u001b[38;5;124m'\u001b[39m\u001b[38;5;124mdataset\u001b[39m\u001b[38;5;124m'\u001b[39m \u001b[38;5;129;01mnot\u001b[39;00m \u001b[38;5;129;01min\u001b[39;00m all_f1s\u001b[38;5;241m.\u001b[39mcolumns:\n\u001b[1;32m     19\u001b[0m     all_f1s\u001b[38;5;241m.\u001b[39mreset_index(inplace\u001b[38;5;241m=\u001b[39m\u001b[38;5;28;01mTrue\u001b[39;00m)\n",
      "File \u001b[0;32m~/hegemonic_hate/conda_env/lib/python3.8/site-packages/pandas/util/_decorators.py:311\u001b[0m, in \u001b[0;36mdeprecate_nonkeyword_arguments.<locals>.decorate.<locals>.wrapper\u001b[0;34m(*args, **kwargs)\u001b[0m\n\u001b[1;32m    305\u001b[0m \u001b[38;5;28;01mif\u001b[39;00m \u001b[38;5;28mlen\u001b[39m(args) \u001b[38;5;241m>\u001b[39m num_allow_args:\n\u001b[1;32m    306\u001b[0m     warnings\u001b[38;5;241m.\u001b[39mwarn(\n\u001b[1;32m    307\u001b[0m         msg\u001b[38;5;241m.\u001b[39mformat(arguments\u001b[38;5;241m=\u001b[39marguments),\n\u001b[1;32m    308\u001b[0m         \u001b[38;5;167;01mFutureWarning\u001b[39;00m,\n\u001b[1;32m    309\u001b[0m         stacklevel\u001b[38;5;241m=\u001b[39mstacklevel,\n\u001b[1;32m    310\u001b[0m     )\n\u001b[0;32m--> 311\u001b[0m \u001b[38;5;28;01mreturn\u001b[39;00m \u001b[43mfunc\u001b[49m\u001b[43m(\u001b[49m\u001b[38;5;241;43m*\u001b[39;49m\u001b[43margs\u001b[49m\u001b[43m,\u001b[49m\u001b[43m \u001b[49m\u001b[38;5;241;43m*\u001b[39;49m\u001b[38;5;241;43m*\u001b[39;49m\u001b[43mkwargs\u001b[49m\u001b[43m)\u001b[49m\n",
      "File \u001b[0;32m~/hegemonic_hate/conda_env/lib/python3.8/site-packages/pandas/io/parsers/readers.py:680\u001b[0m, in \u001b[0;36mread_csv\u001b[0;34m(filepath_or_buffer, sep, delimiter, header, names, index_col, usecols, squeeze, prefix, mangle_dupe_cols, dtype, engine, converters, true_values, false_values, skipinitialspace, skiprows, skipfooter, nrows, na_values, keep_default_na, na_filter, verbose, skip_blank_lines, parse_dates, infer_datetime_format, keep_date_col, date_parser, dayfirst, cache_dates, iterator, chunksize, compression, thousands, decimal, lineterminator, quotechar, quoting, doublequote, escapechar, comment, encoding, encoding_errors, dialect, error_bad_lines, warn_bad_lines, on_bad_lines, delim_whitespace, low_memory, memory_map, float_precision, storage_options)\u001b[0m\n\u001b[1;32m    665\u001b[0m kwds_defaults \u001b[38;5;241m=\u001b[39m _refine_defaults_read(\n\u001b[1;32m    666\u001b[0m     dialect,\n\u001b[1;32m    667\u001b[0m     delimiter,\n\u001b[0;32m   (...)\u001b[0m\n\u001b[1;32m    676\u001b[0m     defaults\u001b[38;5;241m=\u001b[39m{\u001b[38;5;124m\"\u001b[39m\u001b[38;5;124mdelimiter\u001b[39m\u001b[38;5;124m\"\u001b[39m: \u001b[38;5;124m\"\u001b[39m\u001b[38;5;124m,\u001b[39m\u001b[38;5;124m\"\u001b[39m},\n\u001b[1;32m    677\u001b[0m )\n\u001b[1;32m    678\u001b[0m kwds\u001b[38;5;241m.\u001b[39mupdate(kwds_defaults)\n\u001b[0;32m--> 680\u001b[0m \u001b[38;5;28;01mreturn\u001b[39;00m \u001b[43m_read\u001b[49m\u001b[43m(\u001b[49m\u001b[43mfilepath_or_buffer\u001b[49m\u001b[43m,\u001b[49m\u001b[43m \u001b[49m\u001b[43mkwds\u001b[49m\u001b[43m)\u001b[49m\n",
      "File \u001b[0;32m~/hegemonic_hate/conda_env/lib/python3.8/site-packages/pandas/io/parsers/readers.py:575\u001b[0m, in \u001b[0;36m_read\u001b[0;34m(filepath_or_buffer, kwds)\u001b[0m\n\u001b[1;32m    572\u001b[0m _validate_names(kwds\u001b[38;5;241m.\u001b[39mget(\u001b[38;5;124m\"\u001b[39m\u001b[38;5;124mnames\u001b[39m\u001b[38;5;124m\"\u001b[39m, \u001b[38;5;28;01mNone\u001b[39;00m))\n\u001b[1;32m    574\u001b[0m \u001b[38;5;66;03m# Create the parser.\u001b[39;00m\n\u001b[0;32m--> 575\u001b[0m parser \u001b[38;5;241m=\u001b[39m \u001b[43mTextFileReader\u001b[49m\u001b[43m(\u001b[49m\u001b[43mfilepath_or_buffer\u001b[49m\u001b[43m,\u001b[49m\u001b[43m \u001b[49m\u001b[38;5;241;43m*\u001b[39;49m\u001b[38;5;241;43m*\u001b[39;49m\u001b[43mkwds\u001b[49m\u001b[43m)\u001b[49m\n\u001b[1;32m    577\u001b[0m \u001b[38;5;28;01mif\u001b[39;00m chunksize \u001b[38;5;129;01mor\u001b[39;00m iterator:\n\u001b[1;32m    578\u001b[0m     \u001b[38;5;28;01mreturn\u001b[39;00m parser\n",
      "File \u001b[0;32m~/hegemonic_hate/conda_env/lib/python3.8/site-packages/pandas/io/parsers/readers.py:933\u001b[0m, in \u001b[0;36mTextFileReader.__init__\u001b[0;34m(self, f, engine, **kwds)\u001b[0m\n\u001b[1;32m    930\u001b[0m     \u001b[38;5;28mself\u001b[39m\u001b[38;5;241m.\u001b[39moptions[\u001b[38;5;124m\"\u001b[39m\u001b[38;5;124mhas_index_names\u001b[39m\u001b[38;5;124m\"\u001b[39m] \u001b[38;5;241m=\u001b[39m kwds[\u001b[38;5;124m\"\u001b[39m\u001b[38;5;124mhas_index_names\u001b[39m\u001b[38;5;124m\"\u001b[39m]\n\u001b[1;32m    932\u001b[0m \u001b[38;5;28mself\u001b[39m\u001b[38;5;241m.\u001b[39mhandles: IOHandles \u001b[38;5;241m|\u001b[39m \u001b[38;5;28;01mNone\u001b[39;00m \u001b[38;5;241m=\u001b[39m \u001b[38;5;28;01mNone\u001b[39;00m\n\u001b[0;32m--> 933\u001b[0m \u001b[38;5;28mself\u001b[39m\u001b[38;5;241m.\u001b[39m_engine \u001b[38;5;241m=\u001b[39m \u001b[38;5;28;43mself\u001b[39;49m\u001b[38;5;241;43m.\u001b[39;49m\u001b[43m_make_engine\u001b[49m\u001b[43m(\u001b[49m\u001b[43mf\u001b[49m\u001b[43m,\u001b[49m\u001b[43m \u001b[49m\u001b[38;5;28;43mself\u001b[39;49m\u001b[38;5;241;43m.\u001b[39;49m\u001b[43mengine\u001b[49m\u001b[43m)\u001b[49m\n",
      "File \u001b[0;32m~/hegemonic_hate/conda_env/lib/python3.8/site-packages/pandas/io/parsers/readers.py:1217\u001b[0m, in \u001b[0;36mTextFileReader._make_engine\u001b[0;34m(self, f, engine)\u001b[0m\n\u001b[1;32m   1213\u001b[0m     mode \u001b[38;5;241m=\u001b[39m \u001b[38;5;124m\"\u001b[39m\u001b[38;5;124mrb\u001b[39m\u001b[38;5;124m\"\u001b[39m\n\u001b[1;32m   1214\u001b[0m \u001b[38;5;66;03m# error: No overload variant of \"get_handle\" matches argument types\u001b[39;00m\n\u001b[1;32m   1215\u001b[0m \u001b[38;5;66;03m# \"Union[str, PathLike[str], ReadCsvBuffer[bytes], ReadCsvBuffer[str]]\"\u001b[39;00m\n\u001b[1;32m   1216\u001b[0m \u001b[38;5;66;03m# , \"str\", \"bool\", \"Any\", \"Any\", \"Any\", \"Any\", \"Any\"\u001b[39;00m\n\u001b[0;32m-> 1217\u001b[0m \u001b[38;5;28mself\u001b[39m\u001b[38;5;241m.\u001b[39mhandles \u001b[38;5;241m=\u001b[39m \u001b[43mget_handle\u001b[49m\u001b[43m(\u001b[49m\u001b[43m  \u001b[49m\u001b[38;5;66;43;03m# type: ignore[call-overload]\u001b[39;49;00m\n\u001b[1;32m   1218\u001b[0m \u001b[43m    \u001b[49m\u001b[43mf\u001b[49m\u001b[43m,\u001b[49m\n\u001b[1;32m   1219\u001b[0m \u001b[43m    \u001b[49m\u001b[43mmode\u001b[49m\u001b[43m,\u001b[49m\n\u001b[1;32m   1220\u001b[0m \u001b[43m    \u001b[49m\u001b[43mencoding\u001b[49m\u001b[38;5;241;43m=\u001b[39;49m\u001b[38;5;28;43mself\u001b[39;49m\u001b[38;5;241;43m.\u001b[39;49m\u001b[43moptions\u001b[49m\u001b[38;5;241;43m.\u001b[39;49m\u001b[43mget\u001b[49m\u001b[43m(\u001b[49m\u001b[38;5;124;43m\"\u001b[39;49m\u001b[38;5;124;43mencoding\u001b[39;49m\u001b[38;5;124;43m\"\u001b[39;49m\u001b[43m,\u001b[49m\u001b[43m \u001b[49m\u001b[38;5;28;43;01mNone\u001b[39;49;00m\u001b[43m)\u001b[49m\u001b[43m,\u001b[49m\n\u001b[1;32m   1221\u001b[0m \u001b[43m    \u001b[49m\u001b[43mcompression\u001b[49m\u001b[38;5;241;43m=\u001b[39;49m\u001b[38;5;28;43mself\u001b[39;49m\u001b[38;5;241;43m.\u001b[39;49m\u001b[43moptions\u001b[49m\u001b[38;5;241;43m.\u001b[39;49m\u001b[43mget\u001b[49m\u001b[43m(\u001b[49m\u001b[38;5;124;43m\"\u001b[39;49m\u001b[38;5;124;43mcompression\u001b[39;49m\u001b[38;5;124;43m\"\u001b[39;49m\u001b[43m,\u001b[49m\u001b[43m \u001b[49m\u001b[38;5;28;43;01mNone\u001b[39;49;00m\u001b[43m)\u001b[49m\u001b[43m,\u001b[49m\n\u001b[1;32m   1222\u001b[0m \u001b[43m    \u001b[49m\u001b[43mmemory_map\u001b[49m\u001b[38;5;241;43m=\u001b[39;49m\u001b[38;5;28;43mself\u001b[39;49m\u001b[38;5;241;43m.\u001b[39;49m\u001b[43moptions\u001b[49m\u001b[38;5;241;43m.\u001b[39;49m\u001b[43mget\u001b[49m\u001b[43m(\u001b[49m\u001b[38;5;124;43m\"\u001b[39;49m\u001b[38;5;124;43mmemory_map\u001b[39;49m\u001b[38;5;124;43m\"\u001b[39;49m\u001b[43m,\u001b[49m\u001b[43m \u001b[49m\u001b[38;5;28;43;01mFalse\u001b[39;49;00m\u001b[43m)\u001b[49m\u001b[43m,\u001b[49m\n\u001b[1;32m   1223\u001b[0m \u001b[43m    \u001b[49m\u001b[43mis_text\u001b[49m\u001b[38;5;241;43m=\u001b[39;49m\u001b[43mis_text\u001b[49m\u001b[43m,\u001b[49m\n\u001b[1;32m   1224\u001b[0m \u001b[43m    \u001b[49m\u001b[43merrors\u001b[49m\u001b[38;5;241;43m=\u001b[39;49m\u001b[38;5;28;43mself\u001b[39;49m\u001b[38;5;241;43m.\u001b[39;49m\u001b[43moptions\u001b[49m\u001b[38;5;241;43m.\u001b[39;49m\u001b[43mget\u001b[49m\u001b[43m(\u001b[49m\u001b[38;5;124;43m\"\u001b[39;49m\u001b[38;5;124;43mencoding_errors\u001b[39;49m\u001b[38;5;124;43m\"\u001b[39;49m\u001b[43m,\u001b[49m\u001b[43m \u001b[49m\u001b[38;5;124;43m\"\u001b[39;49m\u001b[38;5;124;43mstrict\u001b[39;49m\u001b[38;5;124;43m\"\u001b[39;49m\u001b[43m)\u001b[49m\u001b[43m,\u001b[49m\n\u001b[1;32m   1225\u001b[0m \u001b[43m    \u001b[49m\u001b[43mstorage_options\u001b[49m\u001b[38;5;241;43m=\u001b[39;49m\u001b[38;5;28;43mself\u001b[39;49m\u001b[38;5;241;43m.\u001b[39;49m\u001b[43moptions\u001b[49m\u001b[38;5;241;43m.\u001b[39;49m\u001b[43mget\u001b[49m\u001b[43m(\u001b[49m\u001b[38;5;124;43m\"\u001b[39;49m\u001b[38;5;124;43mstorage_options\u001b[39;49m\u001b[38;5;124;43m\"\u001b[39;49m\u001b[43m,\u001b[49m\u001b[43m \u001b[49m\u001b[38;5;28;43;01mNone\u001b[39;49;00m\u001b[43m)\u001b[49m\u001b[43m,\u001b[49m\n\u001b[1;32m   1226\u001b[0m \u001b[43m\u001b[49m\u001b[43m)\u001b[49m\n\u001b[1;32m   1227\u001b[0m \u001b[38;5;28;01massert\u001b[39;00m \u001b[38;5;28mself\u001b[39m\u001b[38;5;241m.\u001b[39mhandles \u001b[38;5;129;01mis\u001b[39;00m \u001b[38;5;129;01mnot\u001b[39;00m \u001b[38;5;28;01mNone\u001b[39;00m\n\u001b[1;32m   1228\u001b[0m f \u001b[38;5;241m=\u001b[39m \u001b[38;5;28mself\u001b[39m\u001b[38;5;241m.\u001b[39mhandles\u001b[38;5;241m.\u001b[39mhandle\n",
      "File \u001b[0;32m~/hegemonic_hate/conda_env/lib/python3.8/site-packages/pandas/io/common.py:789\u001b[0m, in \u001b[0;36mget_handle\u001b[0;34m(path_or_buf, mode, encoding, compression, memory_map, is_text, errors, storage_options)\u001b[0m\n\u001b[1;32m    784\u001b[0m \u001b[38;5;28;01melif\u001b[39;00m \u001b[38;5;28misinstance\u001b[39m(handle, \u001b[38;5;28mstr\u001b[39m):\n\u001b[1;32m    785\u001b[0m     \u001b[38;5;66;03m# Check whether the filename is to be opened in binary mode.\u001b[39;00m\n\u001b[1;32m    786\u001b[0m     \u001b[38;5;66;03m# Binary mode does not support 'encoding' and 'newline'.\u001b[39;00m\n\u001b[1;32m    787\u001b[0m     \u001b[38;5;28;01mif\u001b[39;00m ioargs\u001b[38;5;241m.\u001b[39mencoding \u001b[38;5;129;01mand\u001b[39;00m \u001b[38;5;124m\"\u001b[39m\u001b[38;5;124mb\u001b[39m\u001b[38;5;124m\"\u001b[39m \u001b[38;5;129;01mnot\u001b[39;00m \u001b[38;5;129;01min\u001b[39;00m ioargs\u001b[38;5;241m.\u001b[39mmode:\n\u001b[1;32m    788\u001b[0m         \u001b[38;5;66;03m# Encoding\u001b[39;00m\n\u001b[0;32m--> 789\u001b[0m         handle \u001b[38;5;241m=\u001b[39m \u001b[38;5;28;43mopen\u001b[39;49m\u001b[43m(\u001b[49m\n\u001b[1;32m    790\u001b[0m \u001b[43m            \u001b[49m\u001b[43mhandle\u001b[49m\u001b[43m,\u001b[49m\n\u001b[1;32m    791\u001b[0m \u001b[43m            \u001b[49m\u001b[43mioargs\u001b[49m\u001b[38;5;241;43m.\u001b[39;49m\u001b[43mmode\u001b[49m\u001b[43m,\u001b[49m\n\u001b[1;32m    792\u001b[0m \u001b[43m            \u001b[49m\u001b[43mencoding\u001b[49m\u001b[38;5;241;43m=\u001b[39;49m\u001b[43mioargs\u001b[49m\u001b[38;5;241;43m.\u001b[39;49m\u001b[43mencoding\u001b[49m\u001b[43m,\u001b[49m\n\u001b[1;32m    793\u001b[0m \u001b[43m            \u001b[49m\u001b[43merrors\u001b[49m\u001b[38;5;241;43m=\u001b[39;49m\u001b[43merrors\u001b[49m\u001b[43m,\u001b[49m\n\u001b[1;32m    794\u001b[0m \u001b[43m            \u001b[49m\u001b[43mnewline\u001b[49m\u001b[38;5;241;43m=\u001b[39;49m\u001b[38;5;124;43m\"\u001b[39;49m\u001b[38;5;124;43m\"\u001b[39;49m\u001b[43m,\u001b[49m\n\u001b[1;32m    795\u001b[0m \u001b[43m        \u001b[49m\u001b[43m)\u001b[49m\n\u001b[1;32m    796\u001b[0m     \u001b[38;5;28;01melse\u001b[39;00m:\n\u001b[1;32m    797\u001b[0m         \u001b[38;5;66;03m# Binary mode\u001b[39;00m\n\u001b[1;32m    798\u001b[0m         handle \u001b[38;5;241m=\u001b[39m \u001b[38;5;28mopen\u001b[39m(handle, ioargs\u001b[38;5;241m.\u001b[39mmode)\n",
      "\u001b[0;31mFileNotFoundError\u001b[0m: [Errno 2] No such file or directory: '/home/mamille3/hegemonic_hate/output/removal_comparison/gender_sexuality_bert_5x2cv_f1.csv'"
     ]
    }
   ],
   "source": [
    "import pandas as pd\n",
    "import plotly.express as px\n",
    "from IPython.display import display\n",
    "import pdb\n",
    "\n",
    "removal_group = 'gender_sexuality' # gender_sexuality, religion, race_ethnicity\n",
    "clf_name = 'bert'\n",
    "cv_runs = 5\n",
    "\n",
    "titles = {'expsplits': f'With_{removal_group} vs no_{removal_group}',\n",
    "          'controlsplits': 'With_control vs no_control'}\n",
    "\n",
    "name = f'/home/mamille3/hegemonic_hate/output/removal_comparison/{removal_group}_{clf_name}_{cv_runs}x2cv'\n",
    "\n",
    "# Load scores\n",
    "scores_path = f'{name}_f1.csv'\n",
    "all_f1s = pd.read_csv(scores_path, index_col=0)\n",
    "if 'dataset' not in all_f1s.columns:\n",
    "    all_f1s.reset_index(inplace=True)\n",
    "# display(f1s)\n",
    "\n",
    "# Load significance\n",
    "sigs_path = f'{name}_sig.csv'\n",
    "all_sigs = pd.read_csv(sigs_path, index_col=0)\n",
    "if all_sigs.index.name == 'dataset':\n",
    "    all_sigs.reset_index(inplace=True)\n",
    "display(all_sigs)\n",
    "    \n",
    "for splits in titles:\n",
    "# for splits in ['hegsplits']:\n",
    "\n",
    "    f1s = all_f1s.query('splits == @splits')\n",
    "    sigs = all_sigs.query('splits == @splits')\n",
    "    \n",
    "    # Add significant difference markers\n",
    "    f1s = pd.merge(f1s, sigs, on=['dataset', 'splits'])\n",
    "    f1s['sig'] = [(split, better, sig) in [('no_special', True, True), ('with_special', False, True)] for (split, better, sig) in zip(\n",
    "        f1s['split'], f1s['no_special > with_special'], f1s['p < 0.05'])]\n",
    "    f1s['sig*'] = f1s.sig.map(lambda x: '<b>*</b>' if x else '')\n",
    "    # display(f1s)\n",
    "\n",
    "    # Plot\n",
    "    if splits == 'expsplits':\n",
    "        f1s = f1s.replace('with_special', f'with_{removal_group}').replace('no_special', f'no_{removal_group}')\n",
    "    elif splits == 'controlsplits':\n",
    "        f1s = f1s.replace('with_special', 'with_control').replace('no_special', 'no_control')\n",
    "    fig = px.bar(f1s, x='dataset', y='f1', color='split', barmode='group', title=titles[splits], text='sig*')\n",
    "    fig.update_layout(legend=dict(\n",
    "        yanchor='top',\n",
    "        y=1.4,\n",
    "        xanchor='left',\n",
    "        x=0.8\n",
    "    ))\n",
    "    fig.update_traces(textfont_size=24)\n",
    "    fig.show()"
   ]
  },
  {
   "cell_type": "markdown",
   "id": "a64d5552-9e89-4c50-855f-7fd91c27f9e0",
   "metadata": {
    "jp-MarkdownHeadingCollapsed": true,
    "tags": []
   },
   "source": [
    "## Extra checking"
   ]
  },
  {
   "cell_type": "code",
   "execution_count": 4,
   "id": "59625892-df22-41e2-a97c-b239f8d3031f",
   "metadata": {
    "scrolled": true,
    "tags": []
   },
   "outputs": [
    {
     "data": {
      "text/plain": [
       "{'elsherief2021': {'hegsplits': {'with_special':                  False         True  accuracy    macro avg  weighted avg\n",
       "   precision     0.756914     0.623639  0.737128     0.690277      0.716987\n",
       "   recall        0.920224     0.309056  0.737128     0.614640      0.737128\n",
       "   f1-score      0.830618     0.413296  0.737128     0.621957      0.705595\n",
       "   support    6067.000000  2595.000000  0.737128  8662.000000   8662.000000\n",
       "   precision     0.787430     0.550912  0.726013     0.669171      0.716373\n",
       "   recall        0.833306     0.476172  0.726013     0.654739      0.726013\n",
       "   f1-score      0.809719     0.510823  0.726013     0.660271      0.719922\n",
       "   support    6059.000000  2602.000000  0.726013  8661.000000   8661.000000\n",
       "   precision     0.803268     0.535920  0.722928     0.669594      0.723422\n",
       "   recall        0.801152     0.539235  0.722928     0.670193      0.722928\n",
       "   f1-score      0.802209     0.537572  0.722928     0.669890      0.723172\n",
       "   support    6075.000000  2587.000000  0.722928  8662.000000   8662.000000\n",
       "   precision     0.784471     0.577410  0.735365     0.680940      0.722073\n",
       "   recall        0.856553     0.454406  0.735365     0.655479      0.735365\n",
       "   f1-score      0.818929     0.508576  0.735365     0.663753      0.725404\n",
       "   support    6051.000000  2610.000000  0.735365  8661.000000   8661.000000\n",
       "   precision     0.799406     0.531538  0.719003     0.665472      0.719064\n",
       "   recall        0.799142     0.531948  0.719003     0.665545      0.719003\n",
       "   f1-score      0.799274     0.531743  0.719003     0.665509      0.719033\n",
       "   support    6064.000000  2598.000000  0.719003  8662.000000   8662.000000\n",
       "   precision     0.784966     0.540672  0.721164     0.662819      0.711658\n",
       "   recall        0.828604     0.470566  0.721164     0.649585      0.721164\n",
       "   f1-score      0.806195     0.503189  0.721164     0.654692      0.715269\n",
       "   support    6062.000000  2599.000000  0.721164  8661.000000   8661.000000\n",
       "   precision     0.794959     0.542197  0.721658     0.668578      0.718419\n",
       "   recall        0.809571     0.519253  0.721658     0.664412      0.721658\n",
       "   f1-score      0.802199     0.530477  0.721658     0.666338      0.719917\n",
       "   support    6039.000000  2623.000000  0.721658  8662.000000   8662.000000\n",
       "   precision     0.808634     0.521426  0.716545     0.665030      0.723277\n",
       "   recall        0.781666     0.562549  0.716545     0.672107      0.716545\n",
       "   f1-score      0.794921     0.541207  0.716545     0.668064      0.719519\n",
       "   support    6087.000000  2574.000000  0.716545  8661.000000   8661.000000\n",
       "   precision     0.820366     0.495847  0.698568     0.658107      0.723557\n",
       "   recall        0.730339     0.623839  0.698568     0.677089      0.698568\n",
       "   f1-score      0.772739     0.552528  0.698568     0.662633      0.707047\n",
       "   support    6078.000000  2584.000000  0.698568  8662.000000   8662.000000\n",
       "   precision     0.752991     0.662862  0.741138     0.707927      0.725800\n",
       "   recall        0.936508     0.288940  0.741138     0.612724      0.741138\n",
       "   f1-score      0.834783     0.402452  0.741138     0.618617      0.704350\n",
       "   support    6048.000000  2613.000000  0.741138  8661.000000   8661.000000,\n",
       "   'no_special':                  False         True  accuracy    macro avg  weighted avg\n",
       "   precision     0.761236     0.681564  0.749711     0.721400      0.737110\n",
       "   recall        0.933929     0.325581  0.749711     0.629755      0.749711\n",
       "   f1-score      0.838786     0.440660  0.749711     0.639723      0.718227\n",
       "   support    6039.000000  2623.000000  0.749711  8662.000000   8662.000000\n",
       "   precision     0.794637     0.565414  0.736174     0.680026      0.726514\n",
       "   recall        0.842287     0.485237  0.736174     0.663762      0.736174\n",
       "   f1-score      0.817769     0.522266  0.736174     0.670017      0.729947\n",
       "   support    6087.000000  2574.000000  0.736174  8661.000000   8661.000000\n",
       "   precision     0.808281     0.537009  0.725352     0.672645      0.727638\n",
       "   recall        0.798587     0.552233  0.725352     0.675410      0.725352\n",
       "   f1-score      0.803405     0.544515  0.725352     0.673960      0.726443\n",
       "   support    6087.000000  2575.000000  0.725352  8662.000000   8662.000000\n",
       "   precision     0.751349     0.690566  0.743909     0.720957      0.732947\n",
       "   recall        0.945686     0.279176  0.743909     0.612431      0.743909\n",
       "   f1-score      0.837390     0.397610  0.743909     0.617500      0.704253\n",
       "   support    6039.000000  2622.000000  0.743909  8661.000000   8661.000000\n",
       "   precision     0.784676     0.593294  0.743824     0.688985      0.728026\n",
       "   recall        0.876681     0.427847  0.743824     0.652264      0.743824\n",
       "   f1-score      0.828131     0.497167  0.743824     0.662649      0.730164\n",
       "   support    6098.000000  2564.000000  0.743824  8662.000000   8662.000000\n",
       "   precision     0.767671     0.630532  0.742986     0.699102      0.725980\n",
       "   recall        0.904446     0.373338  0.742986     0.638892      0.742986\n",
       "   f1-score      0.830465     0.468989  0.742986     0.649727      0.720574\n",
       "   support    6028.000000  2633.000000  0.742986  8661.000000   8661.000000\n",
       "   precision     0.799903     0.540816  0.726622     0.670360      0.723093\n",
       "   recall        0.815392     0.515966  0.726622     0.665679      0.726622\n",
       "   f1-score      0.807574     0.528099  0.726622     0.667836      0.724718\n",
       "   support    6094.000000  2568.000000  0.726622  8662.000000   8662.000000\n",
       "   precision     0.777976     0.585781  0.734904     0.681878      0.719636\n",
       "   recall        0.866711     0.432484  0.734904     0.649597      0.734904\n",
       "   f1-score      0.819950     0.497593  0.734904     0.658771      0.722100\n",
       "   support    6032.000000  2629.000000  0.734904  8661.000000   8661.000000\n",
       "   precision     0.811666     0.539144  0.730085     0.675405      0.731721\n",
       "   recall        0.804770     0.550177  0.730085     0.677474      0.730085\n",
       "   f1-score      0.808203     0.544605  0.730085     0.676404      0.730877\n",
       "   support    6121.000000  2541.000000  0.730085  8662.000000   8662.000000\n",
       "   precision     0.756429     0.660061  0.741831     0.708245      0.726877\n",
       "   recall        0.925729     0.326054  0.741831     0.625891      0.741831\n",
       "   f1-score      0.832560     0.436492  0.741831     0.634526      0.711101\n",
       "   support    6005.000000  2656.000000  0.741831  8661.000000   8661.000000},\n",
       "  'controlsplits': {'with_special':                  False         True  accuracy    macro avg  weighted avg\n",
       "   precision     0.763561     0.630332  0.740856     0.696946      0.723117\n",
       "   recall        0.909543     0.353858  0.740856     0.631700      0.740856\n",
       "   f1-score      0.830183     0.453262  0.740856     0.641722      0.715763\n",
       "   support    6036.000000  2631.000000  0.740856  8667.000000   8667.000000\n",
       "   precision     0.802613     0.557797  0.735328     0.680205      0.730039\n",
       "   recall        0.827258     0.517147  0.735328     0.672203      0.735328\n",
       "   f1-score      0.814749     0.536704  0.735328     0.675726      0.732325\n",
       "   support    6090.000000  2566.000000  0.735328  8656.000000   8656.000000\n",
       "   precision     0.781521     0.598712  0.742178     0.690117      0.726622\n",
       "   recall        0.876568     0.429066  0.742178     0.652817      0.742178\n",
       "   f1-score      0.826320     0.499888  0.742178     0.663104      0.728289\n",
       "   support    6060.000000  2601.000000  0.742178  8661.000000   8661.000000\n",
       "   precision     0.764255     0.607790  0.737359     0.686023      0.717362\n",
       "   recall        0.903726     0.348613  0.737359     0.626169      0.737359\n",
       "   f1-score      0.828159     0.443084  0.737359     0.635622      0.712752\n",
       "   support    6066.000000  2596.000000  0.737359  8662.000000   8662.000000\n",
       "   precision     0.734332     0.685106  0.730320     0.709719      0.719572\n",
       "   recall        0.963348     0.186199  0.730320     0.574774      0.730320\n",
       "   f1-score      0.833393     0.292816  0.730320     0.563104      0.671301\n",
       "   support    6057.000000  2594.000000  0.730320  8651.000000   8651.000000\n",
       "   precision     0.778073     0.581654  0.735355     0.679863      0.719115\n",
       "   recall        0.869995     0.421437  0.735355     0.645716      0.735355\n",
       "   f1-score      0.821470     0.488750  0.735355     0.655110      0.721601\n",
       "   support    6069.000000  2603.000000  0.735355  8672.000000   8672.000000\n",
       "   precision     0.762021     0.665364  0.747749     0.713692      0.732919\n",
       "   recall        0.929303     0.326304  0.747749     0.627803      0.747749\n",
       "   f1-score      0.837389     0.437870  0.747749     0.637630      0.717100\n",
       "   support    6054.000000  2608.000000  0.747749  8662.000000   8662.000000\n",
       "   precision     0.792748     0.558109  0.731440     0.675428      0.722608\n",
       "   recall        0.835310     0.487833  0.731440     0.661571      0.731440\n",
       "   f1-score      0.813472     0.520610  0.731440     0.667041      0.725928\n",
       "   support    6072.000000  2589.000000  0.731440  8661.000000   8661.000000\n",
       "   precision     0.794264     0.547412  0.725393     0.670838      0.719946\n",
       "   recall        0.819339     0.507291  0.725393     0.663315      0.725393\n",
       "   f1-score      0.806606     0.526588  0.725393     0.666597      0.722303\n",
       "   support    6050.000000  2606.000000  0.725393  8656.000000   8656.000000\n",
       "   precision     0.759885     0.615611  0.737279     0.687748      0.716754\n",
       "   recall        0.914088     0.322655  0.737279     0.618372      0.737279\n",
       "   f1-score      0.829884     0.423398  0.737279     0.626641      0.708365\n",
       "   support    6076.000000  2591.000000  0.737279  8667.000000   8667.000000,\n",
       "   'no_special':                  False         True  accuracy    macro avg  weighted avg\n",
       "   precision     0.779560     0.570466  0.732972     0.675013      0.717160\n",
       "   recall        0.863584     0.425919  0.732972     0.644751      0.732972\n",
       "   f1-score      0.819424     0.487708  0.732972     0.653566      0.720430\n",
       "   support    6077.000000  2585.000000  0.732972  8662.000000   8662.000000\n",
       "   precision     0.757706     0.659091  0.743679     0.708399      0.727966\n",
       "   recall        0.930567     0.310873  0.743679     0.620720      0.743679\n",
       "   f1-score      0.835287     0.422477  0.743679     0.628882      0.710791\n",
       "   support    6049.000000  2612.000000  0.743679  8661.000000   8661.000000\n",
       "   precision     0.781823     0.638197  0.753867     0.710010      0.738745\n",
       "   recall        0.899406     0.414165  0.753867     0.656786      0.753867\n",
       "   f1-score      0.836503     0.502334  0.753867     0.669419      0.736276\n",
       "   support    6064.000000  2598.000000  0.753867  8662.000000   8662.000000\n",
       "   precision     0.762347     0.643877  0.744140     0.703112      0.726796\n",
       "   recall        0.921808     0.329742  0.744140     0.625775      0.744140\n",
       "   f1-score      0.834528     0.436132  0.744140     0.635330      0.714977\n",
       "   support    6062.000000  2599.000000  0.744140  8661.000000   8661.000000\n",
       "   precision     0.753065     0.652946  0.738744     0.703005      0.722528\n",
       "   recall        0.928571     0.306207  0.738744     0.617389      0.738744\n",
       "   f1-score      0.831660     0.416903  0.738744     0.624281      0.705154\n",
       "   support    6020.000000  2642.000000  0.738744  8662.000000   8662.000000\n",
       "   precision     0.764043     0.661398  0.749798     0.712721      0.733763\n",
       "   recall        0.933344     0.311155  0.749798     0.622249      0.749798\n",
       "   f1-score      0.840251     0.423210  0.749798     0.631730      0.717223\n",
       "   support    6106.000000  2555.000000  0.749798  8661.000000   8661.000000\n",
       "   precision     0.773232     0.615881  0.745094     0.694557      0.726601\n",
       "   recall        0.902379     0.371640  0.745094     0.637010      0.745094\n",
       "   f1-score      0.832829     0.463557  0.745094     0.648193      0.723394\n",
       "   support    6095.000000  2567.000000  0.745094  8662.000000   8662.000000\n",
       "   precision     0.795623     0.555783  0.727861     0.675703      0.722793\n",
       "   recall        0.819765     0.517110  0.727861     0.668437      0.727861\n",
       "   f1-score      0.807513     0.535749  0.727861     0.671631      0.724989\n",
       "   support    6031.000000  2630.000000  0.727861  8661.000000   8661.000000\n",
       "   precision     0.770686     0.622785  0.743708     0.696736      0.726155\n",
       "   recall        0.901553     0.377301  0.743708     0.639427      0.743708\n",
       "   f1-score      0.830999     0.469914  0.743708     0.650456      0.722282\n",
       "   support    6054.000000  2608.000000  0.743708  8662.000000   8662.000000\n",
       "   precision     0.806731     0.553543  0.732479     0.680137      0.731047\n",
       "   recall        0.813241     0.543067  0.732479     0.678154      0.732479\n",
       "   f1-score      0.809973     0.548255  0.732479     0.679114      0.731739\n",
       "   support    6072.000000  2589.000000  0.732479  8661.000000   8661.000000}},\n",
       " 'kennedy2020': {'hegsplits': {'with_special':                  False         True  accuracy    macro avg  weighted avg\n",
       "   precision     0.810776     0.654876  0.773388     0.732826      0.763866\n",
       "   recall        0.881609     0.521949  0.773388     0.701779      0.773388\n",
       "   f1-score      0.844710     0.580905  0.773388     0.712808      0.765332\n",
       "   support    5769.000000  2483.000000  0.773388  8252.000000   8252.000000\n",
       "   precision     0.843151     0.588885  0.759423     0.716018      0.767096\n",
       "   recall        0.806848     0.648298  0.759423     0.727573      0.759423\n",
       "   f1-score      0.824600     0.617165  0.759423     0.720883      0.762553\n",
       "   support    5783.000000  2468.000000  0.759423  8251.000000   8251.000000\n",
       "   precision     0.796199     0.681461  0.771449     0.738830      0.760993\n",
       "   recall        0.900874     0.479068  0.771449     0.689971      0.771449\n",
       "   f1-score      0.845308     0.562616  0.771449     0.703962      0.758569\n",
       "   support    5720.000000  2532.000000  0.771449  8252.000000   8252.000000\n",
       "   precision     0.831653     0.616355  0.771664     0.724004      0.768533\n",
       "   recall        0.848765     0.585779  0.771664     0.717272      0.771664\n",
       "   f1-score      0.840122     0.600678  0.771664     0.720400      0.769923\n",
       "   support    5832.000000  2419.000000  0.771664  8251.000000   8251.000000\n",
       "   precision     0.777391     0.690669  0.763088     0.734030      0.751391\n",
       "   recall        0.927137     0.379951  0.763088     0.653544      0.763088\n",
       "   f1-score      0.845686     0.490222  0.763088     0.667954      0.739116\n",
       "   support    5778.000000  2474.000000  0.763088  8252.000000   8252.000000\n",
       "   precision     0.789932     0.676065  0.767907     0.732999      0.755749\n",
       "   recall        0.910461     0.435608  0.767907     0.673034      0.767907\n",
       "   f1-score      0.845925     0.529831  0.767907     0.687878      0.751031\n",
       "   support    5774.000000  2477.000000  0.767907  8251.000000   8251.000000\n",
       "   precision     0.859136     0.565563  0.751697     0.712349      0.772153\n",
       "   recall        0.774066     0.698569  0.751697     0.736317      0.751697\n",
       "   f1-score      0.814385     0.625069  0.751697     0.719727      0.758292\n",
       "   support    5807.000000  2445.000000  0.751697  8252.000000   8252.000000\n",
       "   precision     0.780628     0.693460  0.765119     0.737044      0.754153\n",
       "   recall        0.921671     0.406225  0.765119     0.663948      0.765119\n",
       "   f1-score      0.845307     0.512330  0.765119     0.678818      0.744175\n",
       "   support    5745.000000  2506.000000  0.765119  8251.000000   8251.000000\n",
       "   precision     0.806441     0.640477  0.765996     0.723459      0.756242\n",
       "   recall        0.874392     0.516026  0.765996     0.695209      0.765996\n",
       "   f1-score      0.839043     0.571555  0.765996     0.705299      0.758136\n",
       "   support    5756.000000  2496.000000  0.765996  8252.000000   8252.000000\n",
       "   precision     0.812743     0.627479  0.766331     0.720111      0.757619\n",
       "   recall        0.867150     0.528310  0.766331     0.697730      0.766331\n",
       "   f1-score      0.839065     0.573640  0.766331     0.706353      0.760091\n",
       "   support    5796.000000  2455.000000  0.766331  8251.000000   8251.000000,\n",
       "   'no_special':                  False         True  accuracy    macro avg  weighted avg\n",
       "   precision     0.849163     0.579826  0.759210     0.714494      0.769948\n",
       "   recall        0.801202     0.658426  0.759210     0.729814      0.759210\n",
       "   f1-score      0.824485     0.616631  0.759210     0.720558      0.763353\n",
       "   support    5825.000000  2427.000000  0.759210  8252.000000   8252.000000\n",
       "   precision     0.813791     0.625723  0.762574     0.719757      0.756260\n",
       "   recall        0.853152     0.557052  0.762574     0.705102      0.762574\n",
       "   f1-score      0.833007     0.589394  0.762574     0.711200      0.758485\n",
       "   support    5727.000000  2524.000000  0.762574  8251.000000   8251.000000\n",
       "   precision     0.787272     0.658567  0.762239     0.722920      0.748733\n",
       "   recall        0.905207     0.427762  0.762239     0.666484      0.762239\n",
       "   f1-score      0.842131     0.518646  0.762239     0.680388      0.745266\n",
       "   support    5781.000000  2471.000000  0.762239  8252.000000   8252.000000\n",
       "   precision     0.793941     0.652174  0.763907     0.723058      0.751330\n",
       "   recall        0.894646     0.459677  0.763907     0.677162      0.763907\n",
       "   f1-score      0.841291     0.539262  0.763907     0.690276      0.750510\n",
       "   support    5771.000000  2480.000000  0.763907  8251.000000   8251.000000\n",
       "   precision     0.856133     0.581452  0.760301     0.718792      0.774680\n",
       "   recall        0.792420     0.684103  0.760301     0.738262      0.760301\n",
       "   f1-score      0.823045     0.628614  0.760301     0.725830      0.765390\n",
       "   support    5805.000000  2447.000000  0.760301  8252.000000   8252.000000\n",
       "   precision     0.867856     0.525160  0.718458     0.696508      0.763855\n",
       "   recall        0.702801     0.754393  0.718458     0.728597      0.718458\n",
       "   f1-score      0.776656     0.619243  0.718458     0.697949      0.728885\n",
       "   support    5747.000000  2504.000000  0.718458  8251.000000   8251.000000\n",
       "   precision     0.766624     0.720601  0.759937     0.743612      0.752625\n",
       "   recall        0.941658     0.344223  0.759937     0.642941      0.759937\n",
       "   f1-score      0.845174     0.465894  0.759937     0.655534      0.729809\n",
       "   support    5742.000000  2510.000000  0.759937  8252.000000   8252.000000\n",
       "   precision     0.849318     0.543635  0.736396     0.696476      0.758884\n",
       "   recall        0.760585     0.678820  0.736396     0.719703      0.736396\n",
       "   f1-score      0.802506     0.603753  0.736396     0.703130      0.743706\n",
       "   support    5810.000000  2441.000000  0.736396  8251.000000   8251.000000\n",
       "   precision     0.835411     0.585671  0.755574     0.710541      0.760689\n",
       "   recall        0.810998     0.625759  0.755574     0.718379      0.755574\n",
       "   f1-score      0.823024     0.605052  0.755574     0.714038      0.757806\n",
       "   support    5783.000000  2469.000000  0.755574  8252.000000   8252.000000\n",
       "   precision     0.838233     0.585735  0.755424     0.711984      0.762278\n",
       "   recall        0.805686     0.638598  0.755424     0.722142      0.755424\n",
       "   f1-score      0.821637     0.611025  0.755424     0.716331      0.758282\n",
       "   support    5769.000000  2482.000000  0.755424  8251.000000   8251.000000},\n",
       "  'controlsplits': {'with_special':                  False         True  accuracy    macro avg  weighted avg\n",
       "   precision     0.770870     0.682105  0.755588     0.726488      0.743609\n",
       "   recall        0.921011     0.382376  0.755588     0.651694      0.755588\n",
       "   f1-score      0.839279     0.490043  0.755588     0.664661      0.732023\n",
       "   support    5735.000000  2542.000000  0.755588  8277.000000   8277.000000\n",
       "   precision     0.806683     0.615147  0.761488     0.710915      0.750591\n",
       "   recall        0.871583     0.495641  0.761488     0.683612      0.761488\n",
       "   f1-score      0.837878     0.548966  0.761488     0.693422      0.753269\n",
       "   support    5817.000000  2409.000000  0.761488  8226.000000   8226.000000\n",
       "   precision     0.807394     0.624695  0.761980     0.716045      0.752582\n",
       "   recall        0.866724     0.517590  0.761980     0.692157      0.761980\n",
       "   f1-score      0.836008     0.566121  0.761980     0.701065      0.755039\n",
       "   support    5770.000000  2473.000000  0.761980  8243.000000   8243.000000\n",
       "   precision     0.805868     0.666307  0.774576     0.736087      0.763999\n",
       "   recall        0.893117     0.497982  0.774576     0.695549      0.774576\n",
       "   f1-score      0.847252     0.569977  0.774576     0.708614      0.764069\n",
       "   support    5782.000000  2478.000000  0.774576  8260.000000   8260.000000\n",
       "   precision     0.770879     0.682586  0.756348     0.726732      0.744060\n",
       "   recall        0.924974     0.369825  0.756348     0.647399      0.756348\n",
       "   f1-score      0.840925     0.479731  0.756348     0.660328      0.731213\n",
       "   support    5758.000000  2512.000000  0.756348  8270.000000   8270.000000\n",
       "   precision     0.851328     0.563910  0.749180     0.707619      0.766182\n",
       "   recall        0.779772     0.676507  0.749180     0.728139      0.749180\n",
       "   f1-score      0.813981     0.615098  0.749180     0.714539      0.755062\n",
       "   support    5794.000000  2439.000000  0.749180  8233.000000   8233.000000\n",
       "   precision     0.791552     0.661157  0.764784     0.726355      0.752254\n",
       "   recall        0.900434     0.450342  0.764784     0.675388      0.764784\n",
       "   f1-score      0.842490     0.535757  0.764784     0.689123      0.750046\n",
       "   support    5765.000000  2487.000000  0.764784  8252.000000   8252.000000\n",
       "   precision     0.804757     0.624560  0.761362     0.714658      0.750945\n",
       "   recall        0.871090     0.503653  0.761362     0.687371      0.761362\n",
       "   f1-score      0.836611     0.557627  0.761362     0.697119      0.753298\n",
       "   support    5787.000000  2464.000000  0.761362  8251.000000   8251.000000\n",
       "   precision     0.792530     0.664623  0.767225     0.728576      0.754425\n",
       "   recall        0.905494     0.441368  0.767225     0.673431      0.767225\n",
       "   f1-score      0.845254     0.530462  0.767225     0.687858      0.751474\n",
       "   support    5788.000000  2456.000000  0.767225  8244.000000   8244.000000\n",
       "   precision     0.832954     0.605822  0.763046     0.719388      0.764339\n",
       "   recall        0.826162     0.617234  0.763046     0.721698      0.763046\n",
       "   f1-score      0.829544     0.611475  0.763046     0.720510      0.763667\n",
       "   support    5764.000000  2495.000000  0.763046  8259.000000   8259.000000,\n",
       "   'no_special':                  False         True  accuracy    macro avg  weighted avg\n",
       "   precision     0.824048     0.622599  0.769389     0.723324      0.764189\n",
       "   recall        0.854310     0.568515  0.769389     0.711413      0.769389\n",
       "   f1-score      0.838906     0.594330  0.769389     0.716618      0.766233\n",
       "   support    5800.000000  2452.000000  0.769389  8252.000000   8252.000000\n",
       "   precision     0.805954     0.666141  0.773724     0.736047      0.763608\n",
       "   recall        0.889604     0.507003  0.773724     0.698303      0.773724\n",
       "   f1-score      0.845715     0.575778  0.773724     0.710747      0.763959\n",
       "   support    5752.000000  2499.000000  0.773724  8251.000000   8251.000000\n",
       "   precision     0.809621     0.656684  0.774964     0.733153      0.764344\n",
       "   recall        0.889482     0.502661  0.774964     0.696071      0.774964\n",
       "   f1-score      0.847675     0.569441  0.774964     0.708558      0.765304\n",
       "   support    5809.000000  2443.000000  0.774964  8252.000000   8252.000000\n",
       "   precision     0.820135     0.617258  0.762574     0.718696      0.758468\n",
       "   recall        0.843984     0.576156  0.762574     0.710070      0.762574\n",
       "   f1-score      0.831889     0.595999  0.762574     0.713944      0.760187\n",
       "   support    5743.000000  2508.000000  0.762574  8251.000000   8251.000000\n",
       "   precision     0.881521     0.537390  0.734852     0.709455      0.779307\n",
       "   recall        0.719531     0.771114  0.734852     0.745322      0.734852\n",
       "   f1-score      0.792331     0.633378  0.734852     0.712855      0.745119\n",
       "   support    5801.000000  2451.000000  0.734852  8252.000000   8252.000000\n",
       "   precision     0.807890     0.640372  0.766453     0.724131      0.757134\n",
       "   recall        0.872370     0.522800  0.766453     0.697585      0.766453\n",
       "   f1-score      0.838893     0.575644  0.766453     0.707269      0.759130\n",
       "   support    5751.000000  2500.000000  0.766453  8251.000000   8251.000000\n",
       "   precision     0.809636     0.659127  0.774964     0.734382      0.764731\n",
       "   recall        0.888083     0.508936  0.774964     0.698509      0.774964\n",
       "   f1-score      0.847047     0.574375  0.774964     0.710711      0.765695\n",
       "   support    5790.000000  2462.000000  0.774964  8252.000000   8252.000000\n",
       "   precision     0.809531     0.640196  0.767665     0.724864      0.758450\n",
       "   recall        0.872614     0.524709  0.767665     0.698661      0.767665\n",
       "   f1-score      0.839890     0.576728  0.767665     0.708309      0.760504\n",
       "   support    5762.000000  2489.000000  0.767665  8251.000000   8251.000000\n",
       "   precision     0.862422     0.566387  0.755696     0.714404      0.775929\n",
       "   recall        0.779147     0.698880  0.755696     0.739014      0.755696\n",
       "   f1-score      0.818672     0.625696  0.755696     0.722184      0.762290\n",
       "   support    5841.000000  2411.000000  0.755696  8252.000000   8252.000000\n",
       "   precision     0.832610     0.632424  0.772149     0.732517      0.770984\n",
       "   recall        0.839608     0.620472  0.772149     0.730040      0.772149\n",
       "   f1-score      0.836094     0.626391  0.772149     0.731243      0.771539\n",
       "   support    5711.000000  2540.000000  0.772149  8251.000000   8251.000000}},\n",
       " 'salminen2018': {'hegsplits': {'with_special':                  False        True  accuracy    macro avg  weighted avg\n",
       "   precision     0.865842    0.590868  0.767931     0.728355      0.784235\n",
       "   recall        0.792838    0.708915  0.767931     0.750876      0.767931\n",
       "   f1-score      0.827733    0.644531  0.767931     0.736132      0.773362\n",
       "   support    2206.000000  931.000000  0.767931  3137.000000   3137.000000\n",
       "   precision     0.901836    0.476190  0.670866     0.689013      0.772740\n",
       "   recall        0.592026    0.851970  0.670866     0.721998      0.670866\n",
       "   f1-score      0.714805    0.610920  0.670866     0.662863      0.683298\n",
       "   support    2157.000000  939.000000  0.670866  3096.000000   3096.000000\n",
       "   precision     0.892157    0.578469  0.756633     0.735313      0.794547\n",
       "   recall        0.735616    0.803158  0.756633     0.769387      0.756633\n",
       "   f1-score      0.806359    0.672543  0.756633     0.739451      0.764720\n",
       "   support    2103.000000  950.000000  0.756633  3053.000000   3053.000000\n",
       "   precision     0.871945    0.523112  0.729560     0.697529      0.771025\n",
       "   recall        0.726106    0.738043  0.729560     0.732075      0.729560\n",
       "   f1-score      0.792371    0.612263  0.729560     0.702317      0.740264\n",
       "   support    2260.000000  920.000000  0.729560  3180.000000   3180.000000\n",
       "   precision     0.872099    0.565615  0.754693     0.718857      0.781509\n",
       "   recall        0.763776    0.733046  0.754693     0.748411      0.754693\n",
       "   f1-score      0.814351    0.638537  0.754693     0.726444      0.762384\n",
       "   support    2214.000000  929.000000  0.754693  3143.000000   3143.000000\n",
       "   precision     0.894389    0.495873  0.691262     0.695131      0.773029\n",
       "   recall        0.630526    0.829968  0.691262     0.730247      0.691262\n",
       "   f1-score      0.739629    0.620827  0.691262     0.680228      0.703450\n",
       "   support    2149.000000  941.000000  0.691262  3090.000000   3090.000000\n",
       "   precision     0.896119    0.484948  0.699969     0.690534      0.778660\n",
       "   recall        0.656031    0.809836  0.699969     0.732934      0.699969\n",
       "   f1-score      0.757507    0.606631  0.699969     0.682069      0.714406\n",
       "   support    2288.000000  915.000000  0.699969  3203.000000   3203.000000\n",
       "   precision     0.830131    0.588403  0.746205     0.709267      0.753943\n",
       "   recall        0.791325    0.648168  0.746205     0.719746      0.746205\n",
       "   f1-score      0.810264    0.616841  0.746205     0.713553      0.749301\n",
       "   support    2075.000000  955.000000  0.746205  3030.000000   3030.000000\n",
       "   precision     0.881375    0.539444  0.736204     0.710409      0.779723\n",
       "   recall        0.721743    0.770386  0.736204     0.746065      0.736204\n",
       "   f1-score      0.793611    0.634556  0.736204     0.714084      0.746326\n",
       "   support    2203.000000  932.000000  0.736204  3135.000000   3135.000000\n",
       "   precision     0.766205    0.840909  0.774693     0.803557      0.788824\n",
       "   recall        0.974074    0.315565  0.774693     0.644820      0.774693\n",
       "   f1-score      0.857725    0.458915  0.774693     0.658320      0.736975\n",
       "   support    2160.000000  938.000000  0.774693  3098.000000   3098.000000,\n",
       "   'no_special':                  False        True  accuracy    macro avg  weighted avg\n",
       "   precision     0.862975    0.656473  0.797879     0.759724      0.800865\n",
       "   recall        0.845129    0.688034  0.797879     0.766581      0.797879\n",
       "   f1-score      0.853959    0.671883  0.797879     0.762921      0.799196\n",
       "   support    2176.000000  936.000000  0.797879  3112.000000   3112.000000\n",
       "   precision     0.795357    0.576101  0.739507     0.685729      0.729742\n",
       "   recall        0.845908    0.490364  0.739507     0.668136      0.739507\n",
       "   f1-score      0.819854    0.529786  0.739507     0.674820      0.733047\n",
       "   support    2187.000000  934.000000  0.739507  3121.000000   3121.000000\n",
       "   precision     0.912791    0.538141  0.741935     0.725466      0.803074\n",
       "   recall        0.702147    0.838013  0.741935     0.770080      0.741935\n",
       "   f1-score      0.793731    0.655405  0.741935     0.724568      0.753222\n",
       "   support    2236.000000  926.000000  0.741935  3162.000000   3162.000000\n",
       "   precision     0.905502    0.522936  0.715402     0.714219      0.787904\n",
       "   recall        0.657734    0.845339  0.715402     0.751536      0.715402\n",
       "   f1-score      0.761983    0.646154  0.715402     0.704068      0.726378\n",
       "   support    2127.000000  944.000000  0.715402  3071.000000   3071.000000\n",
       "   precision     0.801370    0.718433  0.782479     0.759901      0.775077\n",
       "   recall        0.906099    0.516163  0.782479     0.711131      0.782479\n",
       "   f1-score      0.850522    0.600728  0.782479     0.725625      0.771331\n",
       "   support    2066.000000  959.000000  0.782479  3025.000000   3025.000000\n",
       "   precision     0.873399    0.555178  0.756546     0.714289      0.783031\n",
       "   recall        0.771876    0.717892  0.756546     0.744884      0.756546\n",
       "   f1-score      0.819505    0.626137  0.756546     0.722821      0.764593\n",
       "   support    2297.000000  911.000000  0.756546  3208.000000   3208.000000\n",
       "   precision     0.856145    0.648397  0.791653     0.752271      0.793721\n",
       "   recall        0.843965    0.669872  0.791653     0.756918      0.791653\n",
       "   f1-score      0.850012    0.658960  0.791653     0.754486      0.792604\n",
       "   support    2179.000000  936.000000  0.791653  3115.000000   3115.000000\n",
       "   precision     0.896699    0.516194  0.715843     0.706447      0.782719\n",
       "   recall        0.671703    0.819058  0.715843     0.745381      0.715843\n",
       "   f1-score      0.768063    0.633278  0.715843     0.700670      0.727688\n",
       "   support    2184.000000  934.000000  0.715843  3118.000000   3118.000000\n",
       "   precision     0.878598    0.581954  0.763706     0.730276      0.789671\n",
       "   recall        0.768773    0.751872  0.763706     0.760322      0.763706\n",
       "   f1-score      0.820024    0.656090  0.763706     0.738057      0.770881\n",
       "   support    2184.000000  935.000000  0.763706  3119.000000   3119.000000\n",
       "   precision     0.919517    0.502157  0.701991     0.710837      0.794202\n",
       "   recall        0.629188    0.871658  0.701991     0.750423      0.701991\n",
       "   f1-score      0.747139    0.637217  0.701991     0.692178      0.714134\n",
       "   support    2179.000000  935.000000  0.701991  3114.000000   3114.000000},\n",
       "  'controlsplits': {'with_special':                  False        True  accuracy    macro avg  weighted avg\n",
       "   precision     0.891022    0.541601  0.751953     0.716312      0.792778\n",
       "   recall        0.746197    0.766667  0.751953     0.756432      0.751953\n",
       "   f1-score      0.812204    0.634775  0.751953     0.723489      0.762318\n",
       "   support    2301.000000  900.000000  0.751953  3201.000000   3201.000000\n",
       "   precision     0.900289    0.504854  0.685356     0.702572      0.773781\n",
       "   recall        0.604268    0.857732  0.685356     0.731000      0.685356\n",
       "   f1-score      0.723157    0.635600  0.685356     0.679378      0.695146\n",
       "   support    2062.000000  970.000000  0.685356  3032.000000   3032.000000\n",
       "   precision     0.894125    0.524490  0.719072     0.709307      0.781710\n",
       "   recall        0.676389    0.816737  0.719072     0.746563      0.719072\n",
       "   f1-score      0.770163    0.638774  0.719072     0.704469      0.730205\n",
       "   support    2160.000000  944.000000  0.719072  3104.000000   3104.000000\n",
       "   precision     0.914519    0.513654  0.717482     0.714087      0.795887\n",
       "   recall        0.660463    0.853132  0.717482     0.756797      0.717482\n",
       "   f1-score      0.767001    0.641234  0.717482     0.704117      0.729781\n",
       "   support    2203.000000  926.000000  0.717482  3129.000000   3129.000000\n",
       "   precision     0.882554    0.592417  0.760927     0.737486      0.790709\n",
       "   recall        0.750000    0.784519  0.760927     0.767259      0.760927\n",
       "   f1-score      0.810896    0.675068  0.760927     0.742982      0.767898\n",
       "   support    2064.000000  956.000000  0.760927  3020.000000   3020.000000\n",
       "   precision     0.872289    0.570299  0.765328     0.721294      0.786382\n",
       "   recall        0.787299    0.710066  0.765328     0.748682      0.765328\n",
       "   f1-score      0.827618    0.632554  0.765328     0.730086      0.772128\n",
       "   support    2299.000000  914.000000  0.765328  3213.000000   3213.000000\n",
       "   precision     0.879648    0.614195  0.786828     0.746921      0.801861\n",
       "   recall        0.809181    0.732899  0.786828     0.771040      0.786828\n",
       "   f1-score      0.842944    0.668317  0.786828     0.755631      0.791773\n",
       "   support    2222.000000  921.000000  0.786828  3143.000000   3143.000000\n",
       "   precision     0.918164    0.520479  0.713916     0.719321      0.796027\n",
       "   recall        0.644559    0.870390  0.713916     0.757474      0.713916\n",
       "   f1-score      0.757409    0.651420  0.713916     0.704414      0.724858\n",
       "   support    2141.000000  949.000000  0.713916  3090.000000   3090.000000\n",
       "   precision     0.917355    0.584703  0.766893     0.751029      0.814323\n",
       "   recall        0.727869    0.853862  0.766893     0.790866      0.766893\n",
       "   f1-score      0.811700    0.694103  0.766893     0.752901      0.775277\n",
       "   support    2135.000000  958.000000  0.766893  3093.000000   3093.000000\n",
       "   precision     0.875578    0.560669  0.755732     0.718124      0.784114\n",
       "   recall        0.764363    0.734649  0.755732     0.749506      0.755732\n",
       "   f1-score      0.816199    0.635975  0.755732     0.726087      0.763854\n",
       "   support    2228.000000  912.000000  0.755732  3140.000000   3140.000000,\n",
       "   'no_special':                  False        True  accuracy    macro avg  weighted avg\n",
       "   precision     0.858480    0.549363  0.732096     0.703922      0.763189\n",
       "   recall        0.733647    0.728617  0.732096     0.731132      0.732096\n",
       "   f1-score      0.791170    0.626419  0.732096     0.708794      0.740382\n",
       "   support    2125.000000  947.000000  0.732096  3072.000000   3072.000000\n",
       "   precision     0.935385    0.450833  0.650111     0.693109      0.793897\n",
       "   recall        0.543342    0.908992  0.650111     0.726167      0.650111\n",
       "   f1-score      0.687394    0.602730  0.650111     0.645062      0.662672\n",
       "   support    2238.000000  923.000000  0.650111  3161.000000   3161.000000\n",
       "   precision     0.881755    0.583740  0.763472     0.732747      0.791456\n",
       "   recall        0.762963    0.764643  0.763472     0.763803      0.763472\n",
       "   f1-score      0.818069    0.662056  0.763472     0.740063      0.770797\n",
       "   support    2160.000000  939.000000  0.763472  3099.000000   3099.000000\n",
       "   precision     0.859216    0.599813  0.770900     0.729514      0.782157\n",
       "   recall        0.806173    0.687433  0.770900     0.746803      0.770900\n",
       "   f1-score      0.831850    0.640641  0.770900     0.736245      0.775049\n",
       "   support    2203.000000  931.000000  0.770900  3134.000000   3134.000000\n",
       "   precision     0.858411    0.591781  0.764894     0.725096      0.778559\n",
       "   recall        0.795610    0.693048  0.764894     0.744329      0.764894\n",
       "   f1-score      0.825819    0.638424  0.764894     0.732121      0.769696\n",
       "   support    2187.000000  935.000000  0.764894  3122.000000   3122.000000\n",
       "   precision     0.887235    0.541056  0.735455     0.714145      0.783192\n",
       "   recall        0.712316    0.789305  0.735455     0.750810      0.735455\n",
       "   f1-score      0.790212    0.642018  0.735455     0.716115      0.745673\n",
       "   support    2176.000000  935.000000  0.735455  3111.000000   3111.000000\n",
       "   precision     0.935348    0.462766  0.646044     0.699057      0.789619\n",
       "   recall        0.524482    0.918691  0.646044     0.721586      0.646044\n",
       "   f1-score      0.672097    0.615493  0.646044     0.643795      0.654642\n",
       "   support    2124.000000  947.000000  0.646044  3071.000000   3071.000000\n",
       "   precision     0.849246    0.609455  0.775459     0.729351      0.779250\n",
       "   recall        0.830281    0.642470  0.775459     0.736376      0.775459\n",
       "   f1-score      0.839657    0.625527  0.775459     0.732592      0.777152\n",
       "   support    2239.000000  923.000000  0.775459  3162.000000   3162.000000\n",
       "   precision     0.823769    0.632723  0.769679     0.728246      0.765409\n",
       "   recall        0.850280    0.586426  0.769679     0.718353      0.769679\n",
       "   f1-score      0.836814    0.608696  0.769679     0.722755      0.767130\n",
       "   support    2144.000000  943.000000  0.769679  3087.000000   3087.000000\n",
       "   precision     0.863938    0.508969  0.712969     0.686453      0.759343\n",
       "   recall        0.703921    0.734628  0.712969     0.719274      0.712969\n",
       "   f1-score      0.775764    0.601325  0.712969     0.688544      0.724363\n",
       "   support    2219.000000  927.000000  0.712969  3146.000000   3146.000000}},\n",
       " 'sbic': {'hegsplits': {'with_special':                   False          True  accuracy     macro avg  weighted avg\n",
       "   precision      0.855001      0.670853  0.800948      0.762927      0.799876\n",
       "   recall         0.862106      0.657805  0.800948      0.759956      0.800948\n",
       "   f1-score       0.858539      0.664265  0.800948      0.761402      0.800382\n",
       "   support    23946.000000  10231.000000  0.800948  34177.000000  34177.000000\n",
       "   precision      0.840996      0.672613  0.794559      0.756805      0.790372\n",
       "   recall         0.870896      0.616988  0.794559      0.743942      0.794559\n",
       "   f1-score       0.855685      0.643601  0.794559      0.749643      0.791922\n",
       "   support    23880.000000  10266.000000  0.794559  34146.000000  34146.000000\n",
       "   precision      0.865691      0.637576  0.790033      0.751633      0.796977\n",
       "   recall         0.827981      0.702004  0.790033      0.764992      0.790033\n",
       "   f1-score       0.846416      0.668241  0.790033      0.757328      0.792745\n",
       "   support    23852.000000  10282.000000  0.790033  34134.000000  34134.000000\n",
       "   precision      0.822039      0.716371  0.798327      0.769205      0.790467\n",
       "   recall         0.909235      0.538032  0.798327      0.723634      0.798327\n",
       "   f1-score       0.863441      0.614525  0.798327      0.738983      0.789070\n",
       "   support    23974.000000  10215.000000  0.798327  34189.000000  34189.000000\n",
       "   precision      0.856783      0.647341  0.793074      0.752062      0.794670\n",
       "   recall         0.847501      0.663976  0.793074      0.755738      0.793074\n",
       "   f1-score       0.852117      0.655553  0.793074      0.753835      0.793823\n",
       "   support    24092.000000  10157.000000  0.793074  34249.000000  34249.000000\n",
       "   precision      0.830258      0.699535  0.797265      0.764897      0.790589\n",
       "   recall         0.891127      0.581818  0.797265      0.736472      0.797265\n",
       "   f1-score       0.859616      0.635269  0.797265      0.747443      0.791537\n",
       "   support    23734.000000  10340.000000  0.797265  34074.000000  34074.000000\n",
       "   precision      0.834204      0.702430  0.801358      0.768317      0.794730\n",
       "   recall         0.894106      0.584489  0.801358      0.739298      0.801358\n",
       "   f1-score       0.863117      0.638055  0.801358      0.750586      0.795698\n",
       "   support    23939.000000  10238.000000  0.801358  34177.000000  34177.000000\n",
       "   precision      0.871995      0.606287  0.776196      0.739141      0.792164\n",
       "   recall         0.797086      0.727556  0.776196      0.762321      0.776196\n",
       "   f1-score       0.832859      0.661409  0.776196      0.747134      0.781348\n",
       "   support    23887.000000  10259.000000  0.776196  34146.000000  34146.000000\n",
       "   precision      0.830086      0.718672  0.803978      0.774379      0.796828\n",
       "   recall         0.906021      0.564178  0.803978      0.735099      0.803978\n",
       "   f1-score       0.866393      0.632122  0.803978      0.749257      0.796461\n",
       "   support    23984.000000  10206.000000  0.803978  34190.000000  34190.000000\n",
       "   precision      0.863464      0.615411  0.778015      0.739437      0.788676\n",
       "   recall         0.810335      0.703139  0.778015      0.756737      0.778015\n",
       "   f1-score       0.836056      0.656356  0.778015      0.746206      0.781877\n",
       "   support    23842.000000  10291.000000  0.778015  34133.000000  34133.000000,\n",
       "   'no_special':                   False          True  accuracy     macro avg  weighted avg\n",
       "   precision      0.835402      0.701241  0.800827      0.768322      0.794765\n",
       "   recall         0.889553      0.596629  0.800827      0.743091      0.800827\n",
       "   f1-score       0.861628      0.644719  0.800827      0.753173      0.795927\n",
       "   support    23758.000000  10323.000000  0.800827  34081.000000  34081.000000\n",
       "   precision      0.862973      0.640463  0.792214      0.751718      0.796860\n",
       "   recall         0.837336      0.685473  0.792214      0.761404      0.792214\n",
       "   f1-score       0.849961      0.662204  0.792214      0.756082      0.794174\n",
       "   support    24068.000000  10174.000000  0.792214  34242.000000  34242.000000\n",
       "   precision      0.833366      0.701339  0.800778      0.767352      0.793941\n",
       "   recall         0.894897      0.579710  0.800778      0.737304      0.800778\n",
       "   f1-score       0.863036      0.634750  0.800778      0.748893      0.794867\n",
       "   support    23986.000000  10212.000000  0.800778  34198.000000  34198.000000\n",
       "   precision      0.870975      0.608759  0.776762      0.739867      0.791945\n",
       "   recall         0.798784      0.725717  0.776762      0.762250      0.776762\n",
       "   f1-score       0.833319      0.662113  0.776762      0.747716      0.781719\n",
       "   support    23840.000000  10285.000000  0.776762  34125.000000  34125.000000\n",
       "   precision      0.826648      0.725426  0.802973      0.776037      0.796031\n",
       "   recall         0.907933      0.560931  0.802973      0.734432      0.802973\n",
       "   f1-score       0.865386      0.632661  0.802973      0.749023      0.794992\n",
       "   support    23787.000000  10315.000000  0.802973  34102.000000  34102.000000\n",
       "   precision      0.845358      0.681241  0.800824      0.763299      0.796527\n",
       "   recall         0.876867      0.621292  0.800824      0.749080      0.800824\n",
       "   f1-score       0.860824      0.649887  0.800824      0.755356      0.798063\n",
       "   support    24039.000000  10182.000000  0.800824  34221.000000  34221.000000\n",
       "   precision      0.854077      0.654283  0.793301      0.754180      0.794027\n",
       "   recall         0.849644      0.662186  0.793301      0.755915      0.793301\n",
       "   f1-score       0.851855      0.658211  0.793301      0.755033      0.793653\n",
       "   support    23890.000000  10266.000000  0.793301  34156.000000  34156.000000\n",
       "   precision      0.872067      0.614395  0.781222      0.743231      0.794910\n",
       "   recall         0.805941      0.723390  0.781222      0.764665      0.781222\n",
       "   f1-score       0.837701      0.664452  0.781222      0.751077      0.785823\n",
       "   support    23936.000000  10231.000000  0.781222  34167.000000  34167.000000\n",
       "   precision      0.863851      0.647080  0.793582      0.755466      0.798436\n",
       "   recall         0.836152      0.695086  0.793582      0.765619      0.793582\n",
       "   f1-score       0.849776      0.670225  0.793582      0.760000      0.795592\n",
       "   support    23827.000000  10298.000000  0.793582  34125.000000  34125.000000\n",
       "   precision      0.877658      0.606536  0.779168      0.742097      0.796800\n",
       "   recall         0.796325      0.738798  0.779168      0.767561      0.779168\n",
       "   f1-score       0.835016      0.666166  0.779168      0.750591      0.784659\n",
       "   support    23999.000000  10199.000000  0.779168  34198.000000  34198.000000},\n",
       "  'controlsplits': {'with_special':                   False          True  accuracy     macro avg  weighted avg\n",
       "   precision      0.872340      0.619100  0.785009      0.745720      0.797094\n",
       "   recall         0.813113      0.718529  0.785009      0.765821      0.785009\n",
       "   f1-score       0.841686      0.665119  0.785009      0.753403      0.789222\n",
       "   support    24052.000000  10168.000000  0.785009  34220.000000  34220.000000\n",
       "   precision      0.817633      0.722624  0.796440      0.770128      0.788857\n",
       "   recall         0.911248      0.532191  0.796440      0.721719      0.796440\n",
       "   f1-score       0.861906      0.612957  0.796440      0.737431      0.786505\n",
       "   support    23774.000000  10329.000000  0.796440  34103.000000  34103.000000\n",
       "   precision      0.873261      0.599214  0.773302      0.736238      0.791301\n",
       "   recall         0.791435      0.730803  0.773302      0.761119      0.773302\n",
       "   f1-score       0.830337      0.658499  0.773302      0.744418      0.778945\n",
       "   support    23959.000000  10223.000000  0.773302  34182.000000  34182.000000\n",
       "   precision      0.788272      0.789713  0.788495      0.788993      0.788706\n",
       "   recall         0.953576      0.405003  0.788495      0.679289      0.788495\n",
       "   f1-score       0.863080      0.535418  0.788495      0.699249      0.764477\n",
       "   support    23867.000000  10274.000000  0.788495  34141.000000  34141.000000\n",
       "   precision      0.867164      0.617818  0.780546      0.742491      0.792033\n",
       "   recall         0.809983      0.712285  0.780546      0.761134      0.780546\n",
       "   f1-score       0.837599      0.661697  0.780546      0.749648      0.784598\n",
       "   support    23840.000000  10281.000000  0.780546  34121.000000  34121.000000\n",
       "   precision      0.846431      0.689484  0.803930      0.767958      0.799552\n",
       "   recall         0.880097      0.625098  0.803930      0.752597      0.803930\n",
       "   f1-score       0.862936      0.655714  0.803930      0.759325      0.801040\n",
       "   support    23986.000000  10216.000000  0.803930  34202.000000  34202.000000\n",
       "   precision      0.856849      0.648138  0.791101      0.752494      0.793770\n",
       "   recall         0.841145      0.675563  0.791101      0.758354      0.791101\n",
       "   f1-score       0.848925      0.661566  0.791101      0.755245      0.792299\n",
       "   support    23789.000000  10304.000000  0.791101  34093.000000  34093.000000\n",
       "   precision      0.861428      0.638909  0.790622      0.750169      0.795166\n",
       "   recall         0.836377      0.682723  0.790622      0.759550      0.790622\n",
       "   f1-score       0.848718      0.660090  0.790622      0.754404      0.792548\n",
       "   support    24037.000000  10193.000000  0.790622  34230.000000  34230.000000\n",
       "   precision      0.853874      0.649865  0.792133      0.751870      0.792962\n",
       "   recall         0.848929      0.658706  0.792133      0.753818      0.792133\n",
       "   f1-score       0.851395      0.654256  0.792133      0.752825      0.792533\n",
       "   support    24002.000000  10217.000000  0.792133  34219.000000  34219.000000\n",
       "   precision      0.840881      0.701217  0.804217      0.771049      0.798782\n",
       "   recall         0.887718      0.610700  0.804217      0.749209      0.804217\n",
       "   f1-score       0.863665      0.652836  0.804217      0.758251      0.800115\n",
       "   support    23824.000000  10280.000000  0.804217  34104.000000  34104.000000,\n",
       "   'no_special':                   False          True  accuracy     macro avg  weighted avg\n",
       "   precision      0.868192      0.623773  0.784510      0.745983      0.794807\n",
       "   recall         0.815924      0.711297  0.784510      0.763610      0.784510\n",
       "   f1-score       0.841247      0.664666  0.784510      0.752956      0.788230\n",
       "   support    23952.000000  10277.000000  0.784510  34229.000000  34229.000000\n",
       "   precision      0.867829      0.636564  0.790990      0.752197      0.798505\n",
       "   recall         0.827553      0.705577  0.790990      0.766565      0.790990\n",
       "   f1-score       0.847213      0.669296  0.790990      0.758255      0.793881\n",
       "   support    23874.000000  10220.000000  0.790990  34094.000000  34094.000000\n",
       "   precision      0.824770      0.715820  0.799550      0.770295      0.792045\n",
       "   recall         0.905974      0.551660  0.799550      0.728817      0.799550\n",
       "   f1-score       0.863467      0.623109  0.799550      0.743288      0.791271\n",
       "   support    23919.000000  10269.000000  0.799550  34188.000000  34188.000000\n",
       "   precision      0.847373      0.675453  0.799033      0.761413      0.795860\n",
       "   recall         0.869703      0.633848  0.799033      0.751776      0.799033\n",
       "   f1-score       0.858393      0.653990  0.799033      0.756191      0.797147\n",
       "   support    23907.000000  10228.000000  0.799033  34135.000000  34135.000000\n",
       "   precision      0.818102      0.744097  0.802904      0.781099      0.796096\n",
       "   recall         0.925207      0.513901  0.802904      0.719554      0.802904\n",
       "   f1-score       0.868364      0.607938  0.802904      0.738151      0.790925\n",
       "   support    24053.000000  10179.000000  0.802904  34232.000000  34232.000000\n",
       "   precision      0.865735      0.628606  0.784958      0.747171      0.793966\n",
       "   recall         0.818576      0.707501  0.784958      0.763039      0.784958\n",
       "   f1-score       0.841495      0.665724  0.784958      0.753610      0.788296\n",
       "   support    23773.000000  10318.000000  0.784958  34091.000000  34091.000000\n",
       "   precision      0.819032      0.731483  0.799807      0.775257      0.792604\n",
       "   recall         0.915540      0.532136  0.799807      0.723838      0.799807\n",
       "   f1-score       0.864601      0.616085  0.799807      0.740343      0.789585\n",
       "   support    23822.000000  10300.000000  0.799807  34122.000000  34122.000000\n",
       "   precision      0.845554      0.675358  0.798602      0.760456      0.794810\n",
       "   recall         0.872396      0.624890  0.798602      0.748643      0.798602\n",
       "   f1-score       0.858766      0.649144  0.798602      0.753955      0.796267\n",
       "   support    24004.000000  10197.000000  0.798602  34201.000000  34201.000000\n",
       "   precision      0.859060      0.643918  0.790638      0.751489      0.794323\n",
       "   recall         0.838011      0.680573  0.790638      0.759292      0.790638\n",
       "   f1-score       0.848405      0.661738  0.790638      0.755072      0.792236\n",
       "   support    23835.000000  10259.000000  0.790638  34094.000000  34094.000000\n",
       "   precision      0.832276      0.714668  0.804026      0.773472      0.797099\n",
       "   recall         0.902213      0.573940  0.804026      0.738077      0.804026\n",
       "   f1-score       0.865835      0.636620  0.804026      0.751227      0.797276\n",
       "   support    23991.000000  10238.000000  0.804026  34229.000000  34229.000000}},\n",
       " 'cad': {'hegsplits': {'with_special':                  False         True  accuracy    macro avg  weighted avg\n",
       "   precision     0.782197     0.659091  0.759924     0.720644      0.745556\n",
       "   recall        0.912182     0.400638  0.759924     0.656410      0.759924\n",
       "   f1-score      0.842204     0.498348  0.759924     0.670276      0.739857\n",
       "   support    4441.000000  1882.000000  0.759924  6323.000000   6323.000000\n",
       "   precision     0.814681     0.573075  0.741737     0.693878      0.741622\n",
       "   recall        0.815235     0.572176  0.741737     0.693705      0.741737\n",
       "   f1-score      0.814958     0.572625  0.741737     0.693791      0.741679\n",
       "   support    4411.000000  1912.000000  0.741737  6323.000000   6323.000000\n",
       "   precision     0.802586     0.635172  0.764194     0.718879      0.752730\n",
       "   recall        0.880856     0.489113  0.764194     0.684984      0.764194\n",
       "   f1-score      0.839901     0.552655  0.764194     0.696278      0.754359\n",
       "   support    4440.000000  1883.000000  0.764194  6323.000000   6323.000000\n",
       "   precision     0.829580     0.583829  0.751226     0.706705      0.755307\n",
       "   recall        0.809837     0.615908  0.751226     0.712872      0.751226\n",
       "   f1-score      0.819589     0.599440  0.751226     0.709515      0.753054\n",
       "   support    4412.000000  1911.000000  0.751226  6323.000000   6323.000000\n",
       "   precision     0.799685     0.678657  0.775739     0.739171      0.763987\n",
       "   recall        0.909825     0.455228  0.775739     0.682526      0.775739\n",
       "   f1-score      0.851207     0.544929  0.775739     0.698068      0.760869\n",
       "   support    4458.000000  1865.000000  0.775739  6323.000000   6323.000000\n",
       "   precision     0.792726     0.623989  0.753124     0.708357      0.741248\n",
       "   recall        0.873009     0.480041  0.753124     0.676525      0.753124\n",
       "   f1-score      0.830933     0.542631  0.753124     0.686782      0.742978\n",
       "   support    4394.000000  1929.000000  0.753124  6323.000000   6323.000000\n",
       "   precision     0.780299     0.695358  0.766408     0.737828      0.755030\n",
       "   recall        0.929086     0.382243  0.766408     0.655665      0.766408\n",
       "   f1-score      0.848217     0.493310  0.766408     0.670764      0.742638\n",
       "   support    4442.000000  1881.000000  0.766408  6323.000000   6323.000000\n",
       "   precision     0.797602     0.628533  0.757868     0.713067      0.746451\n",
       "   recall        0.874830     0.488238  0.757868     0.681534      0.757868\n",
       "   f1-score      0.834433     0.549573  0.757868     0.692003      0.748250\n",
       "   support    4410.000000  1913.000000  0.757868  6323.000000   6323.000000\n",
       "   precision     0.762170     0.671626  0.748695     0.716898      0.734791\n",
       "   recall        0.929948     0.330544  0.748695     0.630246      0.748695\n",
       "   f1-score      0.837741     0.443042  0.748695     0.640392      0.718389\n",
       "   support    4411.000000  1912.000000  0.748695  6323.000000   6323.000000\n",
       "   precision     0.798994     0.652624  0.767674     0.725809      0.755428\n",
       "   recall        0.894168     0.469182  0.767674     0.681675      0.767674\n",
       "   f1-score      0.843906     0.545904  0.767674     0.694905      0.755208\n",
       "   support    4441.000000  1882.000000  0.767674  6323.000000   6323.000000,\n",
       "   'no_special':                  False         True  accuracy    macro avg  weighted avg\n",
       "   precision     0.783700     0.663755  0.761980     0.723728      0.748037\n",
       "   recall        0.913347     0.404255  0.761980     0.658801      0.761980\n",
       "   f1-score      0.843571     0.502479  0.761980     0.673025      0.742155\n",
       "   support    4443.000000  1880.000000  0.761980  6323.000000   6323.000000\n",
       "   precision     0.779567     0.690778  0.764036     0.735172      0.752690\n",
       "   recall        0.922431     0.399164  0.764036     0.660798      0.764036\n",
       "   f1-score      0.845003     0.505960  0.764036     0.675482      0.742373\n",
       "   support    4409.000000  1914.000000  0.764036  6323.000000   6323.000000\n",
       "   precision     0.824011     0.596667  0.759291     0.710339      0.756775\n",
       "   recall        0.836964     0.574332  0.759291     0.705648      0.759291\n",
       "   f1-score      0.830437     0.585286  0.759291     0.707861      0.757934\n",
       "   support    4453.000000  1870.000000  0.759291  6323.000000   6323.000000\n",
       "   precision     0.788256     0.674308  0.765459     0.731282      0.753583\n",
       "   recall        0.906342     0.443347  0.765459     0.674845      0.765459\n",
       "   f1-score      0.843185     0.534964  0.765459     0.689074      0.749398\n",
       "   support    4399.000000  1924.000000  0.765459  6323.000000   6323.000000\n",
       "   precision     0.805435     0.648022  0.768939     0.726729      0.758259\n",
       "   recall        0.883469     0.501319  0.768939     0.692394      0.768939\n",
       "   f1-score      0.842649     0.565308  0.768939     0.703979      0.759530\n",
       "   support    4428.000000  1895.000000  0.768939  6323.000000   6323.000000\n",
       "   precision     0.838243     0.539922  0.728926     0.689082      0.748647\n",
       "   recall        0.759042     0.658768  0.728926     0.708905      0.728926\n",
       "   f1-score      0.796679     0.593454  0.728926     0.695066      0.735644\n",
       "   support    4424.000000  1899.000000  0.728926  6323.000000   6323.000000\n",
       "   precision     0.832101     0.555869  0.739048     0.693985      0.749620\n",
       "   recall        0.786697     0.627119  0.739048     0.706908      0.739048\n",
       "   f1-score      0.808762     0.589348  0.739048     0.699055      0.743247\n",
       "   support    4435.000000  1888.000000  0.739048  6323.000000   6323.000000\n",
       "   precision     0.820547     0.593029  0.753440     0.706788      0.751965\n",
       "   recall        0.828164     0.580273  0.753440     0.704218      0.753440\n",
       "   f1-score      0.824338     0.586582  0.753440     0.705460      0.752669\n",
       "   support    4417.000000  1906.000000  0.753440  6323.000000   6323.000000\n",
       "   precision     0.806135     0.638798  0.765618     0.722467      0.755667\n",
       "   recall        0.874774     0.512847  0.765618     0.693810      0.765618\n",
       "   f1-score      0.839053     0.568935  0.765618     0.703994      0.757586\n",
       "   support    4416.000000  1907.000000  0.765618  6323.000000   6323.000000\n",
       "   precision     0.789366     0.603253  0.747746     0.696310      0.733824\n",
       "   recall        0.873535     0.452040  0.747746     0.662787      0.747746\n",
       "   f1-score      0.829320     0.516813  0.747746     0.673067      0.736058\n",
       "   support    4436.000000  1887.000000  0.747746  6323.000000   6323.000000},\n",
       "  'controlsplits': {'with_special':                  False         True  accuracy    macro avg  weighted avg\n",
       "   precision     0.784874     0.697634  0.769133     0.741254      0.758511\n",
       "   recall        0.921822     0.416536  0.769133     0.669179      0.769133\n",
       "   f1-score      0.847853     0.521625  0.769133     0.684739      0.749273\n",
       "   support    4413.000000  1911.000000  0.769133  6324.000000   6324.000000\n",
       "   precision     0.776068     0.639680  0.751819     0.707874      0.735445\n",
       "   recall        0.908763     0.381837  0.751819     0.645300      0.751819\n",
       "   f1-score      0.837190     0.478217  0.751819     0.657704      0.730270\n",
       "   support    4439.000000  1883.000000  0.751819  6322.000000   6322.000000\n",
       "   precision     0.792389     0.648773  0.762771     0.720581      0.749506\n",
       "   recall        0.896731     0.448093  0.762771     0.672412      0.762771\n",
       "   f1-score      0.841337     0.530075  0.762771     0.685706      0.748397\n",
       "   support    4435.000000  1888.000000  0.762771  6323.000000   6323.000000\n",
       "   precision     0.808231     0.586895  0.746797     0.697563      0.741512\n",
       "   recall        0.835861     0.540399  0.746797     0.688130      0.746797\n",
       "   f1-score      0.821814     0.562688  0.746797     0.692251      0.743703\n",
       "   support    4417.000000  1906.000000  0.746797  6323.000000   6323.000000\n",
       "   precision     0.827473     0.570803  0.744028     0.699138      0.749956\n",
       "   recall        0.800091     0.614458  0.744028     0.707274      0.744028\n",
       "   f1-score      0.813552     0.591826  0.744028     0.702689      0.746589\n",
       "   support    4412.000000  1909.000000  0.744028  6321.000000   6321.000000\n",
       "   precision     0.773491     0.724670  0.766482     0.749080      0.758941\n",
       "   recall        0.943694     0.349072  0.766482     0.646383      0.766482\n",
       "   f1-score      0.850157     0.471178  0.766482     0.660668      0.737212\n",
       "   support    4440.000000  1885.000000  0.766482  6325.000000   6325.000000\n",
       "   precision     0.764652     0.711628  0.757437     0.738140      0.748736\n",
       "   recall        0.943929     0.322615  0.757437     0.633272      0.757437\n",
       "   f1-score      0.844885     0.443961  0.757437     0.644423      0.724544\n",
       "   support    4423.000000  1897.000000  0.757437  6320.000000   6320.000000\n",
       "   precision     0.789576     0.688345  0.770629     0.738960      0.759219\n",
       "   recall        0.916685     0.429626  0.770629     0.673156      0.770629\n",
       "   f1-score      0.848396     0.529049  0.770629     0.688723      0.752632\n",
       "   support    4429.000000  1897.000000  0.770629  6326.000000   6326.000000\n",
       "   precision     0.854788     0.536243  0.728913     0.695516      0.759310\n",
       "   recall        0.738305     0.706969  0.728913     0.722637      0.728913\n",
       "   f1-score      0.792288     0.609884  0.728913     0.701086      0.737616\n",
       "   support    4425.000000  1894.000000  0.728913  6319.000000   6319.000000\n",
       "   precision     0.817409     0.583423  0.748696     0.700416      0.747143\n",
       "   recall        0.825164     0.570526  0.748696     0.697845      0.748696\n",
       "   f1-score      0.821268     0.576903  0.748696     0.699085      0.747885\n",
       "   support    4427.000000  1900.000000  0.748696  6327.000000   6327.000000,\n",
       "   'no_special':                  False         True  accuracy    macro avg  weighted avg\n",
       "   precision     0.820339     0.580611  0.748379     0.700475      0.748417\n",
       "   recall        0.820154     0.580917  0.748379     0.700535      0.748379\n",
       "   f1-score      0.820246     0.580764  0.748379     0.700505      0.748398\n",
       "   support    4426.000000  1897.000000  0.748379  6323.000000   6323.000000\n",
       "   precision     0.819537     0.593767  0.754231     0.706652      0.751803\n",
       "   recall        0.832128     0.572483  0.754231     0.702306      0.754231\n",
       "   f1-score      0.825785     0.582931  0.754231     0.704358      0.752925\n",
       "   support    4426.000000  1897.000000  0.754231  6323.000000   6323.000000\n",
       "   precision     0.759253     0.723910  0.755021     0.741581      0.748700\n",
       "   recall        0.952875     0.290254  0.755021     0.621565      0.755021\n",
       "   f1-score      0.845115     0.414367  0.755021     0.629741      0.716497\n",
       "   support    4435.000000  1888.000000  0.755021  6323.000000   6323.000000\n",
       "   precision     0.783285     0.695886  0.767832     0.739585      0.756940\n",
       "   recall        0.923025     0.408185  0.767832     0.665605      0.767832\n",
       "   f1-score      0.847433     0.514550  0.767832     0.680992      0.747089\n",
       "   support    4417.000000  1906.000000  0.767832  6323.000000   6323.000000\n",
       "   precision     0.798942     0.691803  0.778270     0.745373      0.767256\n",
       "   recall        0.915563     0.451337  0.778270     0.683450      0.778270\n",
       "   f1-score      0.853286     0.546278  0.778270     0.699782      0.762490\n",
       "   support    4453.000000  1870.000000  0.778270  6323.000000   6323.000000\n",
       "   precision     0.786702     0.602027  0.743476     0.694365      0.730508\n",
       "   recall        0.866106     0.463098  0.743476     0.664602      0.743476\n",
       "   f1-score      0.824497     0.523502  0.743476     0.673999      0.732908\n",
       "   support    4399.000000  1924.000000  0.743476  6323.000000   6323.000000\n",
       "   precision     0.790811     0.608974  0.750435     0.699893      0.736631\n",
       "   recall        0.876323     0.453822  0.750435     0.665073      0.750435\n",
       "   f1-score      0.831374     0.520073  0.750435     0.675724      0.738619\n",
       "   support    4439.000000  1884.000000  0.750435  6323.000000   6323.000000\n",
       "   precision     0.780982     0.659950  0.758184     0.720466      0.744422\n",
       "   recall        0.908226     0.411518  0.758184     0.659872      0.758184\n",
       "   f1-score      0.839811     0.506933  0.758184     0.673372      0.739258\n",
       "   support    4413.000000  1910.000000  0.758184  6323.000000   6323.000000\n",
       "   precision     0.852845     0.550557  0.741262     0.701701      0.763349\n",
       "   recall        0.764323     0.686432  0.741262     0.725377      0.741262\n",
       "   f1-score      0.806161     0.611032  0.741262     0.708596      0.748391\n",
       "   support    4451.000000  1872.000000  0.741262  6323.000000   6323.000000\n",
       "   precision     0.793434     0.640592  0.759133     0.717013      0.746975\n",
       "   recall        0.884117     0.472945  0.759133     0.678531      0.759133\n",
       "   f1-score      0.836325     0.544148  0.759133     0.690237      0.747512\n",
       "   support    4401.000000  1922.000000  0.759133  6323.000000   6323.000000}}}"
      ]
     },
     "execution_count": 4,
     "metadata": {},
     "output_type": "execute_result"
    }
   ],
   "source": [
    "# Check scores to see that there are 10 scores (5x2cv) and what the variance is, etc\n",
    "import pickle\n",
    "\n",
    "scores_path = '../tmp/bert_5x2cv_scores.pkl'\n",
    "with open(scores_path, 'rb') as f:\n",
    "    scores = pickle.load(f)\n",
    "scores"
   ]
  },
  {
   "cell_type": "code",
   "execution_count": 23,
   "id": "ad35f6fb-6dd1-4d04-af1b-04cbfa6599cd",
   "metadata": {},
   "outputs": [
    {
     "data": {
      "text/plain": [
       "dict_keys(['elsherief2021', 'kennedy2020', 'salminen2018', 'sbic', 'cad'])"
      ]
     },
     "execution_count": 23,
     "metadata": {},
     "output_type": "execute_result"
    }
   ],
   "source": [
    "scores.keys()"
   ]
  },
  {
   "cell_type": "code",
   "execution_count": 22,
   "id": "81459547-6ee2-4d2d-a380-5164923ebdda",
   "metadata": {},
   "outputs": [
    {
     "name": "stdout",
     "output_type": "stream",
     "text": [
      "10\n"
     ]
    },
    {
     "data": {
      "application/vnd.plotly.v1+json": {
       "config": {
        "plotlyServerURL": "https://plot.ly"
       },
       "data": [
        {
         "alignmentgroup": "True",
         "hovertemplate": "split=%{x}<br>f1=%{y}<extra></extra>",
         "legendgroup": "",
         "marker": {
          "color": "#636efa"
         },
         "name": "",
         "notched": false,
         "offsetgroup": "",
         "orientation": "v",
         "showlegend": false,
         "type": "box",
         "x": [
          "no_special",
          "no_special",
          "no_special",
          "no_special",
          "no_special",
          "no_special",
          "no_special",
          "no_special",
          "no_special",
          "no_special",
          "with_special",
          "with_special",
          "with_special",
          "with_special",
          "with_special",
          "with_special",
          "with_special",
          "with_special",
          "with_special",
          "with_special"
         ],
         "x0": " ",
         "xaxis": "x",
         "y": [
          0.4406604747162023,
          0.5222663600250889,
          0.5445146467547387,
          0.3976099945681695,
          0.4971674597779288,
          0.4689885496183206,
          0.5280988441610204,
          0.4975929978118162,
          0.5446045968056098,
          0.43649193548387094,
          0.413295542385983,
          0.5108225108225108,
          0.5375722543352602,
          0.5085763293310465,
          0.5317429780684879,
          0.5031886443118699,
          0.53047711781889,
          0.5412072509811251,
          0.5525278491859469,
          0.4024520255863539
         ],
         "y0": " ",
         "yaxis": "y"
        }
       ],
       "layout": {
        "autosize": true,
        "boxmode": "group",
        "legend": {
         "tracegroupgap": 0
        },
        "margin": {
         "t": 60
        },
        "template": {
         "data": {
          "bar": [
           {
            "error_x": {
             "color": "#2a3f5f"
            },
            "error_y": {
             "color": "#2a3f5f"
            },
            "marker": {
             "line": {
              "color": "#E5ECF6",
              "width": 0.5
             },
             "pattern": {
              "fillmode": "overlay",
              "size": 10,
              "solidity": 0.2
             }
            },
            "type": "bar"
           }
          ],
          "barpolar": [
           {
            "marker": {
             "line": {
              "color": "#E5ECF6",
              "width": 0.5
             },
             "pattern": {
              "fillmode": "overlay",
              "size": 10,
              "solidity": 0.2
             }
            },
            "type": "barpolar"
           }
          ],
          "carpet": [
           {
            "aaxis": {
             "endlinecolor": "#2a3f5f",
             "gridcolor": "white",
             "linecolor": "white",
             "minorgridcolor": "white",
             "startlinecolor": "#2a3f5f"
            },
            "baxis": {
             "endlinecolor": "#2a3f5f",
             "gridcolor": "white",
             "linecolor": "white",
             "minorgridcolor": "white",
             "startlinecolor": "#2a3f5f"
            },
            "type": "carpet"
           }
          ],
          "choropleth": [
           {
            "colorbar": {
             "outlinewidth": 0,
             "ticks": ""
            },
            "type": "choropleth"
           }
          ],
          "contour": [
           {
            "colorbar": {
             "outlinewidth": 0,
             "ticks": ""
            },
            "colorscale": [
             [
              0,
              "#0d0887"
             ],
             [
              0.1111111111111111,
              "#46039f"
             ],
             [
              0.2222222222222222,
              "#7201a8"
             ],
             [
              0.3333333333333333,
              "#9c179e"
             ],
             [
              0.4444444444444444,
              "#bd3786"
             ],
             [
              0.5555555555555556,
              "#d8576b"
             ],
             [
              0.6666666666666666,
              "#ed7953"
             ],
             [
              0.7777777777777778,
              "#fb9f3a"
             ],
             [
              0.8888888888888888,
              "#fdca26"
             ],
             [
              1,
              "#f0f921"
             ]
            ],
            "type": "contour"
           }
          ],
          "contourcarpet": [
           {
            "colorbar": {
             "outlinewidth": 0,
             "ticks": ""
            },
            "type": "contourcarpet"
           }
          ],
          "heatmap": [
           {
            "colorbar": {
             "outlinewidth": 0,
             "ticks": ""
            },
            "colorscale": [
             [
              0,
              "#0d0887"
             ],
             [
              0.1111111111111111,
              "#46039f"
             ],
             [
              0.2222222222222222,
              "#7201a8"
             ],
             [
              0.3333333333333333,
              "#9c179e"
             ],
             [
              0.4444444444444444,
              "#bd3786"
             ],
             [
              0.5555555555555556,
              "#d8576b"
             ],
             [
              0.6666666666666666,
              "#ed7953"
             ],
             [
              0.7777777777777778,
              "#fb9f3a"
             ],
             [
              0.8888888888888888,
              "#fdca26"
             ],
             [
              1,
              "#f0f921"
             ]
            ],
            "type": "heatmap"
           }
          ],
          "heatmapgl": [
           {
            "colorbar": {
             "outlinewidth": 0,
             "ticks": ""
            },
            "colorscale": [
             [
              0,
              "#0d0887"
             ],
             [
              0.1111111111111111,
              "#46039f"
             ],
             [
              0.2222222222222222,
              "#7201a8"
             ],
             [
              0.3333333333333333,
              "#9c179e"
             ],
             [
              0.4444444444444444,
              "#bd3786"
             ],
             [
              0.5555555555555556,
              "#d8576b"
             ],
             [
              0.6666666666666666,
              "#ed7953"
             ],
             [
              0.7777777777777778,
              "#fb9f3a"
             ],
             [
              0.8888888888888888,
              "#fdca26"
             ],
             [
              1,
              "#f0f921"
             ]
            ],
            "type": "heatmapgl"
           }
          ],
          "histogram": [
           {
            "marker": {
             "pattern": {
              "fillmode": "overlay",
              "size": 10,
              "solidity": 0.2
             }
            },
            "type": "histogram"
           }
          ],
          "histogram2d": [
           {
            "colorbar": {
             "outlinewidth": 0,
             "ticks": ""
            },
            "colorscale": [
             [
              0,
              "#0d0887"
             ],
             [
              0.1111111111111111,
              "#46039f"
             ],
             [
              0.2222222222222222,
              "#7201a8"
             ],
             [
              0.3333333333333333,
              "#9c179e"
             ],
             [
              0.4444444444444444,
              "#bd3786"
             ],
             [
              0.5555555555555556,
              "#d8576b"
             ],
             [
              0.6666666666666666,
              "#ed7953"
             ],
             [
              0.7777777777777778,
              "#fb9f3a"
             ],
             [
              0.8888888888888888,
              "#fdca26"
             ],
             [
              1,
              "#f0f921"
             ]
            ],
            "type": "histogram2d"
           }
          ],
          "histogram2dcontour": [
           {
            "colorbar": {
             "outlinewidth": 0,
             "ticks": ""
            },
            "colorscale": [
             [
              0,
              "#0d0887"
             ],
             [
              0.1111111111111111,
              "#46039f"
             ],
             [
              0.2222222222222222,
              "#7201a8"
             ],
             [
              0.3333333333333333,
              "#9c179e"
             ],
             [
              0.4444444444444444,
              "#bd3786"
             ],
             [
              0.5555555555555556,
              "#d8576b"
             ],
             [
              0.6666666666666666,
              "#ed7953"
             ],
             [
              0.7777777777777778,
              "#fb9f3a"
             ],
             [
              0.8888888888888888,
              "#fdca26"
             ],
             [
              1,
              "#f0f921"
             ]
            ],
            "type": "histogram2dcontour"
           }
          ],
          "mesh3d": [
           {
            "colorbar": {
             "outlinewidth": 0,
             "ticks": ""
            },
            "type": "mesh3d"
           }
          ],
          "parcoords": [
           {
            "line": {
             "colorbar": {
              "outlinewidth": 0,
              "ticks": ""
             }
            },
            "type": "parcoords"
           }
          ],
          "pie": [
           {
            "automargin": true,
            "type": "pie"
           }
          ],
          "scatter": [
           {
            "marker": {
             "colorbar": {
              "outlinewidth": 0,
              "ticks": ""
             }
            },
            "type": "scatter"
           }
          ],
          "scatter3d": [
           {
            "line": {
             "colorbar": {
              "outlinewidth": 0,
              "ticks": ""
             }
            },
            "marker": {
             "colorbar": {
              "outlinewidth": 0,
              "ticks": ""
             }
            },
            "type": "scatter3d"
           }
          ],
          "scattercarpet": [
           {
            "marker": {
             "colorbar": {
              "outlinewidth": 0,
              "ticks": ""
             }
            },
            "type": "scattercarpet"
           }
          ],
          "scattergeo": [
           {
            "marker": {
             "colorbar": {
              "outlinewidth": 0,
              "ticks": ""
             }
            },
            "type": "scattergeo"
           }
          ],
          "scattergl": [
           {
            "marker": {
             "colorbar": {
              "outlinewidth": 0,
              "ticks": ""
             }
            },
            "type": "scattergl"
           }
          ],
          "scattermapbox": [
           {
            "marker": {
             "colorbar": {
              "outlinewidth": 0,
              "ticks": ""
             }
            },
            "type": "scattermapbox"
           }
          ],
          "scatterpolar": [
           {
            "marker": {
             "colorbar": {
              "outlinewidth": 0,
              "ticks": ""
             }
            },
            "type": "scatterpolar"
           }
          ],
          "scatterpolargl": [
           {
            "marker": {
             "colorbar": {
              "outlinewidth": 0,
              "ticks": ""
             }
            },
            "type": "scatterpolargl"
           }
          ],
          "scatterternary": [
           {
            "marker": {
             "colorbar": {
              "outlinewidth": 0,
              "ticks": ""
             }
            },
            "type": "scatterternary"
           }
          ],
          "surface": [
           {
            "colorbar": {
             "outlinewidth": 0,
             "ticks": ""
            },
            "colorscale": [
             [
              0,
              "#0d0887"
             ],
             [
              0.1111111111111111,
              "#46039f"
             ],
             [
              0.2222222222222222,
              "#7201a8"
             ],
             [
              0.3333333333333333,
              "#9c179e"
             ],
             [
              0.4444444444444444,
              "#bd3786"
             ],
             [
              0.5555555555555556,
              "#d8576b"
             ],
             [
              0.6666666666666666,
              "#ed7953"
             ],
             [
              0.7777777777777778,
              "#fb9f3a"
             ],
             [
              0.8888888888888888,
              "#fdca26"
             ],
             [
              1,
              "#f0f921"
             ]
            ],
            "type": "surface"
           }
          ],
          "table": [
           {
            "cells": {
             "fill": {
              "color": "#EBF0F8"
             },
             "line": {
              "color": "white"
             }
            },
            "header": {
             "fill": {
              "color": "#C8D4E3"
             },
             "line": {
              "color": "white"
             }
            },
            "type": "table"
           }
          ]
         },
         "layout": {
          "annotationdefaults": {
           "arrowcolor": "#2a3f5f",
           "arrowhead": 0,
           "arrowwidth": 1
          },
          "autotypenumbers": "strict",
          "coloraxis": {
           "colorbar": {
            "outlinewidth": 0,
            "ticks": ""
           }
          },
          "colorscale": {
           "diverging": [
            [
             0,
             "#8e0152"
            ],
            [
             0.1,
             "#c51b7d"
            ],
            [
             0.2,
             "#de77ae"
            ],
            [
             0.3,
             "#f1b6da"
            ],
            [
             0.4,
             "#fde0ef"
            ],
            [
             0.5,
             "#f7f7f7"
            ],
            [
             0.6,
             "#e6f5d0"
            ],
            [
             0.7,
             "#b8e186"
            ],
            [
             0.8,
             "#7fbc41"
            ],
            [
             0.9,
             "#4d9221"
            ],
            [
             1,
             "#276419"
            ]
           ],
           "sequential": [
            [
             0,
             "#0d0887"
            ],
            [
             0.1111111111111111,
             "#46039f"
            ],
            [
             0.2222222222222222,
             "#7201a8"
            ],
            [
             0.3333333333333333,
             "#9c179e"
            ],
            [
             0.4444444444444444,
             "#bd3786"
            ],
            [
             0.5555555555555556,
             "#d8576b"
            ],
            [
             0.6666666666666666,
             "#ed7953"
            ],
            [
             0.7777777777777778,
             "#fb9f3a"
            ],
            [
             0.8888888888888888,
             "#fdca26"
            ],
            [
             1,
             "#f0f921"
            ]
           ],
           "sequentialminus": [
            [
             0,
             "#0d0887"
            ],
            [
             0.1111111111111111,
             "#46039f"
            ],
            [
             0.2222222222222222,
             "#7201a8"
            ],
            [
             0.3333333333333333,
             "#9c179e"
            ],
            [
             0.4444444444444444,
             "#bd3786"
            ],
            [
             0.5555555555555556,
             "#d8576b"
            ],
            [
             0.6666666666666666,
             "#ed7953"
            ],
            [
             0.7777777777777778,
             "#fb9f3a"
            ],
            [
             0.8888888888888888,
             "#fdca26"
            ],
            [
             1,
             "#f0f921"
            ]
           ]
          },
          "colorway": [
           "#636efa",
           "#EF553B",
           "#00cc96",
           "#ab63fa",
           "#FFA15A",
           "#19d3f3",
           "#FF6692",
           "#B6E880",
           "#FF97FF",
           "#FECB52"
          ],
          "font": {
           "color": "#2a3f5f"
          },
          "geo": {
           "bgcolor": "white",
           "lakecolor": "white",
           "landcolor": "#E5ECF6",
           "showlakes": true,
           "showland": true,
           "subunitcolor": "white"
          },
          "hoverlabel": {
           "align": "left"
          },
          "hovermode": "closest",
          "mapbox": {
           "style": "light"
          },
          "paper_bgcolor": "white",
          "plot_bgcolor": "#E5ECF6",
          "polar": {
           "angularaxis": {
            "gridcolor": "white",
            "linecolor": "white",
            "ticks": ""
           },
           "bgcolor": "#E5ECF6",
           "radialaxis": {
            "gridcolor": "white",
            "linecolor": "white",
            "ticks": ""
           }
          },
          "scene": {
           "xaxis": {
            "backgroundcolor": "#E5ECF6",
            "gridcolor": "white",
            "gridwidth": 2,
            "linecolor": "white",
            "showbackground": true,
            "ticks": "",
            "zerolinecolor": "white"
           },
           "yaxis": {
            "backgroundcolor": "#E5ECF6",
            "gridcolor": "white",
            "gridwidth": 2,
            "linecolor": "white",
            "showbackground": true,
            "ticks": "",
            "zerolinecolor": "white"
           },
           "zaxis": {
            "backgroundcolor": "#E5ECF6",
            "gridcolor": "white",
            "gridwidth": 2,
            "linecolor": "white",
            "showbackground": true,
            "ticks": "",
            "zerolinecolor": "white"
           }
          },
          "shapedefaults": {
           "line": {
            "color": "#2a3f5f"
           }
          },
          "ternary": {
           "aaxis": {
            "gridcolor": "white",
            "linecolor": "white",
            "ticks": ""
           },
           "baxis": {
            "gridcolor": "white",
            "linecolor": "white",
            "ticks": ""
           },
           "bgcolor": "#E5ECF6",
           "caxis": {
            "gridcolor": "white",
            "linecolor": "white",
            "ticks": ""
           }
          },
          "title": {
           "x": 0.05
          },
          "xaxis": {
           "automargin": true,
           "gridcolor": "white",
           "linecolor": "white",
           "ticks": "",
           "title": {
            "standoff": 15
           },
           "zerolinecolor": "white",
           "zerolinewidth": 2
          },
          "yaxis": {
           "automargin": true,
           "gridcolor": "white",
           "linecolor": "white",
           "ticks": "",
           "title": {
            "standoff": 15
           },
           "zerolinecolor": "white",
           "zerolinewidth": 2
          }
         }
        },
        "xaxis": {
         "anchor": "y",
         "autorange": true,
         "domain": [
          0,
          1
         ],
         "range": [
          -0.5,
          1.5
         ],
         "title": {
          "text": "split"
         },
         "type": "category"
        },
        "yaxis": {
         "anchor": "x",
         "autorange": true,
         "domain": [
          0,
          1
         ],
         "range": [
          0.38900344708940404,
          0.5611343966647123
         ],
         "title": {
          "text": "f1"
         },
         "type": "linear"
        }
       }
      },
      "image/png": "[encoded data removed]",
      "text/html": [
       "<div>                            <div id=\"37dff240-3326-4a0c-9a53-cb9eb4b7ff16\" class=\"plotly-graph-div\" style=\"height:525px; width:100%;\"></div>            <script type=\"text/javascript\">                require([\"plotly\"], function(Plotly) {                    window.PLOTLYENV=window.PLOTLYENV || {};                                    if (document.getElementById(\"37dff240-3326-4a0c-9a53-cb9eb4b7ff16\")) {                    Plotly.newPlot(                        \"37dff240-3326-4a0c-9a53-cb9eb4b7ff16\",                        [{\"alignmentgroup\":\"True\",\"hovertemplate\":\"split=%{x}<br>f1=%{y}<extra></extra>\",\"legendgroup\":\"\",\"marker\":{\"color\":\"#636efa\"},\"name\":\"\",\"notched\":false,\"offsetgroup\":\"\",\"orientation\":\"v\",\"showlegend\":false,\"x\":[\"no_special\",\"no_special\",\"no_special\",\"no_special\",\"no_special\",\"no_special\",\"no_special\",\"no_special\",\"no_special\",\"no_special\",\"with_special\",\"with_special\",\"with_special\",\"with_special\",\"with_special\",\"with_special\",\"with_special\",\"with_special\",\"with_special\",\"with_special\"],\"x0\":\" \",\"xaxis\":\"x\",\"y\":[0.4406604747162023,0.5222663600250889,0.5445146467547387,0.3976099945681695,0.4971674597779288,0.4689885496183206,0.5280988441610204,0.4975929978118162,0.5446045968056098,0.43649193548387094,0.413295542385983,0.5108225108225108,0.5375722543352602,0.5085763293310465,0.5317429780684879,0.5031886443118699,0.53047711781889,0.5412072509811251,0.5525278491859469,0.4024520255863539],\"y0\":\" \",\"yaxis\":\"y\",\"type\":\"box\"}],                        {\"template\":{\"data\":{\"bar\":[{\"error_x\":{\"color\":\"#2a3f5f\"},\"error_y\":{\"color\":\"#2a3f5f\"},\"marker\":{\"line\":{\"color\":\"#E5ECF6\",\"width\":0.5},\"pattern\":{\"fillmode\":\"overlay\",\"size\":10,\"solidity\":0.2}},\"type\":\"bar\"}],\"barpolar\":[{\"marker\":{\"line\":{\"color\":\"#E5ECF6\",\"width\":0.5},\"pattern\":{\"fillmode\":\"overlay\",\"size\":10,\"solidity\":0.2}},\"type\":\"barpolar\"}],\"carpet\":[{\"aaxis\":{\"endlinecolor\":\"#2a3f5f\",\"gridcolor\":\"white\",\"linecolor\":\"white\",\"minorgridcolor\":\"white\",\"startlinecolor\":\"#2a3f5f\"},\"baxis\":{\"endlinecolor\":\"#2a3f5f\",\"gridcolor\":\"white\",\"linecolor\":\"white\",\"minorgridcolor\":\"white\",\"startlinecolor\":\"#2a3f5f\"},\"type\":\"carpet\"}],\"choropleth\":[{\"colorbar\":{\"outlinewidth\":0,\"ticks\":\"\"},\"type\":\"choropleth\"}],\"contour\":[{\"colorbar\":{\"outlinewidth\":0,\"ticks\":\"\"},\"colorscale\":[[0.0,\"#0d0887\"],[0.1111111111111111,\"#46039f\"],[0.2222222222222222,\"#7201a8\"],[0.3333333333333333,\"#9c179e\"],[0.4444444444444444,\"#bd3786\"],[0.5555555555555556,\"#d8576b\"],[0.6666666666666666,\"#ed7953\"],[0.7777777777777778,\"#fb9f3a\"],[0.8888888888888888,\"#fdca26\"],[1.0,\"#f0f921\"]],\"type\":\"contour\"}],\"contourcarpet\":[{\"colorbar\":{\"outlinewidth\":0,\"ticks\":\"\"},\"type\":\"contourcarpet\"}],\"heatmap\":[{\"colorbar\":{\"outlinewidth\":0,\"ticks\":\"\"},\"colorscale\":[[0.0,\"#0d0887\"],[0.1111111111111111,\"#46039f\"],[0.2222222222222222,\"#7201a8\"],[0.3333333333333333,\"#9c179e\"],[0.4444444444444444,\"#bd3786\"],[0.5555555555555556,\"#d8576b\"],[0.6666666666666666,\"#ed7953\"],[0.7777777777777778,\"#fb9f3a\"],[0.8888888888888888,\"#fdca26\"],[1.0,\"#f0f921\"]],\"type\":\"heatmap\"}],\"heatmapgl\":[{\"colorbar\":{\"outlinewidth\":0,\"ticks\":\"\"},\"colorscale\":[[0.0,\"#0d0887\"],[0.1111111111111111,\"#46039f\"],[0.2222222222222222,\"#7201a8\"],[0.3333333333333333,\"#9c179e\"],[0.4444444444444444,\"#bd3786\"],[0.5555555555555556,\"#d8576b\"],[0.6666666666666666,\"#ed7953\"],[0.7777777777777778,\"#fb9f3a\"],[0.8888888888888888,\"#fdca26\"],[1.0,\"#f0f921\"]],\"type\":\"heatmapgl\"}],\"histogram\":[{\"marker\":{\"pattern\":{\"fillmode\":\"overlay\",\"size\":10,\"solidity\":0.2}},\"type\":\"histogram\"}],\"histogram2d\":[{\"colorbar\":{\"outlinewidth\":0,\"ticks\":\"\"},\"colorscale\":[[0.0,\"#0d0887\"],[0.1111111111111111,\"#46039f\"],[0.2222222222222222,\"#7201a8\"],[0.3333333333333333,\"#9c179e\"],[0.4444444444444444,\"#bd3786\"],[0.5555555555555556,\"#d8576b\"],[0.6666666666666666,\"#ed7953\"],[0.7777777777777778,\"#fb9f3a\"],[0.8888888888888888,\"#fdca26\"],[1.0,\"#f0f921\"]],\"type\":\"histogram2d\"}],\"histogram2dcontour\":[{\"colorbar\":{\"outlinewidth\":0,\"ticks\":\"\"},\"colorscale\":[[0.0,\"#0d0887\"],[0.1111111111111111,\"#46039f\"],[0.2222222222222222,\"#7201a8\"],[0.3333333333333333,\"#9c179e\"],[0.4444444444444444,\"#bd3786\"],[0.5555555555555556,\"#d8576b\"],[0.6666666666666666,\"#ed7953\"],[0.7777777777777778,\"#fb9f3a\"],[0.8888888888888888,\"#fdca26\"],[1.0,\"#f0f921\"]],\"type\":\"histogram2dcontour\"}],\"mesh3d\":[{\"colorbar\":{\"outlinewidth\":0,\"ticks\":\"\"},\"type\":\"mesh3d\"}],\"parcoords\":[{\"line\":{\"colorbar\":{\"outlinewidth\":0,\"ticks\":\"\"}},\"type\":\"parcoords\"}],\"pie\":[{\"automargin\":true,\"type\":\"pie\"}],\"scatter\":[{\"marker\":{\"colorbar\":{\"outlinewidth\":0,\"ticks\":\"\"}},\"type\":\"scatter\"}],\"scatter3d\":[{\"line\":{\"colorbar\":{\"outlinewidth\":0,\"ticks\":\"\"}},\"marker\":{\"colorbar\":{\"outlinewidth\":0,\"ticks\":\"\"}},\"type\":\"scatter3d\"}],\"scattercarpet\":[{\"marker\":{\"colorbar\":{\"outlinewidth\":0,\"ticks\":\"\"}},\"type\":\"scattercarpet\"}],\"scattergeo\":[{\"marker\":{\"colorbar\":{\"outlinewidth\":0,\"ticks\":\"\"}},\"type\":\"scattergeo\"}],\"scattergl\":[{\"marker\":{\"colorbar\":{\"outlinewidth\":0,\"ticks\":\"\"}},\"type\":\"scattergl\"}],\"scattermapbox\":[{\"marker\":{\"colorbar\":{\"outlinewidth\":0,\"ticks\":\"\"}},\"type\":\"scattermapbox\"}],\"scatterpolar\":[{\"marker\":{\"colorbar\":{\"outlinewidth\":0,\"ticks\":\"\"}},\"type\":\"scatterpolar\"}],\"scatterpolargl\":[{\"marker\":{\"colorbar\":{\"outlinewidth\":0,\"ticks\":\"\"}},\"type\":\"scatterpolargl\"}],\"scatterternary\":[{\"marker\":{\"colorbar\":{\"outlinewidth\":0,\"ticks\":\"\"}},\"type\":\"scatterternary\"}],\"surface\":[{\"colorbar\":{\"outlinewidth\":0,\"ticks\":\"\"},\"colorscale\":[[0.0,\"#0d0887\"],[0.1111111111111111,\"#46039f\"],[0.2222222222222222,\"#7201a8\"],[0.3333333333333333,\"#9c179e\"],[0.4444444444444444,\"#bd3786\"],[0.5555555555555556,\"#d8576b\"],[0.6666666666666666,\"#ed7953\"],[0.7777777777777778,\"#fb9f3a\"],[0.8888888888888888,\"#fdca26\"],[1.0,\"#f0f921\"]],\"type\":\"surface\"}],\"table\":[{\"cells\":{\"fill\":{\"color\":\"#EBF0F8\"},\"line\":{\"color\":\"white\"}},\"header\":{\"fill\":{\"color\":\"#C8D4E3\"},\"line\":{\"color\":\"white\"}},\"type\":\"table\"}]},\"layout\":{\"annotationdefaults\":{\"arrowcolor\":\"#2a3f5f\",\"arrowhead\":0,\"arrowwidth\":1},\"autotypenumbers\":\"strict\",\"coloraxis\":{\"colorbar\":{\"outlinewidth\":0,\"ticks\":\"\"}},\"colorscale\":{\"diverging\":[[0,\"#8e0152\"],[0.1,\"#c51b7d\"],[0.2,\"#de77ae\"],[0.3,\"#f1b6da\"],[0.4,\"#fde0ef\"],[0.5,\"#f7f7f7\"],[0.6,\"#e6f5d0\"],[0.7,\"#b8e186\"],[0.8,\"#7fbc41\"],[0.9,\"#4d9221\"],[1,\"#276419\"]],\"sequential\":[[0.0,\"#0d0887\"],[0.1111111111111111,\"#46039f\"],[0.2222222222222222,\"#7201a8\"],[0.3333333333333333,\"#9c179e\"],[0.4444444444444444,\"#bd3786\"],[0.5555555555555556,\"#d8576b\"],[0.6666666666666666,\"#ed7953\"],[0.7777777777777778,\"#fb9f3a\"],[0.8888888888888888,\"#fdca26\"],[1.0,\"#f0f921\"]],\"sequentialminus\":[[0.0,\"#0d0887\"],[0.1111111111111111,\"#46039f\"],[0.2222222222222222,\"#7201a8\"],[0.3333333333333333,\"#9c179e\"],[0.4444444444444444,\"#bd3786\"],[0.5555555555555556,\"#d8576b\"],[0.6666666666666666,\"#ed7953\"],[0.7777777777777778,\"#fb9f3a\"],[0.8888888888888888,\"#fdca26\"],[1.0,\"#f0f921\"]]},\"colorway\":[\"#636efa\",\"#EF553B\",\"#00cc96\",\"#ab63fa\",\"#FFA15A\",\"#19d3f3\",\"#FF6692\",\"#B6E880\",\"#FF97FF\",\"#FECB52\"],\"font\":{\"color\":\"#2a3f5f\"},\"geo\":{\"bgcolor\":\"white\",\"lakecolor\":\"white\",\"landcolor\":\"#E5ECF6\",\"showlakes\":true,\"showland\":true,\"subunitcolor\":\"white\"},\"hoverlabel\":{\"align\":\"left\"},\"hovermode\":\"closest\",\"mapbox\":{\"style\":\"light\"},\"paper_bgcolor\":\"white\",\"plot_bgcolor\":\"#E5ECF6\",\"polar\":{\"angularaxis\":{\"gridcolor\":\"white\",\"linecolor\":\"white\",\"ticks\":\"\"},\"bgcolor\":\"#E5ECF6\",\"radialaxis\":{\"gridcolor\":\"white\",\"linecolor\":\"white\",\"ticks\":\"\"}},\"scene\":{\"xaxis\":{\"backgroundcolor\":\"#E5ECF6\",\"gridcolor\":\"white\",\"gridwidth\":2,\"linecolor\":\"white\",\"showbackground\":true,\"ticks\":\"\",\"zerolinecolor\":\"white\"},\"yaxis\":{\"backgroundcolor\":\"#E5ECF6\",\"gridcolor\":\"white\",\"gridwidth\":2,\"linecolor\":\"white\",\"showbackground\":true,\"ticks\":\"\",\"zerolinecolor\":\"white\"},\"zaxis\":{\"backgroundcolor\":\"#E5ECF6\",\"gridcolor\":\"white\",\"gridwidth\":2,\"linecolor\":\"white\",\"showbackground\":true,\"ticks\":\"\",\"zerolinecolor\":\"white\"}},\"shapedefaults\":{\"line\":{\"color\":\"#2a3f5f\"}},\"ternary\":{\"aaxis\":{\"gridcolor\":\"white\",\"linecolor\":\"white\",\"ticks\":\"\"},\"baxis\":{\"gridcolor\":\"white\",\"linecolor\":\"white\",\"ticks\":\"\"},\"bgcolor\":\"#E5ECF6\",\"caxis\":{\"gridcolor\":\"white\",\"linecolor\":\"white\",\"ticks\":\"\"}},\"title\":{\"x\":0.05},\"xaxis\":{\"automargin\":true,\"gridcolor\":\"white\",\"linecolor\":\"white\",\"ticks\":\"\",\"title\":{\"standoff\":15},\"zerolinecolor\":\"white\",\"zerolinewidth\":2},\"yaxis\":{\"automargin\":true,\"gridcolor\":\"white\",\"linecolor\":\"white\",\"ticks\":\"\",\"title\":{\"standoff\":15},\"zerolinecolor\":\"white\",\"zerolinewidth\":2}}},\"xaxis\":{\"anchor\":\"y\",\"domain\":[0.0,1.0],\"title\":{\"text\":\"split\"}},\"yaxis\":{\"anchor\":\"x\",\"domain\":[0.0,1.0],\"title\":{\"text\":\"f1\"}},\"legend\":{\"tracegroupgap\":0},\"margin\":{\"t\":60},\"boxmode\":\"group\"},                        {\"responsive\": true}                    ).then(function(){\n",
       "                            \n",
       "var gd = document.getElementById('37dff240-3326-4a0c-9a53-cb9eb4b7ff16');\n",
       "var x = new MutationObserver(function (mutations, observer) {{\n",
       "        var display = window.getComputedStyle(gd).display;\n",
       "        if (!display || display === 'none') {{\n",
       "            console.log([gd, 'removed!']);\n",
       "            Plotly.purge(gd);\n",
       "            observer.disconnect();\n",
       "        }}\n",
       "}});\n",
       "\n",
       "// Listen for the removal of the full notebook cells\n",
       "var notebookContainer = gd.closest('#notebook-container');\n",
       "if (notebookContainer) {{\n",
       "    x.observe(notebookContainer, {childList: true});\n",
       "}}\n",
       "\n",
       "// Listen for the clearing of the current output cell\n",
       "var outputEl = gd.closest('.output');\n",
       "if (outputEl) {{\n",
       "    x.observe(outputEl, {childList: true});\n",
       "}}\n",
       "\n",
       "                        })                };                });            </script>        </div>"
      ]
     },
     "metadata": {},
     "output_type": "display_data"
    }
   ],
   "source": [
    "print(len(scores['elsherief2021']['hegsplits']['with_special'].loc['f1-score', 'True']))\n",
    "f1s = {}\n",
    "for split in ['no_special', 'with_special']:\n",
    "    f1s[split] = scores['elsherief2021']['hegsplits'][split].loc['f1-score', 'True']\n",
    "    # print(f1s[split])\n",
    "\n",
    "# Boxplot of hegsplits vs controlsplits\n",
    "\n",
    "f1_df = pd.concat([f1s['no_special'], f1s['with_special']], keys=['no_special', 'with_special'], names=['split', 'old_index']).reset_index(level='split').reset_index(drop=True).rename(columns={'True': 'f1'})\n",
    "\n",
    "import plotly.express as px\n",
    "\n",
    "px.box(f1_df, x='split', y='f1')"
   ]
  },
  {
   "cell_type": "code",
   "execution_count": 25,
   "id": "b1da57aa-bc8e-471c-b4ad-3ed1fe07c207",
   "metadata": {},
   "outputs": [
    {
     "name": "stdout",
     "output_type": "stream",
     "text": [
      "10\n"
     ]
    },
    {
     "data": {
      "application/vnd.plotly.v1+json": {
       "config": {
        "plotlyServerURL": "https://plot.ly"
       },
       "data": [
        {
         "alignmentgroup": "True",
         "hovertemplate": "split=%{x}<br>f1=%{y}<extra></extra>",
         "legendgroup": "",
         "marker": {
          "color": "#636efa"
         },
         "name": "",
         "notched": false,
         "offsetgroup": "",
         "orientation": "v",
         "showlegend": false,
         "type": "box",
         "x": [
          "no_special",
          "no_special",
          "no_special",
          "no_special",
          "no_special",
          "no_special",
          "no_special",
          "no_special",
          "no_special",
          "no_special",
          "with_special",
          "with_special",
          "with_special",
          "with_special",
          "with_special",
          "with_special",
          "with_special",
          "with_special",
          "with_special",
          "with_special"
         ],
         "x0": " ",
         "xaxis": "x",
         "y": [
          0.644718936459751,
          0.6622038645966861,
          0.6347504422881037,
          0.6621130133948372,
          0.6326608714668417,
          0.649886994041504,
          0.6582106893880713,
          0.6644521255106163,
          0.6702247191011236,
          0.6661656794271064,
          0.6642649163499975,
          0.6436010770715845,
          0.6682405221497014,
          0.6145245150109018,
          0.6555528554070473,
          0.6352692713833157,
          0.6380551260862611,
          0.66140894993354,
          0.6321220770666375,
          0.6563562973377478
         ],
         "y0": " ",
         "yaxis": "y"
        }
       ],
       "layout": {
        "autosize": true,
        "boxmode": "group",
        "legend": {
         "tracegroupgap": 0
        },
        "margin": {
         "t": 60
        },
        "template": {
         "data": {
          "bar": [
           {
            "error_x": {
             "color": "#2a3f5f"
            },
            "error_y": {
             "color": "#2a3f5f"
            },
            "marker": {
             "line": {
              "color": "#E5ECF6",
              "width": 0.5
             },
             "pattern": {
              "fillmode": "overlay",
              "size": 10,
              "solidity": 0.2
             }
            },
            "type": "bar"
           }
          ],
          "barpolar": [
           {
            "marker": {
             "line": {
              "color": "#E5ECF6",
              "width": 0.5
             },
             "pattern": {
              "fillmode": "overlay",
              "size": 10,
              "solidity": 0.2
             }
            },
            "type": "barpolar"
           }
          ],
          "carpet": [
           {
            "aaxis": {
             "endlinecolor": "#2a3f5f",
             "gridcolor": "white",
             "linecolor": "white",
             "minorgridcolor": "white",
             "startlinecolor": "#2a3f5f"
            },
            "baxis": {
             "endlinecolor": "#2a3f5f",
             "gridcolor": "white",
             "linecolor": "white",
             "minorgridcolor": "white",
             "startlinecolor": "#2a3f5f"
            },
            "type": "carpet"
           }
          ],
          "choropleth": [
           {
            "colorbar": {
             "outlinewidth": 0,
             "ticks": ""
            },
            "type": "choropleth"
           }
          ],
          "contour": [
           {
            "colorbar": {
             "outlinewidth": 0,
             "ticks": ""
            },
            "colorscale": [
             [
              0,
              "#0d0887"
             ],
             [
              0.1111111111111111,
              "#46039f"
             ],
             [
              0.2222222222222222,
              "#7201a8"
             ],
             [
              0.3333333333333333,
              "#9c179e"
             ],
             [
              0.4444444444444444,
              "#bd3786"
             ],
             [
              0.5555555555555556,
              "#d8576b"
             ],
             [
              0.6666666666666666,
              "#ed7953"
             ],
             [
              0.7777777777777778,
              "#fb9f3a"
             ],
             [
              0.8888888888888888,
              "#fdca26"
             ],
             [
              1,
              "#f0f921"
             ]
            ],
            "type": "contour"
           }
          ],
          "contourcarpet": [
           {
            "colorbar": {
             "outlinewidth": 0,
             "ticks": ""
            },
            "type": "contourcarpet"
           }
          ],
          "heatmap": [
           {
            "colorbar": {
             "outlinewidth": 0,
             "ticks": ""
            },
            "colorscale": [
             [
              0,
              "#0d0887"
             ],
             [
              0.1111111111111111,
              "#46039f"
             ],
             [
              0.2222222222222222,
              "#7201a8"
             ],
             [
              0.3333333333333333,
              "#9c179e"
             ],
             [
              0.4444444444444444,
              "#bd3786"
             ],
             [
              0.5555555555555556,
              "#d8576b"
             ],
             [
              0.6666666666666666,
              "#ed7953"
             ],
             [
              0.7777777777777778,
              "#fb9f3a"
             ],
             [
              0.8888888888888888,
              "#fdca26"
             ],
             [
              1,
              "#f0f921"
             ]
            ],
            "type": "heatmap"
           }
          ],
          "heatmapgl": [
           {
            "colorbar": {
             "outlinewidth": 0,
             "ticks": ""
            },
            "colorscale": [
             [
              0,
              "#0d0887"
             ],
             [
              0.1111111111111111,
              "#46039f"
             ],
             [
              0.2222222222222222,
              "#7201a8"
             ],
             [
              0.3333333333333333,
              "#9c179e"
             ],
             [
              0.4444444444444444,
              "#bd3786"
             ],
             [
              0.5555555555555556,
              "#d8576b"
             ],
             [
              0.6666666666666666,
              "#ed7953"
             ],
             [
              0.7777777777777778,
              "#fb9f3a"
             ],
             [
              0.8888888888888888,
              "#fdca26"
             ],
             [
              1,
              "#f0f921"
             ]
            ],
            "type": "heatmapgl"
           }
          ],
          "histogram": [
           {
            "marker": {
             "pattern": {
              "fillmode": "overlay",
              "size": 10,
              "solidity": 0.2
             }
            },
            "type": "histogram"
           }
          ],
          "histogram2d": [
           {
            "colorbar": {
             "outlinewidth": 0,
             "ticks": ""
            },
            "colorscale": [
             [
              0,
              "#0d0887"
             ],
             [
              0.1111111111111111,
              "#46039f"
             ],
             [
              0.2222222222222222,
              "#7201a8"
             ],
             [
              0.3333333333333333,
              "#9c179e"
             ],
             [
              0.4444444444444444,
              "#bd3786"
             ],
             [
              0.5555555555555556,
              "#d8576b"
             ],
             [
              0.6666666666666666,
              "#ed7953"
             ],
             [
              0.7777777777777778,
              "#fb9f3a"
             ],
             [
              0.8888888888888888,
              "#fdca26"
             ],
             [
              1,
              "#f0f921"
             ]
            ],
            "type": "histogram2d"
           }
          ],
          "histogram2dcontour": [
           {
            "colorbar": {
             "outlinewidth": 0,
             "ticks": ""
            },
            "colorscale": [
             [
              0,
              "#0d0887"
             ],
             [
              0.1111111111111111,
              "#46039f"
             ],
             [
              0.2222222222222222,
              "#7201a8"
             ],
             [
              0.3333333333333333,
              "#9c179e"
             ],
             [
              0.4444444444444444,
              "#bd3786"
             ],
             [
              0.5555555555555556,
              "#d8576b"
             ],
             [
              0.6666666666666666,
              "#ed7953"
             ],
             [
              0.7777777777777778,
              "#fb9f3a"
             ],
             [
              0.8888888888888888,
              "#fdca26"
             ],
             [
              1,
              "#f0f921"
             ]
            ],
            "type": "histogram2dcontour"
           }
          ],
          "mesh3d": [
           {
            "colorbar": {
             "outlinewidth": 0,
             "ticks": ""
            },
            "type": "mesh3d"
           }
          ],
          "parcoords": [
           {
            "line": {
             "colorbar": {
              "outlinewidth": 0,
              "ticks": ""
             }
            },
            "type": "parcoords"
           }
          ],
          "pie": [
           {
            "automargin": true,
            "type": "pie"
           }
          ],
          "scatter": [
           {
            "marker": {
             "colorbar": {
              "outlinewidth": 0,
              "ticks": ""
             }
            },
            "type": "scatter"
           }
          ],
          "scatter3d": [
           {
            "line": {
             "colorbar": {
              "outlinewidth": 0,
              "ticks": ""
             }
            },
            "marker": {
             "colorbar": {
              "outlinewidth": 0,
              "ticks": ""
             }
            },
            "type": "scatter3d"
           }
          ],
          "scattercarpet": [
           {
            "marker": {
             "colorbar": {
              "outlinewidth": 0,
              "ticks": ""
             }
            },
            "type": "scattercarpet"
           }
          ],
          "scattergeo": [
           {
            "marker": {
             "colorbar": {
              "outlinewidth": 0,
              "ticks": ""
             }
            },
            "type": "scattergeo"
           }
          ],
          "scattergl": [
           {
            "marker": {
             "colorbar": {
              "outlinewidth": 0,
              "ticks": ""
             }
            },
            "type": "scattergl"
           }
          ],
          "scattermapbox": [
           {
            "marker": {
             "colorbar": {
              "outlinewidth": 0,
              "ticks": ""
             }
            },
            "type": "scattermapbox"
           }
          ],
          "scatterpolar": [
           {
            "marker": {
             "colorbar": {
              "outlinewidth": 0,
              "ticks": ""
             }
            },
            "type": "scatterpolar"
           }
          ],
          "scatterpolargl": [
           {
            "marker": {
             "colorbar": {
              "outlinewidth": 0,
              "ticks": ""
             }
            },
            "type": "scatterpolargl"
           }
          ],
          "scatterternary": [
           {
            "marker": {
             "colorbar": {
              "outlinewidth": 0,
              "ticks": ""
             }
            },
            "type": "scatterternary"
           }
          ],
          "surface": [
           {
            "colorbar": {
             "outlinewidth": 0,
             "ticks": ""
            },
            "colorscale": [
             [
              0,
              "#0d0887"
             ],
             [
              0.1111111111111111,
              "#46039f"
             ],
             [
              0.2222222222222222,
              "#7201a8"
             ],
             [
              0.3333333333333333,
              "#9c179e"
             ],
             [
              0.4444444444444444,
              "#bd3786"
             ],
             [
              0.5555555555555556,
              "#d8576b"
             ],
             [
              0.6666666666666666,
              "#ed7953"
             ],
             [
              0.7777777777777778,
              "#fb9f3a"
             ],
             [
              0.8888888888888888,
              "#fdca26"
             ],
             [
              1,
              "#f0f921"
             ]
            ],
            "type": "surface"
           }
          ],
          "table": [
           {
            "cells": {
             "fill": {
              "color": "#EBF0F8"
             },
             "line": {
              "color": "white"
             }
            },
            "header": {
             "fill": {
              "color": "#C8D4E3"
             },
             "line": {
              "color": "white"
             }
            },
            "type": "table"
           }
          ]
         },
         "layout": {
          "annotationdefaults": {
           "arrowcolor": "#2a3f5f",
           "arrowhead": 0,
           "arrowwidth": 1
          },
          "autotypenumbers": "strict",
          "coloraxis": {
           "colorbar": {
            "outlinewidth": 0,
            "ticks": ""
           }
          },
          "colorscale": {
           "diverging": [
            [
             0,
             "#8e0152"
            ],
            [
             0.1,
             "#c51b7d"
            ],
            [
             0.2,
             "#de77ae"
            ],
            [
             0.3,
             "#f1b6da"
            ],
            [
             0.4,
             "#fde0ef"
            ],
            [
             0.5,
             "#f7f7f7"
            ],
            [
             0.6,
             "#e6f5d0"
            ],
            [
             0.7,
             "#b8e186"
            ],
            [
             0.8,
             "#7fbc41"
            ],
            [
             0.9,
             "#4d9221"
            ],
            [
             1,
             "#276419"
            ]
           ],
           "sequential": [
            [
             0,
             "#0d0887"
            ],
            [
             0.1111111111111111,
             "#46039f"
            ],
            [
             0.2222222222222222,
             "#7201a8"
            ],
            [
             0.3333333333333333,
             "#9c179e"
            ],
            [
             0.4444444444444444,
             "#bd3786"
            ],
            [
             0.5555555555555556,
             "#d8576b"
            ],
            [
             0.6666666666666666,
             "#ed7953"
            ],
            [
             0.7777777777777778,
             "#fb9f3a"
            ],
            [
             0.8888888888888888,
             "#fdca26"
            ],
            [
             1,
             "#f0f921"
            ]
           ],
           "sequentialminus": [
            [
             0,
             "#0d0887"
            ],
            [
             0.1111111111111111,
             "#46039f"
            ],
            [
             0.2222222222222222,
             "#7201a8"
            ],
            [
             0.3333333333333333,
             "#9c179e"
            ],
            [
             0.4444444444444444,
             "#bd3786"
            ],
            [
             0.5555555555555556,
             "#d8576b"
            ],
            [
             0.6666666666666666,
             "#ed7953"
            ],
            [
             0.7777777777777778,
             "#fb9f3a"
            ],
            [
             0.8888888888888888,
             "#fdca26"
            ],
            [
             1,
             "#f0f921"
            ]
           ]
          },
          "colorway": [
           "#636efa",
           "#EF553B",
           "#00cc96",
           "#ab63fa",
           "#FFA15A",
           "#19d3f3",
           "#FF6692",
           "#B6E880",
           "#FF97FF",
           "#FECB52"
          ],
          "font": {
           "color": "#2a3f5f"
          },
          "geo": {
           "bgcolor": "white",
           "lakecolor": "white",
           "landcolor": "#E5ECF6",
           "showlakes": true,
           "showland": true,
           "subunitcolor": "white"
          },
          "hoverlabel": {
           "align": "left"
          },
          "hovermode": "closest",
          "mapbox": {
           "style": "light"
          },
          "paper_bgcolor": "white",
          "plot_bgcolor": "#E5ECF6",
          "polar": {
           "angularaxis": {
            "gridcolor": "white",
            "linecolor": "white",
            "ticks": ""
           },
           "bgcolor": "#E5ECF6",
           "radialaxis": {
            "gridcolor": "white",
            "linecolor": "white",
            "ticks": ""
           }
          },
          "scene": {
           "xaxis": {
            "backgroundcolor": "#E5ECF6",
            "gridcolor": "white",
            "gridwidth": 2,
            "linecolor": "white",
            "showbackground": true,
            "ticks": "",
            "zerolinecolor": "white"
           },
           "yaxis": {
            "backgroundcolor": "#E5ECF6",
            "gridcolor": "white",
            "gridwidth": 2,
            "linecolor": "white",
            "showbackground": true,
            "ticks": "",
            "zerolinecolor": "white"
           },
           "zaxis": {
            "backgroundcolor": "#E5ECF6",
            "gridcolor": "white",
            "gridwidth": 2,
            "linecolor": "white",
            "showbackground": true,
            "ticks": "",
            "zerolinecolor": "white"
           }
          },
          "shapedefaults": {
           "line": {
            "color": "#2a3f5f"
           }
          },
          "ternary": {
           "aaxis": {
            "gridcolor": "white",
            "linecolor": "white",
            "ticks": ""
           },
           "baxis": {
            "gridcolor": "white",
            "linecolor": "white",
            "ticks": ""
           },
           "bgcolor": "#E5ECF6",
           "caxis": {
            "gridcolor": "white",
            "linecolor": "white",
            "ticks": ""
           }
          },
          "title": {
           "x": 0.05
          },
          "xaxis": {
           "automargin": true,
           "gridcolor": "white",
           "linecolor": "white",
           "ticks": "",
           "title": {
            "standoff": 15
           },
           "zerolinecolor": "white",
           "zerolinewidth": 2
          },
          "yaxis": {
           "automargin": true,
           "gridcolor": "white",
           "linecolor": "white",
           "ticks": "",
           "title": {
            "standoff": 15
           },
           "zerolinecolor": "white",
           "zerolinewidth": 2
          }
         }
        },
        "xaxis": {
         "anchor": "y",
         "autorange": true,
         "domain": [
          0,
          1
         ],
         "range": [
          -0.5,
          1.5
         ],
         "title": {
          "text": "split"
         },
         "type": "category"
        },
        "yaxis": {
         "anchor": "x",
         "autorange": true,
         "domain": [
          0,
          1
         ],
         "range": [
          0.6114300592281117,
          0.6733191748839137
         ],
         "title": {
          "text": "f1"
         },
         "type": "linear"
        }
       }
      },
      "image/png": "[encoded data removed]",
      "text/html": [
       "<div>                            <div id=\"c1879237-f177-492d-a38c-c7b9e3ae1745\" class=\"plotly-graph-div\" style=\"height:525px; width:100%;\"></div>            <script type=\"text/javascript\">                require([\"plotly\"], function(Plotly) {                    window.PLOTLYENV=window.PLOTLYENV || {};                                    if (document.getElementById(\"c1879237-f177-492d-a38c-c7b9e3ae1745\")) {                    Plotly.newPlot(                        \"c1879237-f177-492d-a38c-c7b9e3ae1745\",                        [{\"alignmentgroup\":\"True\",\"hovertemplate\":\"split=%{x}<br>f1=%{y}<extra></extra>\",\"legendgroup\":\"\",\"marker\":{\"color\":\"#636efa\"},\"name\":\"\",\"notched\":false,\"offsetgroup\":\"\",\"orientation\":\"v\",\"showlegend\":false,\"x\":[\"no_special\",\"no_special\",\"no_special\",\"no_special\",\"no_special\",\"no_special\",\"no_special\",\"no_special\",\"no_special\",\"no_special\",\"with_special\",\"with_special\",\"with_special\",\"with_special\",\"with_special\",\"with_special\",\"with_special\",\"with_special\",\"with_special\",\"with_special\"],\"x0\":\" \",\"xaxis\":\"x\",\"y\":[0.644718936459751,0.6622038645966861,0.6347504422881037,0.6621130133948372,0.6326608714668417,0.649886994041504,0.6582106893880713,0.6644521255106163,0.6702247191011236,0.6661656794271064,0.6642649163499975,0.6436010770715845,0.6682405221497014,0.6145245150109018,0.6555528554070473,0.6352692713833157,0.6380551260862611,0.66140894993354,0.6321220770666375,0.6563562973377478],\"y0\":\" \",\"yaxis\":\"y\",\"type\":\"box\"}],                        {\"template\":{\"data\":{\"bar\":[{\"error_x\":{\"color\":\"#2a3f5f\"},\"error_y\":{\"color\":\"#2a3f5f\"},\"marker\":{\"line\":{\"color\":\"#E5ECF6\",\"width\":0.5},\"pattern\":{\"fillmode\":\"overlay\",\"size\":10,\"solidity\":0.2}},\"type\":\"bar\"}],\"barpolar\":[{\"marker\":{\"line\":{\"color\":\"#E5ECF6\",\"width\":0.5},\"pattern\":{\"fillmode\":\"overlay\",\"size\":10,\"solidity\":0.2}},\"type\":\"barpolar\"}],\"carpet\":[{\"aaxis\":{\"endlinecolor\":\"#2a3f5f\",\"gridcolor\":\"white\",\"linecolor\":\"white\",\"minorgridcolor\":\"white\",\"startlinecolor\":\"#2a3f5f\"},\"baxis\":{\"endlinecolor\":\"#2a3f5f\",\"gridcolor\":\"white\",\"linecolor\":\"white\",\"minorgridcolor\":\"white\",\"startlinecolor\":\"#2a3f5f\"},\"type\":\"carpet\"}],\"choropleth\":[{\"colorbar\":{\"outlinewidth\":0,\"ticks\":\"\"},\"type\":\"choropleth\"}],\"contour\":[{\"colorbar\":{\"outlinewidth\":0,\"ticks\":\"\"},\"colorscale\":[[0.0,\"#0d0887\"],[0.1111111111111111,\"#46039f\"],[0.2222222222222222,\"#7201a8\"],[0.3333333333333333,\"#9c179e\"],[0.4444444444444444,\"#bd3786\"],[0.5555555555555556,\"#d8576b\"],[0.6666666666666666,\"#ed7953\"],[0.7777777777777778,\"#fb9f3a\"],[0.8888888888888888,\"#fdca26\"],[1.0,\"#f0f921\"]],\"type\":\"contour\"}],\"contourcarpet\":[{\"colorbar\":{\"outlinewidth\":0,\"ticks\":\"\"},\"type\":\"contourcarpet\"}],\"heatmap\":[{\"colorbar\":{\"outlinewidth\":0,\"ticks\":\"\"},\"colorscale\":[[0.0,\"#0d0887\"],[0.1111111111111111,\"#46039f\"],[0.2222222222222222,\"#7201a8\"],[0.3333333333333333,\"#9c179e\"],[0.4444444444444444,\"#bd3786\"],[0.5555555555555556,\"#d8576b\"],[0.6666666666666666,\"#ed7953\"],[0.7777777777777778,\"#fb9f3a\"],[0.8888888888888888,\"#fdca26\"],[1.0,\"#f0f921\"]],\"type\":\"heatmap\"}],\"heatmapgl\":[{\"colorbar\":{\"outlinewidth\":0,\"ticks\":\"\"},\"colorscale\":[[0.0,\"#0d0887\"],[0.1111111111111111,\"#46039f\"],[0.2222222222222222,\"#7201a8\"],[0.3333333333333333,\"#9c179e\"],[0.4444444444444444,\"#bd3786\"],[0.5555555555555556,\"#d8576b\"],[0.6666666666666666,\"#ed7953\"],[0.7777777777777778,\"#fb9f3a\"],[0.8888888888888888,\"#fdca26\"],[1.0,\"#f0f921\"]],\"type\":\"heatmapgl\"}],\"histogram\":[{\"marker\":{\"pattern\":{\"fillmode\":\"overlay\",\"size\":10,\"solidity\":0.2}},\"type\":\"histogram\"}],\"histogram2d\":[{\"colorbar\":{\"outlinewidth\":0,\"ticks\":\"\"},\"colorscale\":[[0.0,\"#0d0887\"],[0.1111111111111111,\"#46039f\"],[0.2222222222222222,\"#7201a8\"],[0.3333333333333333,\"#9c179e\"],[0.4444444444444444,\"#bd3786\"],[0.5555555555555556,\"#d8576b\"],[0.6666666666666666,\"#ed7953\"],[0.7777777777777778,\"#fb9f3a\"],[0.8888888888888888,\"#fdca26\"],[1.0,\"#f0f921\"]],\"type\":\"histogram2d\"}],\"histogram2dcontour\":[{\"colorbar\":{\"outlinewidth\":0,\"ticks\":\"\"},\"colorscale\":[[0.0,\"#0d0887\"],[0.1111111111111111,\"#46039f\"],[0.2222222222222222,\"#7201a8\"],[0.3333333333333333,\"#9c179e\"],[0.4444444444444444,\"#bd3786\"],[0.5555555555555556,\"#d8576b\"],[0.6666666666666666,\"#ed7953\"],[0.7777777777777778,\"#fb9f3a\"],[0.8888888888888888,\"#fdca26\"],[1.0,\"#f0f921\"]],\"type\":\"histogram2dcontour\"}],\"mesh3d\":[{\"colorbar\":{\"outlinewidth\":0,\"ticks\":\"\"},\"type\":\"mesh3d\"}],\"parcoords\":[{\"line\":{\"colorbar\":{\"outlinewidth\":0,\"ticks\":\"\"}},\"type\":\"parcoords\"}],\"pie\":[{\"automargin\":true,\"type\":\"pie\"}],\"scatter\":[{\"marker\":{\"colorbar\":{\"outlinewidth\":0,\"ticks\":\"\"}},\"type\":\"scatter\"}],\"scatter3d\":[{\"line\":{\"colorbar\":{\"outlinewidth\":0,\"ticks\":\"\"}},\"marker\":{\"colorbar\":{\"outlinewidth\":0,\"ticks\":\"\"}},\"type\":\"scatter3d\"}],\"scattercarpet\":[{\"marker\":{\"colorbar\":{\"outlinewidth\":0,\"ticks\":\"\"}},\"type\":\"scattercarpet\"}],\"scattergeo\":[{\"marker\":{\"colorbar\":{\"outlinewidth\":0,\"ticks\":\"\"}},\"type\":\"scattergeo\"}],\"scattergl\":[{\"marker\":{\"colorbar\":{\"outlinewidth\":0,\"ticks\":\"\"}},\"type\":\"scattergl\"}],\"scattermapbox\":[{\"marker\":{\"colorbar\":{\"outlinewidth\":0,\"ticks\":\"\"}},\"type\":\"scattermapbox\"}],\"scatterpolar\":[{\"marker\":{\"colorbar\":{\"outlinewidth\":0,\"ticks\":\"\"}},\"type\":\"scatterpolar\"}],\"scatterpolargl\":[{\"marker\":{\"colorbar\":{\"outlinewidth\":0,\"ticks\":\"\"}},\"type\":\"scatterpolargl\"}],\"scatterternary\":[{\"marker\":{\"colorbar\":{\"outlinewidth\":0,\"ticks\":\"\"}},\"type\":\"scatterternary\"}],\"surface\":[{\"colorbar\":{\"outlinewidth\":0,\"ticks\":\"\"},\"colorscale\":[[0.0,\"#0d0887\"],[0.1111111111111111,\"#46039f\"],[0.2222222222222222,\"#7201a8\"],[0.3333333333333333,\"#9c179e\"],[0.4444444444444444,\"#bd3786\"],[0.5555555555555556,\"#d8576b\"],[0.6666666666666666,\"#ed7953\"],[0.7777777777777778,\"#fb9f3a\"],[0.8888888888888888,\"#fdca26\"],[1.0,\"#f0f921\"]],\"type\":\"surface\"}],\"table\":[{\"cells\":{\"fill\":{\"color\":\"#EBF0F8\"},\"line\":{\"color\":\"white\"}},\"header\":{\"fill\":{\"color\":\"#C8D4E3\"},\"line\":{\"color\":\"white\"}},\"type\":\"table\"}]},\"layout\":{\"annotationdefaults\":{\"arrowcolor\":\"#2a3f5f\",\"arrowhead\":0,\"arrowwidth\":1},\"autotypenumbers\":\"strict\",\"coloraxis\":{\"colorbar\":{\"outlinewidth\":0,\"ticks\":\"\"}},\"colorscale\":{\"diverging\":[[0,\"#8e0152\"],[0.1,\"#c51b7d\"],[0.2,\"#de77ae\"],[0.3,\"#f1b6da\"],[0.4,\"#fde0ef\"],[0.5,\"#f7f7f7\"],[0.6,\"#e6f5d0\"],[0.7,\"#b8e186\"],[0.8,\"#7fbc41\"],[0.9,\"#4d9221\"],[1,\"#276419\"]],\"sequential\":[[0.0,\"#0d0887\"],[0.1111111111111111,\"#46039f\"],[0.2222222222222222,\"#7201a8\"],[0.3333333333333333,\"#9c179e\"],[0.4444444444444444,\"#bd3786\"],[0.5555555555555556,\"#d8576b\"],[0.6666666666666666,\"#ed7953\"],[0.7777777777777778,\"#fb9f3a\"],[0.8888888888888888,\"#fdca26\"],[1.0,\"#f0f921\"]],\"sequentialminus\":[[0.0,\"#0d0887\"],[0.1111111111111111,\"#46039f\"],[0.2222222222222222,\"#7201a8\"],[0.3333333333333333,\"#9c179e\"],[0.4444444444444444,\"#bd3786\"],[0.5555555555555556,\"#d8576b\"],[0.6666666666666666,\"#ed7953\"],[0.7777777777777778,\"#fb9f3a\"],[0.8888888888888888,\"#fdca26\"],[1.0,\"#f0f921\"]]},\"colorway\":[\"#636efa\",\"#EF553B\",\"#00cc96\",\"#ab63fa\",\"#FFA15A\",\"#19d3f3\",\"#FF6692\",\"#B6E880\",\"#FF97FF\",\"#FECB52\"],\"font\":{\"color\":\"#2a3f5f\"},\"geo\":{\"bgcolor\":\"white\",\"lakecolor\":\"white\",\"landcolor\":\"#E5ECF6\",\"showlakes\":true,\"showland\":true,\"subunitcolor\":\"white\"},\"hoverlabel\":{\"align\":\"left\"},\"hovermode\":\"closest\",\"mapbox\":{\"style\":\"light\"},\"paper_bgcolor\":\"white\",\"plot_bgcolor\":\"#E5ECF6\",\"polar\":{\"angularaxis\":{\"gridcolor\":\"white\",\"linecolor\":\"white\",\"ticks\":\"\"},\"bgcolor\":\"#E5ECF6\",\"radialaxis\":{\"gridcolor\":\"white\",\"linecolor\":\"white\",\"ticks\":\"\"}},\"scene\":{\"xaxis\":{\"backgroundcolor\":\"#E5ECF6\",\"gridcolor\":\"white\",\"gridwidth\":2,\"linecolor\":\"white\",\"showbackground\":true,\"ticks\":\"\",\"zerolinecolor\":\"white\"},\"yaxis\":{\"backgroundcolor\":\"#E5ECF6\",\"gridcolor\":\"white\",\"gridwidth\":2,\"linecolor\":\"white\",\"showbackground\":true,\"ticks\":\"\",\"zerolinecolor\":\"white\"},\"zaxis\":{\"backgroundcolor\":\"#E5ECF6\",\"gridcolor\":\"white\",\"gridwidth\":2,\"linecolor\":\"white\",\"showbackground\":true,\"ticks\":\"\",\"zerolinecolor\":\"white\"}},\"shapedefaults\":{\"line\":{\"color\":\"#2a3f5f\"}},\"ternary\":{\"aaxis\":{\"gridcolor\":\"white\",\"linecolor\":\"white\",\"ticks\":\"\"},\"baxis\":{\"gridcolor\":\"white\",\"linecolor\":\"white\",\"ticks\":\"\"},\"bgcolor\":\"#E5ECF6\",\"caxis\":{\"gridcolor\":\"white\",\"linecolor\":\"white\",\"ticks\":\"\"}},\"title\":{\"x\":0.05},\"xaxis\":{\"automargin\":true,\"gridcolor\":\"white\",\"linecolor\":\"white\",\"ticks\":\"\",\"title\":{\"standoff\":15},\"zerolinecolor\":\"white\",\"zerolinewidth\":2},\"yaxis\":{\"automargin\":true,\"gridcolor\":\"white\",\"linecolor\":\"white\",\"ticks\":\"\",\"title\":{\"standoff\":15},\"zerolinecolor\":\"white\",\"zerolinewidth\":2}}},\"xaxis\":{\"anchor\":\"y\",\"domain\":[0.0,1.0],\"title\":{\"text\":\"split\"}},\"yaxis\":{\"anchor\":\"x\",\"domain\":[0.0,1.0],\"title\":{\"text\":\"f1\"}},\"legend\":{\"tracegroupgap\":0},\"margin\":{\"t\":60},\"boxmode\":\"group\"},                        {\"responsive\": true}                    ).then(function(){\n",
       "                            \n",
       "var gd = document.getElementById('c1879237-f177-492d-a38c-c7b9e3ae1745');\n",
       "var x = new MutationObserver(function (mutations, observer) {{\n",
       "        var display = window.getComputedStyle(gd).display;\n",
       "        if (!display || display === 'none') {{\n",
       "            console.log([gd, 'removed!']);\n",
       "            Plotly.purge(gd);\n",
       "            observer.disconnect();\n",
       "        }}\n",
       "}});\n",
       "\n",
       "// Listen for the removal of the full notebook cells\n",
       "var notebookContainer = gd.closest('#notebook-container');\n",
       "if (notebookContainer) {{\n",
       "    x.observe(notebookContainer, {childList: true});\n",
       "}}\n",
       "\n",
       "// Listen for the clearing of the current output cell\n",
       "var outputEl = gd.closest('.output');\n",
       "if (outputEl) {{\n",
       "    x.observe(outputEl, {childList: true});\n",
       "}}\n",
       "\n",
       "                        })                };                });            </script>        </div>"
      ]
     },
     "metadata": {},
     "output_type": "display_data"
    }
   ],
   "source": [
    "dataset = 'sbic'\n",
    "print(len(scores[dataset]['hegsplits']['with_special'].loc['f1-score', 'True']))\n",
    "f1s = {}\n",
    "for split in ['no_special', 'with_special']:\n",
    "    f1s[split] = scores[dataset]['hegsplits'][split].loc['f1-score', 'True']\n",
    "    # print(f1s[split])\n",
    "\n",
    "# Boxplot of hegsplits vs controlsplits\n",
    "\n",
    "f1_df = pd.concat([f1s['no_special'], f1s['with_special']], keys=['no_special', 'with_special'], names=['split', 'old_index']).reset_index(level='split').reset_index(drop=True).rename(columns={'True': 'f1'})\n",
    "\n",
    "import plotly.express as px\n",
    "\n",
    "px.box(f1_df, x='split', y='f1')"
   ]
  },
  {
   "cell_type": "code",
   "execution_count": 26,
   "id": "2d34aa2d-84a4-4338-903e-49d1f33a49b3",
   "metadata": {},
   "outputs": [
    {
     "data": {
      "text/plain": [
       "Ttest_relResult(statistic=0.9127665141299659, pvalue=0.3851636981254888)"
      ]
     },
     "execution_count": 26,
     "metadata": {},
     "output_type": "execute_result"
    }
   ],
   "source": [
    "from scipy.stats import ttest_rel\n",
    "ttest_rel(f1s['no_special'], f1s['with_special'])"
   ]
  },
  {
   "cell_type": "markdown",
   "id": "8b780942-2e97-414c-be16-14fc4af3eb97",
   "metadata": {
    "tags": []
   },
   "source": [
    "## Between classifiers"
   ]
  },
  {
   "cell_type": "code",
   "execution_count": 28,
   "id": "d36abd1f-3fe2-43a9-8237-ac2643318e68",
   "metadata": {
    "scrolled": true,
    "tags": []
   },
   "outputs": [
    {
     "data": {
      "application/vnd.plotly.v1+json": {
       "config": {
        "plotlyServerURL": "https://plot.ly"
       },
       "data": [
        {
         "alignmentgroup": "True",
         "hovertemplate": "clf=bert<br>dataset=%{x}<br>f1=%{y}<extra></extra>",
         "legendgroup": "bert",
         "marker": {
          "color": "#636efa",
          "pattern": {
           "shape": ""
          }
         },
         "name": "bert",
         "offsetgroup": "bert",
         "orientation": "v",
         "showlegend": true,
         "textposition": "auto",
         "type": "bar",
         "x": [
          "elsherief2021",
          "kennedy2020",
          "salminen2018",
          "sbic",
          "cad"
         ],
         "xaxis": "x",
         "y": [
          0.5031862502827474,
          0.566401087082917,
          0.6116564575194126,
          0.6469395607796734,
          0.5342458627040954
         ],
         "yaxis": "y"
        },
        {
         "alignmentgroup": "True",
         "hovertemplate": "clf=lr<br>dataset=%{x}<br>f1=%{y}<extra></extra>",
         "legendgroup": "lr",
         "marker": {
          "color": "#EF553B",
          "pattern": {
           "shape": ""
          }
         },
         "name": "lr",
         "offsetgroup": "lr",
         "orientation": "v",
         "showlegend": true,
         "textposition": "auto",
         "type": "bar",
         "x": [
          "elsherief2021",
          "kennedy2020",
          "salminen2018",
          "sbic",
          "cad",
          "hatexplain",
          "civilcomments"
         ],
         "xaxis": "x",
         "y": [
          0.4049282157370125,
          0.5175986098216508,
          0.6999035110787635,
          0.6160752313474428,
          0.4484583854836074,
          0.5999645672807644,
          0.769188443083864
         ],
         "yaxis": "y"
        },
        {
         "alignmentgroup": "True",
         "hovertemplate": "clf=rf_lab<br>dataset=%{x}<br>f1=%{y}<extra></extra>",
         "legendgroup": "rf_lab",
         "marker": {
          "color": "#00cc96",
          "pattern": {
           "shape": ""
          }
         },
         "name": "rf_lab",
         "offsetgroup": "rf_lab",
         "orientation": "v",
         "showlegend": true,
         "textposition": "auto",
         "type": "bar",
         "x": [
          "elsherief2021",
          "cad",
          "kennedy2020",
          "hatexplain"
         ],
         "xaxis": "x",
         "y": [
          0.313744699619227,
          0.4558554559540766,
          0.5012390196495315,
          0.5076389386851425
         ],
         "yaxis": "y"
        }
       ],
       "layout": {
        "autosize": true,
        "barmode": "group",
        "legend": {
         "title": {
          "text": "clf"
         },
         "tracegroupgap": 0,
         "x": 0.8,
         "xanchor": "left",
         "y": 1.6,
         "yanchor": "top"
        },
        "template": {
         "data": {
          "bar": [
           {
            "error_x": {
             "color": "#2a3f5f"
            },
            "error_y": {
             "color": "#2a3f5f"
            },
            "marker": {
             "line": {
              "color": "#E5ECF6",
              "width": 0.5
             },
             "pattern": {
              "fillmode": "overlay",
              "size": 10,
              "solidity": 0.2
             }
            },
            "type": "bar"
           }
          ],
          "barpolar": [
           {
            "marker": {
             "line": {
              "color": "#E5ECF6",
              "width": 0.5
             },
             "pattern": {
              "fillmode": "overlay",
              "size": 10,
              "solidity": 0.2
             }
            },
            "type": "barpolar"
           }
          ],
          "carpet": [
           {
            "aaxis": {
             "endlinecolor": "#2a3f5f",
             "gridcolor": "white",
             "linecolor": "white",
             "minorgridcolor": "white",
             "startlinecolor": "#2a3f5f"
            },
            "baxis": {
             "endlinecolor": "#2a3f5f",
             "gridcolor": "white",
             "linecolor": "white",
             "minorgridcolor": "white",
             "startlinecolor": "#2a3f5f"
            },
            "type": "carpet"
           }
          ],
          "choropleth": [
           {
            "colorbar": {
             "outlinewidth": 0,
             "ticks": ""
            },
            "type": "choropleth"
           }
          ],
          "contour": [
           {
            "colorbar": {
             "outlinewidth": 0,
             "ticks": ""
            },
            "colorscale": [
             [
              0,
              "#0d0887"
             ],
             [
              0.1111111111111111,
              "#46039f"
             ],
             [
              0.2222222222222222,
              "#7201a8"
             ],
             [
              0.3333333333333333,
              "#9c179e"
             ],
             [
              0.4444444444444444,
              "#bd3786"
             ],
             [
              0.5555555555555556,
              "#d8576b"
             ],
             [
              0.6666666666666666,
              "#ed7953"
             ],
             [
              0.7777777777777778,
              "#fb9f3a"
             ],
             [
              0.8888888888888888,
              "#fdca26"
             ],
             [
              1,
              "#f0f921"
             ]
            ],
            "type": "contour"
           }
          ],
          "contourcarpet": [
           {
            "colorbar": {
             "outlinewidth": 0,
             "ticks": ""
            },
            "type": "contourcarpet"
           }
          ],
          "heatmap": [
           {
            "colorbar": {
             "outlinewidth": 0,
             "ticks": ""
            },
            "colorscale": [
             [
              0,
              "#0d0887"
             ],
             [
              0.1111111111111111,
              "#46039f"
             ],
             [
              0.2222222222222222,
              "#7201a8"
             ],
             [
              0.3333333333333333,
              "#9c179e"
             ],
             [
              0.4444444444444444,
              "#bd3786"
             ],
             [
              0.5555555555555556,
              "#d8576b"
             ],
             [
              0.6666666666666666,
              "#ed7953"
             ],
             [
              0.7777777777777778,
              "#fb9f3a"
             ],
             [
              0.8888888888888888,
              "#fdca26"
             ],
             [
              1,
              "#f0f921"
             ]
            ],
            "type": "heatmap"
           }
          ],
          "heatmapgl": [
           {
            "colorbar": {
             "outlinewidth": 0,
             "ticks": ""
            },
            "colorscale": [
             [
              0,
              "#0d0887"
             ],
             [
              0.1111111111111111,
              "#46039f"
             ],
             [
              0.2222222222222222,
              "#7201a8"
             ],
             [
              0.3333333333333333,
              "#9c179e"
             ],
             [
              0.4444444444444444,
              "#bd3786"
             ],
             [
              0.5555555555555556,
              "#d8576b"
             ],
             [
              0.6666666666666666,
              "#ed7953"
             ],
             [
              0.7777777777777778,
              "#fb9f3a"
             ],
             [
              0.8888888888888888,
              "#fdca26"
             ],
             [
              1,
              "#f0f921"
             ]
            ],
            "type": "heatmapgl"
           }
          ],
          "histogram": [
           {
            "marker": {
             "pattern": {
              "fillmode": "overlay",
              "size": 10,
              "solidity": 0.2
             }
            },
            "type": "histogram"
           }
          ],
          "histogram2d": [
           {
            "colorbar": {
             "outlinewidth": 0,
             "ticks": ""
            },
            "colorscale": [
             [
              0,
              "#0d0887"
             ],
             [
              0.1111111111111111,
              "#46039f"
             ],
             [
              0.2222222222222222,
              "#7201a8"
             ],
             [
              0.3333333333333333,
              "#9c179e"
             ],
             [
              0.4444444444444444,
              "#bd3786"
             ],
             [
              0.5555555555555556,
              "#d8576b"
             ],
             [
              0.6666666666666666,
              "#ed7953"
             ],
             [
              0.7777777777777778,
              "#fb9f3a"
             ],
             [
              0.8888888888888888,
              "#fdca26"
             ],
             [
              1,
              "#f0f921"
             ]
            ],
            "type": "histogram2d"
           }
          ],
          "histogram2dcontour": [
           {
            "colorbar": {
             "outlinewidth": 0,
             "ticks": ""
            },
            "colorscale": [
             [
              0,
              "#0d0887"
             ],
             [
              0.1111111111111111,
              "#46039f"
             ],
             [
              0.2222222222222222,
              "#7201a8"
             ],
             [
              0.3333333333333333,
              "#9c179e"
             ],
             [
              0.4444444444444444,
              "#bd3786"
             ],
             [
              0.5555555555555556,
              "#d8576b"
             ],
             [
              0.6666666666666666,
              "#ed7953"
             ],
             [
              0.7777777777777778,
              "#fb9f3a"
             ],
             [
              0.8888888888888888,
              "#fdca26"
             ],
             [
              1,
              "#f0f921"
             ]
            ],
            "type": "histogram2dcontour"
           }
          ],
          "mesh3d": [
           {
            "colorbar": {
             "outlinewidth": 0,
             "ticks": ""
            },
            "type": "mesh3d"
           }
          ],
          "parcoords": [
           {
            "line": {
             "colorbar": {
              "outlinewidth": 0,
              "ticks": ""
             }
            },
            "type": "parcoords"
           }
          ],
          "pie": [
           {
            "automargin": true,
            "type": "pie"
           }
          ],
          "scatter": [
           {
            "marker": {
             "colorbar": {
              "outlinewidth": 0,
              "ticks": ""
             }
            },
            "type": "scatter"
           }
          ],
          "scatter3d": [
           {
            "line": {
             "colorbar": {
              "outlinewidth": 0,
              "ticks": ""
             }
            },
            "marker": {
             "colorbar": {
              "outlinewidth": 0,
              "ticks": ""
             }
            },
            "type": "scatter3d"
           }
          ],
          "scattercarpet": [
           {
            "marker": {
             "colorbar": {
              "outlinewidth": 0,
              "ticks": ""
             }
            },
            "type": "scattercarpet"
           }
          ],
          "scattergeo": [
           {
            "marker": {
             "colorbar": {
              "outlinewidth": 0,
              "ticks": ""
             }
            },
            "type": "scattergeo"
           }
          ],
          "scattergl": [
           {
            "marker": {
             "colorbar": {
              "outlinewidth": 0,
              "ticks": ""
             }
            },
            "type": "scattergl"
           }
          ],
          "scattermapbox": [
           {
            "marker": {
             "colorbar": {
              "outlinewidth": 0,
              "ticks": ""
             }
            },
            "type": "scattermapbox"
           }
          ],
          "scatterpolar": [
           {
            "marker": {
             "colorbar": {
              "outlinewidth": 0,
              "ticks": ""
             }
            },
            "type": "scatterpolar"
           }
          ],
          "scatterpolargl": [
           {
            "marker": {
             "colorbar": {
              "outlinewidth": 0,
              "ticks": ""
             }
            },
            "type": "scatterpolargl"
           }
          ],
          "scatterternary": [
           {
            "marker": {
             "colorbar": {
              "outlinewidth": 0,
              "ticks": ""
             }
            },
            "type": "scatterternary"
           }
          ],
          "surface": [
           {
            "colorbar": {
             "outlinewidth": 0,
             "ticks": ""
            },
            "colorscale": [
             [
              0,
              "#0d0887"
             ],
             [
              0.1111111111111111,
              "#46039f"
             ],
             [
              0.2222222222222222,
              "#7201a8"
             ],
             [
              0.3333333333333333,
              "#9c179e"
             ],
             [
              0.4444444444444444,
              "#bd3786"
             ],
             [
              0.5555555555555556,
              "#d8576b"
             ],
             [
              0.6666666666666666,
              "#ed7953"
             ],
             [
              0.7777777777777778,
              "#fb9f3a"
             ],
             [
              0.8888888888888888,
              "#fdca26"
             ],
             [
              1,
              "#f0f921"
             ]
            ],
            "type": "surface"
           }
          ],
          "table": [
           {
            "cells": {
             "fill": {
              "color": "#EBF0F8"
             },
             "line": {
              "color": "white"
             }
            },
            "header": {
             "fill": {
              "color": "#C8D4E3"
             },
             "line": {
              "color": "white"
             }
            },
            "type": "table"
           }
          ]
         },
         "layout": {
          "annotationdefaults": {
           "arrowcolor": "#2a3f5f",
           "arrowhead": 0,
           "arrowwidth": 1
          },
          "autotypenumbers": "strict",
          "coloraxis": {
           "colorbar": {
            "outlinewidth": 0,
            "ticks": ""
           }
          },
          "colorscale": {
           "diverging": [
            [
             0,
             "#8e0152"
            ],
            [
             0.1,
             "#c51b7d"
            ],
            [
             0.2,
             "#de77ae"
            ],
            [
             0.3,
             "#f1b6da"
            ],
            [
             0.4,
             "#fde0ef"
            ],
            [
             0.5,
             "#f7f7f7"
            ],
            [
             0.6,
             "#e6f5d0"
            ],
            [
             0.7,
             "#b8e186"
            ],
            [
             0.8,
             "#7fbc41"
            ],
            [
             0.9,
             "#4d9221"
            ],
            [
             1,
             "#276419"
            ]
           ],
           "sequential": [
            [
             0,
             "#0d0887"
            ],
            [
             0.1111111111111111,
             "#46039f"
            ],
            [
             0.2222222222222222,
             "#7201a8"
            ],
            [
             0.3333333333333333,
             "#9c179e"
            ],
            [
             0.4444444444444444,
             "#bd3786"
            ],
            [
             0.5555555555555556,
             "#d8576b"
            ],
            [
             0.6666666666666666,
             "#ed7953"
            ],
            [
             0.7777777777777778,
             "#fb9f3a"
            ],
            [
             0.8888888888888888,
             "#fdca26"
            ],
            [
             1,
             "#f0f921"
            ]
           ],
           "sequentialminus": [
            [
             0,
             "#0d0887"
            ],
            [
             0.1111111111111111,
             "#46039f"
            ],
            [
             0.2222222222222222,
             "#7201a8"
            ],
            [
             0.3333333333333333,
             "#9c179e"
            ],
            [
             0.4444444444444444,
             "#bd3786"
            ],
            [
             0.5555555555555556,
             "#d8576b"
            ],
            [
             0.6666666666666666,
             "#ed7953"
            ],
            [
             0.7777777777777778,
             "#fb9f3a"
            ],
            [
             0.8888888888888888,
             "#fdca26"
            ],
            [
             1,
             "#f0f921"
            ]
           ]
          },
          "colorway": [
           "#636efa",
           "#EF553B",
           "#00cc96",
           "#ab63fa",
           "#FFA15A",
           "#19d3f3",
           "#FF6692",
           "#B6E880",
           "#FF97FF",
           "#FECB52"
          ],
          "font": {
           "color": "#2a3f5f"
          },
          "geo": {
           "bgcolor": "white",
           "lakecolor": "white",
           "landcolor": "#E5ECF6",
           "showlakes": true,
           "showland": true,
           "subunitcolor": "white"
          },
          "hoverlabel": {
           "align": "left"
          },
          "hovermode": "closest",
          "mapbox": {
           "style": "light"
          },
          "paper_bgcolor": "white",
          "plot_bgcolor": "#E5ECF6",
          "polar": {
           "angularaxis": {
            "gridcolor": "white",
            "linecolor": "white",
            "ticks": ""
           },
           "bgcolor": "#E5ECF6",
           "radialaxis": {
            "gridcolor": "white",
            "linecolor": "white",
            "ticks": ""
           }
          },
          "scene": {
           "xaxis": {
            "backgroundcolor": "#E5ECF6",
            "gridcolor": "white",
            "gridwidth": 2,
            "linecolor": "white",
            "showbackground": true,
            "ticks": "",
            "zerolinecolor": "white"
           },
           "yaxis": {
            "backgroundcolor": "#E5ECF6",
            "gridcolor": "white",
            "gridwidth": 2,
            "linecolor": "white",
            "showbackground": true,
            "ticks": "",
            "zerolinecolor": "white"
           },
           "zaxis": {
            "backgroundcolor": "#E5ECF6",
            "gridcolor": "white",
            "gridwidth": 2,
            "linecolor": "white",
            "showbackground": true,
            "ticks": "",
            "zerolinecolor": "white"
           }
          },
          "shapedefaults": {
           "line": {
            "color": "#2a3f5f"
           }
          },
          "ternary": {
           "aaxis": {
            "gridcolor": "white",
            "linecolor": "white",
            "ticks": ""
           },
           "baxis": {
            "gridcolor": "white",
            "linecolor": "white",
            "ticks": ""
           },
           "bgcolor": "#E5ECF6",
           "caxis": {
            "gridcolor": "white",
            "linecolor": "white",
            "ticks": ""
           }
          },
          "title": {
           "x": 0.05
          },
          "xaxis": {
           "automargin": true,
           "gridcolor": "white",
           "linecolor": "white",
           "ticks": "",
           "title": {
            "standoff": 15
           },
           "zerolinecolor": "white",
           "zerolinewidth": 2
          },
          "yaxis": {
           "automargin": true,
           "gridcolor": "white",
           "linecolor": "white",
           "ticks": "",
           "title": {
            "standoff": 15
           },
           "zerolinecolor": "white",
           "zerolinewidth": 2
          }
         }
        },
        "title": {
         "text": "Performance across classifiers on with_dominant"
        },
        "xaxis": {
         "anchor": "y",
         "autorange": true,
         "domain": [
          0,
          1
         ],
         "range": [
          -0.5,
          6.5
         ],
         "title": {
          "text": "dataset"
         },
         "type": "category"
        },
        "yaxis": {
         "anchor": "x",
         "autorange": true,
         "domain": [
          0,
          1
         ],
         "range": [
          0,
          0.8096720453514358
         ],
         "title": {
          "text": "f1"
         },
         "type": "linear"
        }
       }
      },
      "image/png": "[encoded data removed]",
      "text/html": [
       "<div>                            <div id=\"e5703b0e-5b02-4429-8838-b7f561de2754\" class=\"plotly-graph-div\" style=\"height:525px; width:100%;\"></div>            <script type=\"text/javascript\">                require([\"plotly\"], function(Plotly) {                    window.PLOTLYENV=window.PLOTLYENV || {};                                    if (document.getElementById(\"e5703b0e-5b02-4429-8838-b7f561de2754\")) {                    Plotly.newPlot(                        \"e5703b0e-5b02-4429-8838-b7f561de2754\",                        [{\"alignmentgroup\":\"True\",\"hovertemplate\":\"clf=bert<br>dataset=%{x}<br>f1=%{y}<extra></extra>\",\"legendgroup\":\"bert\",\"marker\":{\"color\":\"#636efa\",\"pattern\":{\"shape\":\"\"}},\"name\":\"bert\",\"offsetgroup\":\"bert\",\"orientation\":\"v\",\"showlegend\":true,\"textposition\":\"auto\",\"x\":[\"elsherief2021\",\"kennedy2020\",\"salminen2018\",\"sbic\",\"cad\"],\"xaxis\":\"x\",\"y\":[0.5031862502827474,0.566401087082917,0.6116564575194126,0.6469395607796734,0.5342458627040954],\"yaxis\":\"y\",\"type\":\"bar\"},{\"alignmentgroup\":\"True\",\"hovertemplate\":\"clf=lr<br>dataset=%{x}<br>f1=%{y}<extra></extra>\",\"legendgroup\":\"lr\",\"marker\":{\"color\":\"#EF553B\",\"pattern\":{\"shape\":\"\"}},\"name\":\"lr\",\"offsetgroup\":\"lr\",\"orientation\":\"v\",\"showlegend\":true,\"textposition\":\"auto\",\"x\":[\"elsherief2021\",\"kennedy2020\",\"salminen2018\",\"sbic\",\"cad\",\"hatexplain\",\"civilcomments\"],\"xaxis\":\"x\",\"y\":[0.4049282157370125,0.5175986098216508,0.6999035110787635,0.6160752313474428,0.4484583854836074,0.5999645672807644,0.769188443083864],\"yaxis\":\"y\",\"type\":\"bar\"},{\"alignmentgroup\":\"True\",\"hovertemplate\":\"clf=rf_lab<br>dataset=%{x}<br>f1=%{y}<extra></extra>\",\"legendgroup\":\"rf_lab\",\"marker\":{\"color\":\"#00cc96\",\"pattern\":{\"shape\":\"\"}},\"name\":\"rf_lab\",\"offsetgroup\":\"rf_lab\",\"orientation\":\"v\",\"showlegend\":true,\"textposition\":\"auto\",\"x\":[\"elsherief2021\",\"cad\",\"kennedy2020\",\"hatexplain\"],\"xaxis\":\"x\",\"y\":[0.313744699619227,0.4558554559540766,0.5012390196495315,0.5076389386851425],\"yaxis\":\"y\",\"type\":\"bar\"}],                        {\"template\":{\"data\":{\"bar\":[{\"error_x\":{\"color\":\"#2a3f5f\"},\"error_y\":{\"color\":\"#2a3f5f\"},\"marker\":{\"line\":{\"color\":\"#E5ECF6\",\"width\":0.5},\"pattern\":{\"fillmode\":\"overlay\",\"size\":10,\"solidity\":0.2}},\"type\":\"bar\"}],\"barpolar\":[{\"marker\":{\"line\":{\"color\":\"#E5ECF6\",\"width\":0.5},\"pattern\":{\"fillmode\":\"overlay\",\"size\":10,\"solidity\":0.2}},\"type\":\"barpolar\"}],\"carpet\":[{\"aaxis\":{\"endlinecolor\":\"#2a3f5f\",\"gridcolor\":\"white\",\"linecolor\":\"white\",\"minorgridcolor\":\"white\",\"startlinecolor\":\"#2a3f5f\"},\"baxis\":{\"endlinecolor\":\"#2a3f5f\",\"gridcolor\":\"white\",\"linecolor\":\"white\",\"minorgridcolor\":\"white\",\"startlinecolor\":\"#2a3f5f\"},\"type\":\"carpet\"}],\"choropleth\":[{\"colorbar\":{\"outlinewidth\":0,\"ticks\":\"\"},\"type\":\"choropleth\"}],\"contour\":[{\"colorbar\":{\"outlinewidth\":0,\"ticks\":\"\"},\"colorscale\":[[0.0,\"#0d0887\"],[0.1111111111111111,\"#46039f\"],[0.2222222222222222,\"#7201a8\"],[0.3333333333333333,\"#9c179e\"],[0.4444444444444444,\"#bd3786\"],[0.5555555555555556,\"#d8576b\"],[0.6666666666666666,\"#ed7953\"],[0.7777777777777778,\"#fb9f3a\"],[0.8888888888888888,\"#fdca26\"],[1.0,\"#f0f921\"]],\"type\":\"contour\"}],\"contourcarpet\":[{\"colorbar\":{\"outlinewidth\":0,\"ticks\":\"\"},\"type\":\"contourcarpet\"}],\"heatmap\":[{\"colorbar\":{\"outlinewidth\":0,\"ticks\":\"\"},\"colorscale\":[[0.0,\"#0d0887\"],[0.1111111111111111,\"#46039f\"],[0.2222222222222222,\"#7201a8\"],[0.3333333333333333,\"#9c179e\"],[0.4444444444444444,\"#bd3786\"],[0.5555555555555556,\"#d8576b\"],[0.6666666666666666,\"#ed7953\"],[0.7777777777777778,\"#fb9f3a\"],[0.8888888888888888,\"#fdca26\"],[1.0,\"#f0f921\"]],\"type\":\"heatmap\"}],\"heatmapgl\":[{\"colorbar\":{\"outlinewidth\":0,\"ticks\":\"\"},\"colorscale\":[[0.0,\"#0d0887\"],[0.1111111111111111,\"#46039f\"],[0.2222222222222222,\"#7201a8\"],[0.3333333333333333,\"#9c179e\"],[0.4444444444444444,\"#bd3786\"],[0.5555555555555556,\"#d8576b\"],[0.6666666666666666,\"#ed7953\"],[0.7777777777777778,\"#fb9f3a\"],[0.8888888888888888,\"#fdca26\"],[1.0,\"#f0f921\"]],\"type\":\"heatmapgl\"}],\"histogram\":[{\"marker\":{\"pattern\":{\"fillmode\":\"overlay\",\"size\":10,\"solidity\":0.2}},\"type\":\"histogram\"}],\"histogram2d\":[{\"colorbar\":{\"outlinewidth\":0,\"ticks\":\"\"},\"colorscale\":[[0.0,\"#0d0887\"],[0.1111111111111111,\"#46039f\"],[0.2222222222222222,\"#7201a8\"],[0.3333333333333333,\"#9c179e\"],[0.4444444444444444,\"#bd3786\"],[0.5555555555555556,\"#d8576b\"],[0.6666666666666666,\"#ed7953\"],[0.7777777777777778,\"#fb9f3a\"],[0.8888888888888888,\"#fdca26\"],[1.0,\"#f0f921\"]],\"type\":\"histogram2d\"}],\"histogram2dcontour\":[{\"colorbar\":{\"outlinewidth\":0,\"ticks\":\"\"},\"colorscale\":[[0.0,\"#0d0887\"],[0.1111111111111111,\"#46039f\"],[0.2222222222222222,\"#7201a8\"],[0.3333333333333333,\"#9c179e\"],[0.4444444444444444,\"#bd3786\"],[0.5555555555555556,\"#d8576b\"],[0.6666666666666666,\"#ed7953\"],[0.7777777777777778,\"#fb9f3a\"],[0.8888888888888888,\"#fdca26\"],[1.0,\"#f0f921\"]],\"type\":\"histogram2dcontour\"}],\"mesh3d\":[{\"colorbar\":{\"outlinewidth\":0,\"ticks\":\"\"},\"type\":\"mesh3d\"}],\"parcoords\":[{\"line\":{\"colorbar\":{\"outlinewidth\":0,\"ticks\":\"\"}},\"type\":\"parcoords\"}],\"pie\":[{\"automargin\":true,\"type\":\"pie\"}],\"scatter\":[{\"marker\":{\"colorbar\":{\"outlinewidth\":0,\"ticks\":\"\"}},\"type\":\"scatter\"}],\"scatter3d\":[{\"line\":{\"colorbar\":{\"outlinewidth\":0,\"ticks\":\"\"}},\"marker\":{\"colorbar\":{\"outlinewidth\":0,\"ticks\":\"\"}},\"type\":\"scatter3d\"}],\"scattercarpet\":[{\"marker\":{\"colorbar\":{\"outlinewidth\":0,\"ticks\":\"\"}},\"type\":\"scattercarpet\"}],\"scattergeo\":[{\"marker\":{\"colorbar\":{\"outlinewidth\":0,\"ticks\":\"\"}},\"type\":\"scattergeo\"}],\"scattergl\":[{\"marker\":{\"colorbar\":{\"outlinewidth\":0,\"ticks\":\"\"}},\"type\":\"scattergl\"}],\"scattermapbox\":[{\"marker\":{\"colorbar\":{\"outlinewidth\":0,\"ticks\":\"\"}},\"type\":\"scattermapbox\"}],\"scatterpolar\":[{\"marker\":{\"colorbar\":{\"outlinewidth\":0,\"ticks\":\"\"}},\"type\":\"scatterpolar\"}],\"scatterpolargl\":[{\"marker\":{\"colorbar\":{\"outlinewidth\":0,\"ticks\":\"\"}},\"type\":\"scatterpolargl\"}],\"scatterternary\":[{\"marker\":{\"colorbar\":{\"outlinewidth\":0,\"ticks\":\"\"}},\"type\":\"scatterternary\"}],\"surface\":[{\"colorbar\":{\"outlinewidth\":0,\"ticks\":\"\"},\"colorscale\":[[0.0,\"#0d0887\"],[0.1111111111111111,\"#46039f\"],[0.2222222222222222,\"#7201a8\"],[0.3333333333333333,\"#9c179e\"],[0.4444444444444444,\"#bd3786\"],[0.5555555555555556,\"#d8576b\"],[0.6666666666666666,\"#ed7953\"],[0.7777777777777778,\"#fb9f3a\"],[0.8888888888888888,\"#fdca26\"],[1.0,\"#f0f921\"]],\"type\":\"surface\"}],\"table\":[{\"cells\":{\"fill\":{\"color\":\"#EBF0F8\"},\"line\":{\"color\":\"white\"}},\"header\":{\"fill\":{\"color\":\"#C8D4E3\"},\"line\":{\"color\":\"white\"}},\"type\":\"table\"}]},\"layout\":{\"annotationdefaults\":{\"arrowcolor\":\"#2a3f5f\",\"arrowhead\":0,\"arrowwidth\":1},\"autotypenumbers\":\"strict\",\"coloraxis\":{\"colorbar\":{\"outlinewidth\":0,\"ticks\":\"\"}},\"colorscale\":{\"diverging\":[[0,\"#8e0152\"],[0.1,\"#c51b7d\"],[0.2,\"#de77ae\"],[0.3,\"#f1b6da\"],[0.4,\"#fde0ef\"],[0.5,\"#f7f7f7\"],[0.6,\"#e6f5d0\"],[0.7,\"#b8e186\"],[0.8,\"#7fbc41\"],[0.9,\"#4d9221\"],[1,\"#276419\"]],\"sequential\":[[0.0,\"#0d0887\"],[0.1111111111111111,\"#46039f\"],[0.2222222222222222,\"#7201a8\"],[0.3333333333333333,\"#9c179e\"],[0.4444444444444444,\"#bd3786\"],[0.5555555555555556,\"#d8576b\"],[0.6666666666666666,\"#ed7953\"],[0.7777777777777778,\"#fb9f3a\"],[0.8888888888888888,\"#fdca26\"],[1.0,\"#f0f921\"]],\"sequentialminus\":[[0.0,\"#0d0887\"],[0.1111111111111111,\"#46039f\"],[0.2222222222222222,\"#7201a8\"],[0.3333333333333333,\"#9c179e\"],[0.4444444444444444,\"#bd3786\"],[0.5555555555555556,\"#d8576b\"],[0.6666666666666666,\"#ed7953\"],[0.7777777777777778,\"#fb9f3a\"],[0.8888888888888888,\"#fdca26\"],[1.0,\"#f0f921\"]]},\"colorway\":[\"#636efa\",\"#EF553B\",\"#00cc96\",\"#ab63fa\",\"#FFA15A\",\"#19d3f3\",\"#FF6692\",\"#B6E880\",\"#FF97FF\",\"#FECB52\"],\"font\":{\"color\":\"#2a3f5f\"},\"geo\":{\"bgcolor\":\"white\",\"lakecolor\":\"white\",\"landcolor\":\"#E5ECF6\",\"showlakes\":true,\"showland\":true,\"subunitcolor\":\"white\"},\"hoverlabel\":{\"align\":\"left\"},\"hovermode\":\"closest\",\"mapbox\":{\"style\":\"light\"},\"paper_bgcolor\":\"white\",\"plot_bgcolor\":\"#E5ECF6\",\"polar\":{\"angularaxis\":{\"gridcolor\":\"white\",\"linecolor\":\"white\",\"ticks\":\"\"},\"bgcolor\":\"#E5ECF6\",\"radialaxis\":{\"gridcolor\":\"white\",\"linecolor\":\"white\",\"ticks\":\"\"}},\"scene\":{\"xaxis\":{\"backgroundcolor\":\"#E5ECF6\",\"gridcolor\":\"white\",\"gridwidth\":2,\"linecolor\":\"white\",\"showbackground\":true,\"ticks\":\"\",\"zerolinecolor\":\"white\"},\"yaxis\":{\"backgroundcolor\":\"#E5ECF6\",\"gridcolor\":\"white\",\"gridwidth\":2,\"linecolor\":\"white\",\"showbackground\":true,\"ticks\":\"\",\"zerolinecolor\":\"white\"},\"zaxis\":{\"backgroundcolor\":\"#E5ECF6\",\"gridcolor\":\"white\",\"gridwidth\":2,\"linecolor\":\"white\",\"showbackground\":true,\"ticks\":\"\",\"zerolinecolor\":\"white\"}},\"shapedefaults\":{\"line\":{\"color\":\"#2a3f5f\"}},\"ternary\":{\"aaxis\":{\"gridcolor\":\"white\",\"linecolor\":\"white\",\"ticks\":\"\"},\"baxis\":{\"gridcolor\":\"white\",\"linecolor\":\"white\",\"ticks\":\"\"},\"bgcolor\":\"#E5ECF6\",\"caxis\":{\"gridcolor\":\"white\",\"linecolor\":\"white\",\"ticks\":\"\"}},\"title\":{\"x\":0.05},\"xaxis\":{\"automargin\":true,\"gridcolor\":\"white\",\"linecolor\":\"white\",\"ticks\":\"\",\"title\":{\"standoff\":15},\"zerolinecolor\":\"white\",\"zerolinewidth\":2},\"yaxis\":{\"automargin\":true,\"gridcolor\":\"white\",\"linecolor\":\"white\",\"ticks\":\"\",\"title\":{\"standoff\":15},\"zerolinecolor\":\"white\",\"zerolinewidth\":2}}},\"xaxis\":{\"anchor\":\"y\",\"domain\":[0.0,1.0],\"title\":{\"text\":\"dataset\"}},\"yaxis\":{\"anchor\":\"x\",\"domain\":[0.0,1.0],\"title\":{\"text\":\"f1\"}},\"legend\":{\"title\":{\"text\":\"clf\"},\"tracegroupgap\":0,\"yanchor\":\"top\",\"y\":1.6,\"xanchor\":\"left\",\"x\":0.8},\"title\":{\"text\":\"Performance across classifiers on with_dominant\"},\"barmode\":\"group\"},                        {\"responsive\": true}                    ).then(function(){\n",
       "                            \n",
       "var gd = document.getElementById('e5703b0e-5b02-4429-8838-b7f561de2754');\n",
       "var x = new MutationObserver(function (mutations, observer) {{\n",
       "        var display = window.getComputedStyle(gd).display;\n",
       "        if (!display || display === 'none') {{\n",
       "            console.log([gd, 'removed!']);\n",
       "            Plotly.purge(gd);\n",
       "            observer.disconnect();\n",
       "        }}\n",
       "}});\n",
       "\n",
       "// Listen for the removal of the full notebook cells\n",
       "var notebookContainer = gd.closest('#notebook-container');\n",
       "if (notebookContainer) {{\n",
       "    x.observe(notebookContainer, {childList: true});\n",
       "}}\n",
       "\n",
       "// Listen for the clearing of the current output cell\n",
       "var outputEl = gd.closest('.output');\n",
       "if (outputEl) {{\n",
       "    x.observe(outputEl, {childList: true});\n",
       "}}\n",
       "\n",
       "                        })                };                });            </script>        </div>"
      ]
     },
     "metadata": {},
     "output_type": "display_data"
    }
   ],
   "source": [
    "import os\n",
    "import pandas as pd\n",
    "import plotly.express as px\n",
    "from IPython.display import display\n",
    "\n",
    "clfs = [('bert', 5), ('lr', 5), ('rf_lab', 1)] # (clf_name, cv_runs)\n",
    "# base_dirpath = '/storage2/mamille3/hegemonic_hate'\n",
    "base_dirpath = '/home/mamille3/hegemonic_hate/output'\n",
    "\n",
    "titles = {'hegsplits': 'With_dominant vs no_dominant',\n",
    "          'controlsplits': 'With_control vs no_control'}\n",
    "scores_dict = {}\n",
    "# for splits in ['hegsplits', 'controlsplits']:\n",
    "for clf_name, cv_runs in clfs:\n",
    "    for splits in ['hegsplits']:\n",
    "\n",
    "        name = os.path.join(base_dirpath, f'{clf_name}_{cv_runs}x2cv_f1.csv')\n",
    "\n",
    "        # Load scores\n",
    "        if clf_name == 'rf_lab':\n",
    "            dataset_scores = []\n",
    "            for dataset in ['elsherief2021', 'cad', 'kennedy2020', 'hatexplain']:\n",
    "                # scores_path = f'/storage2/mamille3/josh_hate_speech_classifier/output/perf_{dataset}_RF.csv'\n",
    "                scores_path = os.path.join(base_dirpath, f'perf_{dataset}_RF.csv')\n",
    "                scores = pd.read_csv(scores_path)\n",
    "                if not 'split' in scores.columns:\n",
    "                    scores['split'] = 'with_special'\n",
    "                if not 'splits' in scores.columns:\n",
    "                    scores['splits'] = 'hegsplits' # ran this on hegsplits\n",
    "                dataset_scores.append(scores[['dataset', 'splits', 'split', 'f1']])\n",
    "            f1s = pd.concat(dataset_scores)\n",
    "        else:\n",
    "            scores_path = name\n",
    "            f1s = pd.read_csv(scores_path, index_col=0)\n",
    "        if splits == 'hegsplits':\n",
    "            if 'splits' in f1s.columns:\n",
    "                f1s = f1s.query('splits == @splits')\n",
    "            f1s = f1s.replace('with_special', 'with_dominant').replace('no_special', 'no_dominant')\n",
    "        elif splits == 'controlsplits':\n",
    "            f1s = f1s.replace('with_special', 'with_control').replace('no_special', 'no_control')\n",
    "        f1s['clf'] = clf_name\n",
    "        scores_dict[(clf_name, cv_runs)] = f1s\n",
    "\n",
    "scores = pd.concat(scores_dict.values())\n",
    "scores\n",
    "\n",
    "# Plot\n",
    "selection = 'with_dominant'\n",
    "fig = px.bar(scores.query('split == @selection'), x='dataset', y='f1', color='clf', barmode='group', \n",
    "             title=f'Performance across classifiers on {selection}')\n",
    "fig.update_layout(legend=dict(\n",
    "    yanchor='top',\n",
    "    y=1.6,\n",
    "    xanchor='left',\n",
    "    x=0.8\n",
    "))\n",
    "fig.show()"
   ]
  },
  {
   "cell_type": "code",
   "execution_count": 9,
   "id": "c6e02682-073a-4219-a5c7-661de0b8894c",
   "metadata": {
    "scrolled": true,
    "tags": []
   },
   "outputs": [
    {
     "data": {
      "application/vnd.plotly.v1+json": {
       "config": {
        "plotlyServerURL": "https://plot.ly"
       },
       "data": [
        {
         "alignmentgroup": "True",
         "hovertemplate": "clf=bert<br>dataset=%{x}<br>f1=%{y}<extra></extra>",
         "legendgroup": "bert",
         "marker": {
          "color": "#636efa",
          "pattern": {
           "shape": ""
          }
         },
         "name": "bert",
         "offsetgroup": "bert",
         "orientation": "v",
         "showlegend": true,
         "textposition": "auto",
         "type": "bar",
         "x": [
          "elsherief2021",
          "kennedy2020",
          "salminen2018",
          "sbic",
          "cad",
          "hatexplain"
         ],
         "xaxis": "x",
         "y": [
          0.4786856866835365,
          0.5955035344534756,
          0.643192517131028,
          0.6541665649430322,
          0.5247926559892304,
          0.6430258347635057
         ],
         "yaxis": "y"
        },
        {
         "alignmentgroup": "True",
         "hovertemplate": "clf=lr<br>dataset=%{x}<br>f1=%{y}<extra></extra>",
         "legendgroup": "lr",
         "marker": {
          "color": "#EF553B",
          "pattern": {
           "shape": ""
          }
         },
         "name": "lr",
         "offsetgroup": "lr",
         "orientation": "v",
         "showlegend": true,
         "textposition": "auto",
         "type": "bar",
         "x": [
          "elsherief2021",
          "kennedy2020",
          "salminen2018",
          "sbic",
          "cad",
          "hatexplain",
          "civilcomments"
         ],
         "xaxis": "x",
         "y": [
          0.4117268795130948,
          0.5176272317318004,
          0.696631068829318,
          0.615483209689907,
          0.450901948109604,
          0.5998199471467924,
          0.7690014905671314
         ],
         "yaxis": "y"
        }
       ],
       "layout": {
        "autosize": true,
        "barmode": "group",
        "legend": {
         "title": {
          "text": "clf"
         },
         "tracegroupgap": 0,
         "x": 0.8,
         "xanchor": "left",
         "y": 1.4,
         "yanchor": "top"
        },
        "template": {
         "data": {
          "bar": [
           {
            "error_x": {
             "color": "#2a3f5f"
            },
            "error_y": {
             "color": "#2a3f5f"
            },
            "marker": {
             "line": {
              "color": "#E5ECF6",
              "width": 0.5
             },
             "pattern": {
              "fillmode": "overlay",
              "size": 10,
              "solidity": 0.2
             }
            },
            "type": "bar"
           }
          ],
          "barpolar": [
           {
            "marker": {
             "line": {
              "color": "#E5ECF6",
              "width": 0.5
             },
             "pattern": {
              "fillmode": "overlay",
              "size": 10,
              "solidity": 0.2
             }
            },
            "type": "barpolar"
           }
          ],
          "carpet": [
           {
            "aaxis": {
             "endlinecolor": "#2a3f5f",
             "gridcolor": "white",
             "linecolor": "white",
             "minorgridcolor": "white",
             "startlinecolor": "#2a3f5f"
            },
            "baxis": {
             "endlinecolor": "#2a3f5f",
             "gridcolor": "white",
             "linecolor": "white",
             "minorgridcolor": "white",
             "startlinecolor": "#2a3f5f"
            },
            "type": "carpet"
           }
          ],
          "choropleth": [
           {
            "colorbar": {
             "outlinewidth": 0,
             "ticks": ""
            },
            "type": "choropleth"
           }
          ],
          "contour": [
           {
            "colorbar": {
             "outlinewidth": 0,
             "ticks": ""
            },
            "colorscale": [
             [
              0,
              "#0d0887"
             ],
             [
              0.1111111111111111,
              "#46039f"
             ],
             [
              0.2222222222222222,
              "#7201a8"
             ],
             [
              0.3333333333333333,
              "#9c179e"
             ],
             [
              0.4444444444444444,
              "#bd3786"
             ],
             [
              0.5555555555555556,
              "#d8576b"
             ],
             [
              0.6666666666666666,
              "#ed7953"
             ],
             [
              0.7777777777777778,
              "#fb9f3a"
             ],
             [
              0.8888888888888888,
              "#fdca26"
             ],
             [
              1,
              "#f0f921"
             ]
            ],
            "type": "contour"
           }
          ],
          "contourcarpet": [
           {
            "colorbar": {
             "outlinewidth": 0,
             "ticks": ""
            },
            "type": "contourcarpet"
           }
          ],
          "heatmap": [
           {
            "colorbar": {
             "outlinewidth": 0,
             "ticks": ""
            },
            "colorscale": [
             [
              0,
              "#0d0887"
             ],
             [
              0.1111111111111111,
              "#46039f"
             ],
             [
              0.2222222222222222,
              "#7201a8"
             ],
             [
              0.3333333333333333,
              "#9c179e"
             ],
             [
              0.4444444444444444,
              "#bd3786"
             ],
             [
              0.5555555555555556,
              "#d8576b"
             ],
             [
              0.6666666666666666,
              "#ed7953"
             ],
             [
              0.7777777777777778,
              "#fb9f3a"
             ],
             [
              0.8888888888888888,
              "#fdca26"
             ],
             [
              1,
              "#f0f921"
             ]
            ],
            "type": "heatmap"
           }
          ],
          "heatmapgl": [
           {
            "colorbar": {
             "outlinewidth": 0,
             "ticks": ""
            },
            "colorscale": [
             [
              0,
              "#0d0887"
             ],
             [
              0.1111111111111111,
              "#46039f"
             ],
             [
              0.2222222222222222,
              "#7201a8"
             ],
             [
              0.3333333333333333,
              "#9c179e"
             ],
             [
              0.4444444444444444,
              "#bd3786"
             ],
             [
              0.5555555555555556,
              "#d8576b"
             ],
             [
              0.6666666666666666,
              "#ed7953"
             ],
             [
              0.7777777777777778,
              "#fb9f3a"
             ],
             [
              0.8888888888888888,
              "#fdca26"
             ],
             [
              1,
              "#f0f921"
             ]
            ],
            "type": "heatmapgl"
           }
          ],
          "histogram": [
           {
            "marker": {
             "pattern": {
              "fillmode": "overlay",
              "size": 10,
              "solidity": 0.2
             }
            },
            "type": "histogram"
           }
          ],
          "histogram2d": [
           {
            "colorbar": {
             "outlinewidth": 0,
             "ticks": ""
            },
            "colorscale": [
             [
              0,
              "#0d0887"
             ],
             [
              0.1111111111111111,
              "#46039f"
             ],
             [
              0.2222222222222222,
              "#7201a8"
             ],
             [
              0.3333333333333333,
              "#9c179e"
             ],
             [
              0.4444444444444444,
              "#bd3786"
             ],
             [
              0.5555555555555556,
              "#d8576b"
             ],
             [
              0.6666666666666666,
              "#ed7953"
             ],
             [
              0.7777777777777778,
              "#fb9f3a"
             ],
             [
              0.8888888888888888,
              "#fdca26"
             ],
             [
              1,
              "#f0f921"
             ]
            ],
            "type": "histogram2d"
           }
          ],
          "histogram2dcontour": [
           {
            "colorbar": {
             "outlinewidth": 0,
             "ticks": ""
            },
            "colorscale": [
             [
              0,
              "#0d0887"
             ],
             [
              0.1111111111111111,
              "#46039f"
             ],
             [
              0.2222222222222222,
              "#7201a8"
             ],
             [
              0.3333333333333333,
              "#9c179e"
             ],
             [
              0.4444444444444444,
              "#bd3786"
             ],
             [
              0.5555555555555556,
              "#d8576b"
             ],
             [
              0.6666666666666666,
              "#ed7953"
             ],
             [
              0.7777777777777778,
              "#fb9f3a"
             ],
             [
              0.8888888888888888,
              "#fdca26"
             ],
             [
              1,
              "#f0f921"
             ]
            ],
            "type": "histogram2dcontour"
           }
          ],
          "mesh3d": [
           {
            "colorbar": {
             "outlinewidth": 0,
             "ticks": ""
            },
            "type": "mesh3d"
           }
          ],
          "parcoords": [
           {
            "line": {
             "colorbar": {
              "outlinewidth": 0,
              "ticks": ""
             }
            },
            "type": "parcoords"
           }
          ],
          "pie": [
           {
            "automargin": true,
            "type": "pie"
           }
          ],
          "scatter": [
           {
            "marker": {
             "colorbar": {
              "outlinewidth": 0,
              "ticks": ""
             }
            },
            "type": "scatter"
           }
          ],
          "scatter3d": [
           {
            "line": {
             "colorbar": {
              "outlinewidth": 0,
              "ticks": ""
             }
            },
            "marker": {
             "colorbar": {
              "outlinewidth": 0,
              "ticks": ""
             }
            },
            "type": "scatter3d"
           }
          ],
          "scattercarpet": [
           {
            "marker": {
             "colorbar": {
              "outlinewidth": 0,
              "ticks": ""
             }
            },
            "type": "scattercarpet"
           }
          ],
          "scattergeo": [
           {
            "marker": {
             "colorbar": {
              "outlinewidth": 0,
              "ticks": ""
             }
            },
            "type": "scattergeo"
           }
          ],
          "scattergl": [
           {
            "marker": {
             "colorbar": {
              "outlinewidth": 0,
              "ticks": ""
             }
            },
            "type": "scattergl"
           }
          ],
          "scattermapbox": [
           {
            "marker": {
             "colorbar": {
              "outlinewidth": 0,
              "ticks": ""
             }
            },
            "type": "scattermapbox"
           }
          ],
          "scatterpolar": [
           {
            "marker": {
             "colorbar": {
              "outlinewidth": 0,
              "ticks": ""
             }
            },
            "type": "scatterpolar"
           }
          ],
          "scatterpolargl": [
           {
            "marker": {
             "colorbar": {
              "outlinewidth": 0,
              "ticks": ""
             }
            },
            "type": "scatterpolargl"
           }
          ],
          "scatterternary": [
           {
            "marker": {
             "colorbar": {
              "outlinewidth": 0,
              "ticks": ""
             }
            },
            "type": "scatterternary"
           }
          ],
          "surface": [
           {
            "colorbar": {
             "outlinewidth": 0,
             "ticks": ""
            },
            "colorscale": [
             [
              0,
              "#0d0887"
             ],
             [
              0.1111111111111111,
              "#46039f"
             ],
             [
              0.2222222222222222,
              "#7201a8"
             ],
             [
              0.3333333333333333,
              "#9c179e"
             ],
             [
              0.4444444444444444,
              "#bd3786"
             ],
             [
              0.5555555555555556,
              "#d8576b"
             ],
             [
              0.6666666666666666,
              "#ed7953"
             ],
             [
              0.7777777777777778,
              "#fb9f3a"
             ],
             [
              0.8888888888888888,
              "#fdca26"
             ],
             [
              1,
              "#f0f921"
             ]
            ],
            "type": "surface"
           }
          ],
          "table": [
           {
            "cells": {
             "fill": {
              "color": "#EBF0F8"
             },
             "line": {
              "color": "white"
             }
            },
            "header": {
             "fill": {
              "color": "#C8D4E3"
             },
             "line": {
              "color": "white"
             }
            },
            "type": "table"
           }
          ]
         },
         "layout": {
          "annotationdefaults": {
           "arrowcolor": "#2a3f5f",
           "arrowhead": 0,
           "arrowwidth": 1
          },
          "autotypenumbers": "strict",
          "coloraxis": {
           "colorbar": {
            "outlinewidth": 0,
            "ticks": ""
           }
          },
          "colorscale": {
           "diverging": [
            [
             0,
             "#8e0152"
            ],
            [
             0.1,
             "#c51b7d"
            ],
            [
             0.2,
             "#de77ae"
            ],
            [
             0.3,
             "#f1b6da"
            ],
            [
             0.4,
             "#fde0ef"
            ],
            [
             0.5,
             "#f7f7f7"
            ],
            [
             0.6,
             "#e6f5d0"
            ],
            [
             0.7,
             "#b8e186"
            ],
            [
             0.8,
             "#7fbc41"
            ],
            [
             0.9,
             "#4d9221"
            ],
            [
             1,
             "#276419"
            ]
           ],
           "sequential": [
            [
             0,
             "#0d0887"
            ],
            [
             0.1111111111111111,
             "#46039f"
            ],
            [
             0.2222222222222222,
             "#7201a8"
            ],
            [
             0.3333333333333333,
             "#9c179e"
            ],
            [
             0.4444444444444444,
             "#bd3786"
            ],
            [
             0.5555555555555556,
             "#d8576b"
            ],
            [
             0.6666666666666666,
             "#ed7953"
            ],
            [
             0.7777777777777778,
             "#fb9f3a"
            ],
            [
             0.8888888888888888,
             "#fdca26"
            ],
            [
             1,
             "#f0f921"
            ]
           ],
           "sequentialminus": [
            [
             0,
             "#0d0887"
            ],
            [
             0.1111111111111111,
             "#46039f"
            ],
            [
             0.2222222222222222,
             "#7201a8"
            ],
            [
             0.3333333333333333,
             "#9c179e"
            ],
            [
             0.4444444444444444,
             "#bd3786"
            ],
            [
             0.5555555555555556,
             "#d8576b"
            ],
            [
             0.6666666666666666,
             "#ed7953"
            ],
            [
             0.7777777777777778,
             "#fb9f3a"
            ],
            [
             0.8888888888888888,
             "#fdca26"
            ],
            [
             1,
             "#f0f921"
            ]
           ]
          },
          "colorway": [
           "#636efa",
           "#EF553B",
           "#00cc96",
           "#ab63fa",
           "#FFA15A",
           "#19d3f3",
           "#FF6692",
           "#B6E880",
           "#FF97FF",
           "#FECB52"
          ],
          "font": {
           "color": "#2a3f5f"
          },
          "geo": {
           "bgcolor": "white",
           "lakecolor": "white",
           "landcolor": "#E5ECF6",
           "showlakes": true,
           "showland": true,
           "subunitcolor": "white"
          },
          "hoverlabel": {
           "align": "left"
          },
          "hovermode": "closest",
          "mapbox": {
           "style": "light"
          },
          "paper_bgcolor": "white",
          "plot_bgcolor": "#E5ECF6",
          "polar": {
           "angularaxis": {
            "gridcolor": "white",
            "linecolor": "white",
            "ticks": ""
           },
           "bgcolor": "#E5ECF6",
           "radialaxis": {
            "gridcolor": "white",
            "linecolor": "white",
            "ticks": ""
           }
          },
          "scene": {
           "xaxis": {
            "backgroundcolor": "#E5ECF6",
            "gridcolor": "white",
            "gridwidth": 2,
            "linecolor": "white",
            "showbackground": true,
            "ticks": "",
            "zerolinecolor": "white"
           },
           "yaxis": {
            "backgroundcolor": "#E5ECF6",
            "gridcolor": "white",
            "gridwidth": 2,
            "linecolor": "white",
            "showbackground": true,
            "ticks": "",
            "zerolinecolor": "white"
           },
           "zaxis": {
            "backgroundcolor": "#E5ECF6",
            "gridcolor": "white",
            "gridwidth": 2,
            "linecolor": "white",
            "showbackground": true,
            "ticks": "",
            "zerolinecolor": "white"
           }
          },
          "shapedefaults": {
           "line": {
            "color": "#2a3f5f"
           }
          },
          "ternary": {
           "aaxis": {
            "gridcolor": "white",
            "linecolor": "white",
            "ticks": ""
           },
           "baxis": {
            "gridcolor": "white",
            "linecolor": "white",
            "ticks": ""
           },
           "bgcolor": "#E5ECF6",
           "caxis": {
            "gridcolor": "white",
            "linecolor": "white",
            "ticks": ""
           }
          },
          "title": {
           "x": 0.05
          },
          "xaxis": {
           "automargin": true,
           "gridcolor": "white",
           "linecolor": "white",
           "ticks": "",
           "title": {
            "standoff": 15
           },
           "zerolinecolor": "white",
           "zerolinewidth": 2
          },
          "yaxis": {
           "automargin": true,
           "gridcolor": "white",
           "linecolor": "white",
           "ticks": "",
           "title": {
            "standoff": 15
           },
           "zerolinecolor": "white",
           "zerolinewidth": 2
          }
         }
        },
        "title": {
         "text": "Performance across classifiers on with_dominant"
        },
        "xaxis": {
         "anchor": "y",
         "autorange": true,
         "domain": [
          0,
          1
         ],
         "range": [
          -0.5,
          6.5
         ],
         "title": {
          "text": "dataset"
         },
         "type": "category"
        },
        "yaxis": {
         "anchor": "x",
         "autorange": true,
         "domain": [
          0,
          1
         ],
         "range": [
          0,
          0.8094752532285594
         ],
         "title": {
          "text": "f1"
         },
         "type": "linear"
        }
       }
      },
      "image/png": "[encoded data removed]",
      "text/html": [
       "<div>                            <div id=\"32fd13ce-cc40-4893-8004-3b6a6a74439b\" class=\"plotly-graph-div\" style=\"height:525px; width:100%;\"></div>            <script type=\"text/javascript\">                require([\"plotly\"], function(Plotly) {                    window.PLOTLYENV=window.PLOTLYENV || {};                                    if (document.getElementById(\"32fd13ce-cc40-4893-8004-3b6a6a74439b\")) {                    Plotly.newPlot(                        \"32fd13ce-cc40-4893-8004-3b6a6a74439b\",                        [{\"alignmentgroup\":\"True\",\"hovertemplate\":\"clf=bert<br>dataset=%{x}<br>f1=%{y}<extra></extra>\",\"legendgroup\":\"bert\",\"marker\":{\"color\":\"#636efa\",\"pattern\":{\"shape\":\"\"}},\"name\":\"bert\",\"offsetgroup\":\"bert\",\"orientation\":\"v\",\"showlegend\":true,\"textposition\":\"auto\",\"x\":[\"elsherief2021\",\"kennedy2020\",\"salminen2018\",\"sbic\",\"cad\",\"hatexplain\"],\"xaxis\":\"x\",\"y\":[0.4786856866835365,0.5955035344534756,0.643192517131028,0.6541665649430322,0.5247926559892304,0.6430258347635057],\"yaxis\":\"y\",\"type\":\"bar\"},{\"alignmentgroup\":\"True\",\"hovertemplate\":\"clf=lr<br>dataset=%{x}<br>f1=%{y}<extra></extra>\",\"legendgroup\":\"lr\",\"marker\":{\"color\":\"#EF553B\",\"pattern\":{\"shape\":\"\"}},\"name\":\"lr\",\"offsetgroup\":\"lr\",\"orientation\":\"v\",\"showlegend\":true,\"textposition\":\"auto\",\"x\":[\"elsherief2021\",\"kennedy2020\",\"salminen2018\",\"sbic\",\"cad\",\"hatexplain\",\"civilcomments\"],\"xaxis\":\"x\",\"y\":[0.4117268795130948,0.5176272317318004,0.696631068829318,0.615483209689907,0.450901948109604,0.5998199471467924,0.7690014905671314],\"yaxis\":\"y\",\"type\":\"bar\"}],                        {\"template\":{\"data\":{\"bar\":[{\"error_x\":{\"color\":\"#2a3f5f\"},\"error_y\":{\"color\":\"#2a3f5f\"},\"marker\":{\"line\":{\"color\":\"#E5ECF6\",\"width\":0.5},\"pattern\":{\"fillmode\":\"overlay\",\"size\":10,\"solidity\":0.2}},\"type\":\"bar\"}],\"barpolar\":[{\"marker\":{\"line\":{\"color\":\"#E5ECF6\",\"width\":0.5},\"pattern\":{\"fillmode\":\"overlay\",\"size\":10,\"solidity\":0.2}},\"type\":\"barpolar\"}],\"carpet\":[{\"aaxis\":{\"endlinecolor\":\"#2a3f5f\",\"gridcolor\":\"white\",\"linecolor\":\"white\",\"minorgridcolor\":\"white\",\"startlinecolor\":\"#2a3f5f\"},\"baxis\":{\"endlinecolor\":\"#2a3f5f\",\"gridcolor\":\"white\",\"linecolor\":\"white\",\"minorgridcolor\":\"white\",\"startlinecolor\":\"#2a3f5f\"},\"type\":\"carpet\"}],\"choropleth\":[{\"colorbar\":{\"outlinewidth\":0,\"ticks\":\"\"},\"type\":\"choropleth\"}],\"contour\":[{\"colorbar\":{\"outlinewidth\":0,\"ticks\":\"\"},\"colorscale\":[[0.0,\"#0d0887\"],[0.1111111111111111,\"#46039f\"],[0.2222222222222222,\"#7201a8\"],[0.3333333333333333,\"#9c179e\"],[0.4444444444444444,\"#bd3786\"],[0.5555555555555556,\"#d8576b\"],[0.6666666666666666,\"#ed7953\"],[0.7777777777777778,\"#fb9f3a\"],[0.8888888888888888,\"#fdca26\"],[1.0,\"#f0f921\"]],\"type\":\"contour\"}],\"contourcarpet\":[{\"colorbar\":{\"outlinewidth\":0,\"ticks\":\"\"},\"type\":\"contourcarpet\"}],\"heatmap\":[{\"colorbar\":{\"outlinewidth\":0,\"ticks\":\"\"},\"colorscale\":[[0.0,\"#0d0887\"],[0.1111111111111111,\"#46039f\"],[0.2222222222222222,\"#7201a8\"],[0.3333333333333333,\"#9c179e\"],[0.4444444444444444,\"#bd3786\"],[0.5555555555555556,\"#d8576b\"],[0.6666666666666666,\"#ed7953\"],[0.7777777777777778,\"#fb9f3a\"],[0.8888888888888888,\"#fdca26\"],[1.0,\"#f0f921\"]],\"type\":\"heatmap\"}],\"heatmapgl\":[{\"colorbar\":{\"outlinewidth\":0,\"ticks\":\"\"},\"colorscale\":[[0.0,\"#0d0887\"],[0.1111111111111111,\"#46039f\"],[0.2222222222222222,\"#7201a8\"],[0.3333333333333333,\"#9c179e\"],[0.4444444444444444,\"#bd3786\"],[0.5555555555555556,\"#d8576b\"],[0.6666666666666666,\"#ed7953\"],[0.7777777777777778,\"#fb9f3a\"],[0.8888888888888888,\"#fdca26\"],[1.0,\"#f0f921\"]],\"type\":\"heatmapgl\"}],\"histogram\":[{\"marker\":{\"pattern\":{\"fillmode\":\"overlay\",\"size\":10,\"solidity\":0.2}},\"type\":\"histogram\"}],\"histogram2d\":[{\"colorbar\":{\"outlinewidth\":0,\"ticks\":\"\"},\"colorscale\":[[0.0,\"#0d0887\"],[0.1111111111111111,\"#46039f\"],[0.2222222222222222,\"#7201a8\"],[0.3333333333333333,\"#9c179e\"],[0.4444444444444444,\"#bd3786\"],[0.5555555555555556,\"#d8576b\"],[0.6666666666666666,\"#ed7953\"],[0.7777777777777778,\"#fb9f3a\"],[0.8888888888888888,\"#fdca26\"],[1.0,\"#f0f921\"]],\"type\":\"histogram2d\"}],\"histogram2dcontour\":[{\"colorbar\":{\"outlinewidth\":0,\"ticks\":\"\"},\"colorscale\":[[0.0,\"#0d0887\"],[0.1111111111111111,\"#46039f\"],[0.2222222222222222,\"#7201a8\"],[0.3333333333333333,\"#9c179e\"],[0.4444444444444444,\"#bd3786\"],[0.5555555555555556,\"#d8576b\"],[0.6666666666666666,\"#ed7953\"],[0.7777777777777778,\"#fb9f3a\"],[0.8888888888888888,\"#fdca26\"],[1.0,\"#f0f921\"]],\"type\":\"histogram2dcontour\"}],\"mesh3d\":[{\"colorbar\":{\"outlinewidth\":0,\"ticks\":\"\"},\"type\":\"mesh3d\"}],\"parcoords\":[{\"line\":{\"colorbar\":{\"outlinewidth\":0,\"ticks\":\"\"}},\"type\":\"parcoords\"}],\"pie\":[{\"automargin\":true,\"type\":\"pie\"}],\"scatter\":[{\"marker\":{\"colorbar\":{\"outlinewidth\":0,\"ticks\":\"\"}},\"type\":\"scatter\"}],\"scatter3d\":[{\"line\":{\"colorbar\":{\"outlinewidth\":0,\"ticks\":\"\"}},\"marker\":{\"colorbar\":{\"outlinewidth\":0,\"ticks\":\"\"}},\"type\":\"scatter3d\"}],\"scattercarpet\":[{\"marker\":{\"colorbar\":{\"outlinewidth\":0,\"ticks\":\"\"}},\"type\":\"scattercarpet\"}],\"scattergeo\":[{\"marker\":{\"colorbar\":{\"outlinewidth\":0,\"ticks\":\"\"}},\"type\":\"scattergeo\"}],\"scattergl\":[{\"marker\":{\"colorbar\":{\"outlinewidth\":0,\"ticks\":\"\"}},\"type\":\"scattergl\"}],\"scattermapbox\":[{\"marker\":{\"colorbar\":{\"outlinewidth\":0,\"ticks\":\"\"}},\"type\":\"scattermapbox\"}],\"scatterpolar\":[{\"marker\":{\"colorbar\":{\"outlinewidth\":0,\"ticks\":\"\"}},\"type\":\"scatterpolar\"}],\"scatterpolargl\":[{\"marker\":{\"colorbar\":{\"outlinewidth\":0,\"ticks\":\"\"}},\"type\":\"scatterpolargl\"}],\"scatterternary\":[{\"marker\":{\"colorbar\":{\"outlinewidth\":0,\"ticks\":\"\"}},\"type\":\"scatterternary\"}],\"surface\":[{\"colorbar\":{\"outlinewidth\":0,\"ticks\":\"\"},\"colorscale\":[[0.0,\"#0d0887\"],[0.1111111111111111,\"#46039f\"],[0.2222222222222222,\"#7201a8\"],[0.3333333333333333,\"#9c179e\"],[0.4444444444444444,\"#bd3786\"],[0.5555555555555556,\"#d8576b\"],[0.6666666666666666,\"#ed7953\"],[0.7777777777777778,\"#fb9f3a\"],[0.8888888888888888,\"#fdca26\"],[1.0,\"#f0f921\"]],\"type\":\"surface\"}],\"table\":[{\"cells\":{\"fill\":{\"color\":\"#EBF0F8\"},\"line\":{\"color\":\"white\"}},\"header\":{\"fill\":{\"color\":\"#C8D4E3\"},\"line\":{\"color\":\"white\"}},\"type\":\"table\"}]},\"layout\":{\"annotationdefaults\":{\"arrowcolor\":\"#2a3f5f\",\"arrowhead\":0,\"arrowwidth\":1},\"autotypenumbers\":\"strict\",\"coloraxis\":{\"colorbar\":{\"outlinewidth\":0,\"ticks\":\"\"}},\"colorscale\":{\"diverging\":[[0,\"#8e0152\"],[0.1,\"#c51b7d\"],[0.2,\"#de77ae\"],[0.3,\"#f1b6da\"],[0.4,\"#fde0ef\"],[0.5,\"#f7f7f7\"],[0.6,\"#e6f5d0\"],[0.7,\"#b8e186\"],[0.8,\"#7fbc41\"],[0.9,\"#4d9221\"],[1,\"#276419\"]],\"sequential\":[[0.0,\"#0d0887\"],[0.1111111111111111,\"#46039f\"],[0.2222222222222222,\"#7201a8\"],[0.3333333333333333,\"#9c179e\"],[0.4444444444444444,\"#bd3786\"],[0.5555555555555556,\"#d8576b\"],[0.6666666666666666,\"#ed7953\"],[0.7777777777777778,\"#fb9f3a\"],[0.8888888888888888,\"#fdca26\"],[1.0,\"#f0f921\"]],\"sequentialminus\":[[0.0,\"#0d0887\"],[0.1111111111111111,\"#46039f\"],[0.2222222222222222,\"#7201a8\"],[0.3333333333333333,\"#9c179e\"],[0.4444444444444444,\"#bd3786\"],[0.5555555555555556,\"#d8576b\"],[0.6666666666666666,\"#ed7953\"],[0.7777777777777778,\"#fb9f3a\"],[0.8888888888888888,\"#fdca26\"],[1.0,\"#f0f921\"]]},\"colorway\":[\"#636efa\",\"#EF553B\",\"#00cc96\",\"#ab63fa\",\"#FFA15A\",\"#19d3f3\",\"#FF6692\",\"#B6E880\",\"#FF97FF\",\"#FECB52\"],\"font\":{\"color\":\"#2a3f5f\"},\"geo\":{\"bgcolor\":\"white\",\"lakecolor\":\"white\",\"landcolor\":\"#E5ECF6\",\"showlakes\":true,\"showland\":true,\"subunitcolor\":\"white\"},\"hoverlabel\":{\"align\":\"left\"},\"hovermode\":\"closest\",\"mapbox\":{\"style\":\"light\"},\"paper_bgcolor\":\"white\",\"plot_bgcolor\":\"#E5ECF6\",\"polar\":{\"angularaxis\":{\"gridcolor\":\"white\",\"linecolor\":\"white\",\"ticks\":\"\"},\"bgcolor\":\"#E5ECF6\",\"radialaxis\":{\"gridcolor\":\"white\",\"linecolor\":\"white\",\"ticks\":\"\"}},\"scene\":{\"xaxis\":{\"backgroundcolor\":\"#E5ECF6\",\"gridcolor\":\"white\",\"gridwidth\":2,\"linecolor\":\"white\",\"showbackground\":true,\"ticks\":\"\",\"zerolinecolor\":\"white\"},\"yaxis\":{\"backgroundcolor\":\"#E5ECF6\",\"gridcolor\":\"white\",\"gridwidth\":2,\"linecolor\":\"white\",\"showbackground\":true,\"ticks\":\"\",\"zerolinecolor\":\"white\"},\"zaxis\":{\"backgroundcolor\":\"#E5ECF6\",\"gridcolor\":\"white\",\"gridwidth\":2,\"linecolor\":\"white\",\"showbackground\":true,\"ticks\":\"\",\"zerolinecolor\":\"white\"}},\"shapedefaults\":{\"line\":{\"color\":\"#2a3f5f\"}},\"ternary\":{\"aaxis\":{\"gridcolor\":\"white\",\"linecolor\":\"white\",\"ticks\":\"\"},\"baxis\":{\"gridcolor\":\"white\",\"linecolor\":\"white\",\"ticks\":\"\"},\"bgcolor\":\"#E5ECF6\",\"caxis\":{\"gridcolor\":\"white\",\"linecolor\":\"white\",\"ticks\":\"\"}},\"title\":{\"x\":0.05},\"xaxis\":{\"automargin\":true,\"gridcolor\":\"white\",\"linecolor\":\"white\",\"ticks\":\"\",\"title\":{\"standoff\":15},\"zerolinecolor\":\"white\",\"zerolinewidth\":2},\"yaxis\":{\"automargin\":true,\"gridcolor\":\"white\",\"linecolor\":\"white\",\"ticks\":\"\",\"title\":{\"standoff\":15},\"zerolinecolor\":\"white\",\"zerolinewidth\":2}}},\"xaxis\":{\"anchor\":\"y\",\"domain\":[0.0,1.0],\"title\":{\"text\":\"dataset\"}},\"yaxis\":{\"anchor\":\"x\",\"domain\":[0.0,1.0],\"title\":{\"text\":\"f1\"}},\"legend\":{\"title\":{\"text\":\"clf\"},\"tracegroupgap\":0,\"yanchor\":\"top\",\"y\":1.4,\"xanchor\":\"left\",\"x\":0.8},\"title\":{\"text\":\"Performance across classifiers on with_dominant\"},\"barmode\":\"group\"},                        {\"responsive\": true}                    ).then(function(){\n",
       "                            \n",
       "var gd = document.getElementById('32fd13ce-cc40-4893-8004-3b6a6a74439b');\n",
       "var x = new MutationObserver(function (mutations, observer) {{\n",
       "        var display = window.getComputedStyle(gd).display;\n",
       "        if (!display || display === 'none') {{\n",
       "            console.log([gd, 'removed!']);\n",
       "            Plotly.purge(gd);\n",
       "            observer.disconnect();\n",
       "        }}\n",
       "}});\n",
       "\n",
       "// Listen for the removal of the full notebook cells\n",
       "var notebookContainer = gd.closest('#notebook-container');\n",
       "if (notebookContainer) {{\n",
       "    x.observe(notebookContainer, {childList: true});\n",
       "}}\n",
       "\n",
       "// Listen for the clearing of the current output cell\n",
       "var outputEl = gd.closest('.output');\n",
       "if (outputEl) {{\n",
       "    x.observe(outputEl, {childList: true});\n",
       "}}\n",
       "\n",
       "                        })                };                });            </script>        </div>"
      ]
     },
     "metadata": {},
     "output_type": "display_data"
    }
   ],
   "source": [
    "# Plot\n",
    "selection = 'with_dominant'\n",
    "fig = px.bar(scores.query('split == @selection'), x='dataset', y='f1', color='clf', barmode='group', \n",
    "             title=f'Performance across classifiers on {selection}')\n",
    "fig.update_layout(legend=dict(\n",
    "    yanchor='top',\n",
    "    y=1.4,\n",
    "    xanchor='left',\n",
    "    x=0.8\n",
    "))\n",
    "fig.show()"
   ]
  },
  {
   "cell_type": "markdown",
   "id": "074d72c3-16b2-4486-9432-6c5a06660aee",
   "metadata": {},
   "source": [
    "# Visualize cross-identity results"
   ]
  },
  {
   "cell_type": "code",
   "execution_count": 10,
   "id": "bc5a4f8c-6f15-4e6b-8fcc-5e00f1f3f3f6",
   "metadata": {},
   "outputs": [
    {
     "data": {
      "text/html": [
       "<style type=\"text/css\">\n",
       "#T_c1379_row0_col0, #T_c1379_row1_col1, #T_c1379_row2_col2, #T_c1379_row3_col3, #T_c1379_row4_col4, #T_c1379_row5_col5, #T_c1379_row6_col6, #T_c1379_row7_col7, #T_c1379_row8_col8, #T_c1379_row9_col9 {\n",
       "  background-color: #0000ff;\n",
       "  color: #f1f1f1;\n",
       "}\n",
       "#T_c1379_row0_col1 {\n",
       "  background-color: #7d7df9;\n",
       "  color: #f1f1f1;\n",
       "}\n",
       "#T_c1379_row0_col2 {\n",
       "  background-color: #a7a7f7;\n",
       "  color: #000000;\n",
       "}\n",
       "#T_c1379_row0_col3 {\n",
       "  background-color: #adadf6;\n",
       "  color: #000000;\n",
       "}\n",
       "#T_c1379_row0_col4 {\n",
       "  background-color: #4646fb;\n",
       "  color: #f1f1f1;\n",
       "}\n",
       "#T_c1379_row0_col5 {\n",
       "  background-color: #c7c7f5;\n",
       "  color: #000000;\n",
       "}\n",
       "#T_c1379_row0_col6 {\n",
       "  background-color: #a2a2f7;\n",
       "  color: #f1f1f1;\n",
       "}\n",
       "#T_c1379_row0_col7, #T_c1379_row2_col3 {\n",
       "  background-color: #8c8cf8;\n",
       "  color: #f1f1f1;\n",
       "}\n",
       "#T_c1379_row0_col8 {\n",
       "  background-color: #5a5afa;\n",
       "  color: #f1f1f1;\n",
       "}\n",
       "#T_c1379_row0_col9, #T_c1379_row7_col1 {\n",
       "  background-color: #a0a0f7;\n",
       "  color: #f1f1f1;\n",
       "}\n",
       "#T_c1379_row1_col0 {\n",
       "  background-color: #b2b2f6;\n",
       "  color: #000000;\n",
       "}\n",
       "#T_c1379_row1_col2, #T_c1379_row3_col1, #T_c1379_row3_col6, #T_c1379_row3_col9, #T_c1379_row5_col0, #T_c1379_row5_col4, #T_c1379_row5_col8, #T_c1379_row8_col3, #T_c1379_row8_col5, #T_c1379_row8_col7 {\n",
       "  background-color: #f0f0f3;\n",
       "  color: #000000;\n",
       "}\n",
       "#T_c1379_row1_col3, #T_c1379_row3_col8 {\n",
       "  background-color: #dcdcf4;\n",
       "  color: #000000;\n",
       "}\n",
       "#T_c1379_row1_col4, #T_c1379_row5_col9, #T_c1379_row6_col1 {\n",
       "  background-color: #7272f9;\n",
       "  color: #f1f1f1;\n",
       "}\n",
       "#T_c1379_row1_col5, #T_c1379_row4_col5 {\n",
       "  background-color: #eaeaf3;\n",
       "  color: #000000;\n",
       "}\n",
       "#T_c1379_row1_col6, #T_c1379_row8_col2, #T_c1379_row9_col7 {\n",
       "  background-color: #cecef4;\n",
       "  color: #000000;\n",
       "}\n",
       "#T_c1379_row1_col7, #T_c1379_row9_col4 {\n",
       "  background-color: #dedef4;\n",
       "  color: #000000;\n",
       "}\n",
       "#T_c1379_row1_col8 {\n",
       "  background-color: #6e6ef9;\n",
       "  color: #f1f1f1;\n",
       "}\n",
       "#T_c1379_row1_col9 {\n",
       "  background-color: #babaf6;\n",
       "  color: #000000;\n",
       "}\n",
       "#T_c1379_row2_col0 {\n",
       "  background-color: #b4b4f6;\n",
       "  color: #000000;\n",
       "}\n",
       "#T_c1379_row2_col1 {\n",
       "  background-color: #b1b1f6;\n",
       "  color: #000000;\n",
       "}\n",
       "#T_c1379_row2_col4 {\n",
       "  background-color: #afaff6;\n",
       "  color: #000000;\n",
       "}\n",
       "#T_c1379_row2_col5 {\n",
       "  background-color: #9898f7;\n",
       "  color: #f1f1f1;\n",
       "}\n",
       "#T_c1379_row2_col6 {\n",
       "  background-color: #8b8bf8;\n",
       "  color: #f1f1f1;\n",
       "}\n",
       "#T_c1379_row2_col7 {\n",
       "  background-color: #9595f7;\n",
       "  color: #f1f1f1;\n",
       "}\n",
       "#T_c1379_row2_col8 {\n",
       "  background-color: #bbbbf5;\n",
       "  color: #000000;\n",
       "}\n",
       "#T_c1379_row2_col9 {\n",
       "  background-color: #ababf6;\n",
       "  color: #000000;\n",
       "}\n",
       "#T_c1379_row3_col0 {\n",
       "  background-color: #d7d7f4;\n",
       "  color: #000000;\n",
       "}\n",
       "#T_c1379_row3_col2, #T_c1379_row4_col0 {\n",
       "  background-color: #9292f8;\n",
       "  color: #f1f1f1;\n",
       "}\n",
       "#T_c1379_row3_col4 {\n",
       "  background-color: #e4e4f3;\n",
       "  color: #000000;\n",
       "}\n",
       "#T_c1379_row3_col5 {\n",
       "  background-color: #e2e2f3;\n",
       "  color: #000000;\n",
       "}\n",
       "#T_c1379_row3_col7 {\n",
       "  background-color: #bcbcf5;\n",
       "  color: #000000;\n",
       "}\n",
       "#T_c1379_row4_col1, #T_c1379_row7_col0 {\n",
       "  background-color: #8585f8;\n",
       "  color: #f1f1f1;\n",
       "}\n",
       "#T_c1379_row4_col2, #T_c1379_row5_col7 {\n",
       "  background-color: #e0e0f4;\n",
       "  color: #000000;\n",
       "}\n",
       "#T_c1379_row4_col3 {\n",
       "  background-color: #c5c5f5;\n",
       "  color: #000000;\n",
       "}\n",
       "#T_c1379_row4_col6 {\n",
       "  background-color: #e3e3f3;\n",
       "  color: #000000;\n",
       "}\n",
       "#T_c1379_row4_col7 {\n",
       "  background-color: #c6c6f5;\n",
       "  color: #000000;\n",
       "}\n",
       "#T_c1379_row4_col8 {\n",
       "  background-color: #4747fb;\n",
       "  color: #f1f1f1;\n",
       "}\n",
       "#T_c1379_row4_col9, #T_c1379_row8_col9 {\n",
       "  background-color: #d3d3f4;\n",
       "  color: #000000;\n",
       "}\n",
       "#T_c1379_row5_col1 {\n",
       "  background-color: #d5d5f4;\n",
       "  color: #000000;\n",
       "}\n",
       "#T_c1379_row5_col2, #T_c1379_row6_col4 {\n",
       "  background-color: #9d9df7;\n",
       "  color: #f1f1f1;\n",
       "}\n",
       "#T_c1379_row5_col3 {\n",
       "  background-color: #bebef5;\n",
       "  color: #000000;\n",
       "}\n",
       "#T_c1379_row5_col6 {\n",
       "  background-color: #3434fc;\n",
       "  color: #f1f1f1;\n",
       "}\n",
       "#T_c1379_row6_col0 {\n",
       "  background-color: #9393f8;\n",
       "  color: #f1f1f1;\n",
       "}\n",
       "#T_c1379_row6_col2 {\n",
       "  background-color: #8989f8;\n",
       "  color: #f1f1f1;\n",
       "}\n",
       "#T_c1379_row6_col3, #T_c1379_row7_col6 {\n",
       "  background-color: #a8a8f6;\n",
       "  color: #000000;\n",
       "}\n",
       "#T_c1379_row6_col5, #T_c1379_row6_col9 {\n",
       "  background-color: #3a3afc;\n",
       "  color: #f1f1f1;\n",
       "}\n",
       "#T_c1379_row6_col7, #T_c1379_row7_col8 {\n",
       "  background-color: #9e9ef7;\n",
       "  color: #f1f1f1;\n",
       "}\n",
       "#T_c1379_row6_col8 {\n",
       "  background-color: #7c7cf9;\n",
       "  color: #f1f1f1;\n",
       "}\n",
       "#T_c1379_row7_col2 {\n",
       "  background-color: #7373f9;\n",
       "  color: #f1f1f1;\n",
       "}\n",
       "#T_c1379_row7_col3 {\n",
       "  background-color: #7979f9;\n",
       "  color: #f1f1f1;\n",
       "}\n",
       "#T_c1379_row7_col4 {\n",
       "  background-color: #8787f8;\n",
       "  color: #f1f1f1;\n",
       "}\n",
       "#T_c1379_row7_col5 {\n",
       "  background-color: #c1c1f5;\n",
       "  color: #000000;\n",
       "}\n",
       "#T_c1379_row7_col9 {\n",
       "  background-color: #a1a1f7;\n",
       "  color: #f1f1f1;\n",
       "}\n",
       "#T_c1379_row8_col0 {\n",
       "  background-color: #aeaef6;\n",
       "  color: #000000;\n",
       "}\n",
       "#T_c1379_row8_col1 {\n",
       "  background-color: #9191f8;\n",
       "  color: #f1f1f1;\n",
       "}\n",
       "#T_c1379_row8_col4 {\n",
       "  background-color: #9999f7;\n",
       "  color: #f1f1f1;\n",
       "}\n",
       "#T_c1379_row8_col6, #T_c1379_row9_col2 {\n",
       "  background-color: #cbcbf5;\n",
       "  color: #000000;\n",
       "}\n",
       "#T_c1379_row9_col0 {\n",
       "  background-color: #dbdbf4;\n",
       "  color: #000000;\n",
       "}\n",
       "#T_c1379_row9_col1 {\n",
       "  background-color: #a5a5f7;\n",
       "  color: #000000;\n",
       "}\n",
       "#T_c1379_row9_col3 {\n",
       "  background-color: #e5e5f3;\n",
       "  color: #000000;\n",
       "}\n",
       "#T_c1379_row9_col5 {\n",
       "  background-color: #6a6afa;\n",
       "  color: #f1f1f1;\n",
       "}\n",
       "#T_c1379_row9_col6 {\n",
       "  background-color: #3c3cfc;\n",
       "  color: #f1f1f1;\n",
       "}\n",
       "#T_c1379_row9_col8 {\n",
       "  background-color: #c4c4f5;\n",
       "  color: #000000;\n",
       "}\n",
       "</style>\n",
       "<table id=\"T_c1379\">\n",
       "  <thead>\n",
       "    <tr>\n",
       "      <th class=\"blank level0\" >&nbsp;</th>\n",
       "      <th id=\"T_c1379_level0_col0\" class=\"col_heading level0 col0\" >asian people</th>\n",
       "      <th id=\"T_c1379_level0_col1\" class=\"col_heading level0 col1\" >black people</th>\n",
       "      <th id=\"T_c1379_level0_col2\" class=\"col_heading level0 col2\" >christians</th>\n",
       "      <th id=\"T_c1379_level0_col3\" class=\"col_heading level0 col3\" >jews</th>\n",
       "      <th id=\"T_c1379_level0_col4\" class=\"col_heading level0 col4\" >latinx people</th>\n",
       "      <th id=\"T_c1379_level0_col5\" class=\"col_heading level0 col5\" >lgbtq+ people</th>\n",
       "      <th id=\"T_c1379_level0_col6\" class=\"col_heading level0 col6\" >men</th>\n",
       "      <th id=\"T_c1379_level0_col7\" class=\"col_heading level0 col7\" >muslims, arabs</th>\n",
       "      <th id=\"T_c1379_level0_col8\" class=\"col_heading level0 col8\" >white people</th>\n",
       "      <th id=\"T_c1379_level0_col9\" class=\"col_heading level0 col9\" >women</th>\n",
       "    </tr>\n",
       "    <tr>\n",
       "      <th class=\"index_name level0\" >train_dataset</th>\n",
       "      <th class=\"blank col0\" >&nbsp;</th>\n",
       "      <th class=\"blank col1\" >&nbsp;</th>\n",
       "      <th class=\"blank col2\" >&nbsp;</th>\n",
       "      <th class=\"blank col3\" >&nbsp;</th>\n",
       "      <th class=\"blank col4\" >&nbsp;</th>\n",
       "      <th class=\"blank col5\" >&nbsp;</th>\n",
       "      <th class=\"blank col6\" >&nbsp;</th>\n",
       "      <th class=\"blank col7\" >&nbsp;</th>\n",
       "      <th class=\"blank col8\" >&nbsp;</th>\n",
       "      <th class=\"blank col9\" >&nbsp;</th>\n",
       "    </tr>\n",
       "  </thead>\n",
       "  <tbody>\n",
       "    <tr>\n",
       "      <th id=\"T_c1379_level0_row0\" class=\"row_heading level0 row0\" >asian people</th>\n",
       "      <td id=\"T_c1379_row0_col0\" class=\"data row0 col0\" >0.716742</td>\n",
       "      <td id=\"T_c1379_row0_col1\" class=\"data row0 col1\" >0.450302</td>\n",
       "      <td id=\"T_c1379_row0_col2\" class=\"data row0 col2\" >0.357751</td>\n",
       "      <td id=\"T_c1379_row0_col3\" class=\"data row0 col3\" >0.390606</td>\n",
       "      <td id=\"T_c1379_row0_col4\" class=\"data row0 col4\" >0.554656</td>\n",
       "      <td id=\"T_c1379_row0_col5\" class=\"data row0 col5\" >0.290876</td>\n",
       "      <td id=\"T_c1379_row0_col6\" class=\"data row0 col6\" >0.338501</td>\n",
       "      <td id=\"T_c1379_row0_col7\" class=\"data row0 col7\" >0.427700</td>\n",
       "      <td id=\"T_c1379_row0_col8\" class=\"data row0 col8\" >0.526178</td>\n",
       "      <td id=\"T_c1379_row0_col9\" class=\"data row0 col9\" >0.305620</td>\n",
       "    </tr>\n",
       "    <tr>\n",
       "      <th id=\"T_c1379_level0_row1\" class=\"row_heading level0 row1\" >black people</th>\n",
       "      <td id=\"T_c1379_row1_col0\" class=\"data row1 col0\" >0.311111</td>\n",
       "      <td id=\"T_c1379_row1_col1\" class=\"data row1 col1\" >0.758290</td>\n",
       "      <td id=\"T_c1379_row1_col2\" class=\"data row1 col2\" >0.234568</td>\n",
       "      <td id=\"T_c1379_row1_col3\" class=\"data row1 col3\" >0.276547</td>\n",
       "      <td id=\"T_c1379_row1_col4\" class=\"data row1 col4\" >0.463912</td>\n",
       "      <td id=\"T_c1379_row1_col5\" class=\"data row1 col5\" >0.208534</td>\n",
       "      <td id=\"T_c1379_row1_col6\" class=\"data row1 col6\" >0.269085</td>\n",
       "      <td id=\"T_c1379_row1_col7\" class=\"data row1 col7\" >0.223176</td>\n",
       "      <td id=\"T_c1379_row1_col8\" class=\"data row1 col8\" >0.483092</td>\n",
       "      <td id=\"T_c1379_row1_col9\" class=\"data row1 col9\" >0.255336</td>\n",
       "    </tr>\n",
       "    <tr>\n",
       "      <th id=\"T_c1379_level0_row2\" class=\"row_heading level0 row2\" >christians</th>\n",
       "      <td id=\"T_c1379_row2_col0\" class=\"data row2 col0\" >0.306690</td>\n",
       "      <td id=\"T_c1379_row2_col1\" class=\"data row2 col1\" >0.325068</td>\n",
       "      <td id=\"T_c1379_row2_col2\" class=\"data row2 col2\" >0.635258</td>\n",
       "      <td id=\"T_c1379_row2_col3\" class=\"data row2 col3\" >0.472381</td>\n",
       "      <td id=\"T_c1379_row2_col4\" class=\"data row2 col4\" >0.335855</td>\n",
       "      <td id=\"T_c1379_row2_col5\" class=\"data row2 col5\" >0.405558</td>\n",
       "      <td id=\"T_c1379_row2_col6\" class=\"data row2 col6\" >0.375427</td>\n",
       "      <td id=\"T_c1379_row2_col7\" class=\"data row2 col7\" >0.402996</td>\n",
       "      <td id=\"T_c1379_row2_col8\" class=\"data row2 col8\" >0.319355</td>\n",
       "      <td id=\"T_c1379_row2_col9\" class=\"data row2 col9\" >0.285392</td>\n",
       "    </tr>\n",
       "    <tr>\n",
       "      <th id=\"T_c1379_level0_row3\" class=\"row_heading level0 row3\" >jews</th>\n",
       "      <td id=\"T_c1379_row3_col0\" class=\"data row3 col0\" >0.227937</td>\n",
       "      <td id=\"T_c1379_row3_col1\" class=\"data row3 col1\" >0.168371</td>\n",
       "      <td id=\"T_c1379_row3_col2\" class=\"data row3 col2\" >0.392484</td>\n",
       "      <td id=\"T_c1379_row3_col3\" class=\"data row3 col3\" >0.815131</td>\n",
       "      <td id=\"T_c1379_row3_col4\" class=\"data row3 col4\" >0.227954</td>\n",
       "      <td id=\"T_c1379_row3_col5\" class=\"data row3 col5\" >0.226501</td>\n",
       "      <td id=\"T_c1379_row3_col6\" class=\"data row3 col6\" >0.215638</td>\n",
       "      <td id=\"T_c1379_row3_col7\" class=\"data row3 col7\" >0.307995</td>\n",
       "      <td id=\"T_c1379_row3_col8\" class=\"data row3 col8\" >0.248092</td>\n",
       "      <td id=\"T_c1379_row3_col9\" class=\"data row3 col9\" >0.146778</td>\n",
       "    </tr>\n",
       "    <tr>\n",
       "      <th id=\"T_c1379_level0_row4\" class=\"row_heading level0 row4\" >latinx people</th>\n",
       "      <td id=\"T_c1379_row4_col0\" class=\"data row4 col0\" >0.384034</td>\n",
       "      <td id=\"T_c1379_row4_col1\" class=\"data row4 col1\" >0.432943</td>\n",
       "      <td id=\"T_c1379_row4_col2\" class=\"data row4 col2\" >0.261603</td>\n",
       "      <td id=\"T_c1379_row4_col3\" class=\"data row4 col3\" >0.333094</td>\n",
       "      <td id=\"T_c1379_row4_col4\" class=\"data row4 col4\" >0.700119</td>\n",
       "      <td id=\"T_c1379_row4_col5\" class=\"data row4 col5\" >0.208311</td>\n",
       "      <td id=\"T_c1379_row4_col6\" class=\"data row4 col6\" >0.236741</td>\n",
       "      <td id=\"T_c1379_row4_col7\" class=\"data row4 col7\" >0.281284</td>\n",
       "      <td id=\"T_c1379_row4_col8\" class=\"data row4 col8\" >0.567647</td>\n",
       "      <td id=\"T_c1379_row4_col9\" class=\"data row4 col9\" >0.205344</td>\n",
       "    </tr>\n",
       "    <tr>\n",
       "      <th id=\"T_c1379_level0_row5\" class=\"row_heading level0 row5\" >lgbtq+ people</th>\n",
       "      <td id=\"T_c1379_row5_col0\" class=\"data row5 col0\" >0.169673</td>\n",
       "      <td id=\"T_c1379_row5_col1\" class=\"data row5 col1\" >0.237193</td>\n",
       "      <td id=\"T_c1379_row5_col2\" class=\"data row5 col2\" >0.375242</td>\n",
       "      <td id=\"T_c1379_row5_col3\" class=\"data row5 col3\" >0.348442</td>\n",
       "      <td id=\"T_c1379_row5_col4\" class=\"data row5 col4\" >0.200808</td>\n",
       "      <td id=\"T_c1379_row5_col5\" class=\"data row5 col5\" >0.772549</td>\n",
       "      <td id=\"T_c1379_row5_col6\" class=\"data row5 col6\" >0.510111</td>\n",
       "      <td id=\"T_c1379_row5_col7\" class=\"data row5 col7\" >0.217159</td>\n",
       "      <td id=\"T_c1379_row5_col8\" class=\"data row5 col8\" >0.202532</td>\n",
       "      <td id=\"T_c1379_row5_col9\" class=\"data row5 col9\" >0.397130</td>\n",
       "    </tr>\n",
       "    <tr>\n",
       "      <th id=\"T_c1379_level0_row6\" class=\"row_heading level0 row6\" >men</th>\n",
       "      <td id=\"T_c1379_row6_col0\" class=\"data row6 col0\" >0.382917</td>\n",
       "      <td id=\"T_c1379_row6_col1\" class=\"data row6 col1\" >0.478561</td>\n",
       "      <td id=\"T_c1379_row6_col2\" class=\"data row6 col2\" >0.407407</td>\n",
       "      <td id=\"T_c1379_row6_col3\" class=\"data row6 col3\" >0.403618</td>\n",
       "      <td id=\"T_c1379_row6_col4\" class=\"data row6 col4\" >0.376295</td>\n",
       "      <td id=\"T_c1379_row6_col5\" class=\"data row6 col5\" >0.630672</td>\n",
       "      <td id=\"T_c1379_row6_col6\" class=\"data row6 col6\" >0.592271</td>\n",
       "      <td id=\"T_c1379_row6_col7\" class=\"data row6 col7\" >0.380872</td>\n",
       "      <td id=\"T_c1379_row6_col8\" class=\"data row6 col8\" >0.455243</td>\n",
       "      <td id=\"T_c1379_row6_col9\" class=\"data row6 col9\" >0.508521</td>\n",
       "    </tr>\n",
       "    <tr>\n",
       "      <th id=\"T_c1379_level0_row7\" class=\"row_heading level0 row7\" >muslims, arabs</th>\n",
       "      <td id=\"T_c1379_row7_col0\" class=\"data row7 col0\" >0.414724</td>\n",
       "      <td id=\"T_c1379_row7_col1\" class=\"data row7 col1\" >0.364802</td>\n",
       "      <td id=\"T_c1379_row7_col2\" class=\"data row7 col2\" >0.443623</td>\n",
       "      <td id=\"T_c1379_row7_col3\" class=\"data row7 col3\" >0.519337</td>\n",
       "      <td id=\"T_c1379_row7_col4\" class=\"data row7 col4\" >0.420248</td>\n",
       "      <td id=\"T_c1379_row7_col5\" class=\"data row7 col5\" >0.305642</td>\n",
       "      <td id=\"T_c1379_row7_col6\" class=\"data row7 col6\" >0.329986</td>\n",
       "      <td id=\"T_c1379_row7_col7\" class=\"data row7 col7\" >0.775807</td>\n",
       "      <td id=\"T_c1379_row7_col8\" class=\"data row7 col8\" >0.379747</td>\n",
       "      <td id=\"T_c1379_row7_col9\" class=\"data row7 col9\" >0.304095</td>\n",
       "    </tr>\n",
       "    <tr>\n",
       "      <th id=\"T_c1379_level0_row8\" class=\"row_heading level0 row8\" >white people</th>\n",
       "      <td id=\"T_c1379_row8_col0\" class=\"data row8 col0\" >0.320475</td>\n",
       "      <td id=\"T_c1379_row8_col1\" class=\"data row8 col1\" >0.403383</td>\n",
       "      <td id=\"T_c1379_row8_col2\" class=\"data row8 col2\" >0.291417</td>\n",
       "      <td id=\"T_c1379_row8_col3\" class=\"data row8 col3\" >0.225619</td>\n",
       "      <td id=\"T_c1379_row8_col4\" class=\"data row8 col4\" >0.383985</td>\n",
       "      <td id=\"T_c1379_row8_col5\" class=\"data row8 col5\" >0.190510</td>\n",
       "      <td id=\"T_c1379_row8_col6\" class=\"data row8 col6\" >0.275510</td>\n",
       "      <td id=\"T_c1379_row8_col7\" class=\"data row8 col7\" >0.175400</td>\n",
       "      <td id=\"T_c1379_row8_col8\" class=\"data row8 col8\" >0.720195</td>\n",
       "      <td id=\"T_c1379_row8_col9\" class=\"data row8 col9\" >0.204840</td>\n",
       "    </tr>\n",
       "    <tr>\n",
       "      <th id=\"T_c1379_level0_row9\" class=\"row_heading level0 row9\" >women</th>\n",
       "      <td id=\"T_c1379_row9_col0\" class=\"data row9 col0\" >0.220716</td>\n",
       "      <td id=\"T_c1379_row9_col1\" class=\"data row9 col1\" >0.353574</td>\n",
       "      <td id=\"T_c1379_row9_col2\" class=\"data row9 col2\" >0.298211</td>\n",
       "      <td id=\"T_c1379_row9_col3\" class=\"data row9 col3\" >0.254710</td>\n",
       "      <td id=\"T_c1379_row9_col4\" class=\"data row9 col4\" >0.240569</td>\n",
       "      <td id=\"T_c1379_row9_col5\" class=\"data row9 col5\" >0.517221</td>\n",
       "      <td id=\"T_c1379_row9_col6\" class=\"data row9 col6\" >0.498044</td>\n",
       "      <td id=\"T_c1379_row9_col7\" class=\"data row9 col7\" >0.261131</td>\n",
       "      <td id=\"T_c1379_row9_col8\" class=\"data row9 col8\" >0.298305</td>\n",
       "      <td id=\"T_c1379_row9_col9\" class=\"data row9 col9\" >0.624838</td>\n",
       "    </tr>\n",
       "  </tbody>\n",
       "</table>\n"
      ],
      "text/plain": [
       "<pandas.io.formats.style.Styler at 0x7f26323ee610>"
      ]
     },
     "execution_count": 10,
     "metadata": {},
     "output_type": "execute_result"
    }
   ],
   "source": [
    "# Load scores\n",
    "import pandas as pd\n",
    "\n",
    "scores_path = '../output/combined_identity_bert_scores_kennedy2020+sbic+hatexplain+civilcomments.csv'\n",
    "scores = pd.read_csv(scores_path, index_col='train_dataset')\n",
    "scores = scores.drop(columns='people of color').drop('people of color')\n",
    "scores = scores.rename(columns={'muslims and arabic/middle eastern people': 'muslims, arabs'})\n",
    "scores = scores.rename(index={'muslims and arabic/middle eastern people': 'muslims, arabs'})\n",
    "\n",
    "# Shade by value\n",
    "import seaborn as sns\n",
    "\n",
    "cm = sns.light_palette(\"blue\", as_cmap=True)\n",
    "pd.set_option('display.max_colwidth', 1000)\n",
    "scores.style.background_gradient(cmap=cm)"
   ]
  }
 ],
 "metadata": {
  "kernelspec": {
   "display_name": "Python 3 (ipykernel)",
   "language": "python",
   "name": "python3"
  },
  "language_info": {
   "codemirror_mode": {
    "name": "ipython",
    "version": 3
   },
   "file_extension": ".py",
   "mimetype": "text/x-python",
   "name": "python",
   "nbconvert_exporter": "python",
   "pygments_lexer": "ipython3",
   "version": "3.8.13"
  }
 },
 "nbformat": 4,
 "nbformat_minor": 5
}
