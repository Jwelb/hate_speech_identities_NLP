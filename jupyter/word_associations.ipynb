{
 "cells": [
  {
   "cell_type": "markdown",
   "id": "b278c1df-9f4f-43c3-af3d-bdfdbbcca694",
   "metadata": {},
   "source": [
    "# Look at instances of top terms in corpora"
   ]
  },
  {
   "cell_type": "code",
   "execution_count": 1,
   "id": "e0a443c2-153c-46dd-b2c2-0a8812b05c70",
   "metadata": {},
   "outputs": [
    {
     "data": {
      "text/plain": [
       "dict_keys([('hegemonic',), ('marginalized',)])"
      ]
     },
     "execution_count": 1,
     "metadata": {},
     "output_type": "execute_result"
    }
   ],
   "source": [
    "# Load corpora/splits\n",
    "import pickle\n",
    "import os\n",
    "\n",
    "data_dirpath = '/home/mamille3/hegemonic_hate/data'\n",
    "# splits_fpath = os.path.join(data_dirpath, 'combined_identity_splits_kennedy2020+sbic+hatexplain+civilcomments_0.3hate.pkl')\n",
    "split_type = 'power'\n",
    "splits_fpath = os.path.join(data_dirpath, f'combined_{split_type}_kennedy2020+sbic+hatexplain+civilcomments_0.3hate.pkl')\n",
    "with open(splits_fpath, 'rb') as f:\n",
    "    corpora = pickle.load(f)\n",
    "    \n",
    "corpora.keys()"
   ]
  },
  {
   "cell_type": "code",
   "execution_count": 21,
   "id": "90ee1120-5fea-452e-97e6-b5a38203deff",
   "metadata": {},
   "outputs": [
    {
     "data": {
      "text/html": [
       "<div>\n",
       "<style scoped>\n",
       "    .dataframe tbody tr th:only-of-type {\n",
       "        vertical-align: middle;\n",
       "    }\n",
       "\n",
       "    .dataframe tbody tr th {\n",
       "        vertical-align: top;\n",
       "    }\n",
       "\n",
       "    .dataframe thead th {\n",
       "        text-align: right;\n",
       "    }\n",
       "</style>\n",
       "<table border=\"1\" class=\"dataframe\">\n",
       "  <thead>\n",
       "    <tr style=\"text-align: right;\">\n",
       "      <th></th>\n",
       "      <th>text_lower</th>\n",
       "      <th>hate</th>\n",
       "    </tr>\n",
       "    <tr>\n",
       "      <th>text_id</th>\n",
       "      <th></th>\n",
       "      <th></th>\n",
       "    </tr>\n",
       "  </thead>\n",
       "  <tbody>\n",
       "    <tr>\n",
       "      <th>27525</th>\n",
       "      <td>@yakerriah @nomnomnyandu fuck you you disgusting dung eating african. we fucking wash. talk like this to my face you backwards cunt. fuck you. get the fuck out of europe</td>\n",
       "      <td>True</td>\n",
       "    </tr>\n",
       "    <tr>\n",
       "      <th>3536</th>\n",
       "      <td>i should have let an old man white man work on my car from the beginning instead of letting these niggers and spics play under my hood</td>\n",
       "      <td>True</td>\n",
       "    </tr>\n",
       "    <tr>\n",
       "      <th>5626464</th>\n",
       "      <td>one of my comments has disappeared already. to be more blunt, all black men aren't criminals, and all black mothers aren't saints.</td>\n",
       "      <td>True</td>\n",
       "    </tr>\n",
       "    <tr>\n",
       "      <th>5835</th>\n",
       "      <td>tht bisexual person who said dyke apologized for it and deleted the tweet and all ppl are replying under the apology is stream my fancam and __ stans follow me like some ppl are so generic and unfunny it hurts</td>\n",
       "      <td>True</td>\n",
       "    </tr>\n",
       "    <tr>\n",
       "      <th>3783</th>\n",
       "      <td>going to start exercising my constitutional right call people dumb faggots in public</td>\n",
       "      <td>True</td>\n",
       "    </tr>\n",
       "    <tr>\n",
       "      <th>5710</th>\n",
       "      <td>oh look, niggers being savage. imagine my shock.</td>\n",
       "      <td>True</td>\n",
       "    </tr>\n",
       "    <tr>\n",
       "      <th>24812</th>\n",
       "      <td>what are my views on slavery? works for me...</td>\n",
       "      <td>True</td>\n",
       "    </tr>\n",
       "    <tr>\n",
       "      <th>40240</th>\n",
       "      <td>\"why people think gay marriage is okay is beyond me. sorry i don't want my future son seeing 2 fags walking down the street holding hands an</td>\n",
       "      <td>True</td>\n",
       "    </tr>\n",
       "    <tr>\n",
       "      <th>42761</th>\n",
       "      <td>sorry , that must be my black coming out.</td>\n",
       "      <td>True</td>\n",
       "    </tr>\n",
       "    <tr>\n",
       "      <th>32804</th>\n",
       "      <td>my favorite civil rights movie rise of the planet of the apes</td>\n",
       "      <td>True</td>\n",
       "    </tr>\n",
       "  </tbody>\n",
       "</table>\n",
       "</div>"
      ],
      "text/plain": [
       "                                                                                                                                                                                                                text_lower  \\\n",
       "text_id                                                                                                                                                                                                                      \n",
       "27525                                            @yakerriah @nomnomnyandu fuck you you disgusting dung eating african. we fucking wash. talk like this to my face you backwards cunt. fuck you. get the fuck out of europe   \n",
       "3536                                                                                i should have let an old man white man work on my car from the beginning instead of letting these niggers and spics play under my hood   \n",
       "5626464                                                                                 one of my comments has disappeared already. to be more blunt, all black men aren't criminals, and all black mothers aren't saints.   \n",
       "5835     tht bisexual person who said dyke apologized for it and deleted the tweet and all ppl are replying under the apology is stream my fancam and __ stans follow me like some ppl are so generic and unfunny it hurts   \n",
       "3783                                                                                                                                  going to start exercising my constitutional right call people dumb faggots in public   \n",
       "5710                                                                                                                                                                      oh look, niggers being savage. imagine my shock.   \n",
       "24812                                                                                                                                                                        what are my views on slavery? works for me...   \n",
       "40240                                                                         \"why people think gay marriage is okay is beyond me. sorry i don't want my future son seeing 2 fags walking down the street holding hands an   \n",
       "42761                                                                                                                                                                            sorry , that must be my black coming out.   \n",
       "32804                                                                                                                                                        my favorite civil rights movie rise of the planet of the apes   \n",
       "\n",
       "         hate  \n",
       "text_id        \n",
       "27525    True  \n",
       "3536     True  \n",
       "5626464  True  \n",
       "5835     True  \n",
       "3783     True  \n",
       "5710     True  \n",
       "24812    True  \n",
       "40240    True  \n",
       "42761    True  \n",
       "32804    True  "
      ]
     },
     "execution_count": 21,
     "metadata": {},
     "output_type": "execute_result"
    }
   ],
   "source": [
    "import pandas as pd\n",
    "\n",
    "split = ('marginalized',)\n",
    "data = pd.concat([corpora[split]['train'], corpora[split]['test']]).query('hate')\n",
    "term = 'my'\n",
    "data['text_lower'] = data.text.str.lower()\n",
    "selected = data[data.text_lower.str.contains(r'\\b{}\\b'.format(term))]\n",
    "selected.sample(10).loc[:, ['text_lower', 'hate']]"
   ]
  },
  {
   "cell_type": "markdown",
   "id": "41bac346-7bad-4351-8cec-5f03a08f22f8",
   "metadata": {},
   "source": [
    "# Prepare corpora for SAGE\n",
    "Then run it at ~/SAGE/py-sage (repo fork at https://github.com/michaelmilleryoder/SAGE/tree/master/py-sage)"
   ]
  },
  {
   "cell_type": "code",
   "execution_count": 11,
   "id": "457a2ecc-57fa-41de-a82d-320d0e273f69",
   "metadata": {
    "tags": []
   },
   "outputs": [
    {
     "data": {
      "application/vnd.jupyter.widget-view+json": {
       "model_id": "5f79dc81bf55487a94f623f50453b802",
       "version_major": 2,
       "version_minor": 0
      },
      "text/plain": [
       "  0%|          | 0/11 [00:00<?, ?it/s]"
      ]
     },
     "metadata": {},
     "output_type": "display_data"
    },
    {
     "data": {
      "application/vnd.jupyter.widget-view+json": {
       "model_id": "b5fd01a532314e0684719b333756a016",
       "version_major": 2,
       "version_minor": 0
      },
      "text/plain": [
       "  0%|          | 0/3 [00:00<?, ?it/s]"
      ]
     },
     "metadata": {},
     "output_type": "display_data"
    },
    {
     "data": {
      "application/vnd.jupyter.widget-view+json": {
       "model_id": "7323c8b4e6bd4d13a48ecadeca5d34f6",
       "version_major": 2,
       "version_minor": 0
      },
      "text/plain": [
       "  0%|          | 0/2 [00:00<?, ?it/s]"
      ]
     },
     "metadata": {},
     "output_type": "display_data"
    }
   ],
   "source": [
    "# Load corpora/splits\n",
    "import pickle\n",
    "import os\n",
    "import pandas as pd\n",
    "from tqdm.notebook import tqdm\n",
    "import spacy\n",
    "import re\n",
    "\n",
    "nlp = spacy.load('en_core_web_sm', exclude=['tok2vec', 'tagger', 'parser', 'attribute_ruler', 'lemmatizer', 'ner'])\n",
    "nlp.add_pipe('sentencizer')\n",
    "\n",
    "data_dirpath = '/home/mamille3/hegemonic_hate/data'\n",
    "# splits_fpath = os.path.join(data_dirpath, 'combined_identity_splits_kennedy2020+sbic+hatexplain+civilcomments_0.3hate.pkl')\n",
    "\n",
    "split_types = ['identity', 'categories', 'power']\n",
    "for split_type in split_types:\n",
    "    splits_fpath = os.path.join(data_dirpath, f'combined_{split_type}_kennedy2020+sbic+hatexplain+civilcomments_0.3hate.pkl')\n",
    "    with open(splits_fpath, 'rb') as f:\n",
    "        corpora = pickle.load(f)\n",
    "\n",
    "    texts = {}\n",
    "\n",
    "    split_transform = {\n",
    "        ('race/ethnicity',): 'race/ethnicity',\n",
    "        ('religion',): 'religion',\n",
    "        ('gender', 'sexuality'): 'gender/sexuality',\n",
    "        ('hegemonic',): 'hegemonic',\n",
    "        ('marginalized',): 'marginalized',\n",
    "    }\n",
    "\n",
    "    # for split in list(corpora.keys())[:1]:\n",
    "    for split in tqdm(corpora):\n",
    "        data = pd.concat([corpora[split]['train'], corpora[split]['test']])\n",
    "        hate = data.query('hate')\n",
    "        texts[split] = hate.text.tolist()\n",
    "\n",
    "        # Process, save out data\n",
    "        processed = []\n",
    "        inp = texts[split]\n",
    "        # for doc in tqdm(nlp.pipe(inp), total=len(inp)):\n",
    "        for doc in nlp.pipe(inp):\n",
    "            sents = [' '.join([tok.text for tok in sent]).strip().lower() for sent in doc.sents]\n",
    "            processed.extend(sents)\n",
    "\n",
    "        # Save out\n",
    "        out_dirpath = os.path.join(data_dirpath, split_type)\n",
    "        if not os.path.exists(out_dirpath):\n",
    "            os.mkdir(out_dirpath)\n",
    "        outpath = os.path.join(out_dirpath, f'{re.sub(r\"[ /,]\", \"_\", split_transform.get(split, split))}_sents.txt')\n",
    "        with open(outpath, 'w') as f:\n",
    "            for sent in processed:\n",
    "                f.write(f'{sent}\\n')"
   ]
  },
  {
   "cell_type": "markdown",
   "id": "a66a2811-1689-437b-9286-9580d9a2be0e",
   "metadata": {},
   "source": [
    "# Read, format SAGE output"
   ]
  },
  {
   "cell_type": "code",
   "execution_count": 24,
   "id": "9f86ddb6-e53e-46cf-8399-6f573b72d544",
   "metadata": {},
   "outputs": [
    {
     "data": {
      "text/html": [
       "<div>\n",
       "<style scoped>\n",
       "    .dataframe tbody tr th:only-of-type {\n",
       "        vertical-align: middle;\n",
       "    }\n",
       "\n",
       "    .dataframe tbody tr th {\n",
       "        vertical-align: top;\n",
       "    }\n",
       "\n",
       "    .dataframe thead th {\n",
       "        text-align: right;\n",
       "    }\n",
       "</style>\n",
       "<table border=\"1\" class=\"dataframe\">\n",
       "  <thead>\n",
       "    <tr style=\"text-align: right;\">\n",
       "      <th></th>\n",
       "      <th>Top terms</th>\n",
       "    </tr>\n",
       "    <tr>\n",
       "      <th>Identity</th>\n",
       "      <th></th>\n",
       "    </tr>\n",
       "  </thead>\n",
       "  <tbody>\n",
       "    <tr>\n",
       "      <th>Asian people</th>\n",
       "      <td>ching, chong, chinese, china, asian, japan, japanese, chink, korea, gook</td>\n",
       "    </tr>\n",
       "    <tr>\n",
       "      <th>Black people</th>\n",
       "      <td>niggas, black, nigga, nfl, unarmed, africa, monkeys, negro, coon, cop</td>\n",
       "    </tr>\n",
       "    <tr>\n",
       "      <th>Christians</th>\n",
       "      <td>priest, christianity, catholics, jesus, catholic, bible, christians, christian, christ, priests</td>\n",
       "    </tr>\n",
       "    <tr>\n",
       "      <th>Jews</th>\n",
       "      <td>jewish, oven, zionist, gas, holocaust, jews, israel, jew, hitler, koran</td>\n",
       "    </tr>\n",
       "    <tr>\n",
       "      <th>Latinx people</th>\n",
       "      <td>beaner, latino, mexico, latinos, latin, spic, mexicans, mexican, beaners, wetback</td>\n",
       "    </tr>\n",
       "    <tr>\n",
       "      <th>LGBTQ+ people</th>\n",
       "      <td>homosexual, homosexuality, transgendered, queers, homosexuals, transgender, gay, heterosexual, fag, queer</td>\n",
       "    </tr>\n",
       "    <tr>\n",
       "      <th>Men</th>\n",
       "      <td>male, penis, incel, dollar, men, man, bisexual, males, cucks, gender</td>\n",
       "    </tr>\n",
       "    <tr>\n",
       "      <th>Muslims, Arabs</th>\n",
       "      <td>islamic, islam, muslim, isis, goat, iran, terrorist, bomb, islamophobia, arab</td>\n",
       "    </tr>\n",
       "    <tr>\n",
       "      <th>White people</th>\n",
       "      <td>supremacist, nationalists, supremacists, white, brothers, virgin, devil, nazi, chick, neo</td>\n",
       "    </tr>\n",
       "    <tr>\n",
       "      <th>Women</th>\n",
       "      <td>feminism, hoes, sexist, feminists, chad, sluts, feminist, hoe, tits, vagina</td>\n",
       "    </tr>\n",
       "  </tbody>\n",
       "</table>\n",
       "</div>"
      ],
      "text/plain": [
       "                                                                                                                Top terms\n",
       "Identity                                                                                                                 \n",
       "Asian people                                     ching, chong, chinese, china, asian, japan, japanese, chink, korea, gook\n",
       "Black people                                        niggas, black, nigga, nfl, unarmed, africa, monkeys, negro, coon, cop\n",
       "Christians                priest, christianity, catholics, jesus, catholic, bible, christians, christian, christ, priests\n",
       "Jews                                              jewish, oven, zionist, gas, holocaust, jews, israel, jew, hitler, koran\n",
       "Latinx people                           beaner, latino, mexico, latinos, latin, spic, mexicans, mexican, beaners, wetback\n",
       "LGBTQ+ people   homosexual, homosexuality, transgendered, queers, homosexuals, transgender, gay, heterosexual, fag, queer\n",
       "Men                                                  male, penis, incel, dollar, men, man, bisexual, males, cucks, gender\n",
       "Muslims, Arabs                              islamic, islam, muslim, isis, goat, iran, terrorist, bomb, islamophobia, arab\n",
       "White people                    supremacist, nationalists, supremacists, white, brothers, virgin, devil, nazi, chick, neo\n",
       "Women                                         feminism, hoes, sexist, feminists, chad, sluts, feminist, hoe, tits, vagina"
      ]
     },
     "metadata": {},
     "output_type": "display_data"
    },
    {
     "data": {
      "text/html": [
       "<div>\n",
       "<style scoped>\n",
       "    .dataframe tbody tr th:only-of-type {\n",
       "        vertical-align: middle;\n",
       "    }\n",
       "\n",
       "    .dataframe tbody tr th {\n",
       "        vertical-align: top;\n",
       "    }\n",
       "\n",
       "    .dataframe thead th {\n",
       "        text-align: right;\n",
       "    }\n",
       "</style>\n",
       "<table border=\"1\" class=\"dataframe\">\n",
       "  <thead>\n",
       "    <tr style=\"text-align: right;\">\n",
       "      <th></th>\n",
       "      <th>Top terms</th>\n",
       "    </tr>\n",
       "    <tr>\n",
       "      <th>Categories</th>\n",
       "      <th></th>\n",
       "    </tr>\n",
       "  </thead>\n",
       "  <tbody>\n",
       "    <tr>\n",
       "      <th>gender/sexuality</th>\n",
       "      <td>dyke, transgender, bathroom, queer, queers, lesbian, trannies, fag, trans, dykes</td>\n",
       "    </tr>\n",
       "    <tr>\n",
       "      <th>race/ethnicity</th>\n",
       "      <td>black, blacks, chinese, chicago, blm, asian, races, nationalists, whitey, asians</td>\n",
       "    </tr>\n",
       "    <tr>\n",
       "      <th>religion</th>\n",
       "      <td>priest, catholic, catholics, ash, christians, chamber, bishops, santa, christianity, christian</td>\n",
       "    </tr>\n",
       "  </tbody>\n",
       "</table>\n",
       "</div>"
      ],
      "text/plain": [
       "                                                                                                       Top terms\n",
       "Categories                                                                                                      \n",
       "gender/sexuality                dyke, transgender, bathroom, queer, queers, lesbian, trannies, fag, trans, dykes\n",
       "race/ethnicity                  black, blacks, chinese, chicago, blm, asian, races, nationalists, whitey, asians\n",
       "religion          priest, catholic, catholics, ash, christians, chamber, bishops, santa, christianity, christian"
      ]
     },
     "metadata": {},
     "output_type": "display_data"
    },
    {
     "data": {
      "text/html": [
       "<div>\n",
       "<style scoped>\n",
       "    .dataframe tbody tr th:only-of-type {\n",
       "        vertical-align: middle;\n",
       "    }\n",
       "\n",
       "    .dataframe tbody tr th {\n",
       "        vertical-align: top;\n",
       "    }\n",
       "\n",
       "    .dataframe thead th {\n",
       "        text-align: right;\n",
       "    }\n",
       "</style>\n",
       "<table border=\"1\" class=\"dataframe\">\n",
       "  <thead>\n",
       "    <tr style=\"text-align: right;\">\n",
       "      <th></th>\n",
       "      <th>Top terms</th>\n",
       "    </tr>\n",
       "    <tr>\n",
       "      <th>Power</th>\n",
       "      <th></th>\n",
       "    </tr>\n",
       "  </thead>\n",
       "  <tbody>\n",
       "    <tr>\n",
       "      <th>hegemonic</th>\n",
       "      <td>priest, catholic, priests, jesus, catholics, bible, supremacists, virgin, christian, christ</td>\n",
       "    </tr>\n",
       "    <tr>\n",
       "      <th>marginalized</th>\n",
       "      <td>black, nigger, muslims, muslim, blacks, she, her, women, woman, my</td>\n",
       "    </tr>\n",
       "  </tbody>\n",
       "</table>\n",
       "</div>"
      ],
      "text/plain": [
       "                                                                                                Top terms\n",
       "Power                                                                                                    \n",
       "hegemonic     priest, catholic, priests, jesus, catholics, bible, supremacists, virgin, christian, christ\n",
       "marginalized                           black, nigger, muslims, muslim, blacks, she, her, women, woman, my"
      ]
     },
     "metadata": {},
     "output_type": "display_data"
    }
   ],
   "source": [
    "import os\n",
    "import pandas as pd\n",
    "from IPython.display import display\n",
    "\n",
    "split_types = ['identity', 'categories', 'power']\n",
    "for split_type in split_types:\n",
    "    n_words = 10\n",
    "    vocab_size = 2000\n",
    "    sage_outpath = f'/home/mamille3/SAGE/py-sage/output/{split_type}_{n_words}words_{vocab_size}vocab.csv'\n",
    "    results = pd.read_csv(sage_outpath, sep='\\t')\n",
    "    # results['split'] = results.source.str.slice(len(f'input/{split_type}/'), -1*(len('_sents.txt')))\n",
    "    results['split'] = results.source.map(lambda x: os.path.basename(x)[:-1*(len('_sents.txt'))])\n",
    "    # results\n",
    "\n",
    "    pd.set_option('display.max_colwidth', None)\n",
    "    top_terms = results.groupby('split').agg({'word': ', '.join})\n",
    "    if split_type == 'identity':\n",
    "        top_terms.drop('people_of_color', inplace=True)\n",
    "        top_terms.index = top_terms.index.str.replace('_', ' ')\n",
    "        top_terms.index = top_terms.index.str.capitalize()\n",
    "    elif split_type == 'categories':\n",
    "        top_terms.index = top_terms.index.str.replace('_', '/')\n",
    "    top_terms.index.name = split_type.capitalize()\n",
    "    top_terms.columns = ['Top terms']\n",
    "    if split_type == 'identity':\n",
    "        top_terms = top_terms.rename(index={'Lgbtq+ people': 'LGBTQ+ people', 'Muslims and arabic middle eastern people': 'Muslims, Arabs'})\n",
    "    display(top_terms)"
   ]
  },
  {
   "cell_type": "code",
   "execution_count": 20,
   "id": "a36edbfd-4b05-4e6b-9014-feeba1424f11",
   "metadata": {},
   "outputs": [
    {
     "name": "stdout",
     "output_type": "stream",
     "text": [
      "\\begin{table*}\n",
      "\\caption{Most representative terms in corpora divided by target identity power from SAGE}\n",
      "\\label{power_sage}\n",
      "\\begin{tabular}{ll}\n",
      "\\toprule\n",
      "Power & Top terms \\\\\n",
      "\\midrule\n",
      "hegemonic & catholic, jesus, supremacists, christian, church, boys, christianity, boy, supremacist, mudshark \\\\\n",
      "marginalized & black, nigger, muslims, muslim, blacks, she, her, women, woman, my \\\\\n",
      "\\bottomrule\n",
      "\\end{tabular}\n",
      "\\end{table*}\n",
      "\n"
     ]
    }
   ],
   "source": [
    "latex = top_terms.style.to_latex(hrules=True, label=f'{split_type}_sage', caption=f'Most representative terms in corpora divided by target identity {split_type} from SAGE', environment='table*')\n",
    "latex = latex.replace(' & Top terms', f'{split_type.capitalize()} & Top terms').replace(f'{split_type.capitalize()} &  \\\\\\\\\\n', '').replace(' people', '').replace('hegemonic', 'dominant')\n",
    "print(latex)"
   ]
  }
 ],
 "metadata": {
  "kernelspec": {
   "display_name": "Python 3 (ipykernel)",
   "language": "python",
   "name": "python3"
  },
  "language_info": {
   "codemirror_mode": {
    "name": "ipython",
    "version": 3
   },
   "file_extension": ".py",
   "mimetype": "text/x-python",
   "name": "python",
   "nbconvert_exporter": "python",
   "pygments_lexer": "ipython3",
   "version": "3.8.13"
  }
 },
 "nbformat": 4,
 "nbformat_minor": 5
}
