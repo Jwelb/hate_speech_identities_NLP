{
 "cells": [
  {
   "cell_type": "markdown",
   "id": "b76075a8-78e9-4190-a684-69d0cd09c939",
   "metadata": {},
   "source": [
    "Evaluate Josh's (Carley lab) hate speech classifier on dataset splits"
   ]
  },
  {
   "cell_type": "markdown",
   "id": "fbeebe2d-f937-414b-8f6c-48c79417130d",
   "metadata": {},
   "source": [
    "# Load predictions"
   ]
  },
  {
   "cell_type": "code",
   "execution_count": 1,
   "id": "7a1931d0-014a-4dae-9ddc-aff5b23a2c50",
   "metadata": {},
   "outputs": [],
   "source": [
    "dataset = 'kennedy2020'\n",
    "dirpath = '/storage2/mamille3/data/hate_speech/kennedy2020/josh_hate_speech_output/'"
   ]
  }
 ],
 "metadata": {
  "kernelspec": {
   "display_name": "Python 3 (ipykernel)",
   "language": "python",
   "name": "python3"
  },
  "language_info": {
   "codemirror_mode": {
    "name": "ipython",
    "version": 3
   },
   "file_extension": ".py",
   "mimetype": "text/x-python",
   "name": "python",
   "nbconvert_exporter": "python",
   "pygments_lexer": "ipython3",
   "version": "3.9.7"
  }
 },
 "nbformat": 4,
 "nbformat_minor": 5
}
