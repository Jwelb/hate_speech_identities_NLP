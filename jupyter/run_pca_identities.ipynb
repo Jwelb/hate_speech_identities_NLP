{
 "cells": [
  {
   "cell_type": "markdown",
   "id": "893d4653-4d13-4011-9088-595a1ab6ee1e",
   "metadata": {},
   "source": [
    "# Train and evaluate LR hate speech classifiers\n",
    "Load data, extract features, train classifiers, evaluate"
   ]
  },
  {
   "cell_type": "markdown",
   "id": "749237cb-595e-4ccc-9d1f-d947a07efc14",
   "metadata": {
    "tags": []
   },
   "source": [
    "## With train/dev/test sets"
   ]
  },
  {
   "cell_type": "code",
   "execution_count": 1,
   "id": "ec3c2954-cbe8-4c51-a282-cabb4afaf399",
   "metadata": {},
   "outputs": [
    {
     "data": {
      "text/plain": [
       "20"
      ]
     },
     "execution_count": 1,
     "metadata": {},
     "output_type": "execute_result"
    }
   ],
   "source": [
    "# Load data\n",
    "import pickle\n",
    "import pdb\n",
    "from sklearn.feature_extraction.text import TfidfVectorizer\n",
    "from sklearn.linear_model import LogisticRegression\n",
    "from sklearn.metrics import classification_report, confusion_matrix, f1_score\n",
    "import pandas as pd\n",
    "from scipy.stats import chisquare\n",
    "from IPython.display import display\n",
    "from tqdm.notebook import tqdm\n",
    "\n",
    "scores = {}\n",
    "# f1_scores = [] # List of dicts with keys: dataset, split, f1 (to create df)\n",
    "# sigs = []\n",
    "preds = {}\n",
    "\n",
    "# Load identity split folds\n",
    "hate_ratio = 0.3\n",
    "path = f'/storage2/mamille3/hegemonic_hate/identity_splits_{hate_ratio}hate.pkl'\n",
    "with open(path, 'rb') as f:\n",
    "    identity_folds = pickle.load(f)\n",
    "len(identity_folds) "
   ]
  },
  {
   "cell_type": "code",
   "execution_count": 2,
   "id": "8ee47c19-c535-4695-a410-ba3d221c6bc3",
   "metadata": {
    "scrolled": true,
    "tags": []
   },
   "outputs": [
    {
     "data": {
      "application/vnd.jupyter.widget-view+json": {
       "model_id": "1c0afb0837454081ab277440987241f2",
       "version_major": 2,
       "version_minor": 0
      },
      "text/plain": [
       "  0%|          | 0/20 [00:00<?, ?it/s]"
      ]
     },
     "metadata": {},
     "output_type": "display_data"
    },
    {
     "name": "stdout",
     "output_type": "stream",
     "text": [
      "('elsherief2021', 'people of color')\n",
      "Extracting features...\n",
      "Training model...\n",
      "Evaluating...\n",
      "\n",
      "('elsherief2021', 'white people')\n",
      "Extracting features...\n",
      "Training model...\n",
      "Evaluating...\n",
      "\n",
      "('kennedy2020', 'asian people')\n",
      "Extracting features...\n",
      "Training model...\n",
      "Evaluating...\n",
      "\n",
      "('kennedy2020', 'black people')\n",
      "Extracting features...\n",
      "Training model...\n",
      "Evaluating...\n",
      "\n",
      "('kennedy2020', 'immigrants')\n",
      "Extracting features...\n",
      "Training model...\n",
      "Evaluating...\n",
      "\n",
      "('kennedy2020', 'lgbtq+ people')\n",
      "Extracting features...\n",
      "Training model...\n",
      "Evaluating...\n",
      "\n",
      "('kennedy2020', 'men')\n",
      "Extracting features...\n",
      "Training model...\n",
      "Evaluating...\n",
      "\n",
      "('kennedy2020', 'muslims and arabic/middle eastern people')\n",
      "Extracting features...\n",
      "Training model...\n",
      "Evaluating...\n",
      "\n",
      "('kennedy2020', 'people of color')\n",
      "Extracting features...\n",
      "Training model...\n",
      "Evaluating...\n",
      "\n",
      "('kennedy2020', 'people with disabilities')\n",
      "Extracting features...\n",
      "Training model...\n",
      "Evaluating...\n",
      "\n",
      "('kennedy2020', 'straight people')\n",
      "Extracting features...\n",
      "Training model...\n",
      "Evaluating...\n",
      "\n",
      "('kennedy2020', 'white people')\n",
      "Extracting features...\n",
      "Training model...\n",
      "Evaluating...\n",
      "\n",
      "('kennedy2020', 'women')\n",
      "Extracting features...\n",
      "Training model...\n",
      "Evaluating...\n",
      "\n",
      "('sbic', 'black people')\n",
      "Extracting features...\n",
      "Training model...\n",
      "Evaluating...\n",
      "\n",
      "('sbic', 'jews')\n",
      "Extracting features...\n",
      "Training model...\n",
      "Evaluating...\n",
      "\n",
      "('sbic', 'lgbtq+ people')\n",
      "Extracting features...\n",
      "Training model...\n",
      "Evaluating...\n",
      "\n",
      "('sbic', 'people of color')\n",
      "Extracting features...\n",
      "Training model...\n",
      "Evaluating...\n",
      "\n",
      "('sbic', 'people with disabilities')\n",
      "Extracting features...\n",
      "Training model...\n",
      "Evaluating...\n",
      "\n",
      "('sbic', 'victims of violence')\n",
      "Extracting features...\n",
      "Training model...\n",
      "Evaluating...\n",
      "\n",
      "('sbic', 'women')\n",
      "Extracting features...\n",
      "Training model...\n",
      "Evaluating...\n",
      "\n"
     ]
    },
    {
     "data": {
      "text/html": [
       "<div>\n",
       "<style scoped>\n",
       "    .dataframe tbody tr th:only-of-type {\n",
       "        vertical-align: middle;\n",
       "    }\n",
       "\n",
       "    .dataframe tbody tr th {\n",
       "        vertical-align: top;\n",
       "    }\n",
       "\n",
       "    .dataframe thead th {\n",
       "        text-align: right;\n",
       "    }\n",
       "</style>\n",
       "<table border=\"1\" class=\"dataframe\">\n",
       "  <thead>\n",
       "    <tr style=\"text-align: right;\">\n",
       "      <th></th>\n",
       "      <th>(elsherief2021, people of color)</th>\n",
       "      <th>(elsherief2021, white people)</th>\n",
       "      <th>(kennedy2020, asian people)</th>\n",
       "      <th>(kennedy2020, black people)</th>\n",
       "      <th>(kennedy2020, immigrants)</th>\n",
       "      <th>(kennedy2020, lgbtq+ people)</th>\n",
       "      <th>(kennedy2020, men)</th>\n",
       "      <th>(kennedy2020, muslims and arabic/middle eastern people)</th>\n",
       "      <th>(kennedy2020, people of color)</th>\n",
       "      <th>(kennedy2020, people with disabilities)</th>\n",
       "      <th>(kennedy2020, straight people)</th>\n",
       "      <th>(kennedy2020, white people)</th>\n",
       "      <th>(kennedy2020, women)</th>\n",
       "      <th>(sbic, black people)</th>\n",
       "      <th>(sbic, jews)</th>\n",
       "      <th>(sbic, lgbtq+ people)</th>\n",
       "      <th>(sbic, people of color)</th>\n",
       "      <th>(sbic, people with disabilities)</th>\n",
       "      <th>(sbic, victims of violence)</th>\n",
       "      <th>(sbic, women)</th>\n",
       "    </tr>\n",
       "    <tr>\n",
       "      <th>train_dataset</th>\n",
       "      <th></th>\n",
       "      <th></th>\n",
       "      <th></th>\n",
       "      <th></th>\n",
       "      <th></th>\n",
       "      <th></th>\n",
       "      <th></th>\n",
       "      <th></th>\n",
       "      <th></th>\n",
       "      <th></th>\n",
       "      <th></th>\n",
       "      <th></th>\n",
       "      <th></th>\n",
       "      <th></th>\n",
       "      <th></th>\n",
       "      <th></th>\n",
       "      <th></th>\n",
       "      <th></th>\n",
       "      <th></th>\n",
       "      <th></th>\n",
       "    </tr>\n",
       "  </thead>\n",
       "  <tbody>\n",
       "    <tr>\n",
       "      <th>(elsherief2021, people of color)</th>\n",
       "      <td>0.474701</td>\n",
       "      <td>0.437811</td>\n",
       "      <td>0.161943</td>\n",
       "      <td>0.154696</td>\n",
       "      <td>0.175655</td>\n",
       "      <td>0.019553</td>\n",
       "      <td>0.016129</td>\n",
       "      <td>0.077170</td>\n",
       "      <td>0.160656</td>\n",
       "      <td>0.007859</td>\n",
       "      <td>0.016949</td>\n",
       "      <td>0.127660</td>\n",
       "      <td>0.013937</td>\n",
       "      <td>0.329041</td>\n",
       "      <td>0.043011</td>\n",
       "      <td>0.008511</td>\n",
       "      <td>0.322087</td>\n",
       "      <td>0.009732</td>\n",
       "      <td>0.026726</td>\n",
       "      <td>0.016918</td>\n",
       "    </tr>\n",
       "    <tr>\n",
       "      <th>(elsherief2021, white people)</th>\n",
       "      <td>0.346555</td>\n",
       "      <td>0.464122</td>\n",
       "      <td>0.037559</td>\n",
       "      <td>0.025696</td>\n",
       "      <td>0.010619</td>\n",
       "      <td>0.017316</td>\n",
       "      <td>0.025424</td>\n",
       "      <td>0.010508</td>\n",
       "      <td>0.015326</td>\n",
       "      <td>0.008197</td>\n",
       "      <td>0.009050</td>\n",
       "      <td>0.143885</td>\n",
       "      <td>0.002967</td>\n",
       "      <td>0.034522</td>\n",
       "      <td>0.009524</td>\n",
       "      <td>0.013015</td>\n",
       "      <td>0.039828</td>\n",
       "      <td>0.000000</td>\n",
       "      <td>0.000000</td>\n",
       "      <td>0.003715</td>\n",
       "    </tr>\n",
       "    <tr>\n",
       "      <th>(kennedy2020, asian people)</th>\n",
       "      <td>0.002878</td>\n",
       "      <td>0.000000</td>\n",
       "      <td>0.232365</td>\n",
       "      <td>0.219282</td>\n",
       "      <td>0.259660</td>\n",
       "      <td>0.222508</td>\n",
       "      <td>0.211765</td>\n",
       "      <td>0.238760</td>\n",
       "      <td>0.305691</td>\n",
       "      <td>0.333907</td>\n",
       "      <td>0.190871</td>\n",
       "      <td>0.286689</td>\n",
       "      <td>0.232770</td>\n",
       "      <td>0.013714</td>\n",
       "      <td>0.015601</td>\n",
       "      <td>0.017241</td>\n",
       "      <td>0.017177</td>\n",
       "      <td>0.009709</td>\n",
       "      <td>0.008949</td>\n",
       "      <td>0.007313</td>\n",
       "    </tr>\n",
       "    <tr>\n",
       "      <th>(kennedy2020, black people)</th>\n",
       "      <td>0.020029</td>\n",
       "      <td>0.004808</td>\n",
       "      <td>0.265625</td>\n",
       "      <td>0.516035</td>\n",
       "      <td>0.207519</td>\n",
       "      <td>0.232024</td>\n",
       "      <td>0.298812</td>\n",
       "      <td>0.184799</td>\n",
       "      <td>0.595477</td>\n",
       "      <td>0.310966</td>\n",
       "      <td>0.277154</td>\n",
       "      <td>0.334385</td>\n",
       "      <td>0.330673</td>\n",
       "      <td>0.171129</td>\n",
       "      <td>0.018634</td>\n",
       "      <td>0.041667</td>\n",
       "      <td>0.181640</td>\n",
       "      <td>0.000000</td>\n",
       "      <td>0.008919</td>\n",
       "      <td>0.044205</td>\n",
       "    </tr>\n",
       "    <tr>\n",
       "      <th>(kennedy2020, immigrants)</th>\n",
       "      <td>0.017021</td>\n",
       "      <td>0.004773</td>\n",
       "      <td>0.490066</td>\n",
       "      <td>0.284710</td>\n",
       "      <td>0.592593</td>\n",
       "      <td>0.162821</td>\n",
       "      <td>0.169884</td>\n",
       "      <td>0.419817</td>\n",
       "      <td>0.304821</td>\n",
       "      <td>0.184116</td>\n",
       "      <td>0.132231</td>\n",
       "      <td>0.269231</td>\n",
       "      <td>0.164630</td>\n",
       "      <td>0.026981</td>\n",
       "      <td>0.021505</td>\n",
       "      <td>0.008511</td>\n",
       "      <td>0.029583</td>\n",
       "      <td>0.019185</td>\n",
       "      <td>0.020045</td>\n",
       "      <td>0.015606</td>\n",
       "    </tr>\n",
       "    <tr>\n",
       "      <th>(kennedy2020, lgbtq+ people)</th>\n",
       "      <td>0.002894</td>\n",
       "      <td>0.004819</td>\n",
       "      <td>0.293436</td>\n",
       "      <td>0.269231</td>\n",
       "      <td>0.156006</td>\n",
       "      <td>0.654595</td>\n",
       "      <td>0.606676</td>\n",
       "      <td>0.175492</td>\n",
       "      <td>0.297468</td>\n",
       "      <td>0.552486</td>\n",
       "      <td>0.574018</td>\n",
       "      <td>0.299363</td>\n",
       "      <td>0.578895</td>\n",
       "      <td>0.014857</td>\n",
       "      <td>0.009434</td>\n",
       "      <td>0.274583</td>\n",
       "      <td>0.017251</td>\n",
       "      <td>0.019277</td>\n",
       "      <td>0.013378</td>\n",
       "      <td>0.039711</td>\n",
       "    </tr>\n",
       "    <tr>\n",
       "      <th>(kennedy2020, men)</th>\n",
       "      <td>0.002878</td>\n",
       "      <td>0.009547</td>\n",
       "      <td>0.272727</td>\n",
       "      <td>0.325282</td>\n",
       "      <td>0.159398</td>\n",
       "      <td>0.625734</td>\n",
       "      <td>0.558074</td>\n",
       "      <td>0.201439</td>\n",
       "      <td>0.316100</td>\n",
       "      <td>0.452830</td>\n",
       "      <td>0.558559</td>\n",
       "      <td>0.352941</td>\n",
       "      <td>0.575213</td>\n",
       "      <td>0.034311</td>\n",
       "      <td>0.009217</td>\n",
       "      <td>0.239252</td>\n",
       "      <td>0.040966</td>\n",
       "      <td>0.023202</td>\n",
       "      <td>0.036957</td>\n",
       "      <td>0.079861</td>\n",
       "    </tr>\n",
       "    <tr>\n",
       "      <th>(kennedy2020, muslims and arabic/middle eastern people)</th>\n",
       "      <td>0.011096</td>\n",
       "      <td>0.004662</td>\n",
       "      <td>0.427586</td>\n",
       "      <td>0.292254</td>\n",
       "      <td>0.541872</td>\n",
       "      <td>0.176545</td>\n",
       "      <td>0.210526</td>\n",
       "      <td>0.574371</td>\n",
       "      <td>0.313665</td>\n",
       "      <td>0.315091</td>\n",
       "      <td>0.218750</td>\n",
       "      <td>0.265372</td>\n",
       "      <td>0.192527</td>\n",
       "      <td>0.013699</td>\n",
       "      <td>0.040062</td>\n",
       "      <td>0.012685</td>\n",
       "      <td>0.020310</td>\n",
       "      <td>0.019277</td>\n",
       "      <td>0.015608</td>\n",
       "      <td>0.003654</td>\n",
       "    </tr>\n",
       "    <tr>\n",
       "      <th>(kennedy2020, people of color)</th>\n",
       "      <td>0.028450</td>\n",
       "      <td>0.019139</td>\n",
       "      <td>0.506579</td>\n",
       "      <td>0.618529</td>\n",
       "      <td>0.318560</td>\n",
       "      <td>0.269924</td>\n",
       "      <td>0.350245</td>\n",
       "      <td>0.248555</td>\n",
       "      <td>0.558376</td>\n",
       "      <td>0.466667</td>\n",
       "      <td>0.324723</td>\n",
       "      <td>0.438596</td>\n",
       "      <td>0.359401</td>\n",
       "      <td>0.162924</td>\n",
       "      <td>0.021505</td>\n",
       "      <td>0.020790</td>\n",
       "      <td>0.175610</td>\n",
       "      <td>0.018913</td>\n",
       "      <td>0.013201</td>\n",
       "      <td>0.056173</td>\n",
       "    </tr>\n",
       "    <tr>\n",
       "      <th>(kennedy2020, people with disabilities)</th>\n",
       "      <td>0.000000</td>\n",
       "      <td>0.000000</td>\n",
       "      <td>0.205128</td>\n",
       "      <td>0.128155</td>\n",
       "      <td>0.072041</td>\n",
       "      <td>0.321450</td>\n",
       "      <td>0.333938</td>\n",
       "      <td>0.089404</td>\n",
       "      <td>0.156028</td>\n",
       "      <td>0.646409</td>\n",
       "      <td>0.226721</td>\n",
       "      <td>0.212766</td>\n",
       "      <td>0.304239</td>\n",
       "      <td>0.008088</td>\n",
       "      <td>0.006349</td>\n",
       "      <td>0.075157</td>\n",
       "      <td>0.009777</td>\n",
       "      <td>0.153499</td>\n",
       "      <td>0.002262</td>\n",
       "      <td>0.023171</td>\n",
       "    </tr>\n",
       "    <tr>\n",
       "      <th>(kennedy2020, straight people)</th>\n",
       "      <td>0.002894</td>\n",
       "      <td>0.004819</td>\n",
       "      <td>0.161290</td>\n",
       "      <td>0.255613</td>\n",
       "      <td>0.085039</td>\n",
       "      <td>0.478659</td>\n",
       "      <td>0.479514</td>\n",
       "      <td>0.109924</td>\n",
       "      <td>0.186795</td>\n",
       "      <td>0.366718</td>\n",
       "      <td>0.520124</td>\n",
       "      <td>0.273292</td>\n",
       "      <td>0.540039</td>\n",
       "      <td>0.017045</td>\n",
       "      <td>0.009346</td>\n",
       "      <td>0.128257</td>\n",
       "      <td>0.022460</td>\n",
       "      <td>0.014388</td>\n",
       "      <td>0.015419</td>\n",
       "      <td>0.063943</td>\n",
       "    </tr>\n",
       "    <tr>\n",
       "      <th>(kennedy2020, white people)</th>\n",
       "      <td>0.257085</td>\n",
       "      <td>0.389490</td>\n",
       "      <td>0.294574</td>\n",
       "      <td>0.248649</td>\n",
       "      <td>0.138264</td>\n",
       "      <td>0.242125</td>\n",
       "      <td>0.307965</td>\n",
       "      <td>0.179567</td>\n",
       "      <td>0.258065</td>\n",
       "      <td>0.340568</td>\n",
       "      <td>0.304183</td>\n",
       "      <td>0.500000</td>\n",
       "      <td>0.312312</td>\n",
       "      <td>0.034188</td>\n",
       "      <td>0.018838</td>\n",
       "      <td>0.012987</td>\n",
       "      <td>0.032223</td>\n",
       "      <td>0.009828</td>\n",
       "      <td>0.004510</td>\n",
       "      <td>0.004911</td>\n",
       "    </tr>\n",
       "    <tr>\n",
       "      <th>(kennedy2020, women)</th>\n",
       "      <td>0.002890</td>\n",
       "      <td>0.004808</td>\n",
       "      <td>0.339350</td>\n",
       "      <td>0.308682</td>\n",
       "      <td>0.205797</td>\n",
       "      <td>0.672751</td>\n",
       "      <td>0.616438</td>\n",
       "      <td>0.210227</td>\n",
       "      <td>0.308148</td>\n",
       "      <td>0.497948</td>\n",
       "      <td>0.638655</td>\n",
       "      <td>0.318584</td>\n",
       "      <td>0.664948</td>\n",
       "      <td>0.032312</td>\n",
       "      <td>0.009274</td>\n",
       "      <td>0.240437</td>\n",
       "      <td>0.025184</td>\n",
       "      <td>0.041475</td>\n",
       "      <td>0.051392</td>\n",
       "      <td>0.148641</td>\n",
       "    </tr>\n",
       "    <tr>\n",
       "      <th>(sbic, black people)</th>\n",
       "      <td>0.478918</td>\n",
       "      <td>0.458839</td>\n",
       "      <td>0.161765</td>\n",
       "      <td>0.498674</td>\n",
       "      <td>0.054217</td>\n",
       "      <td>0.053823</td>\n",
       "      <td>0.137124</td>\n",
       "      <td>0.075691</td>\n",
       "      <td>0.508631</td>\n",
       "      <td>0.115254</td>\n",
       "      <td>0.081481</td>\n",
       "      <td>0.221574</td>\n",
       "      <td>0.078049</td>\n",
       "      <td>0.824373</td>\n",
       "      <td>0.304291</td>\n",
       "      <td>0.101563</td>\n",
       "      <td>0.808062</td>\n",
       "      <td>0.101996</td>\n",
       "      <td>0.168651</td>\n",
       "      <td>0.107503</td>\n",
       "    </tr>\n",
       "    <tr>\n",
       "      <th>(sbic, jews)</th>\n",
       "      <td>0.002743</td>\n",
       "      <td>0.039735</td>\n",
       "      <td>0.018957</td>\n",
       "      <td>0.038136</td>\n",
       "      <td>0.042328</td>\n",
       "      <td>0.028860</td>\n",
       "      <td>0.004348</td>\n",
       "      <td>0.064957</td>\n",
       "      <td>0.026667</td>\n",
       "      <td>0.084337</td>\n",
       "      <td>0.027397</td>\n",
       "      <td>0.090909</td>\n",
       "      <td>0.017725</td>\n",
       "      <td>0.190923</td>\n",
       "      <td>0.846224</td>\n",
       "      <td>0.078351</td>\n",
       "      <td>0.187439</td>\n",
       "      <td>0.158014</td>\n",
       "      <td>0.291943</td>\n",
       "      <td>0.058229</td>\n",
       "    </tr>\n",
       "    <tr>\n",
       "      <th>(sbic, lgbtq+ people)</th>\n",
       "      <td>0.016854</td>\n",
       "      <td>0.023202</td>\n",
       "      <td>0.048000</td>\n",
       "      <td>0.068053</td>\n",
       "      <td>0.019169</td>\n",
       "      <td>0.428641</td>\n",
       "      <td>0.263959</td>\n",
       "      <td>0.027735</td>\n",
       "      <td>0.063545</td>\n",
       "      <td>0.140234</td>\n",
       "      <td>0.095238</td>\n",
       "      <td>0.021352</td>\n",
       "      <td>0.152450</td>\n",
       "      <td>0.129580</td>\n",
       "      <td>0.095238</td>\n",
       "      <td>0.631277</td>\n",
       "      <td>0.123742</td>\n",
       "      <td>0.154525</td>\n",
       "      <td>0.072727</td>\n",
       "      <td>0.237666</td>\n",
       "    </tr>\n",
       "    <tr>\n",
       "      <th>(sbic, people of color)</th>\n",
       "      <td>0.532172</td>\n",
       "      <td>0.556656</td>\n",
       "      <td>0.181185</td>\n",
       "      <td>0.507692</td>\n",
       "      <td>0.107042</td>\n",
       "      <td>0.059302</td>\n",
       "      <td>0.136808</td>\n",
       "      <td>0.103261</td>\n",
       "      <td>0.504405</td>\n",
       "      <td>0.116129</td>\n",
       "      <td>0.071685</td>\n",
       "      <td>0.303523</td>\n",
       "      <td>0.073286</td>\n",
       "      <td>0.840487</td>\n",
       "      <td>0.371108</td>\n",
       "      <td>0.149813</td>\n",
       "      <td>0.785116</td>\n",
       "      <td>0.154839</td>\n",
       "      <td>0.164032</td>\n",
       "      <td>0.109253</td>\n",
       "    </tr>\n",
       "    <tr>\n",
       "      <th>(sbic, people with disabilities)</th>\n",
       "      <td>0.005682</td>\n",
       "      <td>0.019002</td>\n",
       "      <td>0.037383</td>\n",
       "      <td>0.029167</td>\n",
       "      <td>0.010619</td>\n",
       "      <td>0.078267</td>\n",
       "      <td>0.066806</td>\n",
       "      <td>0.017483</td>\n",
       "      <td>0.041588</td>\n",
       "      <td>0.375415</td>\n",
       "      <td>0.026906</td>\n",
       "      <td>0.023346</td>\n",
       "      <td>0.040404</td>\n",
       "      <td>0.316492</td>\n",
       "      <td>0.216968</td>\n",
       "      <td>0.213483</td>\n",
       "      <td>0.294224</td>\n",
       "      <td>0.656051</td>\n",
       "      <td>0.237223</td>\n",
       "      <td>0.105382</td>\n",
       "    </tr>\n",
       "    <tr>\n",
       "      <th>(sbic, victims of violence)</th>\n",
       "      <td>0.032967</td>\n",
       "      <td>0.031674</td>\n",
       "      <td>0.045872</td>\n",
       "      <td>0.056911</td>\n",
       "      <td>0.051020</td>\n",
       "      <td>0.051893</td>\n",
       "      <td>0.045549</td>\n",
       "      <td>0.067114</td>\n",
       "      <td>0.065217</td>\n",
       "      <td>0.120075</td>\n",
       "      <td>0.076271</td>\n",
       "      <td>0.045113</td>\n",
       "      <td>0.098630</td>\n",
       "      <td>0.414815</td>\n",
       "      <td>0.748363</td>\n",
       "      <td>0.304795</td>\n",
       "      <td>0.382097</td>\n",
       "      <td>0.402957</td>\n",
       "      <td>0.718329</td>\n",
       "      <td>0.297390</td>\n",
       "    </tr>\n",
       "    <tr>\n",
       "      <th>(sbic, women)</th>\n",
       "      <td>0.046639</td>\n",
       "      <td>0.018307</td>\n",
       "      <td>0.160535</td>\n",
       "      <td>0.220588</td>\n",
       "      <td>0.079681</td>\n",
       "      <td>0.323898</td>\n",
       "      <td>0.389404</td>\n",
       "      <td>0.103015</td>\n",
       "      <td>0.196026</td>\n",
       "      <td>0.124098</td>\n",
       "      <td>0.428969</td>\n",
       "      <td>0.115274</td>\n",
       "      <td>0.459125</td>\n",
       "      <td>0.191239</td>\n",
       "      <td>0.163758</td>\n",
       "      <td>0.560333</td>\n",
       "      <td>0.183950</td>\n",
       "      <td>0.176707</td>\n",
       "      <td>0.333333</td>\n",
       "      <td>0.685674</td>\n",
       "    </tr>\n",
       "  </tbody>\n",
       "</table>\n",
       "</div>"
      ],
      "text/plain": [
       "                                                    (elsherief2021, people of color)  \\\n",
       "train_dataset                                                                          \n",
       "(elsherief2021, people of color)                                            0.474701   \n",
       "(elsherief2021, white people)                                               0.346555   \n",
       "(kennedy2020, asian people)                                                 0.002878   \n",
       "(kennedy2020, black people)                                                 0.020029   \n",
       "(kennedy2020, immigrants)                                                   0.017021   \n",
       "(kennedy2020, lgbtq+ people)                                                0.002894   \n",
       "(kennedy2020, men)                                                          0.002878   \n",
       "(kennedy2020, muslims and arabic/middle eastern...                          0.011096   \n",
       "(kennedy2020, people of color)                                              0.028450   \n",
       "(kennedy2020, people with disabilities)                                     0.000000   \n",
       "(kennedy2020, straight people)                                              0.002894   \n",
       "(kennedy2020, white people)                                                 0.257085   \n",
       "(kennedy2020, women)                                                        0.002890   \n",
       "(sbic, black people)                                                        0.478918   \n",
       "(sbic, jews)                                                                0.002743   \n",
       "(sbic, lgbtq+ people)                                                       0.016854   \n",
       "(sbic, people of color)                                                     0.532172   \n",
       "(sbic, people with disabilities)                                            0.005682   \n",
       "(sbic, victims of violence)                                                 0.032967   \n",
       "(sbic, women)                                                               0.046639   \n",
       "\n",
       "                                                    (elsherief2021, white people)  \\\n",
       "train_dataset                                                                       \n",
       "(elsherief2021, people of color)                                         0.437811   \n",
       "(elsherief2021, white people)                                            0.464122   \n",
       "(kennedy2020, asian people)                                              0.000000   \n",
       "(kennedy2020, black people)                                              0.004808   \n",
       "(kennedy2020, immigrants)                                                0.004773   \n",
       "(kennedy2020, lgbtq+ people)                                             0.004819   \n",
       "(kennedy2020, men)                                                       0.009547   \n",
       "(kennedy2020, muslims and arabic/middle eastern...                       0.004662   \n",
       "(kennedy2020, people of color)                                           0.019139   \n",
       "(kennedy2020, people with disabilities)                                  0.000000   \n",
       "(kennedy2020, straight people)                                           0.004819   \n",
       "(kennedy2020, white people)                                              0.389490   \n",
       "(kennedy2020, women)                                                     0.004808   \n",
       "(sbic, black people)                                                     0.458839   \n",
       "(sbic, jews)                                                             0.039735   \n",
       "(sbic, lgbtq+ people)                                                    0.023202   \n",
       "(sbic, people of color)                                                  0.556656   \n",
       "(sbic, people with disabilities)                                         0.019002   \n",
       "(sbic, victims of violence)                                              0.031674   \n",
       "(sbic, women)                                                            0.018307   \n",
       "\n",
       "                                                    (kennedy2020, asian people)  \\\n",
       "train_dataset                                                                     \n",
       "(elsherief2021, people of color)                                       0.161943   \n",
       "(elsherief2021, white people)                                          0.037559   \n",
       "(kennedy2020, asian people)                                            0.232365   \n",
       "(kennedy2020, black people)                                            0.265625   \n",
       "(kennedy2020, immigrants)                                              0.490066   \n",
       "(kennedy2020, lgbtq+ people)                                           0.293436   \n",
       "(kennedy2020, men)                                                     0.272727   \n",
       "(kennedy2020, muslims and arabic/middle eastern...                     0.427586   \n",
       "(kennedy2020, people of color)                                         0.506579   \n",
       "(kennedy2020, people with disabilities)                                0.205128   \n",
       "(kennedy2020, straight people)                                         0.161290   \n",
       "(kennedy2020, white people)                                            0.294574   \n",
       "(kennedy2020, women)                                                   0.339350   \n",
       "(sbic, black people)                                                   0.161765   \n",
       "(sbic, jews)                                                           0.018957   \n",
       "(sbic, lgbtq+ people)                                                  0.048000   \n",
       "(sbic, people of color)                                                0.181185   \n",
       "(sbic, people with disabilities)                                       0.037383   \n",
       "(sbic, victims of violence)                                            0.045872   \n",
       "(sbic, women)                                                          0.160535   \n",
       "\n",
       "                                                    (kennedy2020, black people)  \\\n",
       "train_dataset                                                                     \n",
       "(elsherief2021, people of color)                                       0.154696   \n",
       "(elsherief2021, white people)                                          0.025696   \n",
       "(kennedy2020, asian people)                                            0.219282   \n",
       "(kennedy2020, black people)                                            0.516035   \n",
       "(kennedy2020, immigrants)                                              0.284710   \n",
       "(kennedy2020, lgbtq+ people)                                           0.269231   \n",
       "(kennedy2020, men)                                                     0.325282   \n",
       "(kennedy2020, muslims and arabic/middle eastern...                     0.292254   \n",
       "(kennedy2020, people of color)                                         0.618529   \n",
       "(kennedy2020, people with disabilities)                                0.128155   \n",
       "(kennedy2020, straight people)                                         0.255613   \n",
       "(kennedy2020, white people)                                            0.248649   \n",
       "(kennedy2020, women)                                                   0.308682   \n",
       "(sbic, black people)                                                   0.498674   \n",
       "(sbic, jews)                                                           0.038136   \n",
       "(sbic, lgbtq+ people)                                                  0.068053   \n",
       "(sbic, people of color)                                                0.507692   \n",
       "(sbic, people with disabilities)                                       0.029167   \n",
       "(sbic, victims of violence)                                            0.056911   \n",
       "(sbic, women)                                                          0.220588   \n",
       "\n",
       "                                                    (kennedy2020, immigrants)  \\\n",
       "train_dataset                                                                   \n",
       "(elsherief2021, people of color)                                     0.175655   \n",
       "(elsherief2021, white people)                                        0.010619   \n",
       "(kennedy2020, asian people)                                          0.259660   \n",
       "(kennedy2020, black people)                                          0.207519   \n",
       "(kennedy2020, immigrants)                                            0.592593   \n",
       "(kennedy2020, lgbtq+ people)                                         0.156006   \n",
       "(kennedy2020, men)                                                   0.159398   \n",
       "(kennedy2020, muslims and arabic/middle eastern...                   0.541872   \n",
       "(kennedy2020, people of color)                                       0.318560   \n",
       "(kennedy2020, people with disabilities)                              0.072041   \n",
       "(kennedy2020, straight people)                                       0.085039   \n",
       "(kennedy2020, white people)                                          0.138264   \n",
       "(kennedy2020, women)                                                 0.205797   \n",
       "(sbic, black people)                                                 0.054217   \n",
       "(sbic, jews)                                                         0.042328   \n",
       "(sbic, lgbtq+ people)                                                0.019169   \n",
       "(sbic, people of color)                                              0.107042   \n",
       "(sbic, people with disabilities)                                     0.010619   \n",
       "(sbic, victims of violence)                                          0.051020   \n",
       "(sbic, women)                                                        0.079681   \n",
       "\n",
       "                                                    (kennedy2020, lgbtq+ people)  \\\n",
       "train_dataset                                                                      \n",
       "(elsherief2021, people of color)                                        0.019553   \n",
       "(elsherief2021, white people)                                           0.017316   \n",
       "(kennedy2020, asian people)                                             0.222508   \n",
       "(kennedy2020, black people)                                             0.232024   \n",
       "(kennedy2020, immigrants)                                               0.162821   \n",
       "(kennedy2020, lgbtq+ people)                                            0.654595   \n",
       "(kennedy2020, men)                                                      0.625734   \n",
       "(kennedy2020, muslims and arabic/middle eastern...                      0.176545   \n",
       "(kennedy2020, people of color)                                          0.269924   \n",
       "(kennedy2020, people with disabilities)                                 0.321450   \n",
       "(kennedy2020, straight people)                                          0.478659   \n",
       "(kennedy2020, white people)                                             0.242125   \n",
       "(kennedy2020, women)                                                    0.672751   \n",
       "(sbic, black people)                                                    0.053823   \n",
       "(sbic, jews)                                                            0.028860   \n",
       "(sbic, lgbtq+ people)                                                   0.428641   \n",
       "(sbic, people of color)                                                 0.059302   \n",
       "(sbic, people with disabilities)                                        0.078267   \n",
       "(sbic, victims of violence)                                             0.051893   \n",
       "(sbic, women)                                                           0.323898   \n",
       "\n",
       "                                                    (kennedy2020, men)  \\\n",
       "train_dataset                                                            \n",
       "(elsherief2021, people of color)                              0.016129   \n",
       "(elsherief2021, white people)                                 0.025424   \n",
       "(kennedy2020, asian people)                                   0.211765   \n",
       "(kennedy2020, black people)                                   0.298812   \n",
       "(kennedy2020, immigrants)                                     0.169884   \n",
       "(kennedy2020, lgbtq+ people)                                  0.606676   \n",
       "(kennedy2020, men)                                            0.558074   \n",
       "(kennedy2020, muslims and arabic/middle eastern...            0.210526   \n",
       "(kennedy2020, people of color)                                0.350245   \n",
       "(kennedy2020, people with disabilities)                       0.333938   \n",
       "(kennedy2020, straight people)                                0.479514   \n",
       "(kennedy2020, white people)                                   0.307965   \n",
       "(kennedy2020, women)                                          0.616438   \n",
       "(sbic, black people)                                          0.137124   \n",
       "(sbic, jews)                                                  0.004348   \n",
       "(sbic, lgbtq+ people)                                         0.263959   \n",
       "(sbic, people of color)                                       0.136808   \n",
       "(sbic, people with disabilities)                              0.066806   \n",
       "(sbic, victims of violence)                                   0.045549   \n",
       "(sbic, women)                                                 0.389404   \n",
       "\n",
       "                                                    (kennedy2020, muslims and arabic/middle eastern people)  \\\n",
       "train_dataset                                                                                                 \n",
       "(elsherief2021, people of color)                                                             0.077170         \n",
       "(elsherief2021, white people)                                                                0.010508         \n",
       "(kennedy2020, asian people)                                                                  0.238760         \n",
       "(kennedy2020, black people)                                                                  0.184799         \n",
       "(kennedy2020, immigrants)                                                                    0.419817         \n",
       "(kennedy2020, lgbtq+ people)                                                                 0.175492         \n",
       "(kennedy2020, men)                                                                           0.201439         \n",
       "(kennedy2020, muslims and arabic/middle eastern...                                           0.574371         \n",
       "(kennedy2020, people of color)                                                               0.248555         \n",
       "(kennedy2020, people with disabilities)                                                      0.089404         \n",
       "(kennedy2020, straight people)                                                               0.109924         \n",
       "(kennedy2020, white people)                                                                  0.179567         \n",
       "(kennedy2020, women)                                                                         0.210227         \n",
       "(sbic, black people)                                                                         0.075691         \n",
       "(sbic, jews)                                                                                 0.064957         \n",
       "(sbic, lgbtq+ people)                                                                        0.027735         \n",
       "(sbic, people of color)                                                                      0.103261         \n",
       "(sbic, people with disabilities)                                                             0.017483         \n",
       "(sbic, victims of violence)                                                                  0.067114         \n",
       "(sbic, women)                                                                                0.103015         \n",
       "\n",
       "                                                    (kennedy2020, people of color)  \\\n",
       "train_dataset                                                                        \n",
       "(elsherief2021, people of color)                                          0.160656   \n",
       "(elsherief2021, white people)                                             0.015326   \n",
       "(kennedy2020, asian people)                                               0.305691   \n",
       "(kennedy2020, black people)                                               0.595477   \n",
       "(kennedy2020, immigrants)                                                 0.304821   \n",
       "(kennedy2020, lgbtq+ people)                                              0.297468   \n",
       "(kennedy2020, men)                                                        0.316100   \n",
       "(kennedy2020, muslims and arabic/middle eastern...                        0.313665   \n",
       "(kennedy2020, people of color)                                            0.558376   \n",
       "(kennedy2020, people with disabilities)                                   0.156028   \n",
       "(kennedy2020, straight people)                                            0.186795   \n",
       "(kennedy2020, white people)                                               0.258065   \n",
       "(kennedy2020, women)                                                      0.308148   \n",
       "(sbic, black people)                                                      0.508631   \n",
       "(sbic, jews)                                                              0.026667   \n",
       "(sbic, lgbtq+ people)                                                     0.063545   \n",
       "(sbic, people of color)                                                   0.504405   \n",
       "(sbic, people with disabilities)                                          0.041588   \n",
       "(sbic, victims of violence)                                               0.065217   \n",
       "(sbic, women)                                                             0.196026   \n",
       "\n",
       "                                                    (kennedy2020, people with disabilities)  \\\n",
       "train_dataset                                                                                 \n",
       "(elsherief2021, people of color)                                                   0.007859   \n",
       "(elsherief2021, white people)                                                      0.008197   \n",
       "(kennedy2020, asian people)                                                        0.333907   \n",
       "(kennedy2020, black people)                                                        0.310966   \n",
       "(kennedy2020, immigrants)                                                          0.184116   \n",
       "(kennedy2020, lgbtq+ people)                                                       0.552486   \n",
       "(kennedy2020, men)                                                                 0.452830   \n",
       "(kennedy2020, muslims and arabic/middle eastern...                                 0.315091   \n",
       "(kennedy2020, people of color)                                                     0.466667   \n",
       "(kennedy2020, people with disabilities)                                            0.646409   \n",
       "(kennedy2020, straight people)                                                     0.366718   \n",
       "(kennedy2020, white people)                                                        0.340568   \n",
       "(kennedy2020, women)                                                               0.497948   \n",
       "(sbic, black people)                                                               0.115254   \n",
       "(sbic, jews)                                                                       0.084337   \n",
       "(sbic, lgbtq+ people)                                                              0.140234   \n",
       "(sbic, people of color)                                                            0.116129   \n",
       "(sbic, people with disabilities)                                                   0.375415   \n",
       "(sbic, victims of violence)                                                        0.120075   \n",
       "(sbic, women)                                                                      0.124098   \n",
       "\n",
       "                                                    (kennedy2020, straight people)  \\\n",
       "train_dataset                                                                        \n",
       "(elsherief2021, people of color)                                          0.016949   \n",
       "(elsherief2021, white people)                                             0.009050   \n",
       "(kennedy2020, asian people)                                               0.190871   \n",
       "(kennedy2020, black people)                                               0.277154   \n",
       "(kennedy2020, immigrants)                                                 0.132231   \n",
       "(kennedy2020, lgbtq+ people)                                              0.574018   \n",
       "(kennedy2020, men)                                                        0.558559   \n",
       "(kennedy2020, muslims and arabic/middle eastern...                        0.218750   \n",
       "(kennedy2020, people of color)                                            0.324723   \n",
       "(kennedy2020, people with disabilities)                                   0.226721   \n",
       "(kennedy2020, straight people)                                            0.520124   \n",
       "(kennedy2020, white people)                                               0.304183   \n",
       "(kennedy2020, women)                                                      0.638655   \n",
       "(sbic, black people)                                                      0.081481   \n",
       "(sbic, jews)                                                              0.027397   \n",
       "(sbic, lgbtq+ people)                                                     0.095238   \n",
       "(sbic, people of color)                                                   0.071685   \n",
       "(sbic, people with disabilities)                                          0.026906   \n",
       "(sbic, victims of violence)                                               0.076271   \n",
       "(sbic, women)                                                             0.428969   \n",
       "\n",
       "                                                    (kennedy2020, white people)  \\\n",
       "train_dataset                                                                     \n",
       "(elsherief2021, people of color)                                       0.127660   \n",
       "(elsherief2021, white people)                                          0.143885   \n",
       "(kennedy2020, asian people)                                            0.286689   \n",
       "(kennedy2020, black people)                                            0.334385   \n",
       "(kennedy2020, immigrants)                                              0.269231   \n",
       "(kennedy2020, lgbtq+ people)                                           0.299363   \n",
       "(kennedy2020, men)                                                     0.352941   \n",
       "(kennedy2020, muslims and arabic/middle eastern...                     0.265372   \n",
       "(kennedy2020, people of color)                                         0.438596   \n",
       "(kennedy2020, people with disabilities)                                0.212766   \n",
       "(kennedy2020, straight people)                                         0.273292   \n",
       "(kennedy2020, white people)                                            0.500000   \n",
       "(kennedy2020, women)                                                   0.318584   \n",
       "(sbic, black people)                                                   0.221574   \n",
       "(sbic, jews)                                                           0.090909   \n",
       "(sbic, lgbtq+ people)                                                  0.021352   \n",
       "(sbic, people of color)                                                0.303523   \n",
       "(sbic, people with disabilities)                                       0.023346   \n",
       "(sbic, victims of violence)                                            0.045113   \n",
       "(sbic, women)                                                          0.115274   \n",
       "\n",
       "                                                    (kennedy2020, women)  \\\n",
       "train_dataset                                                              \n",
       "(elsherief2021, people of color)                                0.013937   \n",
       "(elsherief2021, white people)                                   0.002967   \n",
       "(kennedy2020, asian people)                                     0.232770   \n",
       "(kennedy2020, black people)                                     0.330673   \n",
       "(kennedy2020, immigrants)                                       0.164630   \n",
       "(kennedy2020, lgbtq+ people)                                    0.578895   \n",
       "(kennedy2020, men)                                              0.575213   \n",
       "(kennedy2020, muslims and arabic/middle eastern...              0.192527   \n",
       "(kennedy2020, people of color)                                  0.359401   \n",
       "(kennedy2020, people with disabilities)                         0.304239   \n",
       "(kennedy2020, straight people)                                  0.540039   \n",
       "(kennedy2020, white people)                                     0.312312   \n",
       "(kennedy2020, women)                                            0.664948   \n",
       "(sbic, black people)                                            0.078049   \n",
       "(sbic, jews)                                                    0.017725   \n",
       "(sbic, lgbtq+ people)                                           0.152450   \n",
       "(sbic, people of color)                                         0.073286   \n",
       "(sbic, people with disabilities)                                0.040404   \n",
       "(sbic, victims of violence)                                     0.098630   \n",
       "(sbic, women)                                                   0.459125   \n",
       "\n",
       "                                                    (sbic, black people)  \\\n",
       "train_dataset                                                              \n",
       "(elsherief2021, people of color)                                0.329041   \n",
       "(elsherief2021, white people)                                   0.034522   \n",
       "(kennedy2020, asian people)                                     0.013714   \n",
       "(kennedy2020, black people)                                     0.171129   \n",
       "(kennedy2020, immigrants)                                       0.026981   \n",
       "(kennedy2020, lgbtq+ people)                                    0.014857   \n",
       "(kennedy2020, men)                                              0.034311   \n",
       "(kennedy2020, muslims and arabic/middle eastern...              0.013699   \n",
       "(kennedy2020, people of color)                                  0.162924   \n",
       "(kennedy2020, people with disabilities)                         0.008088   \n",
       "(kennedy2020, straight people)                                  0.017045   \n",
       "(kennedy2020, white people)                                     0.034188   \n",
       "(kennedy2020, women)                                            0.032312   \n",
       "(sbic, black people)                                            0.824373   \n",
       "(sbic, jews)                                                    0.190923   \n",
       "(sbic, lgbtq+ people)                                           0.129580   \n",
       "(sbic, people of color)                                         0.840487   \n",
       "(sbic, people with disabilities)                                0.316492   \n",
       "(sbic, victims of violence)                                     0.414815   \n",
       "(sbic, women)                                                   0.191239   \n",
       "\n",
       "                                                    (sbic, jews)  \\\n",
       "train_dataset                                                      \n",
       "(elsherief2021, people of color)                        0.043011   \n",
       "(elsherief2021, white people)                           0.009524   \n",
       "(kennedy2020, asian people)                             0.015601   \n",
       "(kennedy2020, black people)                             0.018634   \n",
       "(kennedy2020, immigrants)                               0.021505   \n",
       "(kennedy2020, lgbtq+ people)                            0.009434   \n",
       "(kennedy2020, men)                                      0.009217   \n",
       "(kennedy2020, muslims and arabic/middle eastern...      0.040062   \n",
       "(kennedy2020, people of color)                          0.021505   \n",
       "(kennedy2020, people with disabilities)                 0.006349   \n",
       "(kennedy2020, straight people)                          0.009346   \n",
       "(kennedy2020, white people)                             0.018838   \n",
       "(kennedy2020, women)                                    0.009274   \n",
       "(sbic, black people)                                    0.304291   \n",
       "(sbic, jews)                                            0.846224   \n",
       "(sbic, lgbtq+ people)                                   0.095238   \n",
       "(sbic, people of color)                                 0.371108   \n",
       "(sbic, people with disabilities)                        0.216968   \n",
       "(sbic, victims of violence)                             0.748363   \n",
       "(sbic, women)                                           0.163758   \n",
       "\n",
       "                                                    (sbic, lgbtq+ people)  \\\n",
       "train_dataset                                                               \n",
       "(elsherief2021, people of color)                                 0.008511   \n",
       "(elsherief2021, white people)                                    0.013015   \n",
       "(kennedy2020, asian people)                                      0.017241   \n",
       "(kennedy2020, black people)                                      0.041667   \n",
       "(kennedy2020, immigrants)                                        0.008511   \n",
       "(kennedy2020, lgbtq+ people)                                     0.274583   \n",
       "(kennedy2020, men)                                               0.239252   \n",
       "(kennedy2020, muslims and arabic/middle eastern...               0.012685   \n",
       "(kennedy2020, people of color)                                   0.020790   \n",
       "(kennedy2020, people with disabilities)                          0.075157   \n",
       "(kennedy2020, straight people)                                   0.128257   \n",
       "(kennedy2020, white people)                                      0.012987   \n",
       "(kennedy2020, women)                                             0.240437   \n",
       "(sbic, black people)                                             0.101563   \n",
       "(sbic, jews)                                                     0.078351   \n",
       "(sbic, lgbtq+ people)                                            0.631277   \n",
       "(sbic, people of color)                                          0.149813   \n",
       "(sbic, people with disabilities)                                 0.213483   \n",
       "(sbic, victims of violence)                                      0.304795   \n",
       "(sbic, women)                                                    0.560333   \n",
       "\n",
       "                                                    (sbic, people of color)  \\\n",
       "train_dataset                                                                 \n",
       "(elsherief2021, people of color)                                   0.322087   \n",
       "(elsherief2021, white people)                                      0.039828   \n",
       "(kennedy2020, asian people)                                        0.017177   \n",
       "(kennedy2020, black people)                                        0.181640   \n",
       "(kennedy2020, immigrants)                                          0.029583   \n",
       "(kennedy2020, lgbtq+ people)                                       0.017251   \n",
       "(kennedy2020, men)                                                 0.040966   \n",
       "(kennedy2020, muslims and arabic/middle eastern...                 0.020310   \n",
       "(kennedy2020, people of color)                                     0.175610   \n",
       "(kennedy2020, people with disabilities)                            0.009777   \n",
       "(kennedy2020, straight people)                                     0.022460   \n",
       "(kennedy2020, white people)                                        0.032223   \n",
       "(kennedy2020, women)                                               0.025184   \n",
       "(sbic, black people)                                               0.808062   \n",
       "(sbic, jews)                                                       0.187439   \n",
       "(sbic, lgbtq+ people)                                              0.123742   \n",
       "(sbic, people of color)                                            0.785116   \n",
       "(sbic, people with disabilities)                                   0.294224   \n",
       "(sbic, victims of violence)                                        0.382097   \n",
       "(sbic, women)                                                      0.183950   \n",
       "\n",
       "                                                    (sbic, people with disabilities)  \\\n",
       "train_dataset                                                                          \n",
       "(elsherief2021, people of color)                                            0.009732   \n",
       "(elsherief2021, white people)                                               0.000000   \n",
       "(kennedy2020, asian people)                                                 0.009709   \n",
       "(kennedy2020, black people)                                                 0.000000   \n",
       "(kennedy2020, immigrants)                                                   0.019185   \n",
       "(kennedy2020, lgbtq+ people)                                                0.019277   \n",
       "(kennedy2020, men)                                                          0.023202   \n",
       "(kennedy2020, muslims and arabic/middle eastern...                          0.019277   \n",
       "(kennedy2020, people of color)                                              0.018913   \n",
       "(kennedy2020, people with disabilities)                                     0.153499   \n",
       "(kennedy2020, straight people)                                              0.014388   \n",
       "(kennedy2020, white people)                                                 0.009828   \n",
       "(kennedy2020, women)                                                        0.041475   \n",
       "(sbic, black people)                                                        0.101996   \n",
       "(sbic, jews)                                                                0.158014   \n",
       "(sbic, lgbtq+ people)                                                       0.154525   \n",
       "(sbic, people of color)                                                     0.154839   \n",
       "(sbic, people with disabilities)                                            0.656051   \n",
       "(sbic, victims of violence)                                                 0.402957   \n",
       "(sbic, women)                                                               0.176707   \n",
       "\n",
       "                                                    (sbic, victims of violence)  \\\n",
       "train_dataset                                                                     \n",
       "(elsherief2021, people of color)                                       0.026726   \n",
       "(elsherief2021, white people)                                          0.000000   \n",
       "(kennedy2020, asian people)                                            0.008949   \n",
       "(kennedy2020, black people)                                            0.008919   \n",
       "(kennedy2020, immigrants)                                              0.020045   \n",
       "(kennedy2020, lgbtq+ people)                                           0.013378   \n",
       "(kennedy2020, men)                                                     0.036957   \n",
       "(kennedy2020, muslims and arabic/middle eastern...                     0.015608   \n",
       "(kennedy2020, people of color)                                         0.013201   \n",
       "(kennedy2020, people with disabilities)                                0.002262   \n",
       "(kennedy2020, straight people)                                         0.015419   \n",
       "(kennedy2020, white people)                                            0.004510   \n",
       "(kennedy2020, women)                                                   0.051392   \n",
       "(sbic, black people)                                                   0.168651   \n",
       "(sbic, jews)                                                           0.291943   \n",
       "(sbic, lgbtq+ people)                                                  0.072727   \n",
       "(sbic, people of color)                                                0.164032   \n",
       "(sbic, people with disabilities)                                       0.237223   \n",
       "(sbic, victims of violence)                                            0.718329   \n",
       "(sbic, women)                                                          0.333333   \n",
       "\n",
       "                                                    (sbic, women)  \n",
       "train_dataset                                                      \n",
       "(elsherief2021, people of color)                         0.016918  \n",
       "(elsherief2021, white people)                            0.003715  \n",
       "(kennedy2020, asian people)                              0.007313  \n",
       "(kennedy2020, black people)                              0.044205  \n",
       "(kennedy2020, immigrants)                                0.015606  \n",
       "(kennedy2020, lgbtq+ people)                             0.039711  \n",
       "(kennedy2020, men)                                       0.079861  \n",
       "(kennedy2020, muslims and arabic/middle eastern...       0.003654  \n",
       "(kennedy2020, people of color)                           0.056173  \n",
       "(kennedy2020, people with disabilities)                  0.023171  \n",
       "(kennedy2020, straight people)                           0.063943  \n",
       "(kennedy2020, white people)                              0.004911  \n",
       "(kennedy2020, women)                                     0.148641  \n",
       "(sbic, black people)                                     0.107503  \n",
       "(sbic, jews)                                             0.058229  \n",
       "(sbic, lgbtq+ people)                                    0.237666  \n",
       "(sbic, people of color)                                  0.109253  \n",
       "(sbic, people with disabilities)                         0.105382  \n",
       "(sbic, victims of violence)                              0.297390  \n",
       "(sbic, women)                                            0.685674  "
      ]
     },
     "execution_count": 2,
     "metadata": {},
     "output_type": "execute_result"
    }
   ],
   "source": [
    "clfs = {}\n",
    "scores = []\n",
    "for name, folds in tqdm(identity_folds.items()):\n",
    "    print(name)\n",
    "    \n",
    "    # Extract features\n",
    "    print('Extracting features...')\n",
    "    bow = {}\n",
    "    # Check for NaNs\n",
    "    if folds['train']['text'].isnull().values.any():\n",
    "        pdb.set_trace()\n",
    "    if folds['test']['text'].isnull().values.any():\n",
    "        pdb.set_trace()\n",
    "    vectorizer = TfidfVectorizer(min_df=1)\n",
    "    vectorizer.fit(folds['train']['text']) # corpus is a list of strings (documents)\n",
    "    bow = {}\n",
    "    bow['train'] = vectorizer.transform(folds['train']['text'])\n",
    "    bow['test'] = vectorizer.transform(folds['test']['text'])\n",
    "    bow.keys()\n",
    "\n",
    "    # Train LR model \n",
    "    print('Training model...')\n",
    "    clfs[name] = LogisticRegression(solver='liblinear')\n",
    "    clfs[name].fit(bow['train'], folds['train']['hate'])\n",
    "\n",
    "    # Evaluate\n",
    "    print('Evaluating...')\n",
    "    score_line = {'train_dataset': name}\n",
    "    \n",
    "    for test_name, test_folds in identity_folds.items():\n",
    "        test_bow = vectorizer.transform(test_folds['test']['text'])\n",
    "        preds = clfs[name].predict(test_bow)\n",
    "        score_line[test_name] = f1_score(test_folds['test']['hate'], preds)\n",
    "        # true = data[split]['test']['hate']\n",
    "        # scores[dataset][split] = pd.DataFrame(classification_report(true, preds, output_dict=True))\n",
    "        # f1_scores.append({'dataset': dataset, 'split': split, 'f1_hate': scores[dataset][split].loc['f1-score', 'True']})\n",
    "        # confusion_matrices[dataset][split] = confusion_matrix(true, preds).ravel()\n",
    "        \n",
    "        # print(split)\n",
    "        # display(scores[dataset][split])\n",
    "    scores.append(score_line)\n",
    "        \n",
    "    print()\n",
    "        \n",
    "    # Chi-squared test for significance\n",
    "    # sig = chisquare(*list(confusion_matrices[dataset].values()))\n",
    "    # sig = chisquare(confusion_matrices[dataset]['with_heg'], confusion_matrices[dataset]['no_heg'])\n",
    "    # sigs.append({'dataset': dataset, 'statistic': sig.statistic, 'pvalue': sig.pvalue})\n",
    "\n",
    "scores = pd.DataFrame(scores).set_index('train_dataset')\n",
    "scores"
   ]
  },
  {
   "cell_type": "code",
   "execution_count": 11,
   "id": "5315243a-b035-4e7b-84a1-cad95ee3eaef",
   "metadata": {},
   "outputs": [
    {
     "data": {
      "text/html": [
       "<div>\n",
       "<style scoped>\n",
       "    .dataframe tbody tr th:only-of-type {\n",
       "        vertical-align: middle;\n",
       "    }\n",
       "\n",
       "    .dataframe tbody tr th {\n",
       "        vertical-align: top;\n",
       "    }\n",
       "\n",
       "    .dataframe thead th {\n",
       "        text-align: right;\n",
       "    }\n",
       "</style>\n",
       "<table border=\"1\" class=\"dataframe\">\n",
       "  <thead>\n",
       "    <tr style=\"text-align: right;\">\n",
       "      <th></th>\n",
       "      <th>0</th>\n",
       "      <th>1</th>\n",
       "      <th>group_label</th>\n",
       "    </tr>\n",
       "    <tr>\n",
       "      <th>train_dataset</th>\n",
       "      <th></th>\n",
       "      <th></th>\n",
       "      <th></th>\n",
       "    </tr>\n",
       "  </thead>\n",
       "  <tbody>\n",
       "    <tr>\n",
       "      <th>(elsherief2021, people of color)</th>\n",
       "      <td>0.585698</td>\n",
       "      <td>0.294824</td>\n",
       "      <td>marginalized</td>\n",
       "    </tr>\n",
       "    <tr>\n",
       "      <th>(elsherief2021, white people)</th>\n",
       "      <td>0.422605</td>\n",
       "      <td>-0.006147</td>\n",
       "      <td>hegemonic</td>\n",
       "    </tr>\n",
       "    <tr>\n",
       "      <th>(kennedy2020, asian people)</th>\n",
       "      <td>-0.234962</td>\n",
       "      <td>0.049445</td>\n",
       "      <td>marginalized</td>\n",
       "    </tr>\n",
       "    <tr>\n",
       "      <th>(kennedy2020, black people)</th>\n",
       "      <td>-0.243899</td>\n",
       "      <td>0.328840</td>\n",
       "      <td>marginalized</td>\n",
       "    </tr>\n",
       "    <tr>\n",
       "      <th>(kennedy2020, immigrants)</th>\n",
       "      <td>-0.210347</td>\n",
       "      <td>0.223215</td>\n",
       "      <td>marginalized</td>\n",
       "    </tr>\n",
       "    <tr>\n",
       "      <th>(kennedy2020, lgbtq+ people)</th>\n",
       "      <td>-0.774972</td>\n",
       "      <td>-0.078203</td>\n",
       "      <td>marginalized</td>\n",
       "    </tr>\n",
       "    <tr>\n",
       "      <th>(kennedy2020, men)</th>\n",
       "      <td>-0.710290</td>\n",
       "      <td>-0.029103</td>\n",
       "      <td>hegemonic</td>\n",
       "    </tr>\n",
       "    <tr>\n",
       "      <th>(kennedy2020, muslims and arabic/middle eastern people)</th>\n",
       "      <td>-0.303775</td>\n",
       "      <td>0.215111</td>\n",
       "      <td>marginalized</td>\n",
       "    </tr>\n",
       "    <tr>\n",
       "      <th>(kennedy2020, people of color)</th>\n",
       "      <td>-0.408340</td>\n",
       "      <td>0.454923</td>\n",
       "      <td>marginalized</td>\n",
       "    </tr>\n",
       "    <tr>\n",
       "      <th>(kennedy2020, people with disabilities)</th>\n",
       "      <td>-0.336029</td>\n",
       "      <td>-0.183083</td>\n",
       "      <td>marginalized</td>\n",
       "    </tr>\n",
       "    <tr>\n",
       "      <th>(kennedy2020, straight people)</th>\n",
       "      <td>-0.549325</td>\n",
       "      <td>-0.124192</td>\n",
       "      <td>hegemonic</td>\n",
       "    </tr>\n",
       "    <tr>\n",
       "      <th>(kennedy2020, white people)</th>\n",
       "      <td>-0.200524</td>\n",
       "      <td>0.268616</td>\n",
       "      <td>hegemonic</td>\n",
       "    </tr>\n",
       "    <tr>\n",
       "      <th>(kennedy2020, women)</th>\n",
       "      <td>-0.818699</td>\n",
       "      <td>-0.056372</td>\n",
       "      <td>marginalized</td>\n",
       "    </tr>\n",
       "    <tr>\n",
       "      <th>(sbic, black people)</th>\n",
       "      <td>0.876983</td>\n",
       "      <td>0.604564</td>\n",
       "      <td>marginalized</td>\n",
       "    </tr>\n",
       "    <tr>\n",
       "      <th>(sbic, jews)</th>\n",
       "      <td>0.659656</td>\n",
       "      <td>-0.496001</td>\n",
       "      <td>marginalized</td>\n",
       "    </tr>\n",
       "    <tr>\n",
       "      <th>(sbic, lgbtq+ people)</th>\n",
       "      <td>0.074262</td>\n",
       "      <td>-0.522379</td>\n",
       "      <td>marginalized</td>\n",
       "    </tr>\n",
       "    <tr>\n",
       "      <th>(sbic, people of color)</th>\n",
       "      <td>0.912322</td>\n",
       "      <td>0.643740</td>\n",
       "      <td>marginalized</td>\n",
       "    </tr>\n",
       "    <tr>\n",
       "      <th>(sbic, people with disabilities)</th>\n",
       "      <td>0.503736</td>\n",
       "      <td>-0.482135</td>\n",
       "      <td>marginalized</td>\n",
       "    </tr>\n",
       "    <tr>\n",
       "      <th>(sbic, victims of violence)</th>\n",
       "      <td>0.818032</td>\n",
       "      <td>-0.637200</td>\n",
       "      <td>marginalized</td>\n",
       "    </tr>\n",
       "    <tr>\n",
       "      <th>(sbic, women)</th>\n",
       "      <td>-0.062132</td>\n",
       "      <td>-0.468463</td>\n",
       "      <td>marginalized</td>\n",
       "    </tr>\n",
       "  </tbody>\n",
       "</table>\n",
       "</div>"
      ],
      "text/plain": [
       "                                                           0         1  \\\n",
       "train_dataset                                                            \n",
       "(elsherief2021, people of color)                    0.585698  0.294824   \n",
       "(elsherief2021, white people)                       0.422605 -0.006147   \n",
       "(kennedy2020, asian people)                        -0.234962  0.049445   \n",
       "(kennedy2020, black people)                        -0.243899  0.328840   \n",
       "(kennedy2020, immigrants)                          -0.210347  0.223215   \n",
       "(kennedy2020, lgbtq+ people)                       -0.774972 -0.078203   \n",
       "(kennedy2020, men)                                 -0.710290 -0.029103   \n",
       "(kennedy2020, muslims and arabic/middle eastern... -0.303775  0.215111   \n",
       "(kennedy2020, people of color)                     -0.408340  0.454923   \n",
       "(kennedy2020, people with disabilities)            -0.336029 -0.183083   \n",
       "(kennedy2020, straight people)                     -0.549325 -0.124192   \n",
       "(kennedy2020, white people)                        -0.200524  0.268616   \n",
       "(kennedy2020, women)                               -0.818699 -0.056372   \n",
       "(sbic, black people)                                0.876983  0.604564   \n",
       "(sbic, jews)                                        0.659656 -0.496001   \n",
       "(sbic, lgbtq+ people)                               0.074262 -0.522379   \n",
       "(sbic, people of color)                             0.912322  0.643740   \n",
       "(sbic, people with disabilities)                    0.503736 -0.482135   \n",
       "(sbic, victims of violence)                         0.818032 -0.637200   \n",
       "(sbic, women)                                      -0.062132 -0.468463   \n",
       "\n",
       "                                                     group_label  \n",
       "train_dataset                                                     \n",
       "(elsherief2021, people of color)                    marginalized  \n",
       "(elsherief2021, white people)                          hegemonic  \n",
       "(kennedy2020, asian people)                         marginalized  \n",
       "(kennedy2020, black people)                         marginalized  \n",
       "(kennedy2020, immigrants)                           marginalized  \n",
       "(kennedy2020, lgbtq+ people)                        marginalized  \n",
       "(kennedy2020, men)                                     hegemonic  \n",
       "(kennedy2020, muslims and arabic/middle eastern...  marginalized  \n",
       "(kennedy2020, people of color)                      marginalized  \n",
       "(kennedy2020, people with disabilities)             marginalized  \n",
       "(kennedy2020, straight people)                         hegemonic  \n",
       "(kennedy2020, white people)                            hegemonic  \n",
       "(kennedy2020, women)                                marginalized  \n",
       "(sbic, black people)                                marginalized  \n",
       "(sbic, jews)                                        marginalized  \n",
       "(sbic, lgbtq+ people)                               marginalized  \n",
       "(sbic, people of color)                             marginalized  \n",
       "(sbic, people with disabilities)                    marginalized  \n",
       "(sbic, victims of violence)                         marginalized  \n",
       "(sbic, women)                                       marginalized  "
      ]
     },
     "metadata": {},
     "output_type": "display_data"
    },
    {
     "data": {
      "application/vnd.plotly.v1+json": {
       "config": {
        "plotlyServerURL": "https://plot.ly"
       },
       "data": [
        {
         "hovertemplate": "group_label=marginalized<br>0=%{x}<br>1=%{y}<br>train_dataset=%{text}<extra></extra>",
         "legendgroup": "marginalized",
         "marker": {
          "color": "#636efa",
          "size": 20,
          "symbol": "circle"
         },
         "mode": "markers+text",
         "name": "marginalized",
         "orientation": "v",
         "showlegend": true,
         "text": [
          "('elsherief2021', 'people of color')",
          "('kennedy2020', 'asian people')",
          "('kennedy2020', 'black people')",
          "('kennedy2020', 'immigrants')",
          "('kennedy2020', 'lgbtq+ people')",
          "('kennedy2020', 'muslims and arabic/middle eastern people')",
          "('kennedy2020', 'people of color')",
          "('kennedy2020', 'people with disabilities')",
          "('kennedy2020', 'women')",
          "('sbic', 'black people')",
          "('sbic', 'jews')",
          "('sbic', 'lgbtq+ people')",
          "('sbic', 'people of color')",
          "('sbic', 'people with disabilities')",
          "('sbic', 'victims of violence')",
          "('sbic', 'women')"
         ],
         "textposition": "top center",
         "type": "scatter",
         "x": [
          0.5856982610649538,
          -0.23496247862307423,
          -0.2438994460515057,
          -0.210346899401045,
          -0.7749716829117363,
          -0.30377537216228573,
          -0.40834019299001434,
          -0.3360288729457946,
          -0.8186994768548506,
          0.8769829945068128,
          0.6596556660510026,
          0.07426247715027229,
          0.912322212434296,
          0.5037363215072259,
          0.8180317192806147,
          -0.06213159536285906
         ],
         "xaxis": "x",
         "y": [
          0.2948236750386651,
          0.04944454778403713,
          0.32884036808136335,
          0.2232153626138077,
          -0.07820273390938817,
          0.2151106956897858,
          0.4549228822802156,
          -0.18308314467575018,
          -0.05637218561334723,
          0.6045641877067645,
          -0.4960011932649919,
          -0.5223787867469819,
          0.6437399951771455,
          -0.4821349623081913,
          -0.6371996312427404,
          -0.4684631095264822
         ],
         "yaxis": "y"
        },
        {
         "hovertemplate": "group_label=hegemonic<br>0=%{x}<br>1=%{y}<br>train_dataset=%{text}<extra></extra>",
         "legendgroup": "hegemonic",
         "marker": {
          "color": "#EF553B",
          "size": 20,
          "symbol": "circle"
         },
         "mode": "markers+text",
         "name": "hegemonic",
         "orientation": "v",
         "showlegend": true,
         "text": [
          "('elsherief2021', 'white people')",
          "('kennedy2020', 'men')",
          "('kennedy2020', 'straight people')",
          "('kennedy2020', 'white people')"
         ],
         "textposition": "top center",
         "type": "scatter",
         "x": [
          0.42260491015156854,
          -0.7102901154828979,
          -0.5493249072749229,
          -0.2005235220857614
         ],
         "xaxis": "x",
         "y": [
          -0.006147264419252479,
          -0.029102975126907873,
          -0.12419191539964264,
          0.2686161878618915
         ],
         "yaxis": "y"
        }
       ],
       "layout": {
        "height": 800,
        "legend": {
         "title": {
          "text": "group_label"
         },
         "tracegroupgap": 0
        },
        "margin": {
         "t": 60
        },
        "template": {
         "data": {
          "bar": [
           {
            "error_x": {
             "color": "#2a3f5f"
            },
            "error_y": {
             "color": "#2a3f5f"
            },
            "marker": {
             "line": {
              "color": "#E5ECF6",
              "width": 0.5
             },
             "pattern": {
              "fillmode": "overlay",
              "size": 10,
              "solidity": 0.2
             }
            },
            "type": "bar"
           }
          ],
          "barpolar": [
           {
            "marker": {
             "line": {
              "color": "#E5ECF6",
              "width": 0.5
             },
             "pattern": {
              "fillmode": "overlay",
              "size": 10,
              "solidity": 0.2
             }
            },
            "type": "barpolar"
           }
          ],
          "carpet": [
           {
            "aaxis": {
             "endlinecolor": "#2a3f5f",
             "gridcolor": "white",
             "linecolor": "white",
             "minorgridcolor": "white",
             "startlinecolor": "#2a3f5f"
            },
            "baxis": {
             "endlinecolor": "#2a3f5f",
             "gridcolor": "white",
             "linecolor": "white",
             "minorgridcolor": "white",
             "startlinecolor": "#2a3f5f"
            },
            "type": "carpet"
           }
          ],
          "choropleth": [
           {
            "colorbar": {
             "outlinewidth": 0,
             "ticks": ""
            },
            "type": "choropleth"
           }
          ],
          "contour": [
           {
            "colorbar": {
             "outlinewidth": 0,
             "ticks": ""
            },
            "colorscale": [
             [
              0,
              "#0d0887"
             ],
             [
              0.1111111111111111,
              "#46039f"
             ],
             [
              0.2222222222222222,
              "#7201a8"
             ],
             [
              0.3333333333333333,
              "#9c179e"
             ],
             [
              0.4444444444444444,
              "#bd3786"
             ],
             [
              0.5555555555555556,
              "#d8576b"
             ],
             [
              0.6666666666666666,
              "#ed7953"
             ],
             [
              0.7777777777777778,
              "#fb9f3a"
             ],
             [
              0.8888888888888888,
              "#fdca26"
             ],
             [
              1,
              "#f0f921"
             ]
            ],
            "type": "contour"
           }
          ],
          "contourcarpet": [
           {
            "colorbar": {
             "outlinewidth": 0,
             "ticks": ""
            },
            "type": "contourcarpet"
           }
          ],
          "heatmap": [
           {
            "colorbar": {
             "outlinewidth": 0,
             "ticks": ""
            },
            "colorscale": [
             [
              0,
              "#0d0887"
             ],
             [
              0.1111111111111111,
              "#46039f"
             ],
             [
              0.2222222222222222,
              "#7201a8"
             ],
             [
              0.3333333333333333,
              "#9c179e"
             ],
             [
              0.4444444444444444,
              "#bd3786"
             ],
             [
              0.5555555555555556,
              "#d8576b"
             ],
             [
              0.6666666666666666,
              "#ed7953"
             ],
             [
              0.7777777777777778,
              "#fb9f3a"
             ],
             [
              0.8888888888888888,
              "#fdca26"
             ],
             [
              1,
              "#f0f921"
             ]
            ],
            "type": "heatmap"
           }
          ],
          "heatmapgl": [
           {
            "colorbar": {
             "outlinewidth": 0,
             "ticks": ""
            },
            "colorscale": [
             [
              0,
              "#0d0887"
             ],
             [
              0.1111111111111111,
              "#46039f"
             ],
             [
              0.2222222222222222,
              "#7201a8"
             ],
             [
              0.3333333333333333,
              "#9c179e"
             ],
             [
              0.4444444444444444,
              "#bd3786"
             ],
             [
              0.5555555555555556,
              "#d8576b"
             ],
             [
              0.6666666666666666,
              "#ed7953"
             ],
             [
              0.7777777777777778,
              "#fb9f3a"
             ],
             [
              0.8888888888888888,
              "#fdca26"
             ],
             [
              1,
              "#f0f921"
             ]
            ],
            "type": "heatmapgl"
           }
          ],
          "histogram": [
           {
            "marker": {
             "pattern": {
              "fillmode": "overlay",
              "size": 10,
              "solidity": 0.2
             }
            },
            "type": "histogram"
           }
          ],
          "histogram2d": [
           {
            "colorbar": {
             "outlinewidth": 0,
             "ticks": ""
            },
            "colorscale": [
             [
              0,
              "#0d0887"
             ],
             [
              0.1111111111111111,
              "#46039f"
             ],
             [
              0.2222222222222222,
              "#7201a8"
             ],
             [
              0.3333333333333333,
              "#9c179e"
             ],
             [
              0.4444444444444444,
              "#bd3786"
             ],
             [
              0.5555555555555556,
              "#d8576b"
             ],
             [
              0.6666666666666666,
              "#ed7953"
             ],
             [
              0.7777777777777778,
              "#fb9f3a"
             ],
             [
              0.8888888888888888,
              "#fdca26"
             ],
             [
              1,
              "#f0f921"
             ]
            ],
            "type": "histogram2d"
           }
          ],
          "histogram2dcontour": [
           {
            "colorbar": {
             "outlinewidth": 0,
             "ticks": ""
            },
            "colorscale": [
             [
              0,
              "#0d0887"
             ],
             [
              0.1111111111111111,
              "#46039f"
             ],
             [
              0.2222222222222222,
              "#7201a8"
             ],
             [
              0.3333333333333333,
              "#9c179e"
             ],
             [
              0.4444444444444444,
              "#bd3786"
             ],
             [
              0.5555555555555556,
              "#d8576b"
             ],
             [
              0.6666666666666666,
              "#ed7953"
             ],
             [
              0.7777777777777778,
              "#fb9f3a"
             ],
             [
              0.8888888888888888,
              "#fdca26"
             ],
             [
              1,
              "#f0f921"
             ]
            ],
            "type": "histogram2dcontour"
           }
          ],
          "mesh3d": [
           {
            "colorbar": {
             "outlinewidth": 0,
             "ticks": ""
            },
            "type": "mesh3d"
           }
          ],
          "parcoords": [
           {
            "line": {
             "colorbar": {
              "outlinewidth": 0,
              "ticks": ""
             }
            },
            "type": "parcoords"
           }
          ],
          "pie": [
           {
            "automargin": true,
            "type": "pie"
           }
          ],
          "scatter": [
           {
            "marker": {
             "colorbar": {
              "outlinewidth": 0,
              "ticks": ""
             }
            },
            "type": "scatter"
           }
          ],
          "scatter3d": [
           {
            "line": {
             "colorbar": {
              "outlinewidth": 0,
              "ticks": ""
             }
            },
            "marker": {
             "colorbar": {
              "outlinewidth": 0,
              "ticks": ""
             }
            },
            "type": "scatter3d"
           }
          ],
          "scattercarpet": [
           {
            "marker": {
             "colorbar": {
              "outlinewidth": 0,
              "ticks": ""
             }
            },
            "type": "scattercarpet"
           }
          ],
          "scattergeo": [
           {
            "marker": {
             "colorbar": {
              "outlinewidth": 0,
              "ticks": ""
             }
            },
            "type": "scattergeo"
           }
          ],
          "scattergl": [
           {
            "marker": {
             "colorbar": {
              "outlinewidth": 0,
              "ticks": ""
             }
            },
            "type": "scattergl"
           }
          ],
          "scattermapbox": [
           {
            "marker": {
             "colorbar": {
              "outlinewidth": 0,
              "ticks": ""
             }
            },
            "type": "scattermapbox"
           }
          ],
          "scatterpolar": [
           {
            "marker": {
             "colorbar": {
              "outlinewidth": 0,
              "ticks": ""
             }
            },
            "type": "scatterpolar"
           }
          ],
          "scatterpolargl": [
           {
            "marker": {
             "colorbar": {
              "outlinewidth": 0,
              "ticks": ""
             }
            },
            "type": "scatterpolargl"
           }
          ],
          "scatterternary": [
           {
            "marker": {
             "colorbar": {
              "outlinewidth": 0,
              "ticks": ""
             }
            },
            "type": "scatterternary"
           }
          ],
          "surface": [
           {
            "colorbar": {
             "outlinewidth": 0,
             "ticks": ""
            },
            "colorscale": [
             [
              0,
              "#0d0887"
             ],
             [
              0.1111111111111111,
              "#46039f"
             ],
             [
              0.2222222222222222,
              "#7201a8"
             ],
             [
              0.3333333333333333,
              "#9c179e"
             ],
             [
              0.4444444444444444,
              "#bd3786"
             ],
             [
              0.5555555555555556,
              "#d8576b"
             ],
             [
              0.6666666666666666,
              "#ed7953"
             ],
             [
              0.7777777777777778,
              "#fb9f3a"
             ],
             [
              0.8888888888888888,
              "#fdca26"
             ],
             [
              1,
              "#f0f921"
             ]
            ],
            "type": "surface"
           }
          ],
          "table": [
           {
            "cells": {
             "fill": {
              "color": "#EBF0F8"
             },
             "line": {
              "color": "white"
             }
            },
            "header": {
             "fill": {
              "color": "#C8D4E3"
             },
             "line": {
              "color": "white"
             }
            },
            "type": "table"
           }
          ]
         },
         "layout": {
          "annotationdefaults": {
           "arrowcolor": "#2a3f5f",
           "arrowhead": 0,
           "arrowwidth": 1
          },
          "autotypenumbers": "strict",
          "coloraxis": {
           "colorbar": {
            "outlinewidth": 0,
            "ticks": ""
           }
          },
          "colorscale": {
           "diverging": [
            [
             0,
             "#8e0152"
            ],
            [
             0.1,
             "#c51b7d"
            ],
            [
             0.2,
             "#de77ae"
            ],
            [
             0.3,
             "#f1b6da"
            ],
            [
             0.4,
             "#fde0ef"
            ],
            [
             0.5,
             "#f7f7f7"
            ],
            [
             0.6,
             "#e6f5d0"
            ],
            [
             0.7,
             "#b8e186"
            ],
            [
             0.8,
             "#7fbc41"
            ],
            [
             0.9,
             "#4d9221"
            ],
            [
             1,
             "#276419"
            ]
           ],
           "sequential": [
            [
             0,
             "#0d0887"
            ],
            [
             0.1111111111111111,
             "#46039f"
            ],
            [
             0.2222222222222222,
             "#7201a8"
            ],
            [
             0.3333333333333333,
             "#9c179e"
            ],
            [
             0.4444444444444444,
             "#bd3786"
            ],
            [
             0.5555555555555556,
             "#d8576b"
            ],
            [
             0.6666666666666666,
             "#ed7953"
            ],
            [
             0.7777777777777778,
             "#fb9f3a"
            ],
            [
             0.8888888888888888,
             "#fdca26"
            ],
            [
             1,
             "#f0f921"
            ]
           ],
           "sequentialminus": [
            [
             0,
             "#0d0887"
            ],
            [
             0.1111111111111111,
             "#46039f"
            ],
            [
             0.2222222222222222,
             "#7201a8"
            ],
            [
             0.3333333333333333,
             "#9c179e"
            ],
            [
             0.4444444444444444,
             "#bd3786"
            ],
            [
             0.5555555555555556,
             "#d8576b"
            ],
            [
             0.6666666666666666,
             "#ed7953"
            ],
            [
             0.7777777777777778,
             "#fb9f3a"
            ],
            [
             0.8888888888888888,
             "#fdca26"
            ],
            [
             1,
             "#f0f921"
            ]
           ]
          },
          "colorway": [
           "#636efa",
           "#EF553B",
           "#00cc96",
           "#ab63fa",
           "#FFA15A",
           "#19d3f3",
           "#FF6692",
           "#B6E880",
           "#FF97FF",
           "#FECB52"
          ],
          "font": {
           "color": "#2a3f5f"
          },
          "geo": {
           "bgcolor": "white",
           "lakecolor": "white",
           "landcolor": "#E5ECF6",
           "showlakes": true,
           "showland": true,
           "subunitcolor": "white"
          },
          "hoverlabel": {
           "align": "left"
          },
          "hovermode": "closest",
          "mapbox": {
           "style": "light"
          },
          "paper_bgcolor": "white",
          "plot_bgcolor": "#E5ECF6",
          "polar": {
           "angularaxis": {
            "gridcolor": "white",
            "linecolor": "white",
            "ticks": ""
           },
           "bgcolor": "#E5ECF6",
           "radialaxis": {
            "gridcolor": "white",
            "linecolor": "white",
            "ticks": ""
           }
          },
          "scene": {
           "xaxis": {
            "backgroundcolor": "#E5ECF6",
            "gridcolor": "white",
            "gridwidth": 2,
            "linecolor": "white",
            "showbackground": true,
            "ticks": "",
            "zerolinecolor": "white"
           },
           "yaxis": {
            "backgroundcolor": "#E5ECF6",
            "gridcolor": "white",
            "gridwidth": 2,
            "linecolor": "white",
            "showbackground": true,
            "ticks": "",
            "zerolinecolor": "white"
           },
           "zaxis": {
            "backgroundcolor": "#E5ECF6",
            "gridcolor": "white",
            "gridwidth": 2,
            "linecolor": "white",
            "showbackground": true,
            "ticks": "",
            "zerolinecolor": "white"
           }
          },
          "shapedefaults": {
           "line": {
            "color": "#2a3f5f"
           }
          },
          "ternary": {
           "aaxis": {
            "gridcolor": "white",
            "linecolor": "white",
            "ticks": ""
           },
           "baxis": {
            "gridcolor": "white",
            "linecolor": "white",
            "ticks": ""
           },
           "bgcolor": "#E5ECF6",
           "caxis": {
            "gridcolor": "white",
            "linecolor": "white",
            "ticks": ""
           }
          },
          "title": {
           "x": 0.05
          },
          "xaxis": {
           "automargin": true,
           "gridcolor": "white",
           "linecolor": "white",
           "ticks": "",
           "title": {
            "standoff": 15
           },
           "zerolinecolor": "white",
           "zerolinewidth": 2
          },
          "yaxis": {
           "automargin": true,
           "gridcolor": "white",
           "linecolor": "white",
           "ticks": "",
           "title": {
            "standoff": 15
           },
           "zerolinecolor": "white",
           "zerolinewidth": 2
          }
         }
        },
        "width": 1000,
        "xaxis": {
         "anchor": "y",
         "autorange": true,
         "domain": [
          0,
          1
         ],
         "range": [
          -0.9512009859412874,
          1.0448237215207328
         ],
         "title": {
          "text": "0"
         },
         "type": "linear"
        },
        "yaxis": {
         "anchor": "x",
         "autorange": true,
         "domain": [
          0,
          1
         ],
         "range": [
          -0.7396297771163868,
          0.7461701410507919
         ],
         "title": {
          "text": "1"
         },
         "type": "linear"
        }
       }
      },
      "image/png": "[encoded data removed]",
      "text/html": [
       "<div>                            <div id=\"b6bc385f-8474-40f2-a78e-279b83fadc18\" class=\"plotly-graph-div\" style=\"height:800px; width:1000px;\"></div>            <script type=\"text/javascript\">                require([\"plotly\"], function(Plotly) {                    window.PLOTLYENV=window.PLOTLYENV || {};                                    if (document.getElementById(\"b6bc385f-8474-40f2-a78e-279b83fadc18\")) {                    Plotly.newPlot(                        \"b6bc385f-8474-40f2-a78e-279b83fadc18\",                        [{\"hovertemplate\":\"group_label=marginalized<br>0=%{x}<br>1=%{y}<br>train_dataset=%{text}<extra></extra>\",\"legendgroup\":\"marginalized\",\"marker\":{\"color\":\"#636efa\",\"size\":20,\"symbol\":\"circle\"},\"mode\":\"markers+text\",\"name\":\"marginalized\",\"orientation\":\"v\",\"showlegend\":true,\"text\":[\"('elsherief2021', 'people of color')\",\"('kennedy2020', 'asian people')\",\"('kennedy2020', 'black people')\",\"('kennedy2020', 'immigrants')\",\"('kennedy2020', 'lgbtq+ people')\",\"('kennedy2020', 'muslims and arabic/middle eastern people')\",\"('kennedy2020', 'people of color')\",\"('kennedy2020', 'people with disabilities')\",\"('kennedy2020', 'women')\",\"('sbic', 'black people')\",\"('sbic', 'jews')\",\"('sbic', 'lgbtq+ people')\",\"('sbic', 'people of color')\",\"('sbic', 'people with disabilities')\",\"('sbic', 'victims of violence')\",\"('sbic', 'women')\"],\"textposition\":\"top center\",\"type\":\"scatter\",\"x\":[0.5856982610649538,-0.23496247862307423,-0.2438994460515057,-0.210346899401045,-0.7749716829117363,-0.30377537216228573,-0.40834019299001434,-0.3360288729457946,-0.8186994768548506,0.8769829945068128,0.6596556660510026,0.07426247715027229,0.912322212434296,0.5037363215072259,0.8180317192806147,-0.06213159536285906],\"xaxis\":\"x\",\"y\":[0.2948236750386651,0.04944454778403713,0.32884036808136335,0.2232153626138077,-0.07820273390938817,0.2151106956897858,0.4549228822802156,-0.18308314467575018,-0.05637218561334723,0.6045641877067645,-0.4960011932649919,-0.5223787867469819,0.6437399951771455,-0.4821349623081913,-0.6371996312427404,-0.4684631095264822],\"yaxis\":\"y\"},{\"hovertemplate\":\"group_label=hegemonic<br>0=%{x}<br>1=%{y}<br>train_dataset=%{text}<extra></extra>\",\"legendgroup\":\"hegemonic\",\"marker\":{\"color\":\"#EF553B\",\"size\":20,\"symbol\":\"circle\"},\"mode\":\"markers+text\",\"name\":\"hegemonic\",\"orientation\":\"v\",\"showlegend\":true,\"text\":[\"('elsherief2021', 'white people')\",\"('kennedy2020', 'men')\",\"('kennedy2020', 'straight people')\",\"('kennedy2020', 'white people')\"],\"textposition\":\"top center\",\"type\":\"scatter\",\"x\":[0.42260491015156854,-0.7102901154828979,-0.5493249072749229,-0.2005235220857614],\"xaxis\":\"x\",\"y\":[-0.006147264419252479,-0.029102975126907873,-0.12419191539964264,0.2686161878618915],\"yaxis\":\"y\"}],                        {\"height\":800,\"legend\":{\"title\":{\"text\":\"group_label\"},\"tracegroupgap\":0},\"margin\":{\"t\":60},\"template\":{\"data\":{\"bar\":[{\"error_x\":{\"color\":\"#2a3f5f\"},\"error_y\":{\"color\":\"#2a3f5f\"},\"marker\":{\"line\":{\"color\":\"#E5ECF6\",\"width\":0.5},\"pattern\":{\"fillmode\":\"overlay\",\"size\":10,\"solidity\":0.2}},\"type\":\"bar\"}],\"barpolar\":[{\"marker\":{\"line\":{\"color\":\"#E5ECF6\",\"width\":0.5},\"pattern\":{\"fillmode\":\"overlay\",\"size\":10,\"solidity\":0.2}},\"type\":\"barpolar\"}],\"carpet\":[{\"aaxis\":{\"endlinecolor\":\"#2a3f5f\",\"gridcolor\":\"white\",\"linecolor\":\"white\",\"minorgridcolor\":\"white\",\"startlinecolor\":\"#2a3f5f\"},\"baxis\":{\"endlinecolor\":\"#2a3f5f\",\"gridcolor\":\"white\",\"linecolor\":\"white\",\"minorgridcolor\":\"white\",\"startlinecolor\":\"#2a3f5f\"},\"type\":\"carpet\"}],\"choropleth\":[{\"colorbar\":{\"outlinewidth\":0,\"ticks\":\"\"},\"type\":\"choropleth\"}],\"contour\":[{\"colorbar\":{\"outlinewidth\":0,\"ticks\":\"\"},\"colorscale\":[[0.0,\"#0d0887\"],[0.1111111111111111,\"#46039f\"],[0.2222222222222222,\"#7201a8\"],[0.3333333333333333,\"#9c179e\"],[0.4444444444444444,\"#bd3786\"],[0.5555555555555556,\"#d8576b\"],[0.6666666666666666,\"#ed7953\"],[0.7777777777777778,\"#fb9f3a\"],[0.8888888888888888,\"#fdca26\"],[1.0,\"#f0f921\"]],\"type\":\"contour\"}],\"contourcarpet\":[{\"colorbar\":{\"outlinewidth\":0,\"ticks\":\"\"},\"type\":\"contourcarpet\"}],\"heatmap\":[{\"colorbar\":{\"outlinewidth\":0,\"ticks\":\"\"},\"colorscale\":[[0.0,\"#0d0887\"],[0.1111111111111111,\"#46039f\"],[0.2222222222222222,\"#7201a8\"],[0.3333333333333333,\"#9c179e\"],[0.4444444444444444,\"#bd3786\"],[0.5555555555555556,\"#d8576b\"],[0.6666666666666666,\"#ed7953\"],[0.7777777777777778,\"#fb9f3a\"],[0.8888888888888888,\"#fdca26\"],[1.0,\"#f0f921\"]],\"type\":\"heatmap\"}],\"heatmapgl\":[{\"colorbar\":{\"outlinewidth\":0,\"ticks\":\"\"},\"colorscale\":[[0.0,\"#0d0887\"],[0.1111111111111111,\"#46039f\"],[0.2222222222222222,\"#7201a8\"],[0.3333333333333333,\"#9c179e\"],[0.4444444444444444,\"#bd3786\"],[0.5555555555555556,\"#d8576b\"],[0.6666666666666666,\"#ed7953\"],[0.7777777777777778,\"#fb9f3a\"],[0.8888888888888888,\"#fdca26\"],[1.0,\"#f0f921\"]],\"type\":\"heatmapgl\"}],\"histogram\":[{\"marker\":{\"pattern\":{\"fillmode\":\"overlay\",\"size\":10,\"solidity\":0.2}},\"type\":\"histogram\"}],\"histogram2d\":[{\"colorbar\":{\"outlinewidth\":0,\"ticks\":\"\"},\"colorscale\":[[0.0,\"#0d0887\"],[0.1111111111111111,\"#46039f\"],[0.2222222222222222,\"#7201a8\"],[0.3333333333333333,\"#9c179e\"],[0.4444444444444444,\"#bd3786\"],[0.5555555555555556,\"#d8576b\"],[0.6666666666666666,\"#ed7953\"],[0.7777777777777778,\"#fb9f3a\"],[0.8888888888888888,\"#fdca26\"],[1.0,\"#f0f921\"]],\"type\":\"histogram2d\"}],\"histogram2dcontour\":[{\"colorbar\":{\"outlinewidth\":0,\"ticks\":\"\"},\"colorscale\":[[0.0,\"#0d0887\"],[0.1111111111111111,\"#46039f\"],[0.2222222222222222,\"#7201a8\"],[0.3333333333333333,\"#9c179e\"],[0.4444444444444444,\"#bd3786\"],[0.5555555555555556,\"#d8576b\"],[0.6666666666666666,\"#ed7953\"],[0.7777777777777778,\"#fb9f3a\"],[0.8888888888888888,\"#fdca26\"],[1.0,\"#f0f921\"]],\"type\":\"histogram2dcontour\"}],\"mesh3d\":[{\"colorbar\":{\"outlinewidth\":0,\"ticks\":\"\"},\"type\":\"mesh3d\"}],\"parcoords\":[{\"line\":{\"colorbar\":{\"outlinewidth\":0,\"ticks\":\"\"}},\"type\":\"parcoords\"}],\"pie\":[{\"automargin\":true,\"type\":\"pie\"}],\"scatter\":[{\"marker\":{\"colorbar\":{\"outlinewidth\":0,\"ticks\":\"\"}},\"type\":\"scatter\"}],\"scatter3d\":[{\"line\":{\"colorbar\":{\"outlinewidth\":0,\"ticks\":\"\"}},\"marker\":{\"colorbar\":{\"outlinewidth\":0,\"ticks\":\"\"}},\"type\":\"scatter3d\"}],\"scattercarpet\":[{\"marker\":{\"colorbar\":{\"outlinewidth\":0,\"ticks\":\"\"}},\"type\":\"scattercarpet\"}],\"scattergeo\":[{\"marker\":{\"colorbar\":{\"outlinewidth\":0,\"ticks\":\"\"}},\"type\":\"scattergeo\"}],\"scattergl\":[{\"marker\":{\"colorbar\":{\"outlinewidth\":0,\"ticks\":\"\"}},\"type\":\"scattergl\"}],\"scattermapbox\":[{\"marker\":{\"colorbar\":{\"outlinewidth\":0,\"ticks\":\"\"}},\"type\":\"scattermapbox\"}],\"scatterpolar\":[{\"marker\":{\"colorbar\":{\"outlinewidth\":0,\"ticks\":\"\"}},\"type\":\"scatterpolar\"}],\"scatterpolargl\":[{\"marker\":{\"colorbar\":{\"outlinewidth\":0,\"ticks\":\"\"}},\"type\":\"scatterpolargl\"}],\"scatterternary\":[{\"marker\":{\"colorbar\":{\"outlinewidth\":0,\"ticks\":\"\"}},\"type\":\"scatterternary\"}],\"surface\":[{\"colorbar\":{\"outlinewidth\":0,\"ticks\":\"\"},\"colorscale\":[[0.0,\"#0d0887\"],[0.1111111111111111,\"#46039f\"],[0.2222222222222222,\"#7201a8\"],[0.3333333333333333,\"#9c179e\"],[0.4444444444444444,\"#bd3786\"],[0.5555555555555556,\"#d8576b\"],[0.6666666666666666,\"#ed7953\"],[0.7777777777777778,\"#fb9f3a\"],[0.8888888888888888,\"#fdca26\"],[1.0,\"#f0f921\"]],\"type\":\"surface\"}],\"table\":[{\"cells\":{\"fill\":{\"color\":\"#EBF0F8\"},\"line\":{\"color\":\"white\"}},\"header\":{\"fill\":{\"color\":\"#C8D4E3\"},\"line\":{\"color\":\"white\"}},\"type\":\"table\"}]},\"layout\":{\"annotationdefaults\":{\"arrowcolor\":\"#2a3f5f\",\"arrowhead\":0,\"arrowwidth\":1},\"autotypenumbers\":\"strict\",\"coloraxis\":{\"colorbar\":{\"outlinewidth\":0,\"ticks\":\"\"}},\"colorscale\":{\"diverging\":[[0,\"#8e0152\"],[0.1,\"#c51b7d\"],[0.2,\"#de77ae\"],[0.3,\"#f1b6da\"],[0.4,\"#fde0ef\"],[0.5,\"#f7f7f7\"],[0.6,\"#e6f5d0\"],[0.7,\"#b8e186\"],[0.8,\"#7fbc41\"],[0.9,\"#4d9221\"],[1,\"#276419\"]],\"sequential\":[[0.0,\"#0d0887\"],[0.1111111111111111,\"#46039f\"],[0.2222222222222222,\"#7201a8\"],[0.3333333333333333,\"#9c179e\"],[0.4444444444444444,\"#bd3786\"],[0.5555555555555556,\"#d8576b\"],[0.6666666666666666,\"#ed7953\"],[0.7777777777777778,\"#fb9f3a\"],[0.8888888888888888,\"#fdca26\"],[1.0,\"#f0f921\"]],\"sequentialminus\":[[0.0,\"#0d0887\"],[0.1111111111111111,\"#46039f\"],[0.2222222222222222,\"#7201a8\"],[0.3333333333333333,\"#9c179e\"],[0.4444444444444444,\"#bd3786\"],[0.5555555555555556,\"#d8576b\"],[0.6666666666666666,\"#ed7953\"],[0.7777777777777778,\"#fb9f3a\"],[0.8888888888888888,\"#fdca26\"],[1.0,\"#f0f921\"]]},\"colorway\":[\"#636efa\",\"#EF553B\",\"#00cc96\",\"#ab63fa\",\"#FFA15A\",\"#19d3f3\",\"#FF6692\",\"#B6E880\",\"#FF97FF\",\"#FECB52\"],\"font\":{\"color\":\"#2a3f5f\"},\"geo\":{\"bgcolor\":\"white\",\"lakecolor\":\"white\",\"landcolor\":\"#E5ECF6\",\"showlakes\":true,\"showland\":true,\"subunitcolor\":\"white\"},\"hoverlabel\":{\"align\":\"left\"},\"hovermode\":\"closest\",\"mapbox\":{\"style\":\"light\"},\"paper_bgcolor\":\"white\",\"plot_bgcolor\":\"#E5ECF6\",\"polar\":{\"angularaxis\":{\"gridcolor\":\"white\",\"linecolor\":\"white\",\"ticks\":\"\"},\"bgcolor\":\"#E5ECF6\",\"radialaxis\":{\"gridcolor\":\"white\",\"linecolor\":\"white\",\"ticks\":\"\"}},\"scene\":{\"xaxis\":{\"backgroundcolor\":\"#E5ECF6\",\"gridcolor\":\"white\",\"gridwidth\":2,\"linecolor\":\"white\",\"showbackground\":true,\"ticks\":\"\",\"zerolinecolor\":\"white\"},\"yaxis\":{\"backgroundcolor\":\"#E5ECF6\",\"gridcolor\":\"white\",\"gridwidth\":2,\"linecolor\":\"white\",\"showbackground\":true,\"ticks\":\"\",\"zerolinecolor\":\"white\"},\"zaxis\":{\"backgroundcolor\":\"#E5ECF6\",\"gridcolor\":\"white\",\"gridwidth\":2,\"linecolor\":\"white\",\"showbackground\":true,\"ticks\":\"\",\"zerolinecolor\":\"white\"}},\"shapedefaults\":{\"line\":{\"color\":\"#2a3f5f\"}},\"ternary\":{\"aaxis\":{\"gridcolor\":\"white\",\"linecolor\":\"white\",\"ticks\":\"\"},\"baxis\":{\"gridcolor\":\"white\",\"linecolor\":\"white\",\"ticks\":\"\"},\"bgcolor\":\"#E5ECF6\",\"caxis\":{\"gridcolor\":\"white\",\"linecolor\":\"white\",\"ticks\":\"\"}},\"title\":{\"x\":0.05},\"xaxis\":{\"automargin\":true,\"gridcolor\":\"white\",\"linecolor\":\"white\",\"ticks\":\"\",\"title\":{\"standoff\":15},\"zerolinecolor\":\"white\",\"zerolinewidth\":2},\"yaxis\":{\"automargin\":true,\"gridcolor\":\"white\",\"linecolor\":\"white\",\"ticks\":\"\",\"title\":{\"standoff\":15},\"zerolinecolor\":\"white\",\"zerolinewidth\":2}}},\"width\":1000,\"xaxis\":{\"anchor\":\"y\",\"domain\":[0.0,1.0],\"title\":{\"text\":\"0\"}},\"yaxis\":{\"anchor\":\"x\",\"domain\":[0.0,1.0],\"title\":{\"text\":\"1\"}}},                        {\"responsive\": true}                    ).then(function(){\n",
       "                            \n",
       "var gd = document.getElementById('b6bc385f-8474-40f2-a78e-279b83fadc18');\n",
       "var x = new MutationObserver(function (mutations, observer) {{\n",
       "        var display = window.getComputedStyle(gd).display;\n",
       "        if (!display || display === 'none') {{\n",
       "            console.log([gd, 'removed!']);\n",
       "            Plotly.purge(gd);\n",
       "            observer.disconnect();\n",
       "        }}\n",
       "}});\n",
       "\n",
       "// Listen for the removal of the full notebook cells\n",
       "var notebookContainer = gd.closest('#notebook-container');\n",
       "if (notebookContainer) {{\n",
       "    x.observe(notebookContainer, {childList: true});\n",
       "}}\n",
       "\n",
       "// Listen for the clearing of the current output cell\n",
       "var outputEl = gd.closest('.output');\n",
       "if (outputEl) {{\n",
       "    x.observe(outputEl, {childList: true});\n",
       "}}\n",
       "\n",
       "                        })                };                });            </script>        </div>"
      ]
     },
     "metadata": {},
     "output_type": "display_data"
    }
   ],
   "source": [
    "# Run PCA\n",
    "from sklearn.decomposition import PCA\n",
    "from IPython.display import display\n",
    "\n",
    "# Load group labels\n",
    "import json\n",
    "\n",
    "path = '/storage2/mamille3/hegemonic_hate/group_labels.json'\n",
    "with open(path, 'r') as f:\n",
    "    group_labels = json.load(f) \n",
    "len(group_labels)\n",
    "\n",
    "pca = PCA(n_components=2)\n",
    "reduced = pca.fit_transform(scores.values)\n",
    "reduced = pd.DataFrame(reduced, index=scores.index)\n",
    "reduced\n",
    "\n",
    "# Assign group labels to groups so can visualize colors\n",
    "reduced['group_label'] = reduced.index.map(lambda x: group_labels.get(x[1]))\n",
    "display(reduced)\n",
    "\n",
    "# Plot\n",
    "import plotly.express as px\n",
    "fig = px.scatter(reduced, x=0, y=1, color='group_label', text=reduced.index, width=1000, height=800)\n",
    "fig.update_traces(marker={'size': 20})\n",
    "fig.update_traces(textposition='top center')\n",
    "fig.show()"
   ]
  },
  {
   "cell_type": "code",
   "execution_count": 26,
   "id": "11a17e0f-f92f-4c85-9c8d-724d71045626",
   "metadata": {},
   "outputs": [
    {
     "name": "stdout",
     "output_type": "stream",
     "text": [
      "13\n"
     ]
    },
    {
     "data": {
      "text/plain": [
       "{'asian people',\n",
       " 'black people',\n",
       " 'immigrants',\n",
       " 'jews',\n",
       " 'lgbtq+ people',\n",
       " 'men',\n",
       " 'muslims and arabic/middle eastern people',\n",
       " 'people of color',\n",
       " 'people with disabilities',\n",
       " 'straight people',\n",
       " 'victims of violence',\n",
       " 'white people',\n",
       " 'women'}"
      ]
     },
     "execution_count": 26,
     "metadata": {},
     "output_type": "execute_result"
    }
   ],
   "source": [
    "identities = set(identity for dataset, identity in identity_folds)\n",
    "print(len(identities))\n",
    "identities"
   ]
  },
  {
   "cell_type": "code",
   "execution_count": 21,
   "id": "f0bc32e1-a36e-4426-8d5e-a360b587f337",
   "metadata": {},
   "outputs": [
    {
     "name": "stdout",
     "output_type": "stream",
     "text": [
      "[('elsherief2021', 'people of color'),\n",
      " ('elsherief2021', 'white people'),\n",
      " ('kennedy2020', 'black people'),\n",
      " ('kennedy2020', 'immigrants'),\n",
      " ('kennedy2020', 'lgbtq+ people'),\n",
      " ('kennedy2020', 'men'),\n",
      " ('kennedy2020', 'muslims and arabic/middle eastern people'),\n",
      " ('kennedy2020', 'people of color'),\n",
      " ('kennedy2020', 'people with disabilities'),\n",
      " ('kennedy2020', 'women'),\n",
      " ('sbic', 'black people'),\n",
      " ('sbic', 'jews'),\n",
      " ('sbic', 'lgbtq+ people'),\n",
      " ('sbic', 'people of color'),\n",
      " ('sbic', 'people with disabilities'),\n",
      " ('sbic', 'victims of violence'),\n",
      " ('sbic', 'women')]\n"
     ]
    }
   ],
   "source": [
    "from pprint import pprint\n",
    "pprint(list(identity_folds.keys()))"
   ]
  }
 ],
 "metadata": {
  "kernelspec": {
   "display_name": "Python 3 (ipykernel)",
   "language": "python",
   "name": "python3"
  },
  "language_info": {
   "codemirror_mode": {
    "name": "ipython",
    "version": 3
   },
   "file_extension": ".py",
   "mimetype": "text/x-python",
   "name": "python",
   "nbconvert_exporter": "python",
   "pygments_lexer": "ipython3",
   "version": "3.9.7"
  }
 },
 "nbformat": 4,
 "nbformat_minor": 5
}
