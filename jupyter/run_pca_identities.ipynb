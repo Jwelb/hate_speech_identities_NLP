{
 "cells": [
  {
   "cell_type": "markdown",
   "id": "893d4653-4d13-4011-9088-595a1ab6ee1e",
   "metadata": {},
   "source": [
    "# Train and evaluate LR hate speech classifiers\n",
    "Load data, extract features, train classifiers, evaluate"
   ]
  },
  {
   "cell_type": "markdown",
   "id": "749237cb-595e-4ccc-9d1f-d947a07efc14",
   "metadata": {
    "tags": []
   },
   "source": [
    "## With train/dev/test sets"
   ]
  },
  {
   "cell_type": "code",
   "execution_count": 22,
   "id": "ec3c2954-cbe8-4c51-a282-cabb4afaf399",
   "metadata": {},
   "outputs": [
    {
     "data": {
      "text/plain": [
       "20"
      ]
     },
     "execution_count": 22,
     "metadata": {},
     "output_type": "execute_result"
    }
   ],
   "source": [
    "# Load data\n",
    "import pickle\n",
    "import pdb\n",
    "from sklearn.feature_extraction.text import TfidfVectorizer\n",
    "from sklearn.linear_model import LogisticRegression\n",
    "from sklearn.metrics import classification_report, confusion_matrix, f1_score\n",
    "import pandas as pd\n",
    "from scipy.stats import chisquare\n",
    "from IPython.display import display\n",
    "from tqdm.notebook import tqdm\n",
    "\n",
    "scores = {}\n",
    "# f1_scores = [] # List of dicts with keys: dataset, split, f1 (to create df)\n",
    "# sigs = []\n",
    "preds = {}\n",
    "\n",
    "# Load identity split folds\n",
    "hate_ratio = 0.3\n",
    "path = f'/storage2/mamille3/hegemonic_hate/identity_splits_{hate_ratio}hate.pkl'\n",
    "with open(path, 'rb') as f:\n",
    "    identity_folds = pickle.load(f)\n",
    "len(identity_folds) "
   ]
  },
  {
   "cell_type": "code",
   "execution_count": 23,
   "id": "8ee47c19-c535-4695-a410-ba3d221c6bc3",
   "metadata": {
    "scrolled": true,
    "tags": []
   },
   "outputs": [
    {
     "data": {
      "application/vnd.jupyter.widget-view+json": {
       "model_id": "930c6a2ee2d94638840431dab4f8c7b4",
       "version_major": 2,
       "version_minor": 0
      },
      "text/plain": [
       "  0%|          | 0/20 [00:00<?, ?it/s]"
      ]
     },
     "metadata": {},
     "output_type": "display_data"
    },
    {
     "name": "stdout",
     "output_type": "stream",
     "text": [
      "('elsherief2021', 'people of color')\n",
      "Extracting features...\n",
      "Training model...\n",
      "Evaluating...\n",
      "\n",
      "('elsherief2021', 'white people')\n",
      "Extracting features...\n",
      "Training model...\n",
      "Evaluating...\n",
      "\n",
      "('kennedy2020', 'asian people')\n",
      "Extracting features...\n",
      "Training model...\n",
      "Evaluating...\n",
      "\n",
      "('kennedy2020', 'black people')\n",
      "Extracting features...\n",
      "Training model...\n",
      "Evaluating...\n",
      "\n",
      "('kennedy2020', 'immigrants')\n",
      "Extracting features...\n",
      "Training model...\n",
      "Evaluating...\n",
      "\n",
      "('kennedy2020', 'lgbtq+ people')\n",
      "Extracting features...\n",
      "Training model...\n",
      "Evaluating...\n",
      "\n",
      "('kennedy2020', 'men')\n",
      "Extracting features...\n",
      "Training model...\n",
      "Evaluating...\n",
      "\n",
      "('kennedy2020', 'muslims and arabic/middle eastern people')\n",
      "Extracting features...\n",
      "Training model...\n",
      "Evaluating...\n",
      "\n",
      "('kennedy2020', 'people of color')\n",
      "Extracting features...\n",
      "Training model...\n",
      "Evaluating...\n",
      "\n",
      "('kennedy2020', 'people with disabilities')\n",
      "Extracting features...\n",
      "Training model...\n",
      "Evaluating...\n",
      "\n",
      "('kennedy2020', 'straight people')\n",
      "Extracting features...\n",
      "Training model...\n",
      "Evaluating...\n",
      "\n",
      "('kennedy2020', 'white people')\n",
      "Extracting features...\n",
      "Training model...\n",
      "Evaluating...\n",
      "\n",
      "('kennedy2020', 'women')\n",
      "Extracting features...\n",
      "Training model...\n",
      "Evaluating...\n",
      "\n",
      "('sbic', 'black people')\n",
      "Extracting features...\n",
      "Training model...\n",
      "Evaluating...\n",
      "\n",
      "('sbic', 'jews')\n",
      "Extracting features...\n",
      "Training model...\n",
      "Evaluating...\n",
      "\n",
      "('sbic', 'lgbtq+ people')\n",
      "Extracting features...\n",
      "Training model...\n",
      "Evaluating...\n",
      "\n",
      "('sbic', 'people of color')\n",
      "Extracting features...\n",
      "Training model...\n",
      "Evaluating...\n",
      "\n",
      "('sbic', 'people with disabilities')\n",
      "Extracting features...\n",
      "Training model...\n",
      "Evaluating...\n",
      "\n",
      "('sbic', 'victims of violence')\n",
      "Extracting features...\n",
      "Training model...\n",
      "Evaluating...\n",
      "\n",
      "('sbic', 'women')\n",
      "Extracting features...\n",
      "Training model...\n",
      "Evaluating...\n",
      "\n"
     ]
    },
    {
     "data": {
      "text/html": [
       "<div>\n",
       "<style scoped>\n",
       "    .dataframe tbody tr th:only-of-type {\n",
       "        vertical-align: middle;\n",
       "    }\n",
       "\n",
       "    .dataframe tbody tr th {\n",
       "        vertical-align: top;\n",
       "    }\n",
       "\n",
       "    .dataframe thead th {\n",
       "        text-align: right;\n",
       "    }\n",
       "</style>\n",
       "<table border=\"1\" class=\"dataframe\">\n",
       "  <thead>\n",
       "    <tr style=\"text-align: right;\">\n",
       "      <th></th>\n",
       "      <th>(elsherief2021, people of color)</th>\n",
       "      <th>(elsherief2021, white people)</th>\n",
       "      <th>(kennedy2020, asian people)</th>\n",
       "      <th>(kennedy2020, black people)</th>\n",
       "      <th>(kennedy2020, immigrants)</th>\n",
       "      <th>(kennedy2020, lgbtq+ people)</th>\n",
       "      <th>(kennedy2020, men)</th>\n",
       "      <th>(kennedy2020, muslims and arabic/middle eastern people)</th>\n",
       "      <th>(kennedy2020, people of color)</th>\n",
       "      <th>(kennedy2020, people with disabilities)</th>\n",
       "      <th>(kennedy2020, straight people)</th>\n",
       "      <th>(kennedy2020, white people)</th>\n",
       "      <th>(kennedy2020, women)</th>\n",
       "      <th>(sbic, black people)</th>\n",
       "      <th>(sbic, jews)</th>\n",
       "      <th>(sbic, lgbtq+ people)</th>\n",
       "      <th>(sbic, people of color)</th>\n",
       "      <th>(sbic, people with disabilities)</th>\n",
       "      <th>(sbic, victims of violence)</th>\n",
       "      <th>(sbic, women)</th>\n",
       "    </tr>\n",
       "    <tr>\n",
       "      <th>train_dataset</th>\n",
       "      <th></th>\n",
       "      <th></th>\n",
       "      <th></th>\n",
       "      <th></th>\n",
       "      <th></th>\n",
       "      <th></th>\n",
       "      <th></th>\n",
       "      <th></th>\n",
       "      <th></th>\n",
       "      <th></th>\n",
       "      <th></th>\n",
       "      <th></th>\n",
       "      <th></th>\n",
       "      <th></th>\n",
       "      <th></th>\n",
       "      <th></th>\n",
       "      <th></th>\n",
       "      <th></th>\n",
       "      <th></th>\n",
       "      <th></th>\n",
       "    </tr>\n",
       "  </thead>\n",
       "  <tbody>\n",
       "    <tr>\n",
       "      <th>(elsherief2021, people of color)</th>\n",
       "      <td>0.500894</td>\n",
       "      <td>0.400703</td>\n",
       "      <td>0.127490</td>\n",
       "      <td>0.128788</td>\n",
       "      <td>0.090604</td>\n",
       "      <td>0.001380</td>\n",
       "      <td>0.016667</td>\n",
       "      <td>0.034810</td>\n",
       "      <td>0.101351</td>\n",
       "      <td>0.008929</td>\n",
       "      <td>0.000000</td>\n",
       "      <td>0.173913</td>\n",
       "      <td>0.018018</td>\n",
       "      <td>0.273323</td>\n",
       "      <td>0.021505</td>\n",
       "      <td>0.011278</td>\n",
       "      <td>0.287403</td>\n",
       "      <td>0.004566</td>\n",
       "      <td>0.026667</td>\n",
       "      <td>0.020979</td>\n",
       "    </tr>\n",
       "    <tr>\n",
       "      <th>(elsherief2021, white people)</th>\n",
       "      <td>0.376611</td>\n",
       "      <td>0.473354</td>\n",
       "      <td>0.051282</td>\n",
       "      <td>0.029350</td>\n",
       "      <td>0.035587</td>\n",
       "      <td>0.000000</td>\n",
       "      <td>0.008734</td>\n",
       "      <td>0.016694</td>\n",
       "      <td>0.033457</td>\n",
       "      <td>0.009091</td>\n",
       "      <td>0.000000</td>\n",
       "      <td>0.157303</td>\n",
       "      <td>0.010108</td>\n",
       "      <td>0.032483</td>\n",
       "      <td>0.006221</td>\n",
       "      <td>0.007605</td>\n",
       "      <td>0.048319</td>\n",
       "      <td>0.000000</td>\n",
       "      <td>0.000000</td>\n",
       "      <td>0.004742</td>\n",
       "    </tr>\n",
       "    <tr>\n",
       "      <th>(kennedy2020, asian people)</th>\n",
       "      <td>0.002786</td>\n",
       "      <td>0.000000</td>\n",
       "      <td>0.260870</td>\n",
       "      <td>0.226766</td>\n",
       "      <td>0.273717</td>\n",
       "      <td>0.177662</td>\n",
       "      <td>0.220472</td>\n",
       "      <td>0.193548</td>\n",
       "      <td>0.285714</td>\n",
       "      <td>0.137339</td>\n",
       "      <td>0.193833</td>\n",
       "      <td>0.293706</td>\n",
       "      <td>0.150868</td>\n",
       "      <td>0.009286</td>\n",
       "      <td>0.015337</td>\n",
       "      <td>0.007605</td>\n",
       "      <td>0.005302</td>\n",
       "      <td>0.013667</td>\n",
       "      <td>0.000000</td>\n",
       "      <td>0.003527</td>\n",
       "    </tr>\n",
       "    <tr>\n",
       "      <th>(kennedy2020, black people)</th>\n",
       "      <td>0.019364</td>\n",
       "      <td>0.004854</td>\n",
       "      <td>0.212121</td>\n",
       "      <td>0.533898</td>\n",
       "      <td>0.154331</td>\n",
       "      <td>0.225672</td>\n",
       "      <td>0.283154</td>\n",
       "      <td>0.139881</td>\n",
       "      <td>0.583836</td>\n",
       "      <td>0.221790</td>\n",
       "      <td>0.270492</td>\n",
       "      <td>0.285714</td>\n",
       "      <td>0.291691</td>\n",
       "      <td>0.191023</td>\n",
       "      <td>0.003115</td>\n",
       "      <td>0.044444</td>\n",
       "      <td>0.159961</td>\n",
       "      <td>0.013575</td>\n",
       "      <td>0.004454</td>\n",
       "      <td>0.062252</td>\n",
       "    </tr>\n",
       "    <tr>\n",
       "      <th>(kennedy2020, immigrants)</th>\n",
       "      <td>0.032476</td>\n",
       "      <td>0.009569</td>\n",
       "      <td>0.378007</td>\n",
       "      <td>0.268293</td>\n",
       "      <td>0.574909</td>\n",
       "      <td>0.160848</td>\n",
       "      <td>0.194175</td>\n",
       "      <td>0.403081</td>\n",
       "      <td>0.275229</td>\n",
       "      <td>0.192534</td>\n",
       "      <td>0.128755</td>\n",
       "      <td>0.277027</td>\n",
       "      <td>0.145928</td>\n",
       "      <td>0.018401</td>\n",
       "      <td>0.009146</td>\n",
       "      <td>0.018692</td>\n",
       "      <td>0.018809</td>\n",
       "      <td>0.018265</td>\n",
       "      <td>0.008909</td>\n",
       "      <td>0.011581</td>\n",
       "    </tr>\n",
       "    <tr>\n",
       "      <th>(kennedy2020, lgbtq+ people)</th>\n",
       "      <td>0.002797</td>\n",
       "      <td>0.000000</td>\n",
       "      <td>0.327402</td>\n",
       "      <td>0.268761</td>\n",
       "      <td>0.160494</td>\n",
       "      <td>0.658127</td>\n",
       "      <td>0.609329</td>\n",
       "      <td>0.151163</td>\n",
       "      <td>0.307692</td>\n",
       "      <td>0.460784</td>\n",
       "      <td>0.554054</td>\n",
       "      <td>0.322368</td>\n",
       "      <td>0.578641</td>\n",
       "      <td>0.009275</td>\n",
       "      <td>0.003096</td>\n",
       "      <td>0.261011</td>\n",
       "      <td>0.014791</td>\n",
       "      <td>0.035714</td>\n",
       "      <td>0.013363</td>\n",
       "      <td>0.041237</td>\n",
       "    </tr>\n",
       "    <tr>\n",
       "      <th>(kennedy2020, men)</th>\n",
       "      <td>0.000000</td>\n",
       "      <td>0.000000</td>\n",
       "      <td>0.339100</td>\n",
       "      <td>0.330658</td>\n",
       "      <td>0.166667</td>\n",
       "      <td>0.652850</td>\n",
       "      <td>0.591353</td>\n",
       "      <td>0.189560</td>\n",
       "      <td>0.397835</td>\n",
       "      <td>0.422893</td>\n",
       "      <td>0.594937</td>\n",
       "      <td>0.408669</td>\n",
       "      <td>0.596588</td>\n",
       "      <td>0.041157</td>\n",
       "      <td>0.003053</td>\n",
       "      <td>0.174204</td>\n",
       "      <td>0.037774</td>\n",
       "      <td>0.069114</td>\n",
       "      <td>0.019672</td>\n",
       "      <td>0.078410</td>\n",
       "    </tr>\n",
       "    <tr>\n",
       "      <th>(kennedy2020, muslims and arabic/middle eastern people)</th>\n",
       "      <td>0.018919</td>\n",
       "      <td>0.009434</td>\n",
       "      <td>0.416382</td>\n",
       "      <td>0.265976</td>\n",
       "      <td>0.512290</td>\n",
       "      <td>0.212844</td>\n",
       "      <td>0.243542</td>\n",
       "      <td>0.534911</td>\n",
       "      <td>0.315152</td>\n",
       "      <td>0.217742</td>\n",
       "      <td>0.201681</td>\n",
       "      <td>0.336634</td>\n",
       "      <td>0.170732</td>\n",
       "      <td>0.010453</td>\n",
       "      <td>0.062780</td>\n",
       "      <td>0.011321</td>\n",
       "      <td>0.012746</td>\n",
       "      <td>0.013793</td>\n",
       "      <td>0.008949</td>\n",
       "      <td>0.004689</td>\n",
       "    </tr>\n",
       "    <tr>\n",
       "      <th>(kennedy2020, people of color)</th>\n",
       "      <td>0.030261</td>\n",
       "      <td>0.000000</td>\n",
       "      <td>0.454545</td>\n",
       "      <td>0.631440</td>\n",
       "      <td>0.346369</td>\n",
       "      <td>0.344828</td>\n",
       "      <td>0.373109</td>\n",
       "      <td>0.251397</td>\n",
       "      <td>0.562500</td>\n",
       "      <td>0.362676</td>\n",
       "      <td>0.304688</td>\n",
       "      <td>0.354037</td>\n",
       "      <td>0.332025</td>\n",
       "      <td>0.195876</td>\n",
       "      <td>0.018265</td>\n",
       "      <td>0.072727</td>\n",
       "      <td>0.178115</td>\n",
       "      <td>0.026906</td>\n",
       "      <td>0.013201</td>\n",
       "      <td>0.068042</td>\n",
       "    </tr>\n",
       "    <tr>\n",
       "      <th>(kennedy2020, people with disabilities)</th>\n",
       "      <td>0.005563</td>\n",
       "      <td>0.000000</td>\n",
       "      <td>0.263566</td>\n",
       "      <td>0.205882</td>\n",
       "      <td>0.173203</td>\n",
       "      <td>0.416062</td>\n",
       "      <td>0.323049</td>\n",
       "      <td>0.114907</td>\n",
       "      <td>0.256494</td>\n",
       "      <td>0.642314</td>\n",
       "      <td>0.302041</td>\n",
       "      <td>0.267606</td>\n",
       "      <td>0.324130</td>\n",
       "      <td>0.017172</td>\n",
       "      <td>0.012346</td>\n",
       "      <td>0.096601</td>\n",
       "      <td>0.011536</td>\n",
       "      <td>0.161826</td>\n",
       "      <td>0.022099</td>\n",
       "      <td>0.019608</td>\n",
       "    </tr>\n",
       "    <tr>\n",
       "      <th>(kennedy2020, straight people)</th>\n",
       "      <td>0.005548</td>\n",
       "      <td>0.004819</td>\n",
       "      <td>0.254545</td>\n",
       "      <td>0.216312</td>\n",
       "      <td>0.115987</td>\n",
       "      <td>0.537441</td>\n",
       "      <td>0.487805</td>\n",
       "      <td>0.143678</td>\n",
       "      <td>0.297376</td>\n",
       "      <td>0.287719</td>\n",
       "      <td>0.537217</td>\n",
       "      <td>0.324675</td>\n",
       "      <td>0.545980</td>\n",
       "      <td>0.019351</td>\n",
       "      <td>0.009202</td>\n",
       "      <td>0.111498</td>\n",
       "      <td>0.014470</td>\n",
       "      <td>0.013333</td>\n",
       "      <td>0.021882</td>\n",
       "      <td>0.070117</td>\n",
       "    </tr>\n",
       "    <tr>\n",
       "      <th>(kennedy2020, white people)</th>\n",
       "      <td>0.263311</td>\n",
       "      <td>0.389408</td>\n",
       "      <td>0.272059</td>\n",
       "      <td>0.241135</td>\n",
       "      <td>0.206573</td>\n",
       "      <td>0.224378</td>\n",
       "      <td>0.251852</td>\n",
       "      <td>0.157270</td>\n",
       "      <td>0.252336</td>\n",
       "      <td>0.191617</td>\n",
       "      <td>0.212766</td>\n",
       "      <td>0.477876</td>\n",
       "      <td>0.243276</td>\n",
       "      <td>0.055682</td>\n",
       "      <td>0.030722</td>\n",
       "      <td>0.007605</td>\n",
       "      <td>0.062241</td>\n",
       "      <td>0.009070</td>\n",
       "      <td>0.011223</td>\n",
       "      <td>0.008221</td>\n",
       "    </tr>\n",
       "    <tr>\n",
       "      <th>(kennedy2020, women)</th>\n",
       "      <td>0.005587</td>\n",
       "      <td>0.004843</td>\n",
       "      <td>0.347826</td>\n",
       "      <td>0.310000</td>\n",
       "      <td>0.207101</td>\n",
       "      <td>0.690385</td>\n",
       "      <td>0.593315</td>\n",
       "      <td>0.215054</td>\n",
       "      <td>0.360610</td>\n",
       "      <td>0.394040</td>\n",
       "      <td>0.696165</td>\n",
       "      <td>0.369231</td>\n",
       "      <td>0.653499</td>\n",
       "      <td>0.029296</td>\n",
       "      <td>0.000000</td>\n",
       "      <td>0.140893</td>\n",
       "      <td>0.036829</td>\n",
       "      <td>0.026374</td>\n",
       "      <td>0.028230</td>\n",
       "      <td>0.146575</td>\n",
       "    </tr>\n",
       "    <tr>\n",
       "      <th>(sbic, black people)</th>\n",
       "      <td>0.474763</td>\n",
       "      <td>0.411079</td>\n",
       "      <td>0.107914</td>\n",
       "      <td>0.513548</td>\n",
       "      <td>0.101892</td>\n",
       "      <td>0.057485</td>\n",
       "      <td>0.128250</td>\n",
       "      <td>0.074074</td>\n",
       "      <td>0.475202</td>\n",
       "      <td>0.094697</td>\n",
       "      <td>0.052830</td>\n",
       "      <td>0.251497</td>\n",
       "      <td>0.077705</td>\n",
       "      <td>0.815470</td>\n",
       "      <td>0.301790</td>\n",
       "      <td>0.130584</td>\n",
       "      <td>0.795607</td>\n",
       "      <td>0.191617</td>\n",
       "      <td>0.166000</td>\n",
       "      <td>0.118959</td>\n",
       "    </tr>\n",
       "    <tr>\n",
       "      <th>(sbic, jews)</th>\n",
       "      <td>0.018445</td>\n",
       "      <td>0.027088</td>\n",
       "      <td>0.018018</td>\n",
       "      <td>0.037422</td>\n",
       "      <td>0.028933</td>\n",
       "      <td>0.036543</td>\n",
       "      <td>0.039216</td>\n",
       "      <td>0.033557</td>\n",
       "      <td>0.044362</td>\n",
       "      <td>0.093126</td>\n",
       "      <td>0.019231</td>\n",
       "      <td>0.116279</td>\n",
       "      <td>0.011687</td>\n",
       "      <td>0.189873</td>\n",
       "      <td>0.866376</td>\n",
       "      <td>0.066298</td>\n",
       "      <td>0.180241</td>\n",
       "      <td>0.107296</td>\n",
       "      <td>0.277457</td>\n",
       "      <td>0.046591</td>\n",
       "    </tr>\n",
       "    <tr>\n",
       "      <th>(sbic, lgbtq+ people)</th>\n",
       "      <td>0.024423</td>\n",
       "      <td>0.018735</td>\n",
       "      <td>0.055336</td>\n",
       "      <td>0.063433</td>\n",
       "      <td>0.036007</td>\n",
       "      <td>0.466029</td>\n",
       "      <td>0.248252</td>\n",
       "      <td>0.030211</td>\n",
       "      <td>0.056667</td>\n",
       "      <td>0.155894</td>\n",
       "      <td>0.184874</td>\n",
       "      <td>0.028369</td>\n",
       "      <td>0.175396</td>\n",
       "      <td>0.112026</td>\n",
       "      <td>0.071429</td>\n",
       "      <td>0.665832</td>\n",
       "      <td>0.114713</td>\n",
       "      <td>0.175365</td>\n",
       "      <td>0.065005</td>\n",
       "      <td>0.210692</td>\n",
       "    </tr>\n",
       "    <tr>\n",
       "      <th>(sbic, people of color)</th>\n",
       "      <td>0.544842</td>\n",
       "      <td>0.526190</td>\n",
       "      <td>0.176871</td>\n",
       "      <td>0.505777</td>\n",
       "      <td>0.089725</td>\n",
       "      <td>0.047478</td>\n",
       "      <td>0.131980</td>\n",
       "      <td>0.091031</td>\n",
       "      <td>0.464164</td>\n",
       "      <td>0.131148</td>\n",
       "      <td>0.074074</td>\n",
       "      <td>0.294444</td>\n",
       "      <td>0.076561</td>\n",
       "      <td>0.837104</td>\n",
       "      <td>0.413876</td>\n",
       "      <td>0.116638</td>\n",
       "      <td>0.789298</td>\n",
       "      <td>0.182540</td>\n",
       "      <td>0.209302</td>\n",
       "      <td>0.133544</td>\n",
       "    </tr>\n",
       "    <tr>\n",
       "      <th>(sbic, people with disabilities)</th>\n",
       "      <td>0.005517</td>\n",
       "      <td>0.009615</td>\n",
       "      <td>0.053333</td>\n",
       "      <td>0.025105</td>\n",
       "      <td>0.021390</td>\n",
       "      <td>0.058455</td>\n",
       "      <td>0.034934</td>\n",
       "      <td>0.016920</td>\n",
       "      <td>0.029630</td>\n",
       "      <td>0.439791</td>\n",
       "      <td>0.028571</td>\n",
       "      <td>0.047431</td>\n",
       "      <td>0.041369</td>\n",
       "      <td>0.286550</td>\n",
       "      <td>0.239130</td>\n",
       "      <td>0.181818</td>\n",
       "      <td>0.274989</td>\n",
       "      <td>0.734177</td>\n",
       "      <td>0.194638</td>\n",
       "      <td>0.100601</td>\n",
       "    </tr>\n",
       "    <tr>\n",
       "      <th>(sbic, victims of violence)</th>\n",
       "      <td>0.024291</td>\n",
       "      <td>0.018692</td>\n",
       "      <td>0.043478</td>\n",
       "      <td>0.048682</td>\n",
       "      <td>0.085034</td>\n",
       "      <td>0.062756</td>\n",
       "      <td>0.038627</td>\n",
       "      <td>0.042553</td>\n",
       "      <td>0.043243</td>\n",
       "      <td>0.040268</td>\n",
       "      <td>0.064220</td>\n",
       "      <td>0.053640</td>\n",
       "      <td>0.062630</td>\n",
       "      <td>0.348145</td>\n",
       "      <td>0.770609</td>\n",
       "      <td>0.274143</td>\n",
       "      <td>0.342762</td>\n",
       "      <td>0.464883</td>\n",
       "      <td>0.725936</td>\n",
       "      <td>0.267176</td>\n",
       "    </tr>\n",
       "    <tr>\n",
       "      <th>(sbic, women)</th>\n",
       "      <td>0.035040</td>\n",
       "      <td>0.009412</td>\n",
       "      <td>0.154882</td>\n",
       "      <td>0.163833</td>\n",
       "      <td>0.057851</td>\n",
       "      <td>0.336251</td>\n",
       "      <td>0.364672</td>\n",
       "      <td>0.086294</td>\n",
       "      <td>0.154891</td>\n",
       "      <td>0.190328</td>\n",
       "      <td>0.402367</td>\n",
       "      <td>0.114613</td>\n",
       "      <td>0.443508</td>\n",
       "      <td>0.182082</td>\n",
       "      <td>0.163001</td>\n",
       "      <td>0.581595</td>\n",
       "      <td>0.182536</td>\n",
       "      <td>0.176583</td>\n",
       "      <td>0.339721</td>\n",
       "      <td>0.652038</td>\n",
       "    </tr>\n",
       "  </tbody>\n",
       "</table>\n",
       "</div>"
      ],
      "text/plain": [
       "                                                    (elsherief2021, people of color)  \\\n",
       "train_dataset                                                                          \n",
       "(elsherief2021, people of color)                                            0.500894   \n",
       "(elsherief2021, white people)                                               0.376611   \n",
       "(kennedy2020, asian people)                                                 0.002786   \n",
       "(kennedy2020, black people)                                                 0.019364   \n",
       "(kennedy2020, immigrants)                                                   0.032476   \n",
       "(kennedy2020, lgbtq+ people)                                                0.002797   \n",
       "(kennedy2020, men)                                                          0.000000   \n",
       "(kennedy2020, muslims and arabic/middle eastern...                          0.018919   \n",
       "(kennedy2020, people of color)                                              0.030261   \n",
       "(kennedy2020, people with disabilities)                                     0.005563   \n",
       "(kennedy2020, straight people)                                              0.005548   \n",
       "(kennedy2020, white people)                                                 0.263311   \n",
       "(kennedy2020, women)                                                        0.005587   \n",
       "(sbic, black people)                                                        0.474763   \n",
       "(sbic, jews)                                                                0.018445   \n",
       "(sbic, lgbtq+ people)                                                       0.024423   \n",
       "(sbic, people of color)                                                     0.544842   \n",
       "(sbic, people with disabilities)                                            0.005517   \n",
       "(sbic, victims of violence)                                                 0.024291   \n",
       "(sbic, women)                                                               0.035040   \n",
       "\n",
       "                                                    (elsherief2021, white people)  \\\n",
       "train_dataset                                                                       \n",
       "(elsherief2021, people of color)                                         0.400703   \n",
       "(elsherief2021, white people)                                            0.473354   \n",
       "(kennedy2020, asian people)                                              0.000000   \n",
       "(kennedy2020, black people)                                              0.004854   \n",
       "(kennedy2020, immigrants)                                                0.009569   \n",
       "(kennedy2020, lgbtq+ people)                                             0.000000   \n",
       "(kennedy2020, men)                                                       0.000000   \n",
       "(kennedy2020, muslims and arabic/middle eastern...                       0.009434   \n",
       "(kennedy2020, people of color)                                           0.000000   \n",
       "(kennedy2020, people with disabilities)                                  0.000000   \n",
       "(kennedy2020, straight people)                                           0.004819   \n",
       "(kennedy2020, white people)                                              0.389408   \n",
       "(kennedy2020, women)                                                     0.004843   \n",
       "(sbic, black people)                                                     0.411079   \n",
       "(sbic, jews)                                                             0.027088   \n",
       "(sbic, lgbtq+ people)                                                    0.018735   \n",
       "(sbic, people of color)                                                  0.526190   \n",
       "(sbic, people with disabilities)                                         0.009615   \n",
       "(sbic, victims of violence)                                              0.018692   \n",
       "(sbic, women)                                                            0.009412   \n",
       "\n",
       "                                                    (kennedy2020, asian people)  \\\n",
       "train_dataset                                                                     \n",
       "(elsherief2021, people of color)                                       0.127490   \n",
       "(elsherief2021, white people)                                          0.051282   \n",
       "(kennedy2020, asian people)                                            0.260870   \n",
       "(kennedy2020, black people)                                            0.212121   \n",
       "(kennedy2020, immigrants)                                              0.378007   \n",
       "(kennedy2020, lgbtq+ people)                                           0.327402   \n",
       "(kennedy2020, men)                                                     0.339100   \n",
       "(kennedy2020, muslims and arabic/middle eastern...                     0.416382   \n",
       "(kennedy2020, people of color)                                         0.454545   \n",
       "(kennedy2020, people with disabilities)                                0.263566   \n",
       "(kennedy2020, straight people)                                         0.254545   \n",
       "(kennedy2020, white people)                                            0.272059   \n",
       "(kennedy2020, women)                                                   0.347826   \n",
       "(sbic, black people)                                                   0.107914   \n",
       "(sbic, jews)                                                           0.018018   \n",
       "(sbic, lgbtq+ people)                                                  0.055336   \n",
       "(sbic, people of color)                                                0.176871   \n",
       "(sbic, people with disabilities)                                       0.053333   \n",
       "(sbic, victims of violence)                                            0.043478   \n",
       "(sbic, women)                                                          0.154882   \n",
       "\n",
       "                                                    (kennedy2020, black people)  \\\n",
       "train_dataset                                                                     \n",
       "(elsherief2021, people of color)                                       0.128788   \n",
       "(elsherief2021, white people)                                          0.029350   \n",
       "(kennedy2020, asian people)                                            0.226766   \n",
       "(kennedy2020, black people)                                            0.533898   \n",
       "(kennedy2020, immigrants)                                              0.268293   \n",
       "(kennedy2020, lgbtq+ people)                                           0.268761   \n",
       "(kennedy2020, men)                                                     0.330658   \n",
       "(kennedy2020, muslims and arabic/middle eastern...                     0.265976   \n",
       "(kennedy2020, people of color)                                         0.631440   \n",
       "(kennedy2020, people with disabilities)                                0.205882   \n",
       "(kennedy2020, straight people)                                         0.216312   \n",
       "(kennedy2020, white people)                                            0.241135   \n",
       "(kennedy2020, women)                                                   0.310000   \n",
       "(sbic, black people)                                                   0.513548   \n",
       "(sbic, jews)                                                           0.037422   \n",
       "(sbic, lgbtq+ people)                                                  0.063433   \n",
       "(sbic, people of color)                                                0.505777   \n",
       "(sbic, people with disabilities)                                       0.025105   \n",
       "(sbic, victims of violence)                                            0.048682   \n",
       "(sbic, women)                                                          0.163833   \n",
       "\n",
       "                                                    (kennedy2020, immigrants)  \\\n",
       "train_dataset                                                                   \n",
       "(elsherief2021, people of color)                                     0.090604   \n",
       "(elsherief2021, white people)                                        0.035587   \n",
       "(kennedy2020, asian people)                                          0.273717   \n",
       "(kennedy2020, black people)                                          0.154331   \n",
       "(kennedy2020, immigrants)                                            0.574909   \n",
       "(kennedy2020, lgbtq+ people)                                         0.160494   \n",
       "(kennedy2020, men)                                                   0.166667   \n",
       "(kennedy2020, muslims and arabic/middle eastern...                   0.512290   \n",
       "(kennedy2020, people of color)                                       0.346369   \n",
       "(kennedy2020, people with disabilities)                              0.173203   \n",
       "(kennedy2020, straight people)                                       0.115987   \n",
       "(kennedy2020, white people)                                          0.206573   \n",
       "(kennedy2020, women)                                                 0.207101   \n",
       "(sbic, black people)                                                 0.101892   \n",
       "(sbic, jews)                                                         0.028933   \n",
       "(sbic, lgbtq+ people)                                                0.036007   \n",
       "(sbic, people of color)                                              0.089725   \n",
       "(sbic, people with disabilities)                                     0.021390   \n",
       "(sbic, victims of violence)                                          0.085034   \n",
       "(sbic, women)                                                        0.057851   \n",
       "\n",
       "                                                    (kennedy2020, lgbtq+ people)  \\\n",
       "train_dataset                                                                      \n",
       "(elsherief2021, people of color)                                        0.001380   \n",
       "(elsherief2021, white people)                                           0.000000   \n",
       "(kennedy2020, asian people)                                             0.177662   \n",
       "(kennedy2020, black people)                                             0.225672   \n",
       "(kennedy2020, immigrants)                                               0.160848   \n",
       "(kennedy2020, lgbtq+ people)                                            0.658127   \n",
       "(kennedy2020, men)                                                      0.652850   \n",
       "(kennedy2020, muslims and arabic/middle eastern...                      0.212844   \n",
       "(kennedy2020, people of color)                                          0.344828   \n",
       "(kennedy2020, people with disabilities)                                 0.416062   \n",
       "(kennedy2020, straight people)                                          0.537441   \n",
       "(kennedy2020, white people)                                             0.224378   \n",
       "(kennedy2020, women)                                                    0.690385   \n",
       "(sbic, black people)                                                    0.057485   \n",
       "(sbic, jews)                                                            0.036543   \n",
       "(sbic, lgbtq+ people)                                                   0.466029   \n",
       "(sbic, people of color)                                                 0.047478   \n",
       "(sbic, people with disabilities)                                        0.058455   \n",
       "(sbic, victims of violence)                                             0.062756   \n",
       "(sbic, women)                                                           0.336251   \n",
       "\n",
       "                                                    (kennedy2020, men)  \\\n",
       "train_dataset                                                            \n",
       "(elsherief2021, people of color)                              0.016667   \n",
       "(elsherief2021, white people)                                 0.008734   \n",
       "(kennedy2020, asian people)                                   0.220472   \n",
       "(kennedy2020, black people)                                   0.283154   \n",
       "(kennedy2020, immigrants)                                     0.194175   \n",
       "(kennedy2020, lgbtq+ people)                                  0.609329   \n",
       "(kennedy2020, men)                                            0.591353   \n",
       "(kennedy2020, muslims and arabic/middle eastern...            0.243542   \n",
       "(kennedy2020, people of color)                                0.373109   \n",
       "(kennedy2020, people with disabilities)                       0.323049   \n",
       "(kennedy2020, straight people)                                0.487805   \n",
       "(kennedy2020, white people)                                   0.251852   \n",
       "(kennedy2020, women)                                          0.593315   \n",
       "(sbic, black people)                                          0.128250   \n",
       "(sbic, jews)                                                  0.039216   \n",
       "(sbic, lgbtq+ people)                                         0.248252   \n",
       "(sbic, people of color)                                       0.131980   \n",
       "(sbic, people with disabilities)                              0.034934   \n",
       "(sbic, victims of violence)                                   0.038627   \n",
       "(sbic, women)                                                 0.364672   \n",
       "\n",
       "                                                    (kennedy2020, muslims and arabic/middle eastern people)  \\\n",
       "train_dataset                                                                                                 \n",
       "(elsherief2021, people of color)                                                             0.034810         \n",
       "(elsherief2021, white people)                                                                0.016694         \n",
       "(kennedy2020, asian people)                                                                  0.193548         \n",
       "(kennedy2020, black people)                                                                  0.139881         \n",
       "(kennedy2020, immigrants)                                                                    0.403081         \n",
       "(kennedy2020, lgbtq+ people)                                                                 0.151163         \n",
       "(kennedy2020, men)                                                                           0.189560         \n",
       "(kennedy2020, muslims and arabic/middle eastern...                                           0.534911         \n",
       "(kennedy2020, people of color)                                                               0.251397         \n",
       "(kennedy2020, people with disabilities)                                                      0.114907         \n",
       "(kennedy2020, straight people)                                                               0.143678         \n",
       "(kennedy2020, white people)                                                                  0.157270         \n",
       "(kennedy2020, women)                                                                         0.215054         \n",
       "(sbic, black people)                                                                         0.074074         \n",
       "(sbic, jews)                                                                                 0.033557         \n",
       "(sbic, lgbtq+ people)                                                                        0.030211         \n",
       "(sbic, people of color)                                                                      0.091031         \n",
       "(sbic, people with disabilities)                                                             0.016920         \n",
       "(sbic, victims of violence)                                                                  0.042553         \n",
       "(sbic, women)                                                                                0.086294         \n",
       "\n",
       "                                                    (kennedy2020, people of color)  \\\n",
       "train_dataset                                                                        \n",
       "(elsherief2021, people of color)                                          0.101351   \n",
       "(elsherief2021, white people)                                             0.033457   \n",
       "(kennedy2020, asian people)                                               0.285714   \n",
       "(kennedy2020, black people)                                               0.583836   \n",
       "(kennedy2020, immigrants)                                                 0.275229   \n",
       "(kennedy2020, lgbtq+ people)                                              0.307692   \n",
       "(kennedy2020, men)                                                        0.397835   \n",
       "(kennedy2020, muslims and arabic/middle eastern...                        0.315152   \n",
       "(kennedy2020, people of color)                                            0.562500   \n",
       "(kennedy2020, people with disabilities)                                   0.256494   \n",
       "(kennedy2020, straight people)                                            0.297376   \n",
       "(kennedy2020, white people)                                               0.252336   \n",
       "(kennedy2020, women)                                                      0.360610   \n",
       "(sbic, black people)                                                      0.475202   \n",
       "(sbic, jews)                                                              0.044362   \n",
       "(sbic, lgbtq+ people)                                                     0.056667   \n",
       "(sbic, people of color)                                                   0.464164   \n",
       "(sbic, people with disabilities)                                          0.029630   \n",
       "(sbic, victims of violence)                                               0.043243   \n",
       "(sbic, women)                                                             0.154891   \n",
       "\n",
       "                                                    (kennedy2020, people with disabilities)  \\\n",
       "train_dataset                                                                                 \n",
       "(elsherief2021, people of color)                                                   0.008929   \n",
       "(elsherief2021, white people)                                                      0.009091   \n",
       "(kennedy2020, asian people)                                                        0.137339   \n",
       "(kennedy2020, black people)                                                        0.221790   \n",
       "(kennedy2020, immigrants)                                                          0.192534   \n",
       "(kennedy2020, lgbtq+ people)                                                       0.460784   \n",
       "(kennedy2020, men)                                                                 0.422893   \n",
       "(kennedy2020, muslims and arabic/middle eastern...                                 0.217742   \n",
       "(kennedy2020, people of color)                                                     0.362676   \n",
       "(kennedy2020, people with disabilities)                                            0.642314   \n",
       "(kennedy2020, straight people)                                                     0.287719   \n",
       "(kennedy2020, white people)                                                        0.191617   \n",
       "(kennedy2020, women)                                                               0.394040   \n",
       "(sbic, black people)                                                               0.094697   \n",
       "(sbic, jews)                                                                       0.093126   \n",
       "(sbic, lgbtq+ people)                                                              0.155894   \n",
       "(sbic, people of color)                                                            0.131148   \n",
       "(sbic, people with disabilities)                                                   0.439791   \n",
       "(sbic, victims of violence)                                                        0.040268   \n",
       "(sbic, women)                                                                      0.190328   \n",
       "\n",
       "                                                    (kennedy2020, straight people)  \\\n",
       "train_dataset                                                                        \n",
       "(elsherief2021, people of color)                                          0.000000   \n",
       "(elsherief2021, white people)                                             0.000000   \n",
       "(kennedy2020, asian people)                                               0.193833   \n",
       "(kennedy2020, black people)                                               0.270492   \n",
       "(kennedy2020, immigrants)                                                 0.128755   \n",
       "(kennedy2020, lgbtq+ people)                                              0.554054   \n",
       "(kennedy2020, men)                                                        0.594937   \n",
       "(kennedy2020, muslims and arabic/middle eastern...                        0.201681   \n",
       "(kennedy2020, people of color)                                            0.304688   \n",
       "(kennedy2020, people with disabilities)                                   0.302041   \n",
       "(kennedy2020, straight people)                                            0.537217   \n",
       "(kennedy2020, white people)                                               0.212766   \n",
       "(kennedy2020, women)                                                      0.696165   \n",
       "(sbic, black people)                                                      0.052830   \n",
       "(sbic, jews)                                                              0.019231   \n",
       "(sbic, lgbtq+ people)                                                     0.184874   \n",
       "(sbic, people of color)                                                   0.074074   \n",
       "(sbic, people with disabilities)                                          0.028571   \n",
       "(sbic, victims of violence)                                               0.064220   \n",
       "(sbic, women)                                                             0.402367   \n",
       "\n",
       "                                                    (kennedy2020, white people)  \\\n",
       "train_dataset                                                                     \n",
       "(elsherief2021, people of color)                                       0.173913   \n",
       "(elsherief2021, white people)                                          0.157303   \n",
       "(kennedy2020, asian people)                                            0.293706   \n",
       "(kennedy2020, black people)                                            0.285714   \n",
       "(kennedy2020, immigrants)                                              0.277027   \n",
       "(kennedy2020, lgbtq+ people)                                           0.322368   \n",
       "(kennedy2020, men)                                                     0.408669   \n",
       "(kennedy2020, muslims and arabic/middle eastern...                     0.336634   \n",
       "(kennedy2020, people of color)                                         0.354037   \n",
       "(kennedy2020, people with disabilities)                                0.267606   \n",
       "(kennedy2020, straight people)                                         0.324675   \n",
       "(kennedy2020, white people)                                            0.477876   \n",
       "(kennedy2020, women)                                                   0.369231   \n",
       "(sbic, black people)                                                   0.251497   \n",
       "(sbic, jews)                                                           0.116279   \n",
       "(sbic, lgbtq+ people)                                                  0.028369   \n",
       "(sbic, people of color)                                                0.294444   \n",
       "(sbic, people with disabilities)                                       0.047431   \n",
       "(sbic, victims of violence)                                            0.053640   \n",
       "(sbic, women)                                                          0.114613   \n",
       "\n",
       "                                                    (kennedy2020, women)  \\\n",
       "train_dataset                                                              \n",
       "(elsherief2021, people of color)                                0.018018   \n",
       "(elsherief2021, white people)                                   0.010108   \n",
       "(kennedy2020, asian people)                                     0.150868   \n",
       "(kennedy2020, black people)                                     0.291691   \n",
       "(kennedy2020, immigrants)                                       0.145928   \n",
       "(kennedy2020, lgbtq+ people)                                    0.578641   \n",
       "(kennedy2020, men)                                              0.596588   \n",
       "(kennedy2020, muslims and arabic/middle eastern...              0.170732   \n",
       "(kennedy2020, people of color)                                  0.332025   \n",
       "(kennedy2020, people with disabilities)                         0.324130   \n",
       "(kennedy2020, straight people)                                  0.545980   \n",
       "(kennedy2020, white people)                                     0.243276   \n",
       "(kennedy2020, women)                                            0.653499   \n",
       "(sbic, black people)                                            0.077705   \n",
       "(sbic, jews)                                                    0.011687   \n",
       "(sbic, lgbtq+ people)                                           0.175396   \n",
       "(sbic, people of color)                                         0.076561   \n",
       "(sbic, people with disabilities)                                0.041369   \n",
       "(sbic, victims of violence)                                     0.062630   \n",
       "(sbic, women)                                                   0.443508   \n",
       "\n",
       "                                                    (sbic, black people)  \\\n",
       "train_dataset                                                              \n",
       "(elsherief2021, people of color)                                0.273323   \n",
       "(elsherief2021, white people)                                   0.032483   \n",
       "(kennedy2020, asian people)                                     0.009286   \n",
       "(kennedy2020, black people)                                     0.191023   \n",
       "(kennedy2020, immigrants)                                       0.018401   \n",
       "(kennedy2020, lgbtq+ people)                                    0.009275   \n",
       "(kennedy2020, men)                                              0.041157   \n",
       "(kennedy2020, muslims and arabic/middle eastern...              0.010453   \n",
       "(kennedy2020, people of color)                                  0.195876   \n",
       "(kennedy2020, people with disabilities)                         0.017172   \n",
       "(kennedy2020, straight people)                                  0.019351   \n",
       "(kennedy2020, white people)                                     0.055682   \n",
       "(kennedy2020, women)                                            0.029296   \n",
       "(sbic, black people)                                            0.815470   \n",
       "(sbic, jews)                                                    0.189873   \n",
       "(sbic, lgbtq+ people)                                           0.112026   \n",
       "(sbic, people of color)                                         0.837104   \n",
       "(sbic, people with disabilities)                                0.286550   \n",
       "(sbic, victims of violence)                                     0.348145   \n",
       "(sbic, women)                                                   0.182082   \n",
       "\n",
       "                                                    (sbic, jews)  \\\n",
       "train_dataset                                                      \n",
       "(elsherief2021, people of color)                        0.021505   \n",
       "(elsherief2021, white people)                           0.006221   \n",
       "(kennedy2020, asian people)                             0.015337   \n",
       "(kennedy2020, black people)                             0.003115   \n",
       "(kennedy2020, immigrants)                               0.009146   \n",
       "(kennedy2020, lgbtq+ people)                            0.003096   \n",
       "(kennedy2020, men)                                      0.003053   \n",
       "(kennedy2020, muslims and arabic/middle eastern...      0.062780   \n",
       "(kennedy2020, people of color)                          0.018265   \n",
       "(kennedy2020, people with disabilities)                 0.012346   \n",
       "(kennedy2020, straight people)                          0.009202   \n",
       "(kennedy2020, white people)                             0.030722   \n",
       "(kennedy2020, women)                                    0.000000   \n",
       "(sbic, black people)                                    0.301790   \n",
       "(sbic, jews)                                            0.866376   \n",
       "(sbic, lgbtq+ people)                                   0.071429   \n",
       "(sbic, people of color)                                 0.413876   \n",
       "(sbic, people with disabilities)                        0.239130   \n",
       "(sbic, victims of violence)                             0.770609   \n",
       "(sbic, women)                                           0.163001   \n",
       "\n",
       "                                                    (sbic, lgbtq+ people)  \\\n",
       "train_dataset                                                               \n",
       "(elsherief2021, people of color)                                 0.011278   \n",
       "(elsherief2021, white people)                                    0.007605   \n",
       "(kennedy2020, asian people)                                      0.007605   \n",
       "(kennedy2020, black people)                                      0.044444   \n",
       "(kennedy2020, immigrants)                                        0.018692   \n",
       "(kennedy2020, lgbtq+ people)                                     0.261011   \n",
       "(kennedy2020, men)                                               0.174204   \n",
       "(kennedy2020, muslims and arabic/middle eastern...               0.011321   \n",
       "(kennedy2020, people of color)                                   0.072727   \n",
       "(kennedy2020, people with disabilities)                          0.096601   \n",
       "(kennedy2020, straight people)                                   0.111498   \n",
       "(kennedy2020, white people)                                      0.007605   \n",
       "(kennedy2020, women)                                             0.140893   \n",
       "(sbic, black people)                                             0.130584   \n",
       "(sbic, jews)                                                     0.066298   \n",
       "(sbic, lgbtq+ people)                                            0.665832   \n",
       "(sbic, people of color)                                          0.116638   \n",
       "(sbic, people with disabilities)                                 0.181818   \n",
       "(sbic, victims of violence)                                      0.274143   \n",
       "(sbic, women)                                                    0.581595   \n",
       "\n",
       "                                                    (sbic, people of color)  \\\n",
       "train_dataset                                                                 \n",
       "(elsherief2021, people of color)                                   0.287403   \n",
       "(elsherief2021, white people)                                      0.048319   \n",
       "(kennedy2020, asian people)                                        0.005302   \n",
       "(kennedy2020, black people)                                        0.159961   \n",
       "(kennedy2020, immigrants)                                          0.018809   \n",
       "(kennedy2020, lgbtq+ people)                                       0.014791   \n",
       "(kennedy2020, men)                                                 0.037774   \n",
       "(kennedy2020, muslims and arabic/middle eastern...                 0.012746   \n",
       "(kennedy2020, people of color)                                     0.178115   \n",
       "(kennedy2020, people with disabilities)                            0.011536   \n",
       "(kennedy2020, straight people)                                     0.014470   \n",
       "(kennedy2020, white people)                                        0.062241   \n",
       "(kennedy2020, women)                                               0.036829   \n",
       "(sbic, black people)                                               0.795607   \n",
       "(sbic, jews)                                                       0.180241   \n",
       "(sbic, lgbtq+ people)                                              0.114713   \n",
       "(sbic, people of color)                                            0.789298   \n",
       "(sbic, people with disabilities)                                   0.274989   \n",
       "(sbic, victims of violence)                                        0.342762   \n",
       "(sbic, women)                                                      0.182536   \n",
       "\n",
       "                                                    (sbic, people with disabilities)  \\\n",
       "train_dataset                                                                          \n",
       "(elsherief2021, people of color)                                            0.004566   \n",
       "(elsherief2021, white people)                                               0.000000   \n",
       "(kennedy2020, asian people)                                                 0.013667   \n",
       "(kennedy2020, black people)                                                 0.013575   \n",
       "(kennedy2020, immigrants)                                                   0.018265   \n",
       "(kennedy2020, lgbtq+ people)                                                0.035714   \n",
       "(kennedy2020, men)                                                          0.069114   \n",
       "(kennedy2020, muslims and arabic/middle eastern...                          0.013793   \n",
       "(kennedy2020, people of color)                                              0.026906   \n",
       "(kennedy2020, people with disabilities)                                     0.161826   \n",
       "(kennedy2020, straight people)                                              0.013333   \n",
       "(kennedy2020, white people)                                                 0.009070   \n",
       "(kennedy2020, women)                                                        0.026374   \n",
       "(sbic, black people)                                                        0.191617   \n",
       "(sbic, jews)                                                                0.107296   \n",
       "(sbic, lgbtq+ people)                                                       0.175365   \n",
       "(sbic, people of color)                                                     0.182540   \n",
       "(sbic, people with disabilities)                                            0.734177   \n",
       "(sbic, victims of violence)                                                 0.464883   \n",
       "(sbic, women)                                                               0.176583   \n",
       "\n",
       "                                                    (sbic, victims of violence)  \\\n",
       "train_dataset                                                                     \n",
       "(elsherief2021, people of color)                                       0.026667   \n",
       "(elsherief2021, white people)                                          0.000000   \n",
       "(kennedy2020, asian people)                                            0.000000   \n",
       "(kennedy2020, black people)                                            0.004454   \n",
       "(kennedy2020, immigrants)                                              0.008909   \n",
       "(kennedy2020, lgbtq+ people)                                           0.013363   \n",
       "(kennedy2020, men)                                                     0.019672   \n",
       "(kennedy2020, muslims and arabic/middle eastern...                     0.008949   \n",
       "(kennedy2020, people of color)                                         0.013201   \n",
       "(kennedy2020, people with disabilities)                                0.022099   \n",
       "(kennedy2020, straight people)                                         0.021882   \n",
       "(kennedy2020, white people)                                            0.011223   \n",
       "(kennedy2020, women)                                                   0.028230   \n",
       "(sbic, black people)                                                   0.166000   \n",
       "(sbic, jews)                                                           0.277457   \n",
       "(sbic, lgbtq+ people)                                                  0.065005   \n",
       "(sbic, people of color)                                                0.209302   \n",
       "(sbic, people with disabilities)                                       0.194638   \n",
       "(sbic, victims of violence)                                            0.725936   \n",
       "(sbic, women)                                                          0.339721   \n",
       "\n",
       "                                                    (sbic, women)  \n",
       "train_dataset                                                      \n",
       "(elsherief2021, people of color)                         0.020979  \n",
       "(elsherief2021, white people)                            0.004742  \n",
       "(kennedy2020, asian people)                              0.003527  \n",
       "(kennedy2020, black people)                              0.062252  \n",
       "(kennedy2020, immigrants)                                0.011581  \n",
       "(kennedy2020, lgbtq+ people)                             0.041237  \n",
       "(kennedy2020, men)                                       0.078410  \n",
       "(kennedy2020, muslims and arabic/middle eastern...       0.004689  \n",
       "(kennedy2020, people of color)                           0.068042  \n",
       "(kennedy2020, people with disabilities)                  0.019608  \n",
       "(kennedy2020, straight people)                           0.070117  \n",
       "(kennedy2020, white people)                              0.008221  \n",
       "(kennedy2020, women)                                     0.146575  \n",
       "(sbic, black people)                                     0.118959  \n",
       "(sbic, jews)                                             0.046591  \n",
       "(sbic, lgbtq+ people)                                    0.210692  \n",
       "(sbic, people of color)                                  0.133544  \n",
       "(sbic, people with disabilities)                         0.100601  \n",
       "(sbic, victims of violence)                              0.267176  \n",
       "(sbic, women)                                            0.652038  "
      ]
     },
     "execution_count": 23,
     "metadata": {},
     "output_type": "execute_result"
    }
   ],
   "source": [
    "clfs = {}\n",
    "scores = []\n",
    "for name, folds in tqdm(identity_folds.items()):\n",
    "    print(name)\n",
    "    \n",
    "    # Extract features\n",
    "    print('Extracting features...')\n",
    "    bow = {}\n",
    "    # Check for NaNs\n",
    "    if folds['train']['text'].isnull().values.any():\n",
    "        pdb.set_trace()\n",
    "    if folds['test']['text'].isnull().values.any():\n",
    "        pdb.set_trace()\n",
    "    vectorizer = TfidfVectorizer(min_df=1)\n",
    "    vectorizer.fit(folds['train']['text']) # corpus is a list of strings (documents)\n",
    "    bow = {}\n",
    "    bow['train'] = vectorizer.transform(folds['train']['text'])\n",
    "    bow['test'] = vectorizer.transform(folds['test']['text'])\n",
    "    bow.keys()\n",
    "\n",
    "    # Train LR model \n",
    "    print('Training model...')\n",
    "    clfs[name] = LogisticRegression(solver='liblinear')\n",
    "    clfs[name].fit(bow['train'], folds['train']['hate'])\n",
    "\n",
    "    # Evaluate\n",
    "    print('Evaluating...')\n",
    "    score_line = {'train_dataset': name}\n",
    "    \n",
    "    for test_name, test_folds in identity_folds.items():\n",
    "        test_bow = vectorizer.transform(test_folds['test']['text'])\n",
    "        preds = clfs[name].predict(test_bow)\n",
    "        score_line[test_name] = f1_score(test_folds['test']['hate'], preds)\n",
    "        # true = data[split]['test']['hate']\n",
    "        # scores[dataset][split] = pd.DataFrame(classification_report(true, preds, output_dict=True))\n",
    "        # f1_scores.append({'dataset': dataset, 'split': split, 'f1_hate': scores[dataset][split].loc['f1-score', 'True']})\n",
    "        # confusion_matrices[dataset][split] = confusion_matrix(true, preds).ravel()\n",
    "        \n",
    "        # print(split)\n",
    "        # display(scores[dataset][split])\n",
    "    scores.append(score_line)\n",
    "        \n",
    "    print()\n",
    "        \n",
    "    # Chi-squared test for significance\n",
    "    # sig = chisquare(*list(confusion_matrices[dataset].values()))\n",
    "    # sig = chisquare(confusion_matrices[dataset]['with_heg'], confusion_matrices[dataset]['no_heg'])\n",
    "    # sigs.append({'dataset': dataset, 'statistic': sig.statistic, 'pvalue': sig.pvalue})\n",
    "\n",
    "scores = pd.DataFrame(scores).set_index('train_dataset')\n",
    "scores"
   ]
  },
  {
   "cell_type": "code",
   "execution_count": 25,
   "id": "d59fbb58-efad-4ecb-a74e-fc31af03665b",
   "metadata": {},
   "outputs": [
    {
     "data": {
      "application/vnd.plotly.v1+json": {
       "config": {
        "plotlyServerURL": "https://plot.ly"
       },
       "data": [
        {
         "hovertemplate": "0=%{x}<br>1=%{y}<br>train_dataset=%{text}<extra></extra>",
         "legendgroup": "",
         "marker": {
          "color": "#636efa",
          "symbol": "circle"
         },
         "mode": "markers+text",
         "name": "",
         "orientation": "v",
         "showlegend": false,
         "text": [
          "('elsherief2021', 'people of color')",
          "('elsherief2021', 'white people')",
          "('kennedy2020', 'asian people')",
          "('kennedy2020', 'black people')",
          "('kennedy2020', 'immigrants')",
          "('kennedy2020', 'lgbtq+ people')",
          "('kennedy2020', 'men')",
          "('kennedy2020', 'muslims and arabic/middle eastern people')",
          "('kennedy2020', 'people of color')",
          "('kennedy2020', 'people with disabilities')",
          "('kennedy2020', 'straight people')",
          "('kennedy2020', 'white people')",
          "('kennedy2020', 'women')",
          "('sbic', 'black people')",
          "('sbic', 'jews')",
          "('sbic', 'lgbtq+ people')",
          "('sbic', 'people of color')",
          "('sbic', 'people with disabilities')",
          "('sbic', 'victims of violence')",
          "('sbic', 'women')"
         ],
         "type": "scatter",
         "x": [
          0.5700651623989575,
          0.44541384509744214,
          -0.155778489515972,
          -0.20027750328007887,
          -0.19470156411836062,
          -0.7697688015554589,
          -0.7834665306127783,
          -0.2851404609656687,
          -0.3999076097920934,
          -0.40671614274504636,
          -0.6076656204466189,
          -0.07040513637791745,
          -0.8473921999247105,
          0.8396331867280833,
          0.6644882359517472,
          0.010054160839153638,
          0.8951052952231714,
          0.5252131286712548,
          0.8394840611192506,
          -0.06823701669435615
         ],
         "xaxis": "x",
         "y": [
          -0.28178195627007935,
          -0.08577265251229654,
          -0.056749416374704355,
          -0.2868080231989778,
          -0.1670750554370813,
          0.0950340557781625,
          -0.006347793449902004,
          -0.18000548598350113,
          -0.3814890756897707,
          0.11488418874896612,
          0.07148145669167627,
          -0.28460537397082825,
          0.013369305331204919,
          -0.5843017233829972,
          0.45703901004745745,
          0.5090920529189367,
          -0.62094532529935,
          0.48712072475036783,
          0.6704517654605239,
          0.5174093218421923
         ],
         "yaxis": "y"
        }
       ],
       "layout": {
        "height": 1000,
        "legend": {
         "tracegroupgap": 0
        },
        "margin": {
         "t": 60
        },
        "template": {
         "data": {
          "bar": [
           {
            "error_x": {
             "color": "#2a3f5f"
            },
            "error_y": {
             "color": "#2a3f5f"
            },
            "marker": {
             "line": {
              "color": "#E5ECF6",
              "width": 0.5
             },
             "pattern": {
              "fillmode": "overlay",
              "size": 10,
              "solidity": 0.2
             }
            },
            "type": "bar"
           }
          ],
          "barpolar": [
           {
            "marker": {
             "line": {
              "color": "#E5ECF6",
              "width": 0.5
             },
             "pattern": {
              "fillmode": "overlay",
              "size": 10,
              "solidity": 0.2
             }
            },
            "type": "barpolar"
           }
          ],
          "carpet": [
           {
            "aaxis": {
             "endlinecolor": "#2a3f5f",
             "gridcolor": "white",
             "linecolor": "white",
             "minorgridcolor": "white",
             "startlinecolor": "#2a3f5f"
            },
            "baxis": {
             "endlinecolor": "#2a3f5f",
             "gridcolor": "white",
             "linecolor": "white",
             "minorgridcolor": "white",
             "startlinecolor": "#2a3f5f"
            },
            "type": "carpet"
           }
          ],
          "choropleth": [
           {
            "colorbar": {
             "outlinewidth": 0,
             "ticks": ""
            },
            "type": "choropleth"
           }
          ],
          "contour": [
           {
            "colorbar": {
             "outlinewidth": 0,
             "ticks": ""
            },
            "colorscale": [
             [
              0,
              "#0d0887"
             ],
             [
              0.1111111111111111,
              "#46039f"
             ],
             [
              0.2222222222222222,
              "#7201a8"
             ],
             [
              0.3333333333333333,
              "#9c179e"
             ],
             [
              0.4444444444444444,
              "#bd3786"
             ],
             [
              0.5555555555555556,
              "#d8576b"
             ],
             [
              0.6666666666666666,
              "#ed7953"
             ],
             [
              0.7777777777777778,
              "#fb9f3a"
             ],
             [
              0.8888888888888888,
              "#fdca26"
             ],
             [
              1,
              "#f0f921"
             ]
            ],
            "type": "contour"
           }
          ],
          "contourcarpet": [
           {
            "colorbar": {
             "outlinewidth": 0,
             "ticks": ""
            },
            "type": "contourcarpet"
           }
          ],
          "heatmap": [
           {
            "colorbar": {
             "outlinewidth": 0,
             "ticks": ""
            },
            "colorscale": [
             [
              0,
              "#0d0887"
             ],
             [
              0.1111111111111111,
              "#46039f"
             ],
             [
              0.2222222222222222,
              "#7201a8"
             ],
             [
              0.3333333333333333,
              "#9c179e"
             ],
             [
              0.4444444444444444,
              "#bd3786"
             ],
             [
              0.5555555555555556,
              "#d8576b"
             ],
             [
              0.6666666666666666,
              "#ed7953"
             ],
             [
              0.7777777777777778,
              "#fb9f3a"
             ],
             [
              0.8888888888888888,
              "#fdca26"
             ],
             [
              1,
              "#f0f921"
             ]
            ],
            "type": "heatmap"
           }
          ],
          "heatmapgl": [
           {
            "colorbar": {
             "outlinewidth": 0,
             "ticks": ""
            },
            "colorscale": [
             [
              0,
              "#0d0887"
             ],
             [
              0.1111111111111111,
              "#46039f"
             ],
             [
              0.2222222222222222,
              "#7201a8"
             ],
             [
              0.3333333333333333,
              "#9c179e"
             ],
             [
              0.4444444444444444,
              "#bd3786"
             ],
             [
              0.5555555555555556,
              "#d8576b"
             ],
             [
              0.6666666666666666,
              "#ed7953"
             ],
             [
              0.7777777777777778,
              "#fb9f3a"
             ],
             [
              0.8888888888888888,
              "#fdca26"
             ],
             [
              1,
              "#f0f921"
             ]
            ],
            "type": "heatmapgl"
           }
          ],
          "histogram": [
           {
            "marker": {
             "pattern": {
              "fillmode": "overlay",
              "size": 10,
              "solidity": 0.2
             }
            },
            "type": "histogram"
           }
          ],
          "histogram2d": [
           {
            "colorbar": {
             "outlinewidth": 0,
             "ticks": ""
            },
            "colorscale": [
             [
              0,
              "#0d0887"
             ],
             [
              0.1111111111111111,
              "#46039f"
             ],
             [
              0.2222222222222222,
              "#7201a8"
             ],
             [
              0.3333333333333333,
              "#9c179e"
             ],
             [
              0.4444444444444444,
              "#bd3786"
             ],
             [
              0.5555555555555556,
              "#d8576b"
             ],
             [
              0.6666666666666666,
              "#ed7953"
             ],
             [
              0.7777777777777778,
              "#fb9f3a"
             ],
             [
              0.8888888888888888,
              "#fdca26"
             ],
             [
              1,
              "#f0f921"
             ]
            ],
            "type": "histogram2d"
           }
          ],
          "histogram2dcontour": [
           {
            "colorbar": {
             "outlinewidth": 0,
             "ticks": ""
            },
            "colorscale": [
             [
              0,
              "#0d0887"
             ],
             [
              0.1111111111111111,
              "#46039f"
             ],
             [
              0.2222222222222222,
              "#7201a8"
             ],
             [
              0.3333333333333333,
              "#9c179e"
             ],
             [
              0.4444444444444444,
              "#bd3786"
             ],
             [
              0.5555555555555556,
              "#d8576b"
             ],
             [
              0.6666666666666666,
              "#ed7953"
             ],
             [
              0.7777777777777778,
              "#fb9f3a"
             ],
             [
              0.8888888888888888,
              "#fdca26"
             ],
             [
              1,
              "#f0f921"
             ]
            ],
            "type": "histogram2dcontour"
           }
          ],
          "mesh3d": [
           {
            "colorbar": {
             "outlinewidth": 0,
             "ticks": ""
            },
            "type": "mesh3d"
           }
          ],
          "parcoords": [
           {
            "line": {
             "colorbar": {
              "outlinewidth": 0,
              "ticks": ""
             }
            },
            "type": "parcoords"
           }
          ],
          "pie": [
           {
            "automargin": true,
            "type": "pie"
           }
          ],
          "scatter": [
           {
            "marker": {
             "colorbar": {
              "outlinewidth": 0,
              "ticks": ""
             }
            },
            "type": "scatter"
           }
          ],
          "scatter3d": [
           {
            "line": {
             "colorbar": {
              "outlinewidth": 0,
              "ticks": ""
             }
            },
            "marker": {
             "colorbar": {
              "outlinewidth": 0,
              "ticks": ""
             }
            },
            "type": "scatter3d"
           }
          ],
          "scattercarpet": [
           {
            "marker": {
             "colorbar": {
              "outlinewidth": 0,
              "ticks": ""
             }
            },
            "type": "scattercarpet"
           }
          ],
          "scattergeo": [
           {
            "marker": {
             "colorbar": {
              "outlinewidth": 0,
              "ticks": ""
             }
            },
            "type": "scattergeo"
           }
          ],
          "scattergl": [
           {
            "marker": {
             "colorbar": {
              "outlinewidth": 0,
              "ticks": ""
             }
            },
            "type": "scattergl"
           }
          ],
          "scattermapbox": [
           {
            "marker": {
             "colorbar": {
              "outlinewidth": 0,
              "ticks": ""
             }
            },
            "type": "scattermapbox"
           }
          ],
          "scatterpolar": [
           {
            "marker": {
             "colorbar": {
              "outlinewidth": 0,
              "ticks": ""
             }
            },
            "type": "scatterpolar"
           }
          ],
          "scatterpolargl": [
           {
            "marker": {
             "colorbar": {
              "outlinewidth": 0,
              "ticks": ""
             }
            },
            "type": "scatterpolargl"
           }
          ],
          "scatterternary": [
           {
            "marker": {
             "colorbar": {
              "outlinewidth": 0,
              "ticks": ""
             }
            },
            "type": "scatterternary"
           }
          ],
          "surface": [
           {
            "colorbar": {
             "outlinewidth": 0,
             "ticks": ""
            },
            "colorscale": [
             [
              0,
              "#0d0887"
             ],
             [
              0.1111111111111111,
              "#46039f"
             ],
             [
              0.2222222222222222,
              "#7201a8"
             ],
             [
              0.3333333333333333,
              "#9c179e"
             ],
             [
              0.4444444444444444,
              "#bd3786"
             ],
             [
              0.5555555555555556,
              "#d8576b"
             ],
             [
              0.6666666666666666,
              "#ed7953"
             ],
             [
              0.7777777777777778,
              "#fb9f3a"
             ],
             [
              0.8888888888888888,
              "#fdca26"
             ],
             [
              1,
              "#f0f921"
             ]
            ],
            "type": "surface"
           }
          ],
          "table": [
           {
            "cells": {
             "fill": {
              "color": "#EBF0F8"
             },
             "line": {
              "color": "white"
             }
            },
            "header": {
             "fill": {
              "color": "#C8D4E3"
             },
             "line": {
              "color": "white"
             }
            },
            "type": "table"
           }
          ]
         },
         "layout": {
          "annotationdefaults": {
           "arrowcolor": "#2a3f5f",
           "arrowhead": 0,
           "arrowwidth": 1
          },
          "autotypenumbers": "strict",
          "coloraxis": {
           "colorbar": {
            "outlinewidth": 0,
            "ticks": ""
           }
          },
          "colorscale": {
           "diverging": [
            [
             0,
             "#8e0152"
            ],
            [
             0.1,
             "#c51b7d"
            ],
            [
             0.2,
             "#de77ae"
            ],
            [
             0.3,
             "#f1b6da"
            ],
            [
             0.4,
             "#fde0ef"
            ],
            [
             0.5,
             "#f7f7f7"
            ],
            [
             0.6,
             "#e6f5d0"
            ],
            [
             0.7,
             "#b8e186"
            ],
            [
             0.8,
             "#7fbc41"
            ],
            [
             0.9,
             "#4d9221"
            ],
            [
             1,
             "#276419"
            ]
           ],
           "sequential": [
            [
             0,
             "#0d0887"
            ],
            [
             0.1111111111111111,
             "#46039f"
            ],
            [
             0.2222222222222222,
             "#7201a8"
            ],
            [
             0.3333333333333333,
             "#9c179e"
            ],
            [
             0.4444444444444444,
             "#bd3786"
            ],
            [
             0.5555555555555556,
             "#d8576b"
            ],
            [
             0.6666666666666666,
             "#ed7953"
            ],
            [
             0.7777777777777778,
             "#fb9f3a"
            ],
            [
             0.8888888888888888,
             "#fdca26"
            ],
            [
             1,
             "#f0f921"
            ]
           ],
           "sequentialminus": [
            [
             0,
             "#0d0887"
            ],
            [
             0.1111111111111111,
             "#46039f"
            ],
            [
             0.2222222222222222,
             "#7201a8"
            ],
            [
             0.3333333333333333,
             "#9c179e"
            ],
            [
             0.4444444444444444,
             "#bd3786"
            ],
            [
             0.5555555555555556,
             "#d8576b"
            ],
            [
             0.6666666666666666,
             "#ed7953"
            ],
            [
             0.7777777777777778,
             "#fb9f3a"
            ],
            [
             0.8888888888888888,
             "#fdca26"
            ],
            [
             1,
             "#f0f921"
            ]
           ]
          },
          "colorway": [
           "#636efa",
           "#EF553B",
           "#00cc96",
           "#ab63fa",
           "#FFA15A",
           "#19d3f3",
           "#FF6692",
           "#B6E880",
           "#FF97FF",
           "#FECB52"
          ],
          "font": {
           "color": "#2a3f5f"
          },
          "geo": {
           "bgcolor": "white",
           "lakecolor": "white",
           "landcolor": "#E5ECF6",
           "showlakes": true,
           "showland": true,
           "subunitcolor": "white"
          },
          "hoverlabel": {
           "align": "left"
          },
          "hovermode": "closest",
          "mapbox": {
           "style": "light"
          },
          "paper_bgcolor": "white",
          "plot_bgcolor": "#E5ECF6",
          "polar": {
           "angularaxis": {
            "gridcolor": "white",
            "linecolor": "white",
            "ticks": ""
           },
           "bgcolor": "#E5ECF6",
           "radialaxis": {
            "gridcolor": "white",
            "linecolor": "white",
            "ticks": ""
           }
          },
          "scene": {
           "xaxis": {
            "backgroundcolor": "#E5ECF6",
            "gridcolor": "white",
            "gridwidth": 2,
            "linecolor": "white",
            "showbackground": true,
            "ticks": "",
            "zerolinecolor": "white"
           },
           "yaxis": {
            "backgroundcolor": "#E5ECF6",
            "gridcolor": "white",
            "gridwidth": 2,
            "linecolor": "white",
            "showbackground": true,
            "ticks": "",
            "zerolinecolor": "white"
           },
           "zaxis": {
            "backgroundcolor": "#E5ECF6",
            "gridcolor": "white",
            "gridwidth": 2,
            "linecolor": "white",
            "showbackground": true,
            "ticks": "",
            "zerolinecolor": "white"
           }
          },
          "shapedefaults": {
           "line": {
            "color": "#2a3f5f"
           }
          },
          "ternary": {
           "aaxis": {
            "gridcolor": "white",
            "linecolor": "white",
            "ticks": ""
           },
           "baxis": {
            "gridcolor": "white",
            "linecolor": "white",
            "ticks": ""
           },
           "bgcolor": "#E5ECF6",
           "caxis": {
            "gridcolor": "white",
            "linecolor": "white",
            "ticks": ""
           }
          },
          "title": {
           "x": 0.05
          },
          "xaxis": {
           "automargin": true,
           "gridcolor": "white",
           "linecolor": "white",
           "ticks": "",
           "title": {
            "standoff": 15
           },
           "zerolinecolor": "white",
           "zerolinewidth": 2
          },
          "yaxis": {
           "automargin": true,
           "gridcolor": "white",
           "linecolor": "white",
           "ticks": "",
           "title": {
            "standoff": 15
           },
           "zerolinecolor": "white",
           "zerolinewidth": 2
          }
         }
        },
        "width": 1000,
        "xaxis": {
         "anchor": "y",
         "autorange": true,
         "domain": [
          0,
          1
         ],
         "range": [
          -0.953897557844571,
          1.001610653143032
         ],
         "title": {
          "text": "0"
         },
         "type": "linear"
        },
        "yaxis": {
         "anchor": "x",
         "autorange": true,
         "domain": [
          0,
          1
         ],
         "range": [
          -0.6997095966535889,
          0.7492160368147628
         ],
         "title": {
          "text": "1"
         },
         "type": "linear"
        }
       }
      },
      "image/png": "[encoded data removed]",
      "text/html": [
       "<div>                            <div id=\"82a50cd3-3152-424a-ae15-697dd4d6691b\" class=\"plotly-graph-div\" style=\"height:1000px; width:1000px;\"></div>            <script type=\"text/javascript\">                require([\"plotly\"], function(Plotly) {                    window.PLOTLYENV=window.PLOTLYENV || {};                                    if (document.getElementById(\"82a50cd3-3152-424a-ae15-697dd4d6691b\")) {                    Plotly.newPlot(                        \"82a50cd3-3152-424a-ae15-697dd4d6691b\",                        [{\"hovertemplate\":\"0=%{x}<br>1=%{y}<br>train_dataset=%{text}<extra></extra>\",\"legendgroup\":\"\",\"marker\":{\"color\":\"#636efa\",\"symbol\":\"circle\"},\"mode\":\"markers+text\",\"name\":\"\",\"orientation\":\"v\",\"showlegend\":false,\"text\":[\"('elsherief2021', 'people of color')\",\"('elsherief2021', 'white people')\",\"('kennedy2020', 'asian people')\",\"('kennedy2020', 'black people')\",\"('kennedy2020', 'immigrants')\",\"('kennedy2020', 'lgbtq+ people')\",\"('kennedy2020', 'men')\",\"('kennedy2020', 'muslims and arabic/middle eastern people')\",\"('kennedy2020', 'people of color')\",\"('kennedy2020', 'people with disabilities')\",\"('kennedy2020', 'straight people')\",\"('kennedy2020', 'white people')\",\"('kennedy2020', 'women')\",\"('sbic', 'black people')\",\"('sbic', 'jews')\",\"('sbic', 'lgbtq+ people')\",\"('sbic', 'people of color')\",\"('sbic', 'people with disabilities')\",\"('sbic', 'victims of violence')\",\"('sbic', 'women')\"],\"type\":\"scatter\",\"x\":[0.5700651623989575,0.44541384509744214,-0.155778489515972,-0.20027750328007887,-0.19470156411836062,-0.7697688015554589,-0.7834665306127783,-0.2851404609656687,-0.3999076097920934,-0.40671614274504636,-0.6076656204466189,-0.07040513637791745,-0.8473921999247105,0.8396331867280833,0.6644882359517472,0.010054160839153638,0.8951052952231714,0.5252131286712548,0.8394840611192506,-0.06823701669435615],\"xaxis\":\"x\",\"y\":[-0.28178195627007935,-0.08577265251229654,-0.056749416374704355,-0.2868080231989778,-0.1670750554370813,0.0950340557781625,-0.006347793449902004,-0.18000548598350113,-0.3814890756897707,0.11488418874896612,0.07148145669167627,-0.28460537397082825,0.013369305331204919,-0.5843017233829972,0.45703901004745745,0.5090920529189367,-0.62094532529935,0.48712072475036783,0.6704517654605239,0.5174093218421923],\"yaxis\":\"y\"}],                        {\"height\":1000,\"legend\":{\"tracegroupgap\":0},\"margin\":{\"t\":60},\"template\":{\"data\":{\"bar\":[{\"error_x\":{\"color\":\"#2a3f5f\"},\"error_y\":{\"color\":\"#2a3f5f\"},\"marker\":{\"line\":{\"color\":\"#E5ECF6\",\"width\":0.5},\"pattern\":{\"fillmode\":\"overlay\",\"size\":10,\"solidity\":0.2}},\"type\":\"bar\"}],\"barpolar\":[{\"marker\":{\"line\":{\"color\":\"#E5ECF6\",\"width\":0.5},\"pattern\":{\"fillmode\":\"overlay\",\"size\":10,\"solidity\":0.2}},\"type\":\"barpolar\"}],\"carpet\":[{\"aaxis\":{\"endlinecolor\":\"#2a3f5f\",\"gridcolor\":\"white\",\"linecolor\":\"white\",\"minorgridcolor\":\"white\",\"startlinecolor\":\"#2a3f5f\"},\"baxis\":{\"endlinecolor\":\"#2a3f5f\",\"gridcolor\":\"white\",\"linecolor\":\"white\",\"minorgridcolor\":\"white\",\"startlinecolor\":\"#2a3f5f\"},\"type\":\"carpet\"}],\"choropleth\":[{\"colorbar\":{\"outlinewidth\":0,\"ticks\":\"\"},\"type\":\"choropleth\"}],\"contour\":[{\"colorbar\":{\"outlinewidth\":0,\"ticks\":\"\"},\"colorscale\":[[0.0,\"#0d0887\"],[0.1111111111111111,\"#46039f\"],[0.2222222222222222,\"#7201a8\"],[0.3333333333333333,\"#9c179e\"],[0.4444444444444444,\"#bd3786\"],[0.5555555555555556,\"#d8576b\"],[0.6666666666666666,\"#ed7953\"],[0.7777777777777778,\"#fb9f3a\"],[0.8888888888888888,\"#fdca26\"],[1.0,\"#f0f921\"]],\"type\":\"contour\"}],\"contourcarpet\":[{\"colorbar\":{\"outlinewidth\":0,\"ticks\":\"\"},\"type\":\"contourcarpet\"}],\"heatmap\":[{\"colorbar\":{\"outlinewidth\":0,\"ticks\":\"\"},\"colorscale\":[[0.0,\"#0d0887\"],[0.1111111111111111,\"#46039f\"],[0.2222222222222222,\"#7201a8\"],[0.3333333333333333,\"#9c179e\"],[0.4444444444444444,\"#bd3786\"],[0.5555555555555556,\"#d8576b\"],[0.6666666666666666,\"#ed7953\"],[0.7777777777777778,\"#fb9f3a\"],[0.8888888888888888,\"#fdca26\"],[1.0,\"#f0f921\"]],\"type\":\"heatmap\"}],\"heatmapgl\":[{\"colorbar\":{\"outlinewidth\":0,\"ticks\":\"\"},\"colorscale\":[[0.0,\"#0d0887\"],[0.1111111111111111,\"#46039f\"],[0.2222222222222222,\"#7201a8\"],[0.3333333333333333,\"#9c179e\"],[0.4444444444444444,\"#bd3786\"],[0.5555555555555556,\"#d8576b\"],[0.6666666666666666,\"#ed7953\"],[0.7777777777777778,\"#fb9f3a\"],[0.8888888888888888,\"#fdca26\"],[1.0,\"#f0f921\"]],\"type\":\"heatmapgl\"}],\"histogram\":[{\"marker\":{\"pattern\":{\"fillmode\":\"overlay\",\"size\":10,\"solidity\":0.2}},\"type\":\"histogram\"}],\"histogram2d\":[{\"colorbar\":{\"outlinewidth\":0,\"ticks\":\"\"},\"colorscale\":[[0.0,\"#0d0887\"],[0.1111111111111111,\"#46039f\"],[0.2222222222222222,\"#7201a8\"],[0.3333333333333333,\"#9c179e\"],[0.4444444444444444,\"#bd3786\"],[0.5555555555555556,\"#d8576b\"],[0.6666666666666666,\"#ed7953\"],[0.7777777777777778,\"#fb9f3a\"],[0.8888888888888888,\"#fdca26\"],[1.0,\"#f0f921\"]],\"type\":\"histogram2d\"}],\"histogram2dcontour\":[{\"colorbar\":{\"outlinewidth\":0,\"ticks\":\"\"},\"colorscale\":[[0.0,\"#0d0887\"],[0.1111111111111111,\"#46039f\"],[0.2222222222222222,\"#7201a8\"],[0.3333333333333333,\"#9c179e\"],[0.4444444444444444,\"#bd3786\"],[0.5555555555555556,\"#d8576b\"],[0.6666666666666666,\"#ed7953\"],[0.7777777777777778,\"#fb9f3a\"],[0.8888888888888888,\"#fdca26\"],[1.0,\"#f0f921\"]],\"type\":\"histogram2dcontour\"}],\"mesh3d\":[{\"colorbar\":{\"outlinewidth\":0,\"ticks\":\"\"},\"type\":\"mesh3d\"}],\"parcoords\":[{\"line\":{\"colorbar\":{\"outlinewidth\":0,\"ticks\":\"\"}},\"type\":\"parcoords\"}],\"pie\":[{\"automargin\":true,\"type\":\"pie\"}],\"scatter\":[{\"marker\":{\"colorbar\":{\"outlinewidth\":0,\"ticks\":\"\"}},\"type\":\"scatter\"}],\"scatter3d\":[{\"line\":{\"colorbar\":{\"outlinewidth\":0,\"ticks\":\"\"}},\"marker\":{\"colorbar\":{\"outlinewidth\":0,\"ticks\":\"\"}},\"type\":\"scatter3d\"}],\"scattercarpet\":[{\"marker\":{\"colorbar\":{\"outlinewidth\":0,\"ticks\":\"\"}},\"type\":\"scattercarpet\"}],\"scattergeo\":[{\"marker\":{\"colorbar\":{\"outlinewidth\":0,\"ticks\":\"\"}},\"type\":\"scattergeo\"}],\"scattergl\":[{\"marker\":{\"colorbar\":{\"outlinewidth\":0,\"ticks\":\"\"}},\"type\":\"scattergl\"}],\"scattermapbox\":[{\"marker\":{\"colorbar\":{\"outlinewidth\":0,\"ticks\":\"\"}},\"type\":\"scattermapbox\"}],\"scatterpolar\":[{\"marker\":{\"colorbar\":{\"outlinewidth\":0,\"ticks\":\"\"}},\"type\":\"scatterpolar\"}],\"scatterpolargl\":[{\"marker\":{\"colorbar\":{\"outlinewidth\":0,\"ticks\":\"\"}},\"type\":\"scatterpolargl\"}],\"scatterternary\":[{\"marker\":{\"colorbar\":{\"outlinewidth\":0,\"ticks\":\"\"}},\"type\":\"scatterternary\"}],\"surface\":[{\"colorbar\":{\"outlinewidth\":0,\"ticks\":\"\"},\"colorscale\":[[0.0,\"#0d0887\"],[0.1111111111111111,\"#46039f\"],[0.2222222222222222,\"#7201a8\"],[0.3333333333333333,\"#9c179e\"],[0.4444444444444444,\"#bd3786\"],[0.5555555555555556,\"#d8576b\"],[0.6666666666666666,\"#ed7953\"],[0.7777777777777778,\"#fb9f3a\"],[0.8888888888888888,\"#fdca26\"],[1.0,\"#f0f921\"]],\"type\":\"surface\"}],\"table\":[{\"cells\":{\"fill\":{\"color\":\"#EBF0F8\"},\"line\":{\"color\":\"white\"}},\"header\":{\"fill\":{\"color\":\"#C8D4E3\"},\"line\":{\"color\":\"white\"}},\"type\":\"table\"}]},\"layout\":{\"annotationdefaults\":{\"arrowcolor\":\"#2a3f5f\",\"arrowhead\":0,\"arrowwidth\":1},\"autotypenumbers\":\"strict\",\"coloraxis\":{\"colorbar\":{\"outlinewidth\":0,\"ticks\":\"\"}},\"colorscale\":{\"diverging\":[[0,\"#8e0152\"],[0.1,\"#c51b7d\"],[0.2,\"#de77ae\"],[0.3,\"#f1b6da\"],[0.4,\"#fde0ef\"],[0.5,\"#f7f7f7\"],[0.6,\"#e6f5d0\"],[0.7,\"#b8e186\"],[0.8,\"#7fbc41\"],[0.9,\"#4d9221\"],[1,\"#276419\"]],\"sequential\":[[0.0,\"#0d0887\"],[0.1111111111111111,\"#46039f\"],[0.2222222222222222,\"#7201a8\"],[0.3333333333333333,\"#9c179e\"],[0.4444444444444444,\"#bd3786\"],[0.5555555555555556,\"#d8576b\"],[0.6666666666666666,\"#ed7953\"],[0.7777777777777778,\"#fb9f3a\"],[0.8888888888888888,\"#fdca26\"],[1.0,\"#f0f921\"]],\"sequentialminus\":[[0.0,\"#0d0887\"],[0.1111111111111111,\"#46039f\"],[0.2222222222222222,\"#7201a8\"],[0.3333333333333333,\"#9c179e\"],[0.4444444444444444,\"#bd3786\"],[0.5555555555555556,\"#d8576b\"],[0.6666666666666666,\"#ed7953\"],[0.7777777777777778,\"#fb9f3a\"],[0.8888888888888888,\"#fdca26\"],[1.0,\"#f0f921\"]]},\"colorway\":[\"#636efa\",\"#EF553B\",\"#00cc96\",\"#ab63fa\",\"#FFA15A\",\"#19d3f3\",\"#FF6692\",\"#B6E880\",\"#FF97FF\",\"#FECB52\"],\"font\":{\"color\":\"#2a3f5f\"},\"geo\":{\"bgcolor\":\"white\",\"lakecolor\":\"white\",\"landcolor\":\"#E5ECF6\",\"showlakes\":true,\"showland\":true,\"subunitcolor\":\"white\"},\"hoverlabel\":{\"align\":\"left\"},\"hovermode\":\"closest\",\"mapbox\":{\"style\":\"light\"},\"paper_bgcolor\":\"white\",\"plot_bgcolor\":\"#E5ECF6\",\"polar\":{\"angularaxis\":{\"gridcolor\":\"white\",\"linecolor\":\"white\",\"ticks\":\"\"},\"bgcolor\":\"#E5ECF6\",\"radialaxis\":{\"gridcolor\":\"white\",\"linecolor\":\"white\",\"ticks\":\"\"}},\"scene\":{\"xaxis\":{\"backgroundcolor\":\"#E5ECF6\",\"gridcolor\":\"white\",\"gridwidth\":2,\"linecolor\":\"white\",\"showbackground\":true,\"ticks\":\"\",\"zerolinecolor\":\"white\"},\"yaxis\":{\"backgroundcolor\":\"#E5ECF6\",\"gridcolor\":\"white\",\"gridwidth\":2,\"linecolor\":\"white\",\"showbackground\":true,\"ticks\":\"\",\"zerolinecolor\":\"white\"},\"zaxis\":{\"backgroundcolor\":\"#E5ECF6\",\"gridcolor\":\"white\",\"gridwidth\":2,\"linecolor\":\"white\",\"showbackground\":true,\"ticks\":\"\",\"zerolinecolor\":\"white\"}},\"shapedefaults\":{\"line\":{\"color\":\"#2a3f5f\"}},\"ternary\":{\"aaxis\":{\"gridcolor\":\"white\",\"linecolor\":\"white\",\"ticks\":\"\"},\"baxis\":{\"gridcolor\":\"white\",\"linecolor\":\"white\",\"ticks\":\"\"},\"bgcolor\":\"#E5ECF6\",\"caxis\":{\"gridcolor\":\"white\",\"linecolor\":\"white\",\"ticks\":\"\"}},\"title\":{\"x\":0.05},\"xaxis\":{\"automargin\":true,\"gridcolor\":\"white\",\"linecolor\":\"white\",\"ticks\":\"\",\"title\":{\"standoff\":15},\"zerolinecolor\":\"white\",\"zerolinewidth\":2},\"yaxis\":{\"automargin\":true,\"gridcolor\":\"white\",\"linecolor\":\"white\",\"ticks\":\"\",\"title\":{\"standoff\":15},\"zerolinecolor\":\"white\",\"zerolinewidth\":2}}},\"width\":1000,\"xaxis\":{\"anchor\":\"y\",\"domain\":[0.0,1.0],\"title\":{\"text\":\"0\"}},\"yaxis\":{\"anchor\":\"x\",\"domain\":[0.0,1.0],\"title\":{\"text\":\"1\"}}},                        {\"responsive\": true}                    ).then(function(){\n",
       "                            \n",
       "var gd = document.getElementById('82a50cd3-3152-424a-ae15-697dd4d6691b');\n",
       "var x = new MutationObserver(function (mutations, observer) {{\n",
       "        var display = window.getComputedStyle(gd).display;\n",
       "        if (!display || display === 'none') {{\n",
       "            console.log([gd, 'removed!']);\n",
       "            Plotly.purge(gd);\n",
       "            observer.disconnect();\n",
       "        }}\n",
       "}});\n",
       "\n",
       "// Listen for the removal of the full notebook cells\n",
       "var notebookContainer = gd.closest('#notebook-container');\n",
       "if (notebookContainer) {{\n",
       "    x.observe(notebookContainer, {childList: true});\n",
       "}}\n",
       "\n",
       "// Listen for the clearing of the current output cell\n",
       "var outputEl = gd.closest('.output');\n",
       "if (outputEl) {{\n",
       "    x.observe(outputEl, {childList: true});\n",
       "}}\n",
       "\n",
       "                        })                };                });            </script>        </div>"
      ]
     },
     "metadata": {},
     "output_type": "display_data"
    }
   ],
   "source": [
    "# Run PCA\n",
    "from sklearn.decomposition import PCA\n",
    "\n",
    "pca = PCA(n_components=2)\n",
    "reduced = pca.fit_transform(scores.values)\n",
    "reduced = pd.DataFrame(reduced, index=scores.index)\n",
    "reduced\n",
    "\n",
    "# Plot\n",
    "import plotly.express as px\n",
    "px.scatter(reduced, x=0, y=1, text=reduced.index, width=1000, height=1000)"
   ]
  },
  {
   "cell_type": "code",
   "execution_count": 26,
   "id": "11a17e0f-f92f-4c85-9c8d-724d71045626",
   "metadata": {},
   "outputs": [
    {
     "name": "stdout",
     "output_type": "stream",
     "text": [
      "13\n"
     ]
    },
    {
     "data": {
      "text/plain": [
       "{'asian people',\n",
       " 'black people',\n",
       " 'immigrants',\n",
       " 'jews',\n",
       " 'lgbtq+ people',\n",
       " 'men',\n",
       " 'muslims and arabic/middle eastern people',\n",
       " 'people of color',\n",
       " 'people with disabilities',\n",
       " 'straight people',\n",
       " 'victims of violence',\n",
       " 'white people',\n",
       " 'women'}"
      ]
     },
     "execution_count": 26,
     "metadata": {},
     "output_type": "execute_result"
    }
   ],
   "source": [
    "identities = set(identity for dataset, identity in identity_folds)\n",
    "print(len(identities))\n",
    "identities"
   ]
  },
  {
   "cell_type": "code",
   "execution_count": 21,
   "id": "f0bc32e1-a36e-4426-8d5e-a360b587f337",
   "metadata": {},
   "outputs": [
    {
     "name": "stdout",
     "output_type": "stream",
     "text": [
      "[('elsherief2021', 'people of color'),\n",
      " ('elsherief2021', 'white people'),\n",
      " ('kennedy2020', 'black people'),\n",
      " ('kennedy2020', 'immigrants'),\n",
      " ('kennedy2020', 'lgbtq+ people'),\n",
      " ('kennedy2020', 'men'),\n",
      " ('kennedy2020', 'muslims and arabic/middle eastern people'),\n",
      " ('kennedy2020', 'people of color'),\n",
      " ('kennedy2020', 'people with disabilities'),\n",
      " ('kennedy2020', 'women'),\n",
      " ('sbic', 'black people'),\n",
      " ('sbic', 'jews'),\n",
      " ('sbic', 'lgbtq+ people'),\n",
      " ('sbic', 'people of color'),\n",
      " ('sbic', 'people with disabilities'),\n",
      " ('sbic', 'victims of violence'),\n",
      " ('sbic', 'women')]\n"
     ]
    }
   ],
   "source": [
    "from pprint import pprint\n",
    "pprint(list(identity_folds.keys()))"
   ]
  },
  {
   "cell_type": "code",
   "execution_count": null,
   "id": "a1779af5-4ee9-40d2-9506-4c7911b2aa85",
   "metadata": {},
   "outputs": [],
   "source": [
    "# Assign group labels to groups so can visualize colors"
   ]
  }
 ],
 "metadata": {
  "kernelspec": {
   "display_name": "Python 3 (ipykernel)",
   "language": "python",
   "name": "python3"
  },
  "language_info": {
   "codemirror_mode": {
    "name": "ipython",
    "version": 3
   },
   "file_extension": ".py",
   "mimetype": "text/x-python",
   "name": "python",
   "nbconvert_exporter": "python",
   "pygments_lexer": "ipython3",
   "version": "3.9.7"
  }
 },
 "nbformat": 4,
 "nbformat_minor": 5
}
